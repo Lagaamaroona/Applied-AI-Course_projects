{
 "cells": [
  {
   "cell_type": "markdown",
   "metadata": {
    "colab_type": "text",
    "id": "AM7jsfwALPlp"
   },
   "source": [
    "# Amazon Fine Food Reviews Analysis\n",
    "\n",
    "\n",
    "Data Source: https://www.kaggle.com/snap/amazon-fine-food-reviews <br>\n",
    "\n",
    "EDA: https://nycdatascience.com/blog/student-works/amazon-fine-foods-visualization/\n",
    "\n",
    "\n",
    "The Amazon Fine Food Reviews dataset consists of reviews of fine foods from Amazon.<br>\n",
    "\n",
    "Number of reviews: 568,454<br>\n",
    "Number of users: 256,059<br>\n",
    "Number of products: 74,258<br>\n",
    "Timespan: Oct 1999 - Oct 2012<br>\n",
    "Number of Attributes/Columns in data: 10 \n",
    "\n",
    "Attribute Information:\n",
    "\n",
    "1. Id\n",
    "2. ProductId - unique identifier for the product\n",
    "3. UserId - unqiue identifier for the user\n",
    "4. ProfileName\n",
    "5. HelpfulnessNumerator - number of users who found the review helpful\n",
    "6. HelpfulnessDenominator - number of users who indicated whether they found the review helpful or not\n",
    "7. Score - rating between 1 and 5\n",
    "8. Time - timestamp for the review\n",
    "9. Summary - brief summary of the review\n",
    "10. Text - text of the review\n",
    "\n",
    "\n",
    "#### Objective:\n",
    "Given a review, determine whether the review is positive (rating of 4 or 5) or negative (rating of 1 or 2).\n",
    "\n",
    "<br>\n",
    "[Q] How to determine if a review is positive or negative?<br>\n",
    "<br> \n",
    "[Ans] We could use Score/Rating. A rating of 4 or 5 can be cosnidered as a positive review. A rating of 1 or 2 can be considered as negative one. A review of rating 3 is considered nuetral and such reviews are ignored from our analysis. This is an approximate and proxy way of determining the polarity (positivity/negativity) of a review.\n",
    "\n",
    "\n"
   ]
  },
  {
   "cell_type": "markdown",
   "metadata": {
    "colab_type": "text",
    "id": "CaQ7XJ4OLPls"
   },
   "source": [
    "# [1]. Reading Data"
   ]
  },
  {
   "cell_type": "markdown",
   "metadata": {
    "colab_type": "text",
    "id": "5VnEBjKRLPlu"
   },
   "source": [
    "## [1.1] Loading the data\n",
    "\n",
    "The dataset is available in two forms\n",
    "1. .csv file\n",
    "2. SQLite Database\n",
    "\n",
    "In order to load the data, We have used the SQLITE dataset as it is easier to query the data and visualise the data efficiently.\n",
    "<br> \n",
    "\n",
    "Here as we only want to get the global sentiment of the recommendations (positive or negative), we will purposefully ignore all Scores equal to 3. If the score is above 3, then the recommendation wil be set to \"positive\". Otherwise, it will be set to \"negative\"."
   ]
  },
  {
   "cell_type": "code",
   "execution_count": 198,
   "metadata": {
    "colab": {},
    "colab_type": "code",
    "id": "x6YclOzXLPlv"
   },
   "outputs": [],
   "source": [
    "%matplotlib inline\n",
    "import warnings\n",
    "warnings.filterwarnings(\"ignore\")\n",
    "\n",
    "\n",
    "import sqlite3\n",
    "import pandas as pd\n",
    "import numpy as np\n",
    "import nltk\n",
    "import string\n",
    "import matplotlib.pyplot as plt\n",
    "import seaborn as sns\n",
    "from sklearn.feature_extraction.text import TfidfTransformer\n",
    "from sklearn.feature_extraction.text import TfidfVectorizer\n",
    "\n",
    "from sklearn.feature_extraction.text import CountVectorizer\n",
    "from sklearn.metrics import confusion_matrix\n",
    "from sklearn import metrics\n",
    "from sklearn.metrics import roc_curve, auc\n",
    "from nltk.stem.porter import PorterStemmer\n",
    "\n",
    "import re\n",
    "# Tutorial about Python regular expressions: https://pymotw.com/2/re/\n",
    "import string\n",
    "from nltk.corpus import stopwords\n",
    "from nltk.stem import PorterStemmer\n",
    "from nltk.stem.wordnet import WordNetLemmatizer\n",
    "\n",
    "from gensim.models import Word2Vec\n",
    "from gensim.models import KeyedVectors\n",
    "import pickle\n",
    "\n",
    "from tqdm import tqdm\n",
    "import os"
   ]
  },
  {
   "cell_type": "code",
   "execution_count": 199,
   "metadata": {
    "colab": {},
    "colab_type": "code",
    "id": "NZ4OSpSiLPl0",
    "outputId": "241c4c64-6186-4351-e38f-fcd06c6896dd"
   },
   "outputs": [
    {
     "name": "stdout",
     "output_type": "stream",
     "text": [
      "Number of data points in our data (200000, 10)\n"
     ]
    },
    {
     "data": {
      "text/html": [
       "<div>\n",
       "<style scoped>\n",
       "    .dataframe tbody tr th:only-of-type {\n",
       "        vertical-align: middle;\n",
       "    }\n",
       "\n",
       "    .dataframe tbody tr th {\n",
       "        vertical-align: top;\n",
       "    }\n",
       "\n",
       "    .dataframe thead th {\n",
       "        text-align: right;\n",
       "    }\n",
       "</style>\n",
       "<table border=\"1\" class=\"dataframe\">\n",
       "  <thead>\n",
       "    <tr style=\"text-align: right;\">\n",
       "      <th></th>\n",
       "      <th>Id</th>\n",
       "      <th>ProductId</th>\n",
       "      <th>UserId</th>\n",
       "      <th>ProfileName</th>\n",
       "      <th>HelpfulnessNumerator</th>\n",
       "      <th>HelpfulnessDenominator</th>\n",
       "      <th>Score</th>\n",
       "      <th>Time</th>\n",
       "      <th>Summary</th>\n",
       "      <th>Text</th>\n",
       "    </tr>\n",
       "  </thead>\n",
       "  <tbody>\n",
       "    <tr>\n",
       "      <th>0</th>\n",
       "      <td>1</td>\n",
       "      <td>B001E4KFG0</td>\n",
       "      <td>A3SGXH7AUHU8GW</td>\n",
       "      <td>delmartian</td>\n",
       "      <td>1</td>\n",
       "      <td>1</td>\n",
       "      <td>1</td>\n",
       "      <td>1303862400</td>\n",
       "      <td>Good Quality Dog Food</td>\n",
       "      <td>I have bought several of the Vitality canned d...</td>\n",
       "    </tr>\n",
       "    <tr>\n",
       "      <th>1</th>\n",
       "      <td>2</td>\n",
       "      <td>B00813GRG4</td>\n",
       "      <td>A1D87F6ZCVE5NK</td>\n",
       "      <td>dll pa</td>\n",
       "      <td>0</td>\n",
       "      <td>0</td>\n",
       "      <td>0</td>\n",
       "      <td>1346976000</td>\n",
       "      <td>Not as Advertised</td>\n",
       "      <td>Product arrived labeled as Jumbo Salted Peanut...</td>\n",
       "    </tr>\n",
       "    <tr>\n",
       "      <th>2</th>\n",
       "      <td>3</td>\n",
       "      <td>B000LQOCH0</td>\n",
       "      <td>ABXLMWJIXXAIN</td>\n",
       "      <td>Natalia Corres \"Natalia Corres\"</td>\n",
       "      <td>1</td>\n",
       "      <td>1</td>\n",
       "      <td>1</td>\n",
       "      <td>1219017600</td>\n",
       "      <td>\"Delight\" says it all</td>\n",
       "      <td>This is a confection that has been around a fe...</td>\n",
       "    </tr>\n",
       "  </tbody>\n",
       "</table>\n",
       "</div>"
      ],
      "text/plain": [
       "   Id   ProductId          UserId                      ProfileName  \\\n",
       "0   1  B001E4KFG0  A3SGXH7AUHU8GW                       delmartian   \n",
       "1   2  B00813GRG4  A1D87F6ZCVE5NK                           dll pa   \n",
       "2   3  B000LQOCH0   ABXLMWJIXXAIN  Natalia Corres \"Natalia Corres\"   \n",
       "\n",
       "   HelpfulnessNumerator  HelpfulnessDenominator  Score        Time  \\\n",
       "0                     1                       1      1  1303862400   \n",
       "1                     0                       0      0  1346976000   \n",
       "2                     1                       1      1  1219017600   \n",
       "\n",
       "                 Summary                                               Text  \n",
       "0  Good Quality Dog Food  I have bought several of the Vitality canned d...  \n",
       "1      Not as Advertised  Product arrived labeled as Jumbo Salted Peanut...  \n",
       "2  \"Delight\" says it all  This is a confection that has been around a fe...  "
      ]
     },
     "execution_count": 199,
     "metadata": {},
     "output_type": "execute_result"
    }
   ],
   "source": [
    "# using SQLite Table to read data.\n",
    "con = sqlite3.connect('database.sqlite') \n",
    "\n",
    "# filtering only positive and negative reviews i.e. \n",
    "# not taking into consideration those reviews with Score=3\n",
    "# SELECT * FROM Reviews WHERE Score != 3 LIMIT 500000, will give top 500000 data points\n",
    "# you can change the number to any other number based on your computing power\n",
    "\n",
    "# filtered_data = pd.read_sql_query(\"\"\" SELECT * FROM Reviews WHERE Score != 3 LIMIT 500000\"\"\", con) \n",
    "# for tsne assignment you can take 5k data points\n",
    "\n",
    "filtered_data = pd.read_sql_query(\"\"\" SELECT * FROM Reviews WHERE Score != 3 LIMIT 200000\"\"\", con) \n",
    "\n",
    "# Give reviews with Score>3 a positive rating(1), and reviews with a score<3 a negative rating(0).\n",
    "def partition(x):\n",
    "    if x < 3:\n",
    "        return 0\n",
    "    return 1\n",
    "\n",
    "#changing reviews with score less than 3 to be positive and vice-versa\n",
    "actualScore = filtered_data['Score']\n",
    "positiveNegative = actualScore.map(partition) \n",
    "filtered_data['Score'] = positiveNegative\n",
    "print(\"Number of data points in our data\", filtered_data.shape)\n",
    "filtered_data.head(3)"
   ]
  },
  {
   "cell_type": "code",
   "execution_count": 200,
   "metadata": {
    "colab": {},
    "colab_type": "code",
    "id": "r44Y4VDjLPl7"
   },
   "outputs": [],
   "source": [
    "display = pd.read_sql_query(\"\"\"\n",
    "SELECT UserId, ProductId, ProfileName, Time, Score, Text, COUNT(*)\n",
    "FROM Reviews\n",
    "GROUP BY UserId\n",
    "HAVING COUNT(*)>1\n",
    "\"\"\", con)"
   ]
  },
  {
   "cell_type": "code",
   "execution_count": 201,
   "metadata": {
    "colab": {},
    "colab_type": "code",
    "id": "tTwINQv1LPl_",
    "outputId": "0385b9ca-0a35-4c2b-b656-8e8494414e6f",
    "scrolled": true
   },
   "outputs": [
    {
     "name": "stdout",
     "output_type": "stream",
     "text": [
      "(80668, 7)\n"
     ]
    },
    {
     "data": {
      "text/html": [
       "<div>\n",
       "<style scoped>\n",
       "    .dataframe tbody tr th:only-of-type {\n",
       "        vertical-align: middle;\n",
       "    }\n",
       "\n",
       "    .dataframe tbody tr th {\n",
       "        vertical-align: top;\n",
       "    }\n",
       "\n",
       "    .dataframe thead th {\n",
       "        text-align: right;\n",
       "    }\n",
       "</style>\n",
       "<table border=\"1\" class=\"dataframe\">\n",
       "  <thead>\n",
       "    <tr style=\"text-align: right;\">\n",
       "      <th></th>\n",
       "      <th>UserId</th>\n",
       "      <th>ProductId</th>\n",
       "      <th>ProfileName</th>\n",
       "      <th>Time</th>\n",
       "      <th>Score</th>\n",
       "      <th>Text</th>\n",
       "      <th>COUNT(*)</th>\n",
       "    </tr>\n",
       "  </thead>\n",
       "  <tbody>\n",
       "    <tr>\n",
       "      <th>0</th>\n",
       "      <td>#oc-R115TNMSPFT9I7</td>\n",
       "      <td>B005ZBZLT4</td>\n",
       "      <td>Breyton</td>\n",
       "      <td>1331510400</td>\n",
       "      <td>2</td>\n",
       "      <td>Overall its just OK when considering the price...</td>\n",
       "      <td>2</td>\n",
       "    </tr>\n",
       "    <tr>\n",
       "      <th>1</th>\n",
       "      <td>#oc-R11D9D7SHXIJB9</td>\n",
       "      <td>B005HG9ESG</td>\n",
       "      <td>Louis E. Emory \"hoppy\"</td>\n",
       "      <td>1342396800</td>\n",
       "      <td>5</td>\n",
       "      <td>My wife has recurring extreme muscle spasms, u...</td>\n",
       "      <td>3</td>\n",
       "    </tr>\n",
       "    <tr>\n",
       "      <th>2</th>\n",
       "      <td>#oc-R11DNU2NBKQ23Z</td>\n",
       "      <td>B005ZBZLT4</td>\n",
       "      <td>Kim Cieszykowski</td>\n",
       "      <td>1348531200</td>\n",
       "      <td>1</td>\n",
       "      <td>This coffee is horrible and unfortunately not ...</td>\n",
       "      <td>2</td>\n",
       "    </tr>\n",
       "    <tr>\n",
       "      <th>3</th>\n",
       "      <td>#oc-R11O5J5ZVQE25C</td>\n",
       "      <td>B005HG9ESG</td>\n",
       "      <td>Penguin Chick</td>\n",
       "      <td>1346889600</td>\n",
       "      <td>5</td>\n",
       "      <td>This will be the bottle that you grab from the...</td>\n",
       "      <td>3</td>\n",
       "    </tr>\n",
       "    <tr>\n",
       "      <th>4</th>\n",
       "      <td>#oc-R12KPBODL2B5ZD</td>\n",
       "      <td>B007OSBEV0</td>\n",
       "      <td>Christopher P. Presta</td>\n",
       "      <td>1348617600</td>\n",
       "      <td>1</td>\n",
       "      <td>I didnt like this coffee. Instead of telling y...</td>\n",
       "      <td>2</td>\n",
       "    </tr>\n",
       "  </tbody>\n",
       "</table>\n",
       "</div>"
      ],
      "text/plain": [
       "               UserId   ProductId             ProfileName        Time  Score  \\\n",
       "0  #oc-R115TNMSPFT9I7  B005ZBZLT4                 Breyton  1331510400      2   \n",
       "1  #oc-R11D9D7SHXIJB9  B005HG9ESG  Louis E. Emory \"hoppy\"  1342396800      5   \n",
       "2  #oc-R11DNU2NBKQ23Z  B005ZBZLT4        Kim Cieszykowski  1348531200      1   \n",
       "3  #oc-R11O5J5ZVQE25C  B005HG9ESG           Penguin Chick  1346889600      5   \n",
       "4  #oc-R12KPBODL2B5ZD  B007OSBEV0   Christopher P. Presta  1348617600      1   \n",
       "\n",
       "                                                Text  COUNT(*)  \n",
       "0  Overall its just OK when considering the price...         2  \n",
       "1  My wife has recurring extreme muscle spasms, u...         3  \n",
       "2  This coffee is horrible and unfortunately not ...         2  \n",
       "3  This will be the bottle that you grab from the...         3  \n",
       "4  I didnt like this coffee. Instead of telling y...         2  "
      ]
     },
     "execution_count": 201,
     "metadata": {},
     "output_type": "execute_result"
    }
   ],
   "source": [
    "print(display.shape)\n",
    "display.head()"
   ]
  },
  {
   "cell_type": "code",
   "execution_count": 202,
   "metadata": {
    "colab": {},
    "colab_type": "code",
    "id": "EOslHQgnLPmF",
    "outputId": "cb28598d-470a-42bb-e742-4763f953c8cb"
   },
   "outputs": [
    {
     "data": {
      "text/html": [
       "<div>\n",
       "<style scoped>\n",
       "    .dataframe tbody tr th:only-of-type {\n",
       "        vertical-align: middle;\n",
       "    }\n",
       "\n",
       "    .dataframe tbody tr th {\n",
       "        vertical-align: top;\n",
       "    }\n",
       "\n",
       "    .dataframe thead th {\n",
       "        text-align: right;\n",
       "    }\n",
       "</style>\n",
       "<table border=\"1\" class=\"dataframe\">\n",
       "  <thead>\n",
       "    <tr style=\"text-align: right;\">\n",
       "      <th></th>\n",
       "      <th>UserId</th>\n",
       "      <th>ProductId</th>\n",
       "      <th>ProfileName</th>\n",
       "      <th>Time</th>\n",
       "      <th>Score</th>\n",
       "      <th>Text</th>\n",
       "      <th>COUNT(*)</th>\n",
       "    </tr>\n",
       "  </thead>\n",
       "  <tbody>\n",
       "    <tr>\n",
       "      <th>80638</th>\n",
       "      <td>AZY10LLTJ71NX</td>\n",
       "      <td>B001ATMQK2</td>\n",
       "      <td>undertheshrine \"undertheshrine\"</td>\n",
       "      <td>1296691200</td>\n",
       "      <td>5</td>\n",
       "      <td>I bought this 6 pack because for the price tha...</td>\n",
       "      <td>5</td>\n",
       "    </tr>\n",
       "  </tbody>\n",
       "</table>\n",
       "</div>"
      ],
      "text/plain": [
       "              UserId   ProductId                      ProfileName        Time  \\\n",
       "80638  AZY10LLTJ71NX  B001ATMQK2  undertheshrine \"undertheshrine\"  1296691200   \n",
       "\n",
       "       Score                                               Text  COUNT(*)  \n",
       "80638      5  I bought this 6 pack because for the price tha...         5  "
      ]
     },
     "execution_count": 202,
     "metadata": {},
     "output_type": "execute_result"
    }
   ],
   "source": [
    "display[display['UserId']=='AZY10LLTJ71NX']"
   ]
  },
  {
   "cell_type": "code",
   "execution_count": 203,
   "metadata": {
    "colab": {},
    "colab_type": "code",
    "id": "pSwF4sdoLPmM",
    "outputId": "2f3bd7f2-0eea-45f7-eab6-bf08c630d9a3"
   },
   "outputs": [
    {
     "data": {
      "text/plain": [
       "393063"
      ]
     },
     "execution_count": 203,
     "metadata": {},
     "output_type": "execute_result"
    }
   ],
   "source": [
    "display['COUNT(*)'].sum()"
   ]
  },
  {
   "cell_type": "markdown",
   "metadata": {
    "colab_type": "text",
    "id": "PuNkhjz0LPmQ"
   },
   "source": [
    "#  [2] Exploratory Data Analysis"
   ]
  },
  {
   "cell_type": "markdown",
   "metadata": {
    "colab_type": "text",
    "id": "oCJaTWrTLPmS"
   },
   "source": [
    "## [2.1] Data Cleaning: Deduplication\n",
    "\n",
    "It is observed (as shown in the table below) that the reviews data had many duplicate entries. Hence it was necessary to remove duplicates in order to get unbiased results for the analysis of the data.  Following is an example:"
   ]
  },
  {
   "cell_type": "code",
   "execution_count": 204,
   "metadata": {
    "colab": {},
    "colab_type": "code",
    "id": "3lvzRwWVLPmT",
    "outputId": "96ba6f90-6c40-4972-ecd2-d2d208e48877",
    "scrolled": false
   },
   "outputs": [
    {
     "data": {
      "text/html": [
       "<div>\n",
       "<style scoped>\n",
       "    .dataframe tbody tr th:only-of-type {\n",
       "        vertical-align: middle;\n",
       "    }\n",
       "\n",
       "    .dataframe tbody tr th {\n",
       "        vertical-align: top;\n",
       "    }\n",
       "\n",
       "    .dataframe thead th {\n",
       "        text-align: right;\n",
       "    }\n",
       "</style>\n",
       "<table border=\"1\" class=\"dataframe\">\n",
       "  <thead>\n",
       "    <tr style=\"text-align: right;\">\n",
       "      <th></th>\n",
       "      <th>Id</th>\n",
       "      <th>ProductId</th>\n",
       "      <th>UserId</th>\n",
       "      <th>ProfileName</th>\n",
       "      <th>HelpfulnessNumerator</th>\n",
       "      <th>HelpfulnessDenominator</th>\n",
       "      <th>Score</th>\n",
       "      <th>Time</th>\n",
       "      <th>Summary</th>\n",
       "      <th>Text</th>\n",
       "    </tr>\n",
       "  </thead>\n",
       "  <tbody>\n",
       "    <tr>\n",
       "      <th>0</th>\n",
       "      <td>78445</td>\n",
       "      <td>B000HDL1RQ</td>\n",
       "      <td>AR5J8UI46CURR</td>\n",
       "      <td>Geetha Krishnan</td>\n",
       "      <td>2</td>\n",
       "      <td>2</td>\n",
       "      <td>5</td>\n",
       "      <td>1199577600</td>\n",
       "      <td>LOACKER QUADRATINI VANILLA WAFERS</td>\n",
       "      <td>DELICIOUS WAFERS. I FIND THAT EUROPEAN WAFERS ...</td>\n",
       "    </tr>\n",
       "    <tr>\n",
       "      <th>1</th>\n",
       "      <td>138317</td>\n",
       "      <td>B000HDOPYC</td>\n",
       "      <td>AR5J8UI46CURR</td>\n",
       "      <td>Geetha Krishnan</td>\n",
       "      <td>2</td>\n",
       "      <td>2</td>\n",
       "      <td>5</td>\n",
       "      <td>1199577600</td>\n",
       "      <td>LOACKER QUADRATINI VANILLA WAFERS</td>\n",
       "      <td>DELICIOUS WAFERS. I FIND THAT EUROPEAN WAFERS ...</td>\n",
       "    </tr>\n",
       "    <tr>\n",
       "      <th>2</th>\n",
       "      <td>138277</td>\n",
       "      <td>B000HDOPYM</td>\n",
       "      <td>AR5J8UI46CURR</td>\n",
       "      <td>Geetha Krishnan</td>\n",
       "      <td>2</td>\n",
       "      <td>2</td>\n",
       "      <td>5</td>\n",
       "      <td>1199577600</td>\n",
       "      <td>LOACKER QUADRATINI VANILLA WAFERS</td>\n",
       "      <td>DELICIOUS WAFERS. I FIND THAT EUROPEAN WAFERS ...</td>\n",
       "    </tr>\n",
       "    <tr>\n",
       "      <th>3</th>\n",
       "      <td>73791</td>\n",
       "      <td>B000HDOPZG</td>\n",
       "      <td>AR5J8UI46CURR</td>\n",
       "      <td>Geetha Krishnan</td>\n",
       "      <td>2</td>\n",
       "      <td>2</td>\n",
       "      <td>5</td>\n",
       "      <td>1199577600</td>\n",
       "      <td>LOACKER QUADRATINI VANILLA WAFERS</td>\n",
       "      <td>DELICIOUS WAFERS. I FIND THAT EUROPEAN WAFERS ...</td>\n",
       "    </tr>\n",
       "    <tr>\n",
       "      <th>4</th>\n",
       "      <td>155049</td>\n",
       "      <td>B000PAQ75C</td>\n",
       "      <td>AR5J8UI46CURR</td>\n",
       "      <td>Geetha Krishnan</td>\n",
       "      <td>2</td>\n",
       "      <td>2</td>\n",
       "      <td>5</td>\n",
       "      <td>1199577600</td>\n",
       "      <td>LOACKER QUADRATINI VANILLA WAFERS</td>\n",
       "      <td>DELICIOUS WAFERS. I FIND THAT EUROPEAN WAFERS ...</td>\n",
       "    </tr>\n",
       "  </tbody>\n",
       "</table>\n",
       "</div>"
      ],
      "text/plain": [
       "       Id   ProductId         UserId      ProfileName  HelpfulnessNumerator  \\\n",
       "0   78445  B000HDL1RQ  AR5J8UI46CURR  Geetha Krishnan                     2   \n",
       "1  138317  B000HDOPYC  AR5J8UI46CURR  Geetha Krishnan                     2   \n",
       "2  138277  B000HDOPYM  AR5J8UI46CURR  Geetha Krishnan                     2   \n",
       "3   73791  B000HDOPZG  AR5J8UI46CURR  Geetha Krishnan                     2   \n",
       "4  155049  B000PAQ75C  AR5J8UI46CURR  Geetha Krishnan                     2   \n",
       "\n",
       "   HelpfulnessDenominator  Score        Time  \\\n",
       "0                       2      5  1199577600   \n",
       "1                       2      5  1199577600   \n",
       "2                       2      5  1199577600   \n",
       "3                       2      5  1199577600   \n",
       "4                       2      5  1199577600   \n",
       "\n",
       "                             Summary  \\\n",
       "0  LOACKER QUADRATINI VANILLA WAFERS   \n",
       "1  LOACKER QUADRATINI VANILLA WAFERS   \n",
       "2  LOACKER QUADRATINI VANILLA WAFERS   \n",
       "3  LOACKER QUADRATINI VANILLA WAFERS   \n",
       "4  LOACKER QUADRATINI VANILLA WAFERS   \n",
       "\n",
       "                                                Text  \n",
       "0  DELICIOUS WAFERS. I FIND THAT EUROPEAN WAFERS ...  \n",
       "1  DELICIOUS WAFERS. I FIND THAT EUROPEAN WAFERS ...  \n",
       "2  DELICIOUS WAFERS. I FIND THAT EUROPEAN WAFERS ...  \n",
       "3  DELICIOUS WAFERS. I FIND THAT EUROPEAN WAFERS ...  \n",
       "4  DELICIOUS WAFERS. I FIND THAT EUROPEAN WAFERS ...  "
      ]
     },
     "execution_count": 204,
     "metadata": {},
     "output_type": "execute_result"
    }
   ],
   "source": [
    "display= pd.read_sql_query(\"\"\"\n",
    "SELECT *\n",
    "FROM Reviews\n",
    "WHERE Score != 3 AND UserId=\"AR5J8UI46CURR\"\n",
    "ORDER BY ProductID\n",
    "\"\"\", con)\n",
    "display.head()"
   ]
  },
  {
   "cell_type": "markdown",
   "metadata": {
    "colab_type": "text",
    "id": "uT7p9_deLPmb"
   },
   "source": [
    "As it can be seen above that same user has multiple reviews with same values for HelpfulnessNumerator, HelpfulnessDenominator, Score, Time, Summary and Text and on doing analysis it was found that <br>\n",
    "<br> \n",
    "ProductId=B000HDOPZG was Loacker Quadratini Vanilla Wafer Cookies, 8.82-Ounce Packages (Pack of 8)<br>\n",
    "<br> \n",
    "ProductId=B000HDL1RQ was Loacker Quadratini Lemon Wafer Cookies, 8.82-Ounce Packages (Pack of 8) and so on<br>\n",
    "\n",
    "It was inferred after analysis that reviews with same parameters other than ProductId belonged to the same product just having different flavour or quantity. Hence in order to reduce redundancy it was decided to eliminate the rows having same parameters.<br>\n",
    "\n",
    "The method used for the same was that we first sort the data according to ProductId and then just keep the first similar product review and delelte the others. for eg. in the above just the review for ProductId=B000HDL1RQ remains. This method ensures that there is only one representative for each product and deduplication without sorting would lead to possibility of different representatives still existing for the same product."
   ]
  },
  {
   "cell_type": "code",
   "execution_count": 205,
   "metadata": {
    "colab": {},
    "colab_type": "code",
    "id": "mdsKFc50LPme"
   },
   "outputs": [],
   "source": [
    "#Sorting data according to ProductId in ascending order\n",
    "sorted_data=filtered_data.sort_values('ProductId', axis=0, ascending=True, inplace=False, kind='quicksort', na_position='last')"
   ]
  },
  {
   "cell_type": "code",
   "execution_count": 206,
   "metadata": {
    "colab": {},
    "colab_type": "code",
    "id": "2itLgX-NLPmk",
    "outputId": "ac765625-dfdc-4e4e-f886-bd3b7ca3635a"
   },
   "outputs": [
    {
     "data": {
      "text/plain": [
       "(160178, 10)"
      ]
     },
     "execution_count": 206,
     "metadata": {},
     "output_type": "execute_result"
    }
   ],
   "source": [
    "#Deduplication of entries\n",
    "final=sorted_data.drop_duplicates(subset={\"UserId\",\"ProfileName\",\"Time\",\"Text\"}, keep='first', inplace=False)\n",
    "final.shape"
   ]
  },
  {
   "cell_type": "code",
   "execution_count": 207,
   "metadata": {
    "colab": {},
    "colab_type": "code",
    "id": "IBU4iZk4LPmt",
    "outputId": "ceeba223-fe3f-407a-b4e5-0d46c08f69dd"
   },
   "outputs": [
    {
     "data": {
      "text/plain": [
       "80.089"
      ]
     },
     "execution_count": 207,
     "metadata": {},
     "output_type": "execute_result"
    }
   ],
   "source": [
    "#Checking to see how much % of data still remains\n",
    "(final['Id'].size*1.0)/(filtered_data['Id'].size*1.0)*100"
   ]
  },
  {
   "cell_type": "markdown",
   "metadata": {
    "colab_type": "text",
    "id": "gFBOfSe4LPmy"
   },
   "source": [
    "<b>Observation:-</b> It was also seen that in two rows given below the value of HelpfulnessNumerator is greater than HelpfulnessDenominator which is not practically possible hence these two rows too are removed from calcualtions"
   ]
  },
  {
   "cell_type": "code",
   "execution_count": 208,
   "metadata": {
    "colab": {},
    "colab_type": "code",
    "id": "50flE40lLPmz",
    "outputId": "b6c7e38e-25c1-4a48-be1f-70fdf31aba13"
   },
   "outputs": [
    {
     "data": {
      "text/html": [
       "<div>\n",
       "<style scoped>\n",
       "    .dataframe tbody tr th:only-of-type {\n",
       "        vertical-align: middle;\n",
       "    }\n",
       "\n",
       "    .dataframe tbody tr th {\n",
       "        vertical-align: top;\n",
       "    }\n",
       "\n",
       "    .dataframe thead th {\n",
       "        text-align: right;\n",
       "    }\n",
       "</style>\n",
       "<table border=\"1\" class=\"dataframe\">\n",
       "  <thead>\n",
       "    <tr style=\"text-align: right;\">\n",
       "      <th></th>\n",
       "      <th>Id</th>\n",
       "      <th>ProductId</th>\n",
       "      <th>UserId</th>\n",
       "      <th>ProfileName</th>\n",
       "      <th>HelpfulnessNumerator</th>\n",
       "      <th>HelpfulnessDenominator</th>\n",
       "      <th>Score</th>\n",
       "      <th>Time</th>\n",
       "      <th>Summary</th>\n",
       "      <th>Text</th>\n",
       "    </tr>\n",
       "  </thead>\n",
       "  <tbody>\n",
       "    <tr>\n",
       "      <th>0</th>\n",
       "      <td>64422</td>\n",
       "      <td>B000MIDROQ</td>\n",
       "      <td>A161DK06JJMCYF</td>\n",
       "      <td>J. E. Stephens \"Jeanne\"</td>\n",
       "      <td>3</td>\n",
       "      <td>1</td>\n",
       "      <td>5</td>\n",
       "      <td>1224892800</td>\n",
       "      <td>Bought This for My Son at College</td>\n",
       "      <td>My son loves spaghetti so I didn't hesitate or...</td>\n",
       "    </tr>\n",
       "    <tr>\n",
       "      <th>1</th>\n",
       "      <td>44737</td>\n",
       "      <td>B001EQ55RW</td>\n",
       "      <td>A2V0I904FH7ABY</td>\n",
       "      <td>Ram</td>\n",
       "      <td>3</td>\n",
       "      <td>2</td>\n",
       "      <td>4</td>\n",
       "      <td>1212883200</td>\n",
       "      <td>Pure cocoa taste with crunchy almonds inside</td>\n",
       "      <td>It was almost a 'love at first bite' - the per...</td>\n",
       "    </tr>\n",
       "  </tbody>\n",
       "</table>\n",
       "</div>"
      ],
      "text/plain": [
       "      Id   ProductId          UserId              ProfileName  \\\n",
       "0  64422  B000MIDROQ  A161DK06JJMCYF  J. E. Stephens \"Jeanne\"   \n",
       "1  44737  B001EQ55RW  A2V0I904FH7ABY                      Ram   \n",
       "\n",
       "   HelpfulnessNumerator  HelpfulnessDenominator  Score        Time  \\\n",
       "0                     3                       1      5  1224892800   \n",
       "1                     3                       2      4  1212883200   \n",
       "\n",
       "                                        Summary  \\\n",
       "0             Bought This for My Son at College   \n",
       "1  Pure cocoa taste with crunchy almonds inside   \n",
       "\n",
       "                                                Text  \n",
       "0  My son loves spaghetti so I didn't hesitate or...  \n",
       "1  It was almost a 'love at first bite' - the per...  "
      ]
     },
     "execution_count": 208,
     "metadata": {},
     "output_type": "execute_result"
    }
   ],
   "source": [
    "display= pd.read_sql_query(\"\"\"\n",
    "SELECT *\n",
    "FROM Reviews\n",
    "WHERE Score != 3 AND Id=44737 OR Id=64422\n",
    "ORDER BY ProductID\n",
    "\"\"\", con)\n",
    "\n",
    "display.head()"
   ]
  },
  {
   "cell_type": "code",
   "execution_count": 209,
   "metadata": {
    "colab": {},
    "colab_type": "code",
    "id": "0YTPJMLTLPm7"
   },
   "outputs": [],
   "source": [
    "final=final[final.HelpfulnessNumerator<=final.HelpfulnessDenominator]"
   ]
  },
  {
   "cell_type": "code",
   "execution_count": 210,
   "metadata": {
    "colab": {},
    "colab_type": "code",
    "id": "LVJ_l-x2LPnC",
    "outputId": "d4a19c7a-16fe-4b5b-c3d1-aa1ef0f948a0"
   },
   "outputs": [
    {
     "name": "stdout",
     "output_type": "stream",
     "text": [
      "(160176, 10)\n"
     ]
    },
    {
     "data": {
      "text/plain": [
       "1    134799\n",
       "0     25377\n",
       "Name: Score, dtype: int64"
      ]
     },
     "execution_count": 210,
     "metadata": {},
     "output_type": "execute_result"
    }
   ],
   "source": [
    "#Before starting the next phase of preprocessing lets see the number of entries left\n",
    "print(final.shape)\n",
    "\n",
    "#How many positive and negative reviews are present in our dataset?\n",
    "final['Score'].value_counts()"
   ]
  },
  {
   "cell_type": "code",
   "execution_count": 211,
   "metadata": {},
   "outputs": [
    {
     "name": "stdout",
     "output_type": "stream",
     "text": [
      "(100000, 10)\n"
     ]
    },
    {
     "data": {
      "text/html": [
       "<div>\n",
       "<style scoped>\n",
       "    .dataframe tbody tr th:only-of-type {\n",
       "        vertical-align: middle;\n",
       "    }\n",
       "\n",
       "    .dataframe tbody tr th {\n",
       "        vertical-align: top;\n",
       "    }\n",
       "\n",
       "    .dataframe thead th {\n",
       "        text-align: right;\n",
       "    }\n",
       "</style>\n",
       "<table border=\"1\" class=\"dataframe\">\n",
       "  <thead>\n",
       "    <tr style=\"text-align: right;\">\n",
       "      <th></th>\n",
       "      <th>Id</th>\n",
       "      <th>ProductId</th>\n",
       "      <th>UserId</th>\n",
       "      <th>ProfileName</th>\n",
       "      <th>HelpfulnessNumerator</th>\n",
       "      <th>HelpfulnessDenominator</th>\n",
       "      <th>Score</th>\n",
       "      <th>Time</th>\n",
       "      <th>Summary</th>\n",
       "      <th>Text</th>\n",
       "    </tr>\n",
       "  </thead>\n",
       "  <tbody>\n",
       "    <tr>\n",
       "      <th>10291</th>\n",
       "      <td>11237</td>\n",
       "      <td>B001KVPC0G</td>\n",
       "      <td>AY74M03WTAOMB</td>\n",
       "      <td>Nut Nut</td>\n",
       "      <td>0</td>\n",
       "      <td>0</td>\n",
       "      <td>1</td>\n",
       "      <td>1226534400</td>\n",
       "      <td>Best Roasted Almonds</td>\n",
       "      <td>I've tried several other brands of roasted sal...</td>\n",
       "    </tr>\n",
       "    <tr>\n",
       "      <th>79814</th>\n",
       "      <td>86781</td>\n",
       "      <td>B002DHBT7Q</td>\n",
       "      <td>A1CHKAWX7FAOM4</td>\n",
       "      <td>L. Kirk \"Crabseye\"</td>\n",
       "      <td>2</td>\n",
       "      <td>2</td>\n",
       "      <td>1</td>\n",
       "      <td>1317600000</td>\n",
       "      <td>One of my favorite cookies</td>\n",
       "      <td>A cookie a day (or 2, depending on serving siz...</td>\n",
       "    </tr>\n",
       "    <tr>\n",
       "      <th>76651</th>\n",
       "      <td>83391</td>\n",
       "      <td>B005ZBZLT4</td>\n",
       "      <td>A2QOYXPT6POXQS</td>\n",
       "      <td>Tony Barnes</td>\n",
       "      <td>0</td>\n",
       "      <td>0</td>\n",
       "      <td>1</td>\n",
       "      <td>1349049600</td>\n",
       "      <td>Great deal!</td>\n",
       "      <td>This coffee is a great deal!  All the coffee d...</td>\n",
       "    </tr>\n",
       "    <tr>\n",
       "      <th>40580</th>\n",
       "      <td>44095</td>\n",
       "      <td>B00168ACG2</td>\n",
       "      <td>AO26QTL5I5JRF</td>\n",
       "      <td>Suzanne Davis</td>\n",
       "      <td>0</td>\n",
       "      <td>0</td>\n",
       "      <td>1</td>\n",
       "      <td>1346112000</td>\n",
       "      <td>THIS IS THE BEST CORNBREAD!!!!</td>\n",
       "      <td>I have been eating this cornbread for years an...</td>\n",
       "    </tr>\n",
       "    <tr>\n",
       "      <th>64314</th>\n",
       "      <td>69846</td>\n",
       "      <td>B002B8ODPW</td>\n",
       "      <td>A2ZE8BSZ5MMEOP</td>\n",
       "      <td>Jasmine \"Uniquely Yours\"</td>\n",
       "      <td>0</td>\n",
       "      <td>0</td>\n",
       "      <td>1</td>\n",
       "      <td>1343520000</td>\n",
       "      <td>Convenient and tasty</td>\n",
       "      <td>Not my favorite, but for the price great produ...</td>\n",
       "    </tr>\n",
       "  </tbody>\n",
       "</table>\n",
       "</div>"
      ],
      "text/plain": [
       "          Id   ProductId          UserId               ProfileName  \\\n",
       "10291  11237  B001KVPC0G   AY74M03WTAOMB                   Nut Nut   \n",
       "79814  86781  B002DHBT7Q  A1CHKAWX7FAOM4        L. Kirk \"Crabseye\"   \n",
       "76651  83391  B005ZBZLT4  A2QOYXPT6POXQS               Tony Barnes   \n",
       "40580  44095  B00168ACG2   AO26QTL5I5JRF             Suzanne Davis   \n",
       "64314  69846  B002B8ODPW  A2ZE8BSZ5MMEOP  Jasmine \"Uniquely Yours\"   \n",
       "\n",
       "       HelpfulnessNumerator  HelpfulnessDenominator  Score        Time  \\\n",
       "10291                     0                       0      1  1226534400   \n",
       "79814                     2                       2      1  1317600000   \n",
       "76651                     0                       0      1  1349049600   \n",
       "40580                     0                       0      1  1346112000   \n",
       "64314                     0                       0      1  1343520000   \n",
       "\n",
       "                              Summary  \\\n",
       "10291            Best Roasted Almonds   \n",
       "79814      One of my favorite cookies   \n",
       "76651                     Great deal!   \n",
       "40580  THIS IS THE BEST CORNBREAD!!!!   \n",
       "64314            Convenient and tasty   \n",
       "\n",
       "                                                    Text  \n",
       "10291  I've tried several other brands of roasted sal...  \n",
       "79814  A cookie a day (or 2, depending on serving siz...  \n",
       "76651  This coffee is a great deal!  All the coffee d...  \n",
       "40580  I have been eating this cornbread for years an...  \n",
       "64314  Not my favorite, but for the price great produ...  "
      ]
     },
     "execution_count": 211,
     "metadata": {},
     "output_type": "execute_result"
    }
   ],
   "source": [
    "##Sorting data for Time Based Splitting\n",
    "time_sorted_data = final.sort_values('Time', axis=0, ascending=True, inplace=False, kind='quicksort', na_position='last')\n",
    "\n",
    "\n",
    "final = time_sorted_data.take(np.random.permutation(len(final))[:100000])\n",
    "print(final.shape)\n",
    "final.head()"
   ]
  },
  {
   "cell_type": "markdown",
   "metadata": {
    "colab_type": "text",
    "id": "GrTYWzYrLPnH"
   },
   "source": [
    "#  [3] Preprocessing"
   ]
  },
  {
   "cell_type": "markdown",
   "metadata": {
    "colab_type": "text",
    "id": "zbvLitZeLPnI"
   },
   "source": [
    "## [3.1].  Preprocessing Review Text\n",
    "\n",
    "Now that we have finished deduplication our data requires some preprocessing before we go on further with analysis and making the prediction model.\n",
    "\n",
    "Hence in the Preprocessing phase we do the following in the order below:-\n",
    "\n",
    "1. Begin by removing the html tags\n",
    "2. Remove any punctuations or limited set of special characters like , or . or # etc.\n",
    "3. Check if the word is made up of english letters and is not alpha-numeric\n",
    "4. Check to see if the length of the word is greater than 2 (as it was researched that there is no adjective in 2-letters)\n",
    "5. Convert the word to lowercase\n",
    "6. Remove Stopwords\n",
    "7. Finally Snowball Stemming the word (it was obsereved to be better than Porter Stemming)<br>\n",
    "\n",
    "After which we collect the words used to describe positive and negative reviews"
   ]
  },
  {
   "cell_type": "code",
   "execution_count": 212,
   "metadata": {
    "colab": {},
    "colab_type": "code",
    "id": "yYDc0ZXALPnK",
    "outputId": "5403fab9-796a-493d-f9d3-2a410d004f64"
   },
   "outputs": [
    {
     "name": "stdout",
     "output_type": "stream",
     "text": [
      "I've tried several other brands of roasted salted almonds available via the Internet and in stores.  The Blue Diamond brand is definitely the best tasting of all.\n",
      "==================================================\n",
      "The stigma of decafs, in general, has vanished! Emeril's Jazzed Up Decaf is, by far, the richest and finest brew around. It is not \"almost\" coffee. It IS coffee, with more jazz and less BAM! Having to take medication at night I have found the perfect decaf companion. I have served it to many people who say it is the best coffee they have drunk. Sure, they were impressed by the Keuring machine... but the coffee stole the show. And the guests had no idea they were drinking decaf. It just doesn't get any better...\n",
      "==================================================\n",
      "This is not a traditional cookie!  However, it is a good thing: it is its own little niche of yumminess. The fig flavor is very subtle--if you want full on fig, get the regular Newtons. This is a thinner wafer cookie, nicely crisp without being too dry.  It tastes healthy without tasting bland, if that makes any sense? You feel good eating these things--a treat but without the guilt.<br /><br />I'm used to making my own cookies so to me anything store bought suffers a bit tastewise (compare a Chips Ahoy to a homemade cookie and you'll know what I mean), but these are tasty right  out of the box.<br /><br />I do prefer the regular fig newtons, because I like the chewiness of the figs and the stronger fig taste, but these are a nice snack packable option.\n",
      "==================================================\n",
      "Bought these for my grandbabies and they love them. I love them because they are organic. Only the best for my little guys. My big guys even snack on them.\n",
      "==================================================\n"
     ]
    }
   ],
   "source": [
    "# printing some random reviews\n",
    "sent_0 = final['Text'].values[0]\n",
    "print(sent_0)\n",
    "print(\"=\"*50)\n",
    "\n",
    "sent_1000 = final['Text'].values[1000]\n",
    "print(sent_1000)\n",
    "print(\"=\"*50)\n",
    "\n",
    "sent_1500 = final['Text'].values[1500]\n",
    "print(sent_1500)\n",
    "print(\"=\"*50)\n",
    "\n",
    "sent_4900 = final['Text'].values[4900]\n",
    "print(sent_4900)\n",
    "print(\"=\"*50)"
   ]
  },
  {
   "cell_type": "code",
   "execution_count": 213,
   "metadata": {
    "colab": {},
    "colab_type": "code",
    "id": "AxYh-wPiLPnS",
    "outputId": "31bddcb2-6c52-4b16-f9fb-c03d5b3bb7c8"
   },
   "outputs": [
    {
     "name": "stdout",
     "output_type": "stream",
     "text": [
      "I've tried several other brands of roasted salted almonds available via the Internet and in stores.  The Blue Diamond brand is definitely the best tasting of all.\n"
     ]
    }
   ],
   "source": [
    "# remove urls from text python: https://stackoverflow.com/a/40823105/4084039\n",
    "sent_0 = re.sub(r\"http\\S+\", \"\", sent_0)\n",
    "sent_1000 = re.sub(r\"http\\S+\", \"\", sent_1000)\n",
    "sent_150 = re.sub(r\"http\\S+\", \"\", sent_1500)\n",
    "sent_4900 = re.sub(r\"http\\S+\", \"\", sent_4900)\n",
    "\n",
    "print(sent_0)"
   ]
  },
  {
   "cell_type": "code",
   "execution_count": 214,
   "metadata": {
    "colab": {},
    "colab_type": "code",
    "id": "JMSSWjZqLPne",
    "outputId": "eb1bae4e-6f37-45ee-84a3-ef3bebf4e30a"
   },
   "outputs": [
    {
     "name": "stdout",
     "output_type": "stream",
     "text": [
      "I've tried several other brands of roasted salted almonds available via the Internet and in stores.  The Blue Diamond brand is definitely the best tasting of all.\n",
      "==================================================\n",
      "The stigma of decafs, in general, has vanished! Emeril's Jazzed Up Decaf is, by far, the richest and finest brew around. It is not \"almost\" coffee. It IS coffee, with more jazz and less BAM! Having to take medication at night I have found the perfect decaf companion. I have served it to many people who say it is the best coffee they have drunk. Sure, they were impressed by the Keuring machine... but the coffee stole the show. And the guests had no idea they were drinking decaf. It just doesn't get any better...\n",
      "==================================================\n",
      "This is not a traditional cookie!  However, it is a good thing: it is its own little niche of yumminess. The fig flavor is very subtle--if you want full on fig, get the regular Newtons. This is a thinner wafer cookie, nicely crisp without being too dry.  It tastes healthy without tasting bland, if that makes any sense? You feel good eating these things--a treat but without the guilt.I'm used to making my own cookies so to me anything store bought suffers a bit tastewise (compare a Chips Ahoy to a homemade cookie and you'll know what I mean), but these are tasty right  out of the box.I do prefer the regular fig newtons, because I like the chewiness of the figs and the stronger fig taste, but these are a nice snack packable option.\n",
      "==================================================\n",
      "Bought these for my grandbabies and they love them. I love them because they are organic. Only the best for my little guys. My big guys even snack on them.\n"
     ]
    }
   ],
   "source": [
    "# https://stackoverflow.com/questions/16206380/python-beautifulsoup-how-to-remove-all-tags-from-an-element\n",
    "from bs4 import BeautifulSoup\n",
    "\n",
    "soup = BeautifulSoup(sent_0, 'lxml')\n",
    "text = soup.get_text()\n",
    "print(text)\n",
    "print(\"=\"*50)\n",
    "\n",
    "soup = BeautifulSoup(sent_1000, 'lxml')\n",
    "text = soup.get_text()\n",
    "print(text)\n",
    "print(\"=\"*50)\n",
    "\n",
    "soup = BeautifulSoup(sent_1500, 'lxml')\n",
    "text = soup.get_text()\n",
    "print(text)\n",
    "print(\"=\"*50)\n",
    "\n",
    "soup = BeautifulSoup(sent_4900, 'lxml')\n",
    "text = soup.get_text()\n",
    "print(text)"
   ]
  },
  {
   "cell_type": "code",
   "execution_count": 215,
   "metadata": {
    "colab": {},
    "colab_type": "code",
    "id": "BEtpMkhULPnt"
   },
   "outputs": [],
   "source": [
    "# https://stackoverflow.com/a/47091490/4084039\n",
    "import re\n",
    "\n",
    "def decontracted(phrase):\n",
    "    # specific\n",
    "    phrase = re.sub(r\"won't\", \"will not\", phrase)\n",
    "    phrase = re.sub(r\"can\\'t\", \"can not\", phrase)\n",
    "\n",
    "    # general\n",
    "    phrase = re.sub(r\"n\\'t\", \" not\", phrase)\n",
    "    phrase = re.sub(r\"\\'re\", \" are\", phrase)\n",
    "    phrase = re.sub(r\"\\'s\", \" is\", phrase)\n",
    "    phrase = re.sub(r\"\\'d\", \" would\", phrase)\n",
    "    phrase = re.sub(r\"\\'ll\", \" will\", phrase)\n",
    "    phrase = re.sub(r\"\\'t\", \" not\", phrase)\n",
    "    phrase = re.sub(r\"\\'ve\", \" have\", phrase)\n",
    "    phrase = re.sub(r\"\\'m\", \" am\", phrase)\n",
    "    return phrase"
   ]
  },
  {
   "cell_type": "code",
   "execution_count": 216,
   "metadata": {
    "colab": {},
    "colab_type": "code",
    "id": "GavAnzNjLPnx",
    "outputId": "517fca9a-b1b6-4c6c-ab33-4c5ac4a5bd62"
   },
   "outputs": [
    {
     "name": "stdout",
     "output_type": "stream",
     "text": [
      "This is not a traditional cookie!  However, it is a good thing: it is its own little niche of yumminess. The fig flavor is very subtle--if you want full on fig, get the regular Newtons. This is a thinner wafer cookie, nicely crisp without being too dry.  It tastes healthy without tasting bland, if that makes any sense? You feel good eating these things--a treat but without the guilt.<br /><br />I am used to making my own cookies so to me anything store bought suffers a bit tastewise (compare a Chips Ahoy to a homemade cookie and you will know what I mean), but these are tasty right  out of the box.<br /><br />I do prefer the regular fig newtons, because I like the chewiness of the figs and the stronger fig taste, but these are a nice snack packable option.\n",
      "==================================================\n"
     ]
    }
   ],
   "source": [
    "sent_1500 = decontracted(sent_1500)\n",
    "print(sent_1500)\n",
    "print(\"=\"*50)"
   ]
  },
  {
   "cell_type": "code",
   "execution_count": 217,
   "metadata": {
    "colab": {},
    "colab_type": "code",
    "id": "Kl8nOoL-LPn3",
    "outputId": "16742d57-2529-4fc0-9d28-e9332dbbca97"
   },
   "outputs": [
    {
     "name": "stdout",
     "output_type": "stream",
     "text": [
      "I've tried several other brands of roasted salted almonds available via the Internet and in stores.  The Blue Diamond brand is definitely the best tasting of all.\n"
     ]
    }
   ],
   "source": [
    "#remove words with numbers python: https://stackoverflow.com/a/18082370/4084039\n",
    "sent_0 = re.sub(\"\\S*\\d\\S*\", \"\", sent_0).strip()\n",
    "print(sent_0)"
   ]
  },
  {
   "cell_type": "code",
   "execution_count": 218,
   "metadata": {
    "colab": {},
    "colab_type": "code",
    "id": "EGB6X2uxLPn7",
    "outputId": "dbd754e5-eb73-4b3a-f3c3-7b1b40952851"
   },
   "outputs": [
    {
     "name": "stdout",
     "output_type": "stream",
     "text": [
      "This is not a traditional cookie However it is a good thing it is its own little niche of yumminess The fig flavor is very subtle if you want full on fig get the regular Newtons This is a thinner wafer cookie nicely crisp without being too dry It tastes healthy without tasting bland if that makes any sense You feel good eating these things a treat but without the guilt br br I am used to making my own cookies so to me anything store bought suffers a bit tastewise compare a Chips Ahoy to a homemade cookie and you will know what I mean but these are tasty right out of the box br br I do prefer the regular fig newtons because I like the chewiness of the figs and the stronger fig taste but these are a nice snack packable option \n"
     ]
    }
   ],
   "source": [
    "#remove spacial character: https://stackoverflow.com/a/5843547/4084039\n",
    "sent_1500 = re.sub('[^A-Za-z0-9]+', ' ', sent_1500)\n",
    "print(sent_1500)"
   ]
  },
  {
   "cell_type": "code",
   "execution_count": 219,
   "metadata": {
    "colab": {},
    "colab_type": "code",
    "id": "CCurSJJ2LPn_"
   },
   "outputs": [],
   "source": [
    "# https://gist.github.com/sebleier/554280\n",
    "# we are removing the words from the stop words list: 'no', 'nor', 'not'\n",
    "# <br /><br /> ==> after the above steps, we are getting \"br br\"\n",
    "# we are including them into stop words list\n",
    "# instead of <br /> if we have <br/> these tags would have revmoved in the 1st step\n",
    "\n",
    "stopwords= set(['br', 'the', 'i', 'me', 'my', 'myself', 'we', 'our', 'ours', 'ourselves', 'you', \"you're\", \"you've\",\\\n",
    "            \"you'll\", \"you'd\", 'your', 'yours', 'yourself', 'yourselves', 'he', 'him', 'his', 'himself', \\\n",
    "            'she', \"she's\", 'her', 'hers', 'herself', 'it', \"it's\", 'its', 'itself', 'they', 'them', 'their',\\\n",
    "            'theirs', 'themselves', 'what', 'which', 'who', 'whom', 'this', 'that', \"that'll\", 'these', 'those', \\\n",
    "            'am', 'is', 'are', 'was', 'were', 'be', 'been', 'being', 'have', 'has', 'had', 'having', 'do', 'does', \\\n",
    "            'did', 'doing', 'a', 'an', 'the', 'and', 'but', 'if', 'or', 'because', 'as', 'until', 'while', 'of', \\\n",
    "            'at', 'by', 'for', 'with', 'about', 'against', 'between', 'into', 'through', 'during', 'before', 'after',\\\n",
    "            'above', 'below', 'to', 'from', 'up', 'down', 'in', 'out', 'on', 'off', 'over', 'under', 'again', 'further',\\\n",
    "            'then', 'once', 'here', 'there', 'when', 'where', 'why', 'how', 'all', 'any', 'both', 'each', 'few', 'more',\\\n",
    "            'most', 'other', 'some', 'such', 'only', 'own', 'same', 'so', 'than', 'too', 'very', \\\n",
    "            's', 't', 'can', 'will', 'just', 'don', \"don't\", 'should', \"should've\", 'now', 'd', 'll', 'm', 'o', 're', \\\n",
    "            've', 'y', 'ain', 'aren', \"aren't\", 'couldn', \"couldn't\", 'didn', \"didn't\", 'doesn', \"doesn't\", 'hadn',\\\n",
    "            \"hadn't\", 'hasn', \"hasn't\", 'haven', \"haven't\", 'isn', \"isn't\", 'ma', 'mightn', \"mightn't\", 'mustn',\\\n",
    "            \"mustn't\", 'needn', \"needn't\", 'shan', \"shan't\", 'shouldn', \"shouldn't\", 'wasn', \"wasn't\", 'weren', \"weren't\", \\\n",
    "            'won', \"won't\", 'wouldn', \"wouldn't\"])"
   ]
  },
  {
   "cell_type": "code",
   "execution_count": 220,
   "metadata": {
    "colab": {},
    "colab_type": "code",
    "id": "mFHQEvfnLPoF",
    "outputId": "5cd6bcc3-54fe-4a8e-a39d-d6dabf3f37f9"
   },
   "outputs": [
    {
     "name": "stderr",
     "output_type": "stream",
     "text": [
      "100%|██████████| 100000/100000 [00:46<00:00, 2145.59it/s]\n"
     ]
    }
   ],
   "source": [
    "# Combining all the above stundents \n",
    "from tqdm import tqdm\n",
    "prepr_rev = []\n",
    "# tqdm is for printing the status bar\n",
    "for sentance in tqdm(final['Text'].values):\n",
    "    sentance = re.sub(r\"http\\S+\", \"\", sentance)\n",
    "    sentance = BeautifulSoup(sentance, 'lxml').get_text()\n",
    "    sentance = decontracted(sentance)\n",
    "    sentance = re.sub(\"\\S*\\d\\S*\", \"\", sentance).strip()\n",
    "    sentance = re.sub('[^A-Za-z]+', ' ', sentance)\n",
    "    # https://gist.github.com/sebleier/554280\n",
    "    sentance = ' '.join(e.lower() for e in sentance.split() if e.lower() not in stopwords)\n",
    "    prepr_rev.append(sentance.strip())"
   ]
  },
  {
   "cell_type": "code",
   "execution_count": 221,
   "metadata": {},
   "outputs": [
    {
     "name": "stdout",
     "output_type": "stream",
     "text": [
      "100000\n"
     ]
    },
    {
     "data": {
      "text/plain": [
       "(100000, 10)"
      ]
     },
     "execution_count": 221,
     "metadata": {},
     "output_type": "execute_result"
    }
   ],
   "source": [
    "print(len(prepr_rev))\n",
    "final.shape"
   ]
  },
  {
   "cell_type": "code",
   "execution_count": 222,
   "metadata": {
    "colab": {},
    "colab_type": "code",
    "id": "Tqx8QUeRLPoH",
    "outputId": "0182081c-6282-4113-b186-5b5bac596388"
   },
   "outputs": [
    {
     "data": {
      "text/plain": [
       "'not traditional cookie however good thing little niche yumminess fig flavor subtle want full fig get regular newtons thinner wafer cookie nicely crisp without dry tastes healthy without tasting bland makes sense feel good eating things treat without guilt used making cookies anything store bought suffers bit tastewise compare chips ahoy homemade cookie know mean tasty right box prefer regular fig newtons like chewiness figs stronger fig taste nice snack packable option'"
      ]
     },
     "execution_count": 222,
     "metadata": {},
     "output_type": "execute_result"
    }
   ],
   "source": [
    "prepr_rev[1500]"
   ]
  },
  {
   "cell_type": "code",
   "execution_count": 223,
   "metadata": {},
   "outputs": [
    {
     "data": {
      "text/html": [
       "<div>\n",
       "<style scoped>\n",
       "    .dataframe tbody tr th:only-of-type {\n",
       "        vertical-align: middle;\n",
       "    }\n",
       "\n",
       "    .dataframe tbody tr th {\n",
       "        vertical-align: top;\n",
       "    }\n",
       "\n",
       "    .dataframe thead th {\n",
       "        text-align: right;\n",
       "    }\n",
       "</style>\n",
       "<table border=\"1\" class=\"dataframe\">\n",
       "  <thead>\n",
       "    <tr style=\"text-align: right;\">\n",
       "      <th></th>\n",
       "      <th>Id</th>\n",
       "      <th>ProductId</th>\n",
       "      <th>UserId</th>\n",
       "      <th>ProfileName</th>\n",
       "      <th>HelpfulnessNumerator</th>\n",
       "      <th>HelpfulnessDenominator</th>\n",
       "      <th>Score</th>\n",
       "      <th>Time</th>\n",
       "      <th>Summary</th>\n",
       "      <th>Text</th>\n",
       "      <th>prepr_rev</th>\n",
       "    </tr>\n",
       "  </thead>\n",
       "  <tbody>\n",
       "    <tr>\n",
       "      <th>10291</th>\n",
       "      <td>11237</td>\n",
       "      <td>B001KVPC0G</td>\n",
       "      <td>AY74M03WTAOMB</td>\n",
       "      <td>Nut Nut</td>\n",
       "      <td>0</td>\n",
       "      <td>0</td>\n",
       "      <td>1</td>\n",
       "      <td>1226534400</td>\n",
       "      <td>Best Roasted Almonds</td>\n",
       "      <td>I've tried several other brands of roasted sal...</td>\n",
       "      <td>tried several brands roasted salted almonds av...</td>\n",
       "    </tr>\n",
       "    <tr>\n",
       "      <th>79814</th>\n",
       "      <td>86781</td>\n",
       "      <td>B002DHBT7Q</td>\n",
       "      <td>A1CHKAWX7FAOM4</td>\n",
       "      <td>L. Kirk \"Crabseye\"</td>\n",
       "      <td>2</td>\n",
       "      <td>2</td>\n",
       "      <td>1</td>\n",
       "      <td>1317600000</td>\n",
       "      <td>One of my favorite cookies</td>\n",
       "      <td>A cookie a day (or 2, depending on serving siz...</td>\n",
       "      <td>cookie day depending serving size one indulgen...</td>\n",
       "    </tr>\n",
       "    <tr>\n",
       "      <th>76651</th>\n",
       "      <td>83391</td>\n",
       "      <td>B005ZBZLT4</td>\n",
       "      <td>A2QOYXPT6POXQS</td>\n",
       "      <td>Tony Barnes</td>\n",
       "      <td>0</td>\n",
       "      <td>0</td>\n",
       "      <td>1</td>\n",
       "      <td>1349049600</td>\n",
       "      <td>Great deal!</td>\n",
       "      <td>This coffee is a great deal!  All the coffee d...</td>\n",
       "      <td>coffee great deal coffee drinkers house enjoy ...</td>\n",
       "    </tr>\n",
       "    <tr>\n",
       "      <th>40580</th>\n",
       "      <td>44095</td>\n",
       "      <td>B00168ACG2</td>\n",
       "      <td>AO26QTL5I5JRF</td>\n",
       "      <td>Suzanne Davis</td>\n",
       "      <td>0</td>\n",
       "      <td>0</td>\n",
       "      <td>1</td>\n",
       "      <td>1346112000</td>\n",
       "      <td>THIS IS THE BEST CORNBREAD!!!!</td>\n",
       "      <td>I have been eating this cornbread for years an...</td>\n",
       "      <td>eating cornbread years could not find locally ...</td>\n",
       "    </tr>\n",
       "    <tr>\n",
       "      <th>64314</th>\n",
       "      <td>69846</td>\n",
       "      <td>B002B8ODPW</td>\n",
       "      <td>A2ZE8BSZ5MMEOP</td>\n",
       "      <td>Jasmine \"Uniquely Yours\"</td>\n",
       "      <td>0</td>\n",
       "      <td>0</td>\n",
       "      <td>1</td>\n",
       "      <td>1343520000</td>\n",
       "      <td>Convenient and tasty</td>\n",
       "      <td>Not my favorite, but for the price great produ...</td>\n",
       "      <td>not favorite price great product handy stores ...</td>\n",
       "    </tr>\n",
       "  </tbody>\n",
       "</table>\n",
       "</div>"
      ],
      "text/plain": [
       "          Id   ProductId          UserId               ProfileName  \\\n",
       "10291  11237  B001KVPC0G   AY74M03WTAOMB                   Nut Nut   \n",
       "79814  86781  B002DHBT7Q  A1CHKAWX7FAOM4        L. Kirk \"Crabseye\"   \n",
       "76651  83391  B005ZBZLT4  A2QOYXPT6POXQS               Tony Barnes   \n",
       "40580  44095  B00168ACG2   AO26QTL5I5JRF             Suzanne Davis   \n",
       "64314  69846  B002B8ODPW  A2ZE8BSZ5MMEOP  Jasmine \"Uniquely Yours\"   \n",
       "\n",
       "       HelpfulnessNumerator  HelpfulnessDenominator  Score        Time  \\\n",
       "10291                     0                       0      1  1226534400   \n",
       "79814                     2                       2      1  1317600000   \n",
       "76651                     0                       0      1  1349049600   \n",
       "40580                     0                       0      1  1346112000   \n",
       "64314                     0                       0      1  1343520000   \n",
       "\n",
       "                              Summary  \\\n",
       "10291            Best Roasted Almonds   \n",
       "79814      One of my favorite cookies   \n",
       "76651                     Great deal!   \n",
       "40580  THIS IS THE BEST CORNBREAD!!!!   \n",
       "64314            Convenient and tasty   \n",
       "\n",
       "                                                    Text  \\\n",
       "10291  I've tried several other brands of roasted sal...   \n",
       "79814  A cookie a day (or 2, depending on serving siz...   \n",
       "76651  This coffee is a great deal!  All the coffee d...   \n",
       "40580  I have been eating this cornbread for years an...   \n",
       "64314  Not my favorite, but for the price great produ...   \n",
       "\n",
       "                                               prepr_rev  \n",
       "10291  tried several brands roasted salted almonds av...  \n",
       "79814  cookie day depending serving size one indulgen...  \n",
       "76651  coffee great deal coffee drinkers house enjoy ...  \n",
       "40580  eating cornbread years could not find locally ...  \n",
       "64314  not favorite price great product handy stores ...  "
      ]
     },
     "execution_count": 223,
     "metadata": {},
     "output_type": "execute_result"
    }
   ],
   "source": [
    "final ['prepr_rev']= prepr_rev\n",
    "final.head(5)"
   ]
  },
  {
   "cell_type": "markdown",
   "metadata": {
    "colab_type": "text",
    "id": "9IuKp2HULPoL"
   },
   "source": [
    "<h2><font color='red'>[3.2] Preprocessing Review Summary</font></h2>"
   ]
  },
  {
   "cell_type": "code",
   "execution_count": 224,
   "metadata": {
    "colab": {},
    "colab_type": "code",
    "id": "Qk7gYOmKLPoM"
   },
   "outputs": [
    {
     "name": "stderr",
     "output_type": "stream",
     "text": [
      "100%|██████████| 100000/100000 [00:29<00:00, 3428.23it/s]\n"
     ]
    }
   ],
   "source": [
    "## Similartly you can do preprocessing for review summary also.\n",
    "\n",
    "preprocessed_summary = []\n",
    "# tqdm is for printing the status bar\n",
    "for summary in tqdm(final['Summary'].values):\n",
    "    summary = re.sub(r\"http\\S+\", \"\", summary) # remove urls from text python: https://stackoverflow.com/a/40823105/4084039 \n",
    "    summary = BeautifulSoup(summary, 'lxml').get_text() # https://stackoverflow.com/questions/16206380/python-beautifulsoup-how-to-remove-all-tags-from-an-element\n",
    "    summary = decontracted(summary)\n",
    "    summary = re.sub(\"\\S*\\d\\S*\", \"\", summary).strip() #remove words with numbers python: https://stackoverflow.com/a/18082370/4084039\n",
    "    summary = re.sub('[^A-Za-z]+', ' ', summary) #remove spacial character: https://stackoverflow.com/a/5843547/4084039\n",
    "    # https://gist.github.com/sebleier/554280\n",
    "    summary = ' '.join(e.lower() for e in summary.split() if e.lower() not in stopwords)\n",
    "    preprocessed_summary.append(summary.strip())"
   ]
  },
  {
   "cell_type": "code",
   "execution_count": 225,
   "metadata": {},
   "outputs": [
    {
     "name": "stdout",
     "output_type": "stream",
     "text": [
      "not traditional cookie however good thing little niche yumminess fig flavor subtle want full fig get regular newtons thinner wafer cookie nicely crisp without dry tastes healthy without tasting bland makes sense feel good eating things treat without guilt used making cookies anything store bought suffers bit tastewise compare chips ahoy homemade cookie know mean tasty right box prefer regular fig newtons like chewiness figs stronger fig taste nice snack packable option really yummy\n"
     ]
    }
   ],
   "source": [
    "prepr_rev = [i + ' ' + j for i, j in zip(prepr_rev,preprocessed_summary)] \n",
    "print(prepr_rev[1500])"
   ]
  },
  {
   "cell_type": "markdown",
   "metadata": {
    "colab_type": "text",
    "id": "B93jqKuhLPoQ"
   },
   "source": [
    "# [4] Featurization"
   ]
  },
  {
   "cell_type": "markdown",
   "metadata": {
    "colab_type": "text",
    "id": "Mr4j2QhgLPoQ"
   },
   "source": [
    "## [4.1] BAG OF WORDS"
   ]
  },
  {
   "cell_type": "code",
   "execution_count": 226,
   "metadata": {},
   "outputs": [],
   "source": [
    "X = np.array(prepr_rev)\n",
    "y = np.array(final['Score'])"
   ]
  },
  {
   "cell_type": "code",
   "execution_count": 227,
   "metadata": {},
   "outputs": [
    {
     "name": "stdout",
     "output_type": "stream",
     "text": [
      "Train: (44890,) (44890,)\n",
      "CV: (22110,) (22110,)\n",
      "Test: (33000,) (33000,)\n"
     ]
    }
   ],
   "source": [
    "from sklearn.model_selection import train_test_split\n",
    "#splitting data into Train, C.V and Test\n",
    "X_train, X_test, y_train, y_test = train_test_split(final ['prepr_rev'], final['Score'], test_size=0.33) \n",
    "X_train, X_cv, y_train, y_cv = train_test_split(X_train, y_train, test_size=0.33)\n",
    "print(\"Train:\",X_train.shape,y_train.shape)\n",
    "print(\"CV:\",X_cv.shape,y_cv.shape)\n",
    "print(\"Test:\",X_test.shape,y_test.shape)"
   ]
  },
  {
   "cell_type": "code",
   "execution_count": 228,
   "metadata": {
    "colab": {},
    "colab_type": "code",
    "id": "dZVHt3mtLPoR",
    "outputId": "ea1629cd-7c92-400e-9acd-f7caeef0f389"
   },
   "outputs": [
    {
     "name": "stdout",
     "output_type": "stream",
     "text": [
      "After vectorizations\n",
      "(44890, 500) (44890,)\n",
      "(22110, 500) (22110,)\n",
      "(33000, 500) (33000,)\n"
     ]
    }
   ],
   "source": [
    "vectorizer = CountVectorizer(min_df=10, max_features=500) \n",
    "vectorizer.fit(X_train)\n",
    "#vectorizer.fit(X_train) # fit has to happen only on train data\n",
    "# we use the fitted CountVectorizer to convert the text to vector\n",
    "X_train_bow = vectorizer.transform(X_train)\n",
    "X_cv_bow = vectorizer.transform(X_cv)\n",
    "X_test_bow = vectorizer.transform(X_test) \n",
    "print(\"After vectorizations\")\n",
    "print(X_train_bow.shape, y_train.shape) \n",
    "print(X_cv_bow.shape, y_cv.shape)\n",
    "print(X_test_bow.shape, y_test.shape) "
   ]
  },
  {
   "cell_type": "markdown",
   "metadata": {
    "colab_type": "text",
    "id": "-cEEpDx0LPoZ"
   },
   "source": [
    "## [4.3] TF-IDF"
   ]
  },
  {
   "cell_type": "code",
   "execution_count": 229,
   "metadata": {
    "colab": {},
    "colab_type": "code",
    "id": "TgP61HqBLPoa",
    "outputId": "15f1c123-d93b-414d-914b-d4e3f32a6ac1"
   },
   "outputs": [
    {
     "name": "stdout",
     "output_type": "stream",
     "text": [
      "After vectorizations\n",
      "(44890, 500) (44890,)\n",
      "(22110, 500) (22110,)\n",
      "(33000, 500) (33000,)\n"
     ]
    }
   ],
   "source": [
    "tf_idf_vect = TfidfVectorizer(ngram_range=(1,2), min_df=10, max_features=500)\n",
    "tf_idf_vect.fit(X_train)\n",
    "# we use the fitted CountVectorizer to convert the text to vector\n",
    "X_train_tfidf = tf_idf_vect.transform(X_train)\n",
    "X_cv_tfidf = tf_idf_vect.transform(X_cv)\n",
    "X_test_tfidf = tf_idf_vect.transform(X_test) \n",
    "print(\"After vectorizations\")\n",
    "print(X_train_tfidf.shape, y_train.shape) \n",
    "print(X_cv_tfidf.shape, y_cv.shape)\n",
    "print(X_test_tfidf.shape, y_test.shape) "
   ]
  },
  {
   "cell_type": "markdown",
   "metadata": {
    "colab_type": "text",
    "id": "m3YEHTLPLPod"
   },
   "source": [
    "## [4.4] Word2Vec"
   ]
  },
  {
   "cell_type": "code",
   "execution_count": 230,
   "metadata": {
    "colab": {},
    "colab_type": "code",
    "id": "zwPZCf8cLPoe"
   },
   "outputs": [
    {
     "name": "stdout",
     "output_type": "stream",
     "text": [
      "[('fantastic', 0.8478500843048096), ('good', 0.8255733251571655), ('awesome', 0.8136032223701477), ('wonderful', 0.7817325592041016), ('amazing', 0.734600305557251), ('perfect', 0.7340083122253418), ('incredible', 0.7206707000732422), ('excellent', 0.7106431722640991), ('terrific', 0.7058757543563843), ('nice', 0.6810044050216675)]\n",
      "==================================================\n",
      "[('best', 0.7517200708389282), ('nastiest', 0.7383694648742676), ('greatest', 0.7120794057846069), ('tastiest', 0.6943706274032593), ('awful', 0.6782271265983582), ('horrible', 0.6637294888496399), ('yuck', 0.6547082662582397), ('disgusting', 0.6531492471694946), ('softest', 0.6466982364654541), ('weakest', 0.6367669105529785)]\n",
      "number of words that occured minimum 5 times  12960\n"
     ]
    }
   ],
   "source": [
    "# List of sentence in X_train text\n",
    "sent_of_train=[]\n",
    "for sent in X_train:\n",
    "    sent_of_train.append(sent.split())\n",
    "\n",
    "# List of sentence in X_test text\n",
    "sent_of_test=[]\n",
    "for sent in X_test:\n",
    "    sent_of_test.append(sent.split())   \n",
    "    \n",
    "# Train your own Word2Vec model using your own train text corpus \n",
    "# min_count = 5 considers only words that occured atleast 5 times\n",
    "w2v_model=Word2Vec(sent_of_train,min_count=5,size=50, workers=4)\n",
    "print(w2v_model.wv.most_similar('great'))\n",
    "print('='*50)\n",
    "print(w2v_model.wv.most_similar('worst'))\n",
    "    \n",
    "w2v_words = list(w2v_model.wv.vocab)\n",
    "print(\"number of words that occured minimum 5 times \",len(w2v_words))"
   ]
  },
  {
   "cell_type": "code",
   "execution_count": 231,
   "metadata": {
    "colab": {},
    "colab_type": "code",
    "id": "8ddGZNUfLPog",
    "outputId": "390d4ccb-cda2-4391-83e9-0e502b578171",
    "scrolled": true
   },
   "outputs": [
    {
     "name": "stdout",
     "output_type": "stream",
     "text": [
      "number of words that occured minimum 5 times  12960\n",
      "sample words  ['tea', 'go', 'everyday', 'nearly', 'indestructible', 'forgotten', 'steeped', 'minutes', 'still', 'tastes', 'great', 'brew', 'put', 'travel', 'mug', 'gym', 'hour', 'half', 'later', 'ca', 'not', 'beat', 'value', 'either', 'bag', 'recall', 'correctly', 'stash', 'store', 'oregon', 'got', 'drinking', 'green', 'awesome', 'keep', 'stirring', 'sits', 'long', 'taste', 'little', 'prep', 'time', 'keeps', 'going', 'day', 'delicious', 'sweetener', 'pure', 'nuts', 'chocolate']\n"
     ]
    }
   ],
   "source": [
    "w2v_words = list(w2v_model.wv.vocab)\n",
    "print(\"number of words that occured minimum 5 times \",len(w2v_words))\n",
    "print(\"sample words \", w2v_words[0:50])"
   ]
  },
  {
   "cell_type": "markdown",
   "metadata": {
    "colab_type": "text",
    "id": "TtWqibqfLPos"
   },
   "source": [
    "## [4.4.1] Converting text into vectors using Avg W2V, TFIDF-W2V"
   ]
  },
  {
   "cell_type": "markdown",
   "metadata": {
    "colab_type": "text",
    "id": "JriP5nZCLPot"
   },
   "source": [
    "#### [4.4.1.1] Avg W2v"
   ]
  },
  {
   "cell_type": "code",
   "execution_count": 166,
   "metadata": {},
   "outputs": [],
   "source": [
    "i=0\n",
    "sent_of_test_cv=[]\n",
    "for sentance in X_cv:\n",
    "    sent_of_test_cv.append(sentance.split())"
   ]
  },
  {
   "cell_type": "code",
   "execution_count": 167,
   "metadata": {
    "colab": {},
    "colab_type": "code",
    "id": "UnXI9NHTLPot",
    "outputId": "ecbe8256-9718-4bad-de33-e5ce1ee69038"
   },
   "outputs": [
    {
     "name": "stderr",
     "output_type": "stream",
     "text": [
      "100%|██████████| 22110/22110 [01:05<00:00, 336.99it/s]"
     ]
    },
    {
     "name": "stdout",
     "output_type": "stream",
     "text": [
      "(22110, 50)\n",
      "[-0.52553881 -0.56571381  0.63142397  0.43928345  0.59151121  0.34461575\n",
      "  0.18870962  0.45058656 -0.82038542 -0.29991521  0.56942672 -0.67313881\n",
      " -0.71965228 -0.07363756  0.2739284   0.0503723   0.52536564  0.63691369\n",
      "  0.18458937  0.23666228 -0.32867154 -0.15568994  0.09874957 -0.01075351\n",
      "  0.33511867  1.14519034  0.29567677 -0.0468841  -0.03616501  0.08883335\n",
      " -0.36886215 -0.42454403 -0.57793536  0.37274055 -0.06555429  0.18378313\n",
      "  0.30609365 -0.04986344  0.03503402  0.93081964 -0.07000684 -0.54992588\n",
      "  0.2967225   0.18228281  0.0962322   0.48645934 -0.23933173  0.25615076\n",
      "  0.29496165 -0.3852263 ]\n"
     ]
    },
    {
     "name": "stderr",
     "output_type": "stream",
     "text": [
      "\n"
     ]
    }
   ],
   "source": [
    "# average Word2Vec\n",
    "# compute average word2vec for each review.\n",
    "sent_vectors_cv = []; # the avg-w2v for each sentence/review is stored in this list\n",
    "for sent in tqdm(sent_of_test_cv): # for each review/sentence\n",
    "    sent_vec = np.zeros(50) # as word vectors are of zero length 50, you might need to change this to 300 if you use google's w2v\n",
    "    cnt_words =0; # num of words with a valid vector in the sentence/review\n",
    "    for word in sent: # for each word in a review/sentence\n",
    "        if word in w2v_words:\n",
    "            vec = w2v_model.wv[word]\n",
    "            sent_vec += vec\n",
    "            cnt_words += 1\n",
    "    if cnt_words != 0:\n",
    "        sent_vec /= cnt_words\n",
    "    sent_vectors_cv.append(sent_vec)\n",
    "sent_vectors_cv = np.array(sent_vectors_cv)\n",
    "print(sent_vectors_cv.shape)\n",
    "print(sent_vectors_cv[0])"
   ]
  },
  {
   "cell_type": "code",
   "execution_count": 168,
   "metadata": {},
   "outputs": [
    {
     "name": "stderr",
     "output_type": "stream",
     "text": [
      "100%|██████████| 33000/33000 [01:37<00:00, 338.26it/s]\n"
     ]
    },
    {
     "name": "stdout",
     "output_type": "stream",
     "text": [
      "(33000, 50)\n",
      "[-0.19294365 -0.66535483  0.49491829  0.61472203  0.43786552 -0.2212762\n",
      "  0.63726501 -0.09604544 -1.01787599 -0.38894434 -0.02899949 -0.36255753\n",
      " -0.46169367 -0.24737216 -0.55879127  0.22363069  0.50083397  0.24539507\n",
      " -0.0535983   0.33607479  0.03222066 -0.15921549  0.32272275  0.31025571\n",
      "  0.21540802  0.19478748 -0.61918377 -0.0017801  -0.71217188 -0.46075358\n",
      " -0.54823264 -0.17418158 -0.12233295 -0.03316205 -0.08219504  0.14051325\n",
      " -0.26644893  0.27429939 -0.4835991   0.73440272  0.55616765 -0.06391602\n",
      " -0.40270575 -0.12931861 -0.24423024  0.236344    0.26991326  0.16444251\n",
      " -0.22399055  0.54960559]\n"
     ]
    }
   ],
   "source": [
    "# compute average word2vec for X_test .\n",
    "test_vectors = []; \n",
    "for sent in tqdm(sent_of_test):\n",
    "    sent_vec = np.zeros(50) \n",
    "    cnt_words =0; \n",
    "    for word in sent: # \n",
    "        if word in w2v_words:\n",
    "            vec = w2v_model.wv[word]\n",
    "            sent_vec += vec\n",
    "            cnt_words += 1\n",
    "    if cnt_words != 0:\n",
    "        sent_vec /= cnt_words\n",
    "    test_vectors.append(sent_vec)  \n",
    "    \n",
    "test_vectors = np.array(test_vectors)\n",
    "\n",
    "print(test_vectors.shape)\n",
    "print(test_vectors[0])    \n"
   ]
  },
  {
   "cell_type": "code",
   "execution_count": 169,
   "metadata": {},
   "outputs": [
    {
     "name": "stderr",
     "output_type": "stream",
     "text": [
      "100%|██████████| 44890/44890 [02:09<00:00, 346.49it/s]"
     ]
    },
    {
     "name": "stdout",
     "output_type": "stream",
     "text": [
      "(44890, 50)\n",
      "[-0.14060537 -0.72614364  0.32810215  1.11755044  0.23384139  0.28288134\n",
      " -0.01866034 -0.04290673 -0.52098112 -0.01752026 -0.01945195  0.15767466\n",
      " -0.07230324 -0.01717835 -0.27854393  0.05381443  0.73443291  0.75394678\n",
      "  0.93170925  0.04095242 -0.49682882 -0.20451759  0.2238511   0.65370598\n",
      " -0.13699235 -0.40837955  0.57271826 -0.12713724 -0.59230489 -0.02618843\n",
      " -0.34113196 -0.33512895 -0.13026007 -0.22999276  0.30137488  0.37416903\n",
      "  0.2087824   0.68820576  0.2217927   0.66206925  0.37959712  0.22534903\n",
      " -0.7366674  -0.62474787  0.04708067  0.12064839  0.31486852  0.38119362\n",
      "  0.3194624  -0.3280405 ]\n"
     ]
    },
    {
     "name": "stderr",
     "output_type": "stream",
     "text": [
      "\n"
     ]
    }
   ],
   "source": [
    "# compute average word2vec for X_train .\n",
    "train_vectors = []; \n",
    "for sent in tqdm(sent_of_train):\n",
    "    sent_vec = np.zeros(50) \n",
    "    cnt_words =0; \n",
    "    for word in sent: # \n",
    "        if word in w2v_words:\n",
    "            vec = w2v_model.wv[word]\n",
    "            sent_vec += vec\n",
    "            cnt_words += 1\n",
    "    if cnt_words != 0:\n",
    "        sent_vec /= cnt_words\n",
    "    train_vectors.append(sent_vec)\n",
    "    \n",
    "train_vectors = np.array(train_vectors)\n",
    "\n",
    "print(train_vectors.shape)\n",
    "print(train_vectors[0])"
   ]
  },
  {
   "cell_type": "markdown",
   "metadata": {},
   "source": [
    "[4.4.1.2] TFIDF weighted W2v"
   ]
  },
  {
   "cell_type": "code",
   "execution_count": 170,
   "metadata": {},
   "outputs": [
    {
     "name": "stderr",
     "output_type": "stream",
     "text": [
      "100%|██████████| 33000/33000 [22:17<00:00, 24.67it/s]\n"
     ]
    },
    {
     "name": "stdout",
     "output_type": "stream",
     "text": [
      "(33000, 50)\n",
      "[-0.16686663 -0.86323916  0.49690235  0.5184359   0.56615715 -0.54148702\n",
      "  0.93596545 -0.25554939 -1.12918029 -0.77515194  0.04043236 -0.01329734\n",
      " -0.5751481  -0.6871599  -0.75427953  0.1534776   0.36420995  0.26531452\n",
      "  0.08081806  0.42276238  0.15202629 -0.0840503   0.46600952  0.41430244\n",
      "  0.26516221 -0.03617444 -0.87445306 -0.01075618 -0.63894613 -0.59917669\n",
      " -0.83022163 -0.19207686  0.0749336  -0.06149395 -0.1844047   0.28045885\n",
      " -0.81266072  0.22030619 -0.57452736  0.7226248   0.6758246   0.15453529\n",
      " -0.08191958  0.15770662 -0.32205749  0.08399961  0.39292019  0.16717439\n",
      " -0.39050156  0.80903407]\n"
     ]
    }
   ],
   "source": [
    "tf_idf_vect = TfidfVectorizer()\n",
    "\n",
    "# final_tf_idf1 is the sparse matrix with row= sentence, col=word and cell_val = tfidf\n",
    "final_tf_idf1 = tf_idf_vect.fit_transform(X_train)\n",
    "dictionary = dict(zip(tf_idf_vect.get_feature_names(), list(tf_idf_vect.idf_)))\n",
    "\n",
    "# tfidf words/col-names\n",
    "tfidf_feat = tf_idf_vect.get_feature_names()\n",
    "\n",
    "# compute TFIDF Weighted Word2Vec for X_test .\n",
    "tfidf_test_vectors = []; \n",
    "row=0;\n",
    "for sent in tqdm(sent_of_test): \n",
    "    sent_vec = np.zeros(50) \n",
    "    weight_sum =0; \n",
    "    for word in sent: \n",
    "        if word in w2v_words and word in tfidf_feat:\n",
    "            vec = w2v_model.wv[word]\n",
    "            tf_idf = dictionary[word]*(sent.count(word)/len(sent))\n",
    "            sent_vec += (vec * tf_idf)\n",
    "            weight_sum += tf_idf\n",
    "    if weight_sum != 0:\n",
    "        sent_vec /= weight_sum\n",
    "    tfidf_test_vectors.append(sent_vec)\n",
    "    \n",
    "tfidf_test_vectors = np.array(tfidf_test_vectors)\n",
    "print(tfidf_test_vectors.shape)\n",
    "print(tfidf_test_vectors[0])"
   ]
  },
  {
   "cell_type": "code",
   "execution_count": 171,
   "metadata": {},
   "outputs": [
    {
     "name": "stderr",
     "output_type": "stream",
     "text": [
      "100%|██████████| 44890/44890 [27:49<00:00, 26.89it/s]  \n"
     ]
    },
    {
     "name": "stdout",
     "output_type": "stream",
     "text": [
      "(44890, 50)\n",
      "[-0.29540099 -0.85954222 -0.18179773  0.88866737  0.38733377  0.07670469\n",
      " -0.08424611  0.12395096 -0.48383716 -0.07993022 -0.00500073  0.31535502\n",
      "  0.06399823  0.02668346 -0.39874532 -0.19141424  0.41162859  0.67405128\n",
      "  1.09345726  0.07239559 -0.44772274  0.12750844  0.26261354  0.38511071\n",
      " -0.16009767 -0.39785692  1.16591441 -0.4437846  -0.38423109  0.32179244\n",
      " -0.11075185 -0.21630509  0.073712   -0.27370394  0.21916168  0.2249126\n",
      " -0.02694394  0.95540116  0.0286596   0.38618412  0.51026674  0.42937773\n",
      " -0.9517379  -0.66895635  0.19392165 -0.37172587  0.3754621   0.14247962\n",
      "  0.01241208 -0.48043844]\n"
     ]
    }
   ],
   "source": [
    "# compute TFIDF Weighted Word2Vec for X_train .\n",
    "tfidf_train_vectors = []; \n",
    "row=0;\n",
    "for sent in tqdm(sent_of_train): \n",
    "    sent_vec = np.zeros(50) \n",
    "    weight_sum =0; \n",
    "    for word in sent: \n",
    "        if word in w2v_words and word in tfidf_feat:\n",
    "            vec = w2v_model.wv[word]\n",
    "            tf_idf = dictionary[word]*(sent.count(word)/len(sent))\n",
    "            sent_vec += (vec * tf_idf)\n",
    "            weight_sum += tf_idf\n",
    "    if weight_sum != 0:\n",
    "        sent_vec /= weight_sum\n",
    "    tfidf_train_vectors.append(sent_vec)\n",
    "\n",
    "tfidf_train_vectors = np.array(tfidf_train_vectors)\n",
    "print(tfidf_train_vectors.shape)\n",
    "print(tfidf_train_vectors[0])"
   ]
  },
  {
   "cell_type": "markdown",
   "metadata": {
    "colab_type": "text",
    "id": "Kxx72u1hLPo1"
   },
   "source": [
    "# [5] Assignment 5: Apply Logistic Regression"
   ]
  },
  {
   "cell_type": "markdown",
   "metadata": {
    "colab_type": "text",
    "id": "KDR9We0oLPo2"
   },
   "source": [
    "<ol>\n",
    "    <li><strong>Apply Logistic Regression on these feature sets</strong>\n",
    "        <ul>\n",
    "            <li><font color='red'>SET 1:</font>Review text, preprocessed one converted into vectors using (BOW)</li>\n",
    "            <li><font color='red'>SET 2:</font>Review text, preprocessed one converted into vectors using (TFIDF)</li>\n",
    "            <li><font color='red'>SET 3:</font>Review text, preprocessed one converted into vectors using (AVG W2v)</li>\n",
    "            <li><font color='red'>SET 4:</font>Review text, preprocessed one converted into vectors using (TFIDF W2v)</li>\n",
    "        </ul>\n",
    "    </li>\n",
    "    <br>\n",
    "    <li><strong>Hyper paramter tuning (find best hyper parameters corresponding the algorithm that you choose)</strong>\n",
    "        <ul>\n",
    "    <li>Find the best hyper parameter which will give the maximum <a href='https://www.appliedaicourse.com/course/applied-ai-course-online/lessons/receiver-operating-characteristic-curve-roc-curve-and-auc-1/'>AUC</a> value</li>\n",
    "    <li>Find the best hyper paramter using k-fold cross validation or simple cross validation data</li>\n",
    "    <li>Use gridsearch cv or randomsearch cv or you can also write your own for loops to do this task of hyperparameter tuning</li>          \n",
    "        </ul>\n",
    "    </li>\n",
    "    <br>\n",
    "    <li><strong>Pertubation Test</strong>\n",
    "        <ul>\n",
    "    <li>Get the weights W after fit your model with the data X i.e Train data.</li>\n",
    "    <li>Add a noise to the X (X' = X + e) and get the new data set X' (if X is a sparse\n",
    "matrix, X.data+=e)</li>\n",
    "    <li>Fit the model again on data X' and get the weights W'</li>\n",
    "    <li>Add a small eps value(to eliminate the divisible by zero error) to W and W’ i.e\n",
    "W=W+10^-6 and W’ = W’+10^-6</li>\n",
    "    <li>Now find the % change between W and W' (| (W-W') / (W) |)*100)</li>\n",
    "    <li>Calculate the 0th, 10th, 20th, 30th, ...100th percentiles, and observe any sudden rise in the values of percentage_change_vector</li>\n",
    "    <li> Ex: consider your 99th percentile is 1.3 and your 100th percentiles are 34.6, there is sudden rise from 1.3 to 34.6, now calculate the 99.1, 99.2, 99.3,..., 100th percentile values and get the proper value after which there is sudden rise the values, assume it is 2.5</li>\n",
    "            <li> Print the feature names whose % change is more than a threshold x(in our example it's 2.5)</li>\n",
    "        </ul>\n",
    "    </li>\n",
    "    <br>\n",
    "    <li><strong>Sparsity</strong>\n",
    "        <ul>\n",
    "    <li>Calculate sparsity on weight vector obtained after using L1 regularization</li>\n",
    "        </ul>\n",
    "    </li>\n",
    "    <br><font color='red'>NOTE: Do sparsity and multicollinearity for any one of the vectorizers. Bow or tf-idf is recommended.</font>\n",
    "    <br>\n",
    "    <br>\n",
    "    <li><strong>Feature importance</strong>\n",
    "        <ul>\n",
    "    <li>Get top 10 important features for both positive and negative classes separately.</li>\n",
    "        </ul>\n",
    "    </li>\n",
    "    <br>\n",
    "    <li><strong>Feature engineering</strong>\n",
    "        <ul>\n",
    "    <li>To increase the performance of your model, you can also experiment with with feature engineering like :</li>\n",
    "            <ul>\n",
    "            <li>Taking length of reviews as another feature.</li>\n",
    "            <li>Considering some features from review summary as well.</li>\n",
    "        </ul>\n",
    "        </ul>\n",
    "    </li>\n",
    "    <br>\n",
    "    <li><strong>Representation of results</strong>\n",
    "        <ul>\n",
    "    <li>You need to plot the performance of model both on train data and cross validation data for each hyper parameter, like shown in the figure.\n",
    "    <img src='train_cv_auc.JPG' width=300px></li>\n",
    "    <li>Once after you found the best hyper parameter, you need to train your model with it, and find the AUC on test data and plot the ROC curve on both train and test.\n",
    "    <img src='train_test_auc.JPG' width=300px></li>\n",
    "    <li>Along with plotting ROC curve, you need to print the <a href='https://www.appliedaicourse.com/course/applied-ai-course-online/lessons/confusion-matrix-tpr-fpr-fnr-tnr-1/'>confusion matrix</a> with predicted and original labels of test data points. Please visualize your confusion matrices using <a href='https://seaborn.pydata.org/generated/seaborn.heatmap.html'>seaborn heatmaps.\n",
    "    <img src='confusion_matrix.png' width=300px></li>\n",
    "        </ul>\n",
    "    </li>\n",
    "    <br>\n",
    "    <li><strong>Conclusion</strong>\n",
    "        <ul>\n",
    "    <li>You need to summarize the results at the end of the notebook, summarize it in the table format. To print out a table please refer to this prettytable library<a href='http://zetcode.com/python/prettytable/'>  link</a> \n",
    "        <img src='summary.JPG' width=400px>\n",
    "    </li>\n",
    "        </ul>\n",
    "</ol>"
   ]
  },
  {
   "cell_type": "markdown",
   "metadata": {
    "colab_type": "text",
    "id": "gilb-DOVLPo2"
   },
   "source": [
    "<h4><font color='red'>Note: Data Leakage</font></h4>\n",
    "\n",
    "1. There will be an issue of data-leakage if you vectorize the entire data and then split it into train/cv/test.\n",
    "2. To avoid the issue of data-leakag, make sure to split your data first and then vectorize it. \n",
    "3. While vectorizing your data, apply the method fit_transform() on you train data, and apply the method transform() on cv/test data.\n",
    "4. For more details please go through this <a href='https://soundcloud.com/applied-ai-course/leakage-bow-and-tfidf'>link.</a>"
   ]
  },
  {
   "cell_type": "markdown",
   "metadata": {
    "colab_type": "text",
    "id": "jiYocvSHLPo4"
   },
   "source": [
    "# Applying Logistic Regression"
   ]
  },
  {
   "cell_type": "markdown",
   "metadata": {
    "colab_type": "text",
    "id": "LE_XPVZJLPo4"
   },
   "source": [
    "## [5.1] Logistic Regression on BOW,<font color='red'> SET 1</font>"
   ]
  },
  {
   "cell_type": "markdown",
   "metadata": {
    "colab_type": "text",
    "id": "_iciJvj2LPo4"
   },
   "source": [
    "### [5.1.1] Applying Logistic Regression with L1 regularization on BOW,<font color='red'> SET 1</font>"
   ]
  },
  {
   "cell_type": "markdown",
   "metadata": {
    "colab_type": "text",
    "id": "5h4NhywcLPo7"
   },
   "source": [
    "#### [5.1.1.1] Calculating sparsity on weight vector obtained using L1 regularization on BOW,<font color='red'> SET 1</font>"
   ]
  },
  {
   "cell_type": "code",
   "execution_count": 232,
   "metadata": {
    "colab": {},
    "colab_type": "code",
    "id": "MyOVi-xYLPo5"
   },
   "outputs": [],
   "source": [
    "# Please write all the code with proper documentation\n",
    "from sklearn.linear_model import LogisticRegression\n",
    "from sklearn.metrics import roc_auc_score\n",
    "\n",
    "def lr_all (X_train,y_train,X_cv,penal):\n",
    "    train_auc = []\n",
    "    cv_auc = []\n",
    "    hyper_param = [0.001, 0.01, 0.1, 1, 10, 100,1000]\n",
    "\n",
    "    for i in tqdm(hyper_param):\n",
    "        lr = LogisticRegression(C=i,penalty= penal)\n",
    "        lr.fit(X_train_bow,y_train)\n",
    "\n",
    "    \n",
    "    \n",
    "        y_train_pred =  lr.predict_proba(X_train_bow)[:,1]\n",
    "        y_cv_pred = lr.predict_proba(X_cv_bow)[:,1]\n",
    "    \n",
    "        train_auc.append(roc_auc_score(y_train,y_train_pred))\n",
    "        cv_auc.append(roc_auc_score(y_cv, y_cv_pred))\n",
    "     \n",
    "    #Plotting the AUC curve for train and test data\n",
    "\n",
    "    #Print the graph\n",
    "\n",
    "    # https://stackoverflow.com/questions/28077499/matplotlib-pyplot-plot-x-axis-ticks-in-equal-range \n",
    " \n",
    "    plt.plot(np.log(hyper_param), train_auc, label='Train AUC-L1') \n",
    "    plt.plot(np.log(hyper_param), cv_auc, label='CV AUC-L1')\n",
    "    plt.legend(bbox_to_anchor=(1.05, 1), loc='upper left', borderaxespad=0.)\n",
    "    plt.grid(True)\n",
    "    plt.legend()\n",
    "    plt.xlabel(\"Lambda: hyperparameter\")\n",
    "    plt.ylabel(\"AUC\")\n",
    "    plt.title(\"ERROR PLOTS\")\n",
    "    plt.show()\n",
    "    #Cv-auc scores with penalty L1\n",
    "    print(\"--------------------------\")\n",
    "    print(\"Cv auc scores with penalty L1\")\n",
    "    print(cv_auc)\n",
    "    print(\"Maximun Auc value :\",max(cv_auc))\n",
    "    print(\"Index\",cv_auc.index(max(cv_auc)))\n",
    "    \n",
    "    #Get lambda value for max auc in cv data\n",
    "    mx = 0\n",
    "    for i in range(len(cv_auc)):\n",
    "        if(cv_auc[i]> cv_auc[mx]):\n",
    "            mx = i\n",
    "    best = hyper_param[mx] \n",
    "    print(\"The optimal value of Lambda = \", best)\n",
    "    \n",
    "    \n",
    "    \n",
    "    lr = LogisticRegression(C =best,penalty= 'l1', class_weight = 'balanced')\n",
    "    lr.fit(X_train_bow,y_train)\n",
    "\n",
    "\n",
    "\n",
    "    train_fpr, train_tpr, thresholds = roc_curve(y_train, lr.predict_proba(X_train_bow)[:,1])\n",
    "    test_fpr, test_tpr, thresholds = roc_curve(y_test, lr.predict_proba(X_test_bow)[:,1])\n",
    "\n",
    "    plt.plot(train_fpr, train_tpr, label=\"train AUC =\"+str(auc(train_fpr, train_tpr)))\n",
    "    plt.plot(test_fpr, test_tpr, label=\"test AUC =\"+str(auc(test_fpr, test_tpr)))\n",
    "    \n",
    "    plt.legend(bbox_to_anchor=(1.05, 1), loc='upper left', borderaxespad=0.)\n",
    "    plt.grid(True)\n",
    "    plt.legend()\n",
    "    plt.xlabel(\"Lamda: hyperparameter\")\n",
    "    plt.ylabel(\"AUC\")\n",
    "    plt.title(\"ERROR PLOTS\")\n",
    "    plt.show()\n",
    "     \n",
    "\n",
    "    #Confusion Matrix\n",
    "    \n",
    "    print(\"Train confusion matrix\") \n",
    "    print(confusion_matrix(y_train, lr.predict(X_train_bow))) \n",
    "    print(\"Test confusion matrix\")\n",
    "    print(confusion_matrix(y_test, lr.predict(X_test_bow)))\n",
    " \n",
    "    cm = confusion_matrix(y_train, lr.predict(X_train_bow))\n",
    "    cm = confusion_matrix(y_test, lr.predict(X_test_bow))\n",
    "    tn, fp, fn, tp = cm.ravel()\n",
    "    # https://stackoverflow.com/questions/35572000/how-can-i-plot-a-confusion-matrix\n",
    "    # Code for drawing seaborn heatmaps\n",
    "    class_names = ['0','1']\n",
    "    df_heatmap = pd.DataFrame(cm, index=class_names, columns=class_names )\n",
    "    fig = plt.figure(figsize=(5,3))\n",
    "    heatmap = sns.heatmap(df_heatmap, annot=True, fmt=\"d\")\n",
    "\n",
    "    # Setting tick labels for heatmap\n",
    "    heatmap.yaxis.set_ticklabels(heatmap.yaxis.get_ticklabels(), rotation=0, ha='right', fontsize=14)\n",
    "    heatmap.xaxis.set_ticklabels(heatmap.xaxis.get_ticklabels(), rotation=0, ha='right', fontsize=14)\n",
    "    plt.ylabel('True label',size=18)\n",
    "    plt.xlabel('Predict label',size=18)\n",
    "    plt.title(\"Confusion Matrix\\n\",size=24)\n",
    "    plt.show()"
   ]
  },
  {
   "cell_type": "code",
   "execution_count": 233,
   "metadata": {},
   "outputs": [
    {
     "name": "stderr",
     "output_type": "stream",
     "text": [
      "100%|██████████| 7/7 [00:02<00:00,  2.96it/s]\n"
     ]
    },
    {
     "data": {
      "image/png": "[encoded data removed]",
      "text/plain": [
       "<Figure size 432x288 with 1 Axes>"
      ]
     },
     "metadata": {
      "needs_background": "light"
     },
     "output_type": "display_data"
    },
    {
     "name": "stdout",
     "output_type": "stream",
     "text": [
      "--------------------------\n",
      "Cv auc scores with penalty L1\n",
      "[0.7149699199648194, 0.8623282056497347, 0.8972412121357145, 0.8963105754704795, 0.8960072967579379, 0.8959743791218008, 0.895969632999947]\n",
      "Maximun Auc value : 0.8972412121357145\n",
      "Index 2\n",
      "The optimal value of Lambda =  0.1\n"
     ]
    },
    {
     "data": {
      "image/png": "[encoded data removed]",
      "text/plain": [
       "<Figure size 432x288 with 1 Axes>"
      ]
     },
     "metadata": {
      "needs_background": "light"
     },
     "output_type": "display_data"
    },
    {
     "name": "stdout",
     "output_type": "stream",
     "text": [
      "Train confusion matrix\n",
      "[[ 6174  1081]\n",
      " [ 6539 31096]]\n",
      "Test confusion matrix\n",
      "[[ 4191   917]\n",
      " [ 4831 23061]]\n"
     ]
    },
    {
     "data": {
      "image/png": "[encoded data removed]",
      "text/plain": [
       "<Figure size 360x216 with 2 Axes>"
      ]
     },
     "metadata": {
      "needs_background": "light"
     },
     "output_type": "display_data"
    }
   ],
   "source": [
    "lr_all(X_train_bow,y_train,X_cv_bow,'l1')"
   ]
  },
  {
   "cell_type": "markdown",
   "metadata": {
    "colab_type": "text",
    "id": "aRHMa52qLPpA"
   },
   "source": [
    "### [5.1.2] Applying Logistic Regression with L2 regularization on BOW,<font color='red'> SET 1</font>"
   ]
  },
  {
   "cell_type": "code",
   "execution_count": 236,
   "metadata": {},
   "outputs": [],
   "source": [
    "def all_lr (X_train,y_train,X_cv,penal):\n",
    "    train_auc_l2 = []\n",
    "    cv_auc_l2 = []\n",
    "    hyper_param = [0.001, 0.01, 0.1, 1, 10, 100,1000]\n",
    "\n",
    "    for i in tqdm(hyper_param):\n",
    "        lr = LogisticRegression(C=i,penalty= penal)\n",
    "        lr.fit(X_train_bow,y_train)\n",
    "\n",
    "    \n",
    "    \n",
    "        y_train_pred =  lr.predict_proba(X_train_bow)[:,1]\n",
    "        y_cv_pred = lr.predict_proba(X_cv_bow)[:,1]\n",
    "    \n",
    "        train_auc_l2.append(roc_auc_score(y_train,y_train_pred))\n",
    "        cv_auc_l2.append(roc_auc_score(y_cv, y_cv_pred))\n",
    "     \n",
    "    #Plotting the AUC curve for train and test data\n",
    "\n",
    "    #Print the graph\n",
    "\n",
    "    # https://stackoverflow.com/questions/28077499/matplotlib-pyplot-plot-x-axis-ticks-in-equal-range \n",
    "\n",
    "\n",
    "    plt.plot(np.log(hyper_param), train_auc_l2, label='Train AUC-L2') \n",
    "    plt.plot(np.log(hyper_param), cv_auc_l2, label='CV AUC-L2')\n",
    "    plt.legend(bbox_to_anchor=(1.05, 1), loc='upper left', borderaxespad=0.)\n",
    "    plt.grid(True)\n",
    "    plt.legend()\n",
    "    plt.xlabel(\"Lambda: hyperparameter\")\n",
    "    plt.ylabel(\"AUC\")\n",
    "    plt.title(\"ERROR PLOTS\")\n",
    "    plt.show()\n",
    "    #Cv auc scores with penalty L2\n",
    "    print(\"--------------------------\")\n",
    "    print(\"Cv auc scores with penalty L2\")\n",
    "    print(cv_auc_l2)\n",
    "    print(\"Maximun Auc value :\",max(cv_auc_l2))\n",
    "    print(\"Index\",cv_auc_l2.index(max(cv_auc_l2)))\n",
    "    \n",
    "    \n",
    "    \n",
    "    \n",
    "\n",
    "    \n",
    "    #Get lambda value for max auc in cv data\n",
    "    mx = 0\n",
    "    for i in range(len(cv_auc_l2)):\n",
    "        if(cv_auc_l2[i]> cv_auc_l2[mx]):\n",
    "            mx = i\n",
    "    best = hyper_param[mx] \n",
    "    print(\"The optimal value of Lambda = \", best)\n",
    "    \n",
    "    \n",
    "    lr = LogisticRegression(C= best, penalty= 'l2', class_weight = 'balanced')\n",
    "    lr.fit(X_train_bow,y_train)\n",
    "\n",
    "    train_fpr, train_tpr, thresholds = roc_curve(y_train, lr.predict_proba(X_train_bow)[:,1])\n",
    "    test_fpr, test_tpr, thresholds = roc_curve(y_test, lr.predict_proba(X_test_bow)[:,1])\n",
    "\n",
    "    plt.plot(train_fpr, train_tpr, label=\"train AUC =\"+str(auc(train_fpr, train_tpr)))\n",
    "    plt.plot(test_fpr, test_tpr, label=\"test AUC =\"+str(auc(test_fpr, test_tpr)))\n",
    "    plt.legend(bbox_to_anchor=(1.05, 1), loc='upper left', borderaxespad=0.)\n",
    "    plt.grid(True)\n",
    "    plt.legend()\n",
    "    plt.xlabel(\"Lamda: hyperparameter\")\n",
    "    plt.ylabel(\"AUC\")\n",
    "    plt.title(\"ERROR PLOTS\")\n",
    "    plt.show()\n",
    "     \n",
    "\n",
    "    #Confusion Matrix\n",
    "    \n",
    "    print(\"Train confusion matrix\") \n",
    "    print(confusion_matrix(y_train, lr.predict(X_train_bow))) \n",
    "    print(\"Test confusion matrix\")\n",
    "    print(confusion_matrix(y_test, lr.predict(X_test_bow)))\n",
    " \n",
    "    cm = confusion_matrix(y_train, lr.predict(X_train_bow))\n",
    "    cm = confusion_matrix(y_test, lr.predict(X_test_bow))\n",
    "    tn, fp, fn, tp = cm.ravel()\n",
    "    # https://stackoverflow.com/questions/35572000/how-can-i-plot-a-confusion-matrix\n",
    "    # Code for drawing seaborn heatmaps\n",
    "    class_names = ['0','1']\n",
    "    df_heatmap = pd.DataFrame(cm, index=class_names, columns=class_names )\n",
    "    fig = plt.figure(figsize=(5,3))\n",
    "    heatmap = sns.heatmap(df_heatmap, annot=True, fmt=\"d\")\n",
    "\n",
    "# Setting tick labels for heatmap\n",
    "    heatmap.yaxis.set_ticklabels(heatmap.yaxis.get_ticklabels(), rotation=0, ha='right', fontsize=14)\n",
    "    heatmap.xaxis.set_ticklabels(heatmap.xaxis.get_ticklabels(), rotation=0, ha='right', fontsize=14)\n",
    "    plt.ylabel('True label',size=18)\n",
    "    plt.xlabel('Predict label',size=18)\n",
    "    plt.title(\"Confusion Matrix\\n\",size=24)\n",
    "    plt.show()   \n",
    "      "
   ]
  },
  {
   "cell_type": "code",
   "execution_count": 237,
   "metadata": {},
   "outputs": [
    {
     "name": "stderr",
     "output_type": "stream",
     "text": [
      "100%|██████████| 7/7 [00:04<00:00,  1.47it/s]\n"
     ]
    },
    {
     "data": {
      "image/png": "[encoded data removed]",
      "text/plain": [
       "<Figure size 432x288 with 1 Axes>"
      ]
     },
     "metadata": {
      "needs_background": "light"
     },
     "output_type": "display_data"
    },
    {
     "name": "stdout",
     "output_type": "stream",
     "text": [
      "--------------------------\n",
      "Cv auc scores with penalty L2\n",
      "[0.8686668268851596, 0.8946634880571093, 0.8969706221466804, 0.8961376090875506, 0.8959898841372461, 0.8959746232952724, 0.895973127732759]\n",
      "Maximun Auc value : 0.8969706221466804\n",
      "Index 2\n",
      "The optimal value of Lambda =  0.1\n"
     ]
    },
    {
     "data": {
      "image/png": "[encoded data removed]",
      "text/plain": [
       "<Figure size 432x288 with 1 Axes>"
      ]
     },
     "metadata": {
      "needs_background": "light"
     },
     "output_type": "display_data"
    },
    {
     "name": "stdout",
     "output_type": "stream",
     "text": [
      "Train confusion matrix\n",
      "[[ 6162  1093]\n",
      " [ 6475 31160]]\n",
      "Test confusion matrix\n",
      "[[ 4192   916]\n",
      " [ 4798 23094]]\n"
     ]
    },
    {
     "data": {
      "image/png": "[encoded data removed]",
      "text/plain": [
       "<Figure size 360x216 with 2 Axes>"
      ]
     },
     "metadata": {
      "needs_background": "light"
     },
     "output_type": "display_data"
    }
   ],
   "source": [
    "all_lr(X_train_bow,y_train,X_cv_bow,'l2')"
   ]
  },
  {
   "cell_type": "code",
   "execution_count": 238,
   "metadata": {},
   "outputs": [
    {
     "name": "stdout",
     "output_type": "stream",
     "text": [
      "[ 0.15021456 -0.03929764 -0.05173317  0.43961426  0.05990978 -0.27028027\n",
      " -0.5902203  -0.13474628 -0.55136027  0.12501951]\n"
     ]
    }
   ],
   "source": [
    "from scipy.sparse import find\n",
    "#Weights before adding random noise\n",
    "weights1 = find(lr.coef_[0])[2]\n",
    "print(weights1[:10])"
   ]
  },
  {
   "cell_type": "markdown",
   "metadata": {
    "colab_type": "text",
    "id": "UaJkugTKLPpE"
   },
   "source": [
    "#### [5.1.2.1] Performing pertubation test (multicollinearity check) on BOW,<font color='red'> SET 1</font>"
   ]
  },
  {
   "cell_type": "code",
   "execution_count": 239,
   "metadata": {
    "colab": {},
    "colab_type": "code",
    "id": "E1c5B1nELPpF"
   },
   "outputs": [],
   "source": [
    "# Please write all the code with proper documentation\n",
    "\n",
    "lr = LogisticRegression(C=10,penalty='l2')\n",
    "lr.fit(X_train_bow,y_train)\n",
    "weight1 = lr.coef_ # the weight vector\n",
    "\n",
    "# New dataset by adding a small noise\n",
    "new_train = X_train_bow.astype(float)\n",
    "new_train.data += np.random.uniform(-0.0001,0.0001,1 )\n",
    "\n",
    "# Fit the model on new data\n",
    "lr = LogisticRegression(C=1,penalty='l2')\n",
    "lr.fit(X_train_bow,y_train)\n",
    "weight2 =lr.coef_\n",
    "\n",
    "\n",
    "weight1 += 10**-6\n",
    "weight2 += 10**-6\n",
    "\n",
    "percentage_change_vector = abs( (weight1-weight2) / (weight1) )*100"
   ]
  },
  {
   "cell_type": "code",
   "execution_count": 240,
   "metadata": {},
   "outputs": [
    {
     "name": "stdout",
     "output_type": "stream",
     "text": [
      "82.51198275414353\n",
      "0.013428872363584931\n",
      "6.011225674585524\n"
     ]
    }
   ],
   "source": [
    "#print weights difference\n",
    "print(percentage_change_vector.max())\n",
    "print(percentage_change_vector.min())\n",
    "print(percentage_change_vector.std())"
   ]
  },
  {
   "cell_type": "code",
   "execution_count": 241,
   "metadata": {},
   "outputs": [],
   "source": [
    "percentage_change=[]\n",
    "collinear_features=[]\n",
    "\n",
    "for i in range(1,101):\n",
    "    f=np.where(percentage_change_vector > i)[1].size\n",
    "    percentage_change.append(i)\n",
    "    collinear_features.append(f)"
   ]
  },
  {
   "cell_type": "code",
   "execution_count": 242,
   "metadata": {},
   "outputs": [
    {
     "name": "stdout",
     "output_type": "stream",
     "text": [
      "No of features have weight changes greater than 30%:  5\n",
      "\n",
      "collinear features are  :\n",
      "['able', 'actually', 'added', 'aftertaste', 'ago', 'almost', 'already', 'alternative', 'although', 'amazing', 'amazon', 'anyone', 'anything', 'apple', 'arrived', 'available', 'awesome', 'baby', 'bar', 'bars', 'beans', 'believe', 'better', 'big', 'bitter', 'black', 'blend', 'bold', 'bowl', 'brands', 'breakfast', 'brew', 'brown', 'caffeine', 'cake', 'candy', 'canned', 'cannot', 'care', 'case', 'cheaper', 'cheese', 'chew', 'chicken', 'chips', 'chocolate', 'choice', 'cinnamon', 'cocoa', 'coffee', 'coffees', 'cold', 'color', 'come', 'comes', 'compared', 'container', 'cookies', 'cooking', 'cost', 'could', 'course', 'cream', 'crunchy', 'cups', 'daily', 'daughter', 'deal', 'decided', 'definitely', 'delicious', 'delivery', 'diet', 'difference', 'different', 'disappointed', 'dog', 'dogs', 'dried', 'drinking', 'drinks', 'dry', 'easily', 'eat', 'either', 'end', 'enjoy', 'enjoyed', 'etc', 'everyone', 'exactly', 'excellent', 'expensive', 'experience', 'family', 'fan', 'far', 'fast', 'fat', 'feed', 'feel', 'fiber', 'finally', 'first', 'fish', 'flavor', 'flavored', 'flour', 'food', 'foods', 'four', 'french', 'friend', 'friends', 'gave', 'gets', 'gift', 'ginger', 'give', 'giving', 'glad', 'gluten', 'goes', 'going', 'gone', 'grain', 'granola', 'green', 'grocery', 'ground', 'guess', 'gum', 'hair', 'half', 'hand', 'happy', 'hard', 'healthy', 'heat', 'help', 'high', 'highly', 'home', 'honey', 'hope', 'hours', 'house', 'huge', 'husband', 'ice', 'ingredient', 'instead', 'jar', 'juice', 'keurig', 'kind', 'least', 'left', 'lemon', 'let', 'life', 'light', 'like', 'liked', 'likes', 'line', 'list', 'live', 'local', 'look', 'looked', 'looking', 'loved', 'loves', 'low', 'machine', 'many', 'market', 'may', 'meal', 'meat', 'might', 'minutes', 'mixed', 'months', 'morning', 'mouth', 'much', 'natural', 'needed', 'new', 'next', 'night', 'non', 'noodles', 'nothing', 'nuts', 'often', 'old', 'ones', 'online', 'open', 'opened', 'orange', 'order', 'ordering', 'organic', 'original', 'others', 'overall', 'pack', 'packaged', 'packaging', 'part', 'past', 'pasta', 'pay', 'peanut', 'people', 'pepper', 'perfect', 'pieces', 'place', 'plain', 'pleased', 'plus', 'prefer', 'probably', 'problems', 'products', 'protein', 'purchase', 'quality', 'quick', 'quickly', 'quite', 'rather', 'reason', 'recently', 'recipe', 'recommend', 'red', 'review', 'reviews', 'rice', 'rich', 'roast', 'run', 'said', 'salt', 'salty', 'sauce', 'says', 'second', 'see', 'seem', 'seems', 'service', 'serving', 'shipping', 'side', 'similar', 'simply', 'single', 'size', 'slightly', 'small', 'smaller', 'smooth', 'snack', 'snacks', 'soda', 'someone', 'something', 'sometimes', 'soup', 'soy', 'special', 'spice', 'spicy', 'starbucks', 'stars', 'start', 'started', 'stick', 'store', 'stores', 'subscribe', 'sugar', 'super', 'surprised', 'take', 'tastes', 'tasting', 'tasty', 'teeth', 'tell', 'texture', 'thank', 'thanks', 'thing', 'things', 'though', 'three', 'times', 'top', 'tried', 'trying', 'two', 'type', 'us', 'version', 'wanted', 'water', 'way', 'week', 'weeks', 'went', 'wheat', 'white', 'whole', 'wife', 'wish', 'wonderful', 'works', 'worth', 'year', 'years', 'yes', 'yet', 'yummy']\n"
     ]
    }
   ],
   "source": [
    "feat = vectorizer.get_feature_names()\n",
    "print(\"No of features have weight changes greater than 30%: \", percentage_change_vector[np.where(percentage_change_vector > 30)].size)\n",
    "fe=[]\n",
    "print(\"\\ncollinear features are  :\")\n",
    "for i in np.where(percentage_change_vector > 1)[1]:\n",
    "    fe.append(feat[i])\n",
    "print(fe)\n",
    " "
   ]
  },
  {
   "cell_type": "code",
   "execution_count": 243,
   "metadata": {},
   "outputs": [
    {
     "name": "stdout",
     "output_type": "stream",
     "text": [
      "0 th percentile :  0.013428872363584931\n",
      "10 th percentile :  0.3774116085177026\n",
      "20 th percentile :  0.697804242923374\n",
      "30 th percentile :  0.9233637864705805\n",
      "40 th percentile :  1.1362068754828873\n",
      "50 th percentile :  1.3431337469014863\n",
      "60 th percentile :  1.5986589368506539\n",
      "70 th percentile :  1.9457369935720714\n",
      "80 th percentile :  2.3428249702073187\n",
      "90 th percentile :  3.313082637600024\n",
      "100 th percentile :  82.51198275414353\n"
     ]
    },
    {
     "data": {
      "text/plain": [
       "[<matplotlib.lines.Line2D at 0x1a4742f0f0>]"
      ]
     },
     "execution_count": 243,
     "metadata": {},
     "output_type": "execute_result"
    },
    {
     "data": {
      "image/png": "[encoded data removed]",
      "text/plain": [
       "<Figure size 432x288 with 1 Axes>"
      ]
     },
     "metadata": {
      "needs_background": "light"
     },
     "output_type": "display_data"
    }
   ],
   "source": [
    "t = range(0,101,10)\n",
    "for i in t:\n",
    "    print(i, \"th percentile : \",np.percentile(percentage_change_vector,i))\n",
    "\n",
    "plt.plot(t,np.percentile(percentage_change_vector,t) )"
   ]
  },
  {
   "cell_type": "code",
   "execution_count": 244,
   "metadata": {},
   "outputs": [
    {
     "name": "stdout",
     "output_type": "stream",
     "text": [
      "99.0 th percentile :  19.63632149985406\n",
      "99.11111111111111 th percentile :  31.68439678888494\n",
      "99.22222222222223 th percentile :  41.535800817665084\n",
      "99.33333333333333 th percentile :  43.339586771510895\n",
      "99.44444444444444 th percentile :  45.06761464189339\n",
      "99.55555555555556 th percentile :  46.68699433404016\n",
      "99.66666666666667 th percentile :  54.62190417904557\n",
      "99.77777777777777 th percentile :  66.64210745626136\n",
      "99.88888888888889 th percentile :  75.02188514028092\n",
      "100.0 th percentile :  82.51198275414353\n"
     ]
    },
    {
     "data": {
      "text/plain": [
       "[<matplotlib.lines.Line2D at 0x1a44599a20>]"
      ]
     },
     "execution_count": 244,
     "metadata": {},
     "output_type": "execute_result"
    },
    {
     "data": {
      "image/png": "[encoded data removed]",
      "text/plain": [
       "<Figure size 432x288 with 1 Axes>"
      ]
     },
     "metadata": {
      "needs_background": "light"
     },
     "output_type": "display_data"
    }
   ],
   "source": [
    "t = np.linspace(99,100,10)\n",
    "for i in t:\n",
    "    print(i, \"th percentile : \",np.percentile(percentage_change_vector,i))\n",
    "\n",
    "plt.plot(t,np.percentile(percentage_change_vector,t) )"
   ]
  },
  {
   "cell_type": "markdown",
   "metadata": {
    "colab_type": "text",
    "id": "eB1rF0BQLPpG"
   },
   "source": [
    "### [5.1.3] Feature Importance on BOW,<font color='red'> SET 1</font>"
   ]
  },
  {
   "cell_type": "markdown",
   "metadata": {
    "colab_type": "text",
    "id": "JZTP19dqLPpI"
   },
   "source": [
    "#### [5.1.3.1] Top 10 important features of positive class from<font color='red'> SET 1</font>"
   ]
  },
  {
   "cell_type": "code",
   "execution_count": 245,
   "metadata": {
    "colab": {},
    "colab_type": "code",
    "id": "oGRpCVJgLPpI"
   },
   "outputs": [],
   "source": [
    "# Please write all the code with proper documentation\n",
    "all_features = vectorizer.get_feature_names()\n",
    "\n",
    "def most_informative_features(vectorizer, lr, n= 25):\n",
    "    feature_names = all_features\n",
    "    coefs_with_fns = sorted(zip(lr.coef_[0], feature_names))\n",
    "    top = zip(coefs_with_fns[:(n + 1): -1], coefs_with_fns[:n])\n",
    "    print(\"\\t\\tPositive\\t\\t\\t\\t\\tNegative\")\n",
    "    print(\"_________________________________________________________________________________ \\n\")\n",
    "    for (coef_1, fn_2), (coef_2, fn_1) in top:\n",
    "        print(\"\\t%.4f\\t%-15s\\t\\t\\t\\t%.4f\\t%-15s\" % (coef_1, fn_2, coef_2, fn_1))\n",
    " \n"
   ]
  },
  {
   "cell_type": "code",
   "execution_count": 246,
   "metadata": {},
   "outputs": [
    {
     "name": "stdout",
     "output_type": "stream",
     "text": [
      "\t\tPositive\t\t\t\t\tNegative\n",
      "_________________________________________________________________________________ \n",
      "\n",
      "\t1.8518\tamazing        \t\t\t\t-1.5299\tdisappointed   \n",
      "\t1.6625\tperfect        \t\t\t\t-1.2900\tmoney          \n",
      "\t1.6435\texcellent      \t\t\t\t-1.0010\tstick          \n",
      "\t1.5841\tdelicious      \t\t\t\t-0.7998\taway           \n",
      "\t1.5318\tpleased        \t\t\t\t-0.7797\tthought        \n",
      "\t1.4619\thighly         \t\t\t\t-0.7468\tnothing        \n",
      "\t1.4241\tsmooth         \t\t\t\t-0.7252\tguess          \n",
      "\t1.3956\twonderful      \t\t\t\t-0.6910\tbad            \n",
      "\t1.2573\tyummy          \t\t\t\t-0.6908\trather         \n",
      "\t1.2346\tawesome        \t\t\t\t-0.6460\topened         \n",
      "\t1.2338\tloves          \t\t\t\t-0.6136\treviews        \n",
      "\t1.2224\tglad           \t\t\t\t-0.6096\ttasted         \n",
      "\t1.2101\tgreat          \t\t\t\t-0.5683\treceived       \n",
      "\t1.1767\tsurprised      \t\t\t\t-0.5632\tleft           \n",
      "\t1.1650\tbest           \t\t\t\t-0.5628\tservice        \n",
      "\t1.1544\tthank          \t\t\t\t-0.5375\tlooked         \n",
      "\t1.0184\ttasty          \t\t\t\t-0.5335\tcannot         \n",
      "\t1.0117\texactly        \t\t\t\t-0.5204\tmaybe          \n",
      "\t1.0067\tnice           \t\t\t\t-0.5130\tinstead        \n",
      "\t0.9683\tstores         \t\t\t\t-0.5098\tbought         \n",
      "\t0.9572\tthanks         \t\t\t\t-0.5019\tbitter         \n",
      "\t0.9096\tdefinitely     \t\t\t\t-0.4868\tgave           \n",
      "\t0.9057\thappy          \t\t\t\t-0.4864\teven           \n",
      "\t0.8527\teasy           \t\t\t\t-0.4828\taftertaste     \n",
      "\t0.8428\tworks          \t\t\t\t-0.4777\tingredient     \n"
     ]
    }
   ],
   "source": [
    "most_informative_features(X_train_bow,lr)"
   ]
  },
  {
   "cell_type": "markdown",
   "metadata": {
    "colab_type": "text",
    "id": "UJLYBE1gLPpJ"
   },
   "source": [
    "#### [5.1.3.2] Top 10 important features of negative class from<font color='red'> SET 1</font>"
   ]
  },
  {
   "cell_type": "code",
   "execution_count": 247,
   "metadata": {
    "colab": {},
    "colab_type": "code",
    "id": "c9r7Zjx1LPpK"
   },
   "outputs": [
    {
     "name": "stdout",
     "output_type": "stream",
     "text": [
      "\t\tPositive\t\t\t\t\tNegative\n",
      "_________________________________________________________________________________ \n",
      "\n",
      "\t1.8518\tamazing        \t\t\t\t-1.5299\tdisappointed   \n",
      "\t1.6625\tperfect        \t\t\t\t-1.2900\tmoney          \n",
      "\t1.6435\texcellent      \t\t\t\t-1.0010\tstick          \n",
      "\t1.5841\tdelicious      \t\t\t\t-0.7998\taway           \n",
      "\t1.5318\tpleased        \t\t\t\t-0.7797\tthought        \n",
      "\t1.4619\thighly         \t\t\t\t-0.7468\tnothing        \n",
      "\t1.4241\tsmooth         \t\t\t\t-0.7252\tguess          \n",
      "\t1.3956\twonderful      \t\t\t\t-0.6910\tbad            \n",
      "\t1.2573\tyummy          \t\t\t\t-0.6908\trather         \n",
      "\t1.2346\tawesome        \t\t\t\t-0.6460\topened         \n",
      "\t1.2338\tloves          \t\t\t\t-0.6136\treviews        \n",
      "\t1.2224\tglad           \t\t\t\t-0.6096\ttasted         \n",
      "\t1.2101\tgreat          \t\t\t\t-0.5683\treceived       \n",
      "\t1.1767\tsurprised      \t\t\t\t-0.5632\tleft           \n",
      "\t1.1650\tbest           \t\t\t\t-0.5628\tservice        \n",
      "\t1.1544\tthank          \t\t\t\t-0.5375\tlooked         \n",
      "\t1.0184\ttasty          \t\t\t\t-0.5335\tcannot         \n",
      "\t1.0117\texactly        \t\t\t\t-0.5204\tmaybe          \n",
      "\t1.0067\tnice           \t\t\t\t-0.5130\tinstead        \n",
      "\t0.9683\tstores         \t\t\t\t-0.5098\tbought         \n",
      "\t0.9572\tthanks         \t\t\t\t-0.5019\tbitter         \n",
      "\t0.9096\tdefinitely     \t\t\t\t-0.4868\tgave           \n",
      "\t0.9057\thappy          \t\t\t\t-0.4864\teven           \n",
      "\t0.8527\teasy           \t\t\t\t-0.4828\taftertaste     \n",
      "\t0.8428\tworks          \t\t\t\t-0.4777\tingredient     \n"
     ]
    }
   ],
   "source": [
    "# Please write all the code with proper documentation\n",
    "most_informative_features(X_train_bow,lr) "
   ]
  },
  {
   "cell_type": "markdown",
   "metadata": {
    "colab_type": "text",
    "id": "nKn3VXcZLPpN"
   },
   "source": [
    "## [5.2] Logistic Regression on TFIDF,<font color='red'> SET 2</font>"
   ]
  },
  {
   "cell_type": "markdown",
   "metadata": {
    "colab_type": "text",
    "id": "naTBSzm6LPpN"
   },
   "source": [
    "### [5.2.1] Applying Logistic Regression with L1 regularization on TFIDF,<font color='red'> SET 2</font>"
   ]
  },
  {
   "cell_type": "code",
   "execution_count": 248,
   "metadata": {},
   "outputs": [
    {
     "name": "stderr",
     "output_type": "stream",
     "text": [
      "100%|██████████| 7/7 [00:02<00:00,  3.18it/s]\n"
     ]
    },
    {
     "data": {
      "image/png": "[encoded data removed]",
      "text/plain": [
       "<Figure size 432x288 with 1 Axes>"
      ]
     },
     "metadata": {
      "needs_background": "light"
     },
     "output_type": "display_data"
    },
    {
     "name": "stdout",
     "output_type": "stream",
     "text": [
      "--------------------------\n",
      "Cv auc scores with penalty L1\n",
      "[0.7149699199648194, 0.8623288923876233, 0.8972410900489787, 0.896310926469845, 0.8960070373236244, 0.8959738297314899, 0.8959698161300508]\n",
      "Maximun Auc value : 0.8972410900489787\n",
      "Index 2\n",
      "The optimal value of Lambda =  0.1\n"
     ]
    },
    {
     "data": {
      "image/png": "[encoded data removed]",
      "text/plain": [
       "<Figure size 432x288 with 1 Axes>"
      ]
     },
     "metadata": {
      "needs_background": "light"
     },
     "output_type": "display_data"
    },
    {
     "name": "stdout",
     "output_type": "stream",
     "text": [
      "Train confusion matrix\n",
      "[[ 6174  1081]\n",
      " [ 6539 31096]]\n",
      "Test confusion matrix\n",
      "[[ 4191   917]\n",
      " [ 4831 23061]]\n"
     ]
    },
    {
     "data": {
      "image/png": "[encoded data removed]",
      "text/plain": [
       "<Figure size 360x216 with 2 Axes>"
      ]
     },
     "metadata": {
      "needs_background": "light"
     },
     "output_type": "display_data"
    }
   ],
   "source": [
    "lr_all(X_train_tfidf,y_train,X_cv_tfidf,'l1')"
   ]
  },
  {
   "cell_type": "markdown",
   "metadata": {
    "colab_type": "text",
    "id": "NdFShHQJLPpV"
   },
   "source": [
    "### [5.2.2] Applying Logistic Regression with L2 regularization on TFIDF,<font color='red'> SET 2</font>"
   ]
  },
  {
   "cell_type": "code",
   "execution_count": 249,
   "metadata": {},
   "outputs": [
    {
     "name": "stderr",
     "output_type": "stream",
     "text": [
      "100%|██████████| 7/7 [00:04<00:00,  1.46it/s]\n"
     ]
    },
    {
     "data": {
      "image/png": "[encoded data removed]",
      "text/plain": [
       "<Figure size 432x288 with 1 Axes>"
      ]
     },
     "metadata": {
      "needs_background": "light"
     },
     "output_type": "display_data"
    },
    {
     "name": "stdout",
     "output_type": "stream",
     "text": [
      "--------------------------\n",
      "Cv auc scores with penalty L2\n",
      "[0.8686668268851596, 0.8946634880571093, 0.8969706221466804, 0.8961376090875506, 0.8959898841372461, 0.8959746232952724, 0.895973127732759]\n",
      "Maximun Auc value : 0.8969706221466804\n",
      "Index 2\n",
      "The optimal value of Lambda =  0.1\n"
     ]
    },
    {
     "data": {
      "image/png": "[encoded data removed]",
      "text/plain": [
       "<Figure size 432x288 with 1 Axes>"
      ]
     },
     "metadata": {
      "needs_background": "light"
     },
     "output_type": "display_data"
    },
    {
     "name": "stdout",
     "output_type": "stream",
     "text": [
      "Train confusion matrix\n",
      "[[ 6162  1093]\n",
      " [ 6475 31160]]\n",
      "Test confusion matrix\n",
      "[[ 4192   916]\n",
      " [ 4798 23094]]\n"
     ]
    },
    {
     "data": {
      "image/png": "[encoded data removed]",
      "text/plain": [
       "<Figure size 360x216 with 2 Axes>"
      ]
     },
     "metadata": {
      "needs_background": "light"
     },
     "output_type": "display_data"
    }
   ],
   "source": [
    "all_lr(X_train_tfidf,y_train,X_cv_tfidf,'l2')"
   ]
  },
  {
   "cell_type": "markdown",
   "metadata": {
    "colab_type": "text",
    "id": "xeeJ8eVvLPpX"
   },
   "source": [
    "### [5.2.3] Feature Importance on TFIDF,<font color='red'> SET 2</font>"
   ]
  },
  {
   "cell_type": "markdown",
   "metadata": {
    "colab_type": "text",
    "id": "Cj9XEmqQLPpY"
   },
   "source": [
    "#### [5.2.3.1] Top 10 important features of positive class from<font color='red'> SET 2</font>"
   ]
  },
  {
   "cell_type": "code",
   "execution_count": 250,
   "metadata": {
    "colab": {},
    "colab_type": "code",
    "id": "RG10txygLPpb"
   },
   "outputs": [],
   "source": [
    "# Please write all the code with proper documentation\n",
    "\n",
    "\n",
    "# Please write all the code with proper documentation\n",
    "all_features = tf_idf_vect.get_feature_names()\n",
    "\n",
    "def most_informative_features(tf_idf_vect, lr, n= 25):\n",
    "    feature_names = all_features\n",
    "    coefs_with_fns = sorted(zip(lr.coef_[0], feature_names))\n",
    "    top = zip(coefs_with_fns[:(n + 1): -1], coefs_with_fns[:n])\n",
    "    print(\"\\t\\tPositive\\t\\t\\t\\t\\tNegative\")\n",
    "    print(\"_________________________________________________________________________________ \\n\")\n",
    "    for (coef_1, fn_2), (coef_2, fn_1) in top:\n",
    "        print(\"\\t%.4f\\t%-15s\\t\\t\\t\\t%.4f\\t%-15s\" % (coef_1, fn_2, coef_2, fn_1))"
   ]
  },
  {
   "cell_type": "code",
   "execution_count": 251,
   "metadata": {},
   "outputs": [
    {
     "name": "stdout",
     "output_type": "stream",
     "text": [
      "\t\tPositive\t\t\t\t\tNegative\n",
      "_________________________________________________________________________________ \n",
      "\n",
      "\t1.8518\tamount         \t\t\t\t-1.5299\tdrinking       \n",
      "\t1.6625\tpieces         \t\t\t\t-1.2900\tnever          \n",
      "\t1.6435\tfan            \t\t\t\t-1.0010\tstores         \n",
      "\t1.5841\tdog            \t\t\t\t-0.7998\tbaby           \n",
      "\t1.5318\tplus           \t\t\t\t-0.7797\tthree          \n",
      "\t1.4619\thouse          \t\t\t\t-0.7468\tnuts           \n",
      "\t1.4241\tsmooth         \t\t\t\t-0.7252\thappy          \n",
      "\t1.3956\twork           \t\t\t\t-0.6910\tbags           \n",
      "\t1.2573\tyummy          \t\t\t\t-0.6908\tread           \n",
      "\t1.2346\tback           \t\t\t\t-0.6460\torange         \n",
      "\t1.2338\tmaybe          \t\t\t\t-0.6136\treview         \n",
      "\t1.2224\tgot            \t\t\t\t-0.6096\ttastes like    \n",
      "\t1.2101\tgum            \t\t\t\t-0.5683\treason         \n",
      "\t1.1767\ttake           \t\t\t\t-0.5632\tlikes          \n",
      "\t1.1650\tbig            \t\t\t\t-0.5628\tservice        \n",
      "\t1.1544\tthanks         \t\t\t\t-0.5375\tmakes          \n",
      "\t1.0184\ttea            \t\t\t\t-0.5335\tcats           \n",
      "\t1.0117\tfamily         \t\t\t\t-0.5204\tmonths         \n",
      "\t1.0067\tnot good       \t\t\t\t-0.5130\tkind           \n",
      "\t0.9683\tsubscribe      \t\t\t\t-0.5098\tboxes          \n",
      "\t0.9572\tthing          \t\t\t\t-0.5019\tbold           \n",
      "\t0.9096\tdisappointed   \t\t\t\t-0.4868\tgiving         \n",
      "\t0.9057\thelp           \t\t\t\t-0.4864\texcellent      \n",
      "\t0.8527\tend            \t\t\t\t-0.4828\tago            \n",
      "\t0.8428\tworth          \t\t\t\t-0.4777\tkeurig         \n"
     ]
    }
   ],
   "source": [
    "most_informative_features(X_train_tfidf,lr) "
   ]
  },
  {
   "cell_type": "markdown",
   "metadata": {
    "colab_type": "text",
    "id": "PowEfns4LPpg"
   },
   "source": [
    "#### [5.2.3.2] Top 10 important features of negative class from<font color='red'> SET 2</font>"
   ]
  },
  {
   "cell_type": "code",
   "execution_count": 252,
   "metadata": {
    "colab": {},
    "colab_type": "code",
    "id": "G7jrma95LPpg"
   },
   "outputs": [
    {
     "name": "stdout",
     "output_type": "stream",
     "text": [
      "\t\tPositive\t\t\t\t\tNegative\n",
      "_________________________________________________________________________________ \n",
      "\n",
      "\t1.8518\tamount         \t\t\t\t-1.5299\tdrinking       \n",
      "\t1.6625\tpieces         \t\t\t\t-1.2900\tnever          \n",
      "\t1.6435\tfan            \t\t\t\t-1.0010\tstores         \n",
      "\t1.5841\tdog            \t\t\t\t-0.7998\tbaby           \n",
      "\t1.5318\tplus           \t\t\t\t-0.7797\tthree          \n",
      "\t1.4619\thouse          \t\t\t\t-0.7468\tnuts           \n",
      "\t1.4241\tsmooth         \t\t\t\t-0.7252\thappy          \n",
      "\t1.3956\twork           \t\t\t\t-0.6910\tbags           \n",
      "\t1.2573\tyummy          \t\t\t\t-0.6908\tread           \n",
      "\t1.2346\tback           \t\t\t\t-0.6460\torange         \n",
      "\t1.2338\tmaybe          \t\t\t\t-0.6136\treview         \n",
      "\t1.2224\tgot            \t\t\t\t-0.6096\ttastes like    \n",
      "\t1.2101\tgum            \t\t\t\t-0.5683\treason         \n",
      "\t1.1767\ttake           \t\t\t\t-0.5632\tlikes          \n",
      "\t1.1650\tbig            \t\t\t\t-0.5628\tservice        \n",
      "\t1.1544\tthanks         \t\t\t\t-0.5375\tmakes          \n",
      "\t1.0184\ttea            \t\t\t\t-0.5335\tcats           \n",
      "\t1.0117\tfamily         \t\t\t\t-0.5204\tmonths         \n",
      "\t1.0067\tnot good       \t\t\t\t-0.5130\tkind           \n",
      "\t0.9683\tsubscribe      \t\t\t\t-0.5098\tboxes          \n",
      "\t0.9572\tthing          \t\t\t\t-0.5019\tbold           \n",
      "\t0.9096\tdisappointed   \t\t\t\t-0.4868\tgiving         \n",
      "\t0.9057\thelp           \t\t\t\t-0.4864\texcellent      \n",
      "\t0.8527\tend            \t\t\t\t-0.4828\tago            \n",
      "\t0.8428\tworth          \t\t\t\t-0.4777\tkeurig         \n"
     ]
    }
   ],
   "source": [
    "# Please write all the code with proper documentation\n",
    "most_informative_features(X_train_tfidf,lr) "
   ]
  },
  {
   "cell_type": "markdown",
   "metadata": {
    "colab_type": "text",
    "id": "sqYadGOgLPpi"
   },
   "source": [
    "## [5.3] Logistic Regression on AVG W2V,<font color='red'> SET 3</font>"
   ]
  },
  {
   "cell_type": "markdown",
   "metadata": {
    "colab_type": "text",
    "id": "kByBCEA1LPpj"
   },
   "source": [
    "### [5.3.1] Applying Logistic Regression with L1 regularization on AVG W2V<font color='red'> SET 3</font>"
   ]
  },
  {
   "cell_type": "code",
   "execution_count": 253,
   "metadata": {
    "colab": {},
    "colab_type": "code",
    "id": "yCQ_4iJkLPpj"
   },
   "outputs": [
    {
     "name": "stderr",
     "output_type": "stream",
     "text": [
      "100%|██████████| 7/7 [00:02<00:00,  3.00it/s]\n"
     ]
    },
    {
     "data": {
      "image/png": "[encoded data removed]",
      "text/plain": [
       "<Figure size 432x288 with 1 Axes>"
      ]
     },
     "metadata": {
      "needs_background": "light"
     },
     "output_type": "display_data"
    },
    {
     "name": "stdout",
     "output_type": "stream",
     "text": [
      "--------------------------\n",
      "Cv auc scores with penalty L1\n",
      "[0.7149699199648194, 0.8623289381701493, 0.8972420820037071, 0.8963110790782647, 0.8960064421507873, 0.8959732498194948, 0.8959688241753225]\n",
      "Maximun Auc value : 0.8972420820037071\n",
      "Index 2\n",
      "The optimal value of Lambda =  0.1\n"
     ]
    },
    {
     "data": {
      "image/png": "[encoded data removed]",
      "text/plain": [
       "<Figure size 432x288 with 1 Axes>"
      ]
     },
     "metadata": {
      "needs_background": "light"
     },
     "output_type": "display_data"
    },
    {
     "name": "stdout",
     "output_type": "stream",
     "text": [
      "Train confusion matrix\n",
      "[[ 6174  1081]\n",
      " [ 6539 31096]]\n",
      "Test confusion matrix\n",
      "[[ 4191   917]\n",
      " [ 4831 23061]]\n"
     ]
    },
    {
     "data": {
      "image/png": "[encoded data removed]",
      "text/plain": [
       "<Figure size 360x216 with 2 Axes>"
      ]
     },
     "metadata": {
      "needs_background": "light"
     },
     "output_type": "display_data"
    }
   ],
   "source": [
    "# Please write all the code with proper documentation\n",
    "\n",
    "lr_all(train_vectors,y_train,X_cv,'l1')"
   ]
  },
  {
   "cell_type": "markdown",
   "metadata": {
    "colab_type": "text",
    "id": "O_8Gu2SfLPpn"
   },
   "source": [
    "### [5.3.2] Applying Logistic Regression with L2 regularization on AVG W2V,<font color='red'> SET 3</font>"
   ]
  },
  {
   "cell_type": "code",
   "execution_count": 254,
   "metadata": {
    "colab": {},
    "colab_type": "code",
    "id": "Zy3s4jk1LPpn"
   },
   "outputs": [
    {
     "name": "stderr",
     "output_type": "stream",
     "text": [
      "100%|██████████| 7/7 [00:04<00:00,  1.43it/s]\n"
     ]
    },
    {
     "data": {
      "image/png": "[encoded data removed]",
      "text/plain": [
       "<Figure size 432x288 with 1 Axes>"
      ]
     },
     "metadata": {
      "needs_background": "light"
     },
     "output_type": "display_data"
    },
    {
     "name": "stdout",
     "output_type": "stream",
     "text": [
      "--------------------------\n",
      "Cv auc scores with penalty L2\n",
      "[0.8686668268851596, 0.8946634880571093, 0.8969706221466804, 0.8961376090875506, 0.8959898841372461, 0.8959746232952724, 0.895973127732759]\n",
      "Maximun Auc value : 0.8969706221466804\n",
      "Index 2\n",
      "The optimal value of Lambda =  0.1\n"
     ]
    },
    {
     "data": {
      "image/png": "[encoded data removed]",
      "text/plain": [
       "<Figure size 432x288 with 1 Axes>"
      ]
     },
     "metadata": {
      "needs_background": "light"
     },
     "output_type": "display_data"
    },
    {
     "name": "stdout",
     "output_type": "stream",
     "text": [
      "Train confusion matrix\n",
      "[[ 6162  1093]\n",
      " [ 6475 31160]]\n",
      "Test confusion matrix\n",
      "[[ 4192   916]\n",
      " [ 4798 23094]]\n"
     ]
    },
    {
     "data": {
      "image/png": "[encoded data removed]",
      "text/plain": [
       "<Figure size 360x216 with 2 Axes>"
      ]
     },
     "metadata": {
      "needs_background": "light"
     },
     "output_type": "display_data"
    }
   ],
   "source": [
    "# Please write all the code with proper documentation\n",
    "all_lr(train_vectors,y_train,X_cv,'l2')"
   ]
  },
  {
   "cell_type": "markdown",
   "metadata": {
    "colab_type": "text",
    "id": "pdXTwVIPLPpp"
   },
   "source": [
    "## [5.4] Logistic Regression on TFIDF W2V,<font color='red'> SET 4</font>"
   ]
  },
  {
   "cell_type": "markdown",
   "metadata": {
    "colab_type": "text",
    "id": "WP9NjwNSLPpp"
   },
   "source": [
    "### [5.4.1] Applying Logistic Regression with L1 regularization on TFIDF W2V,<font color='red'> SET 4</font>"
   ]
  },
  {
   "cell_type": "code",
   "execution_count": 255,
   "metadata": {
    "colab": {},
    "colab_type": "code",
    "id": "207gYymwLPpq"
   },
   "outputs": [
    {
     "name": "stderr",
     "output_type": "stream",
     "text": [
      "100%|██████████| 7/7 [00:02<00:00,  2.70it/s]\n"
     ]
    },
    {
     "data": {
      "image/png": "[encoded data removed]",
      "text/plain": [
       "<Figure size 432x288 with 1 Axes>"
      ]
     },
     "metadata": {
      "needs_background": "light"
     },
     "output_type": "display_data"
    },
    {
     "name": "stdout",
     "output_type": "stream",
     "text": [
      "--------------------------\n",
      "Cv auc scores with penalty L1\n",
      "[0.7149699199648194, 0.8623300979941393, 0.897239838659937, 0.8963122846847806, 0.8960067473676269, 0.8959728377767614, 0.8959698161300507]\n",
      "Maximun Auc value : 0.897239838659937\n",
      "Index 2\n",
      "The optimal value of Lambda =  0.1\n"
     ]
    },
    {
     "data": {
      "image/png": "[encoded data removed]",
      "text/plain": [
       "<Figure size 432x288 with 1 Axes>"
      ]
     },
     "metadata": {
      "needs_background": "light"
     },
     "output_type": "display_data"
    },
    {
     "name": "stdout",
     "output_type": "stream",
     "text": [
      "Train confusion matrix\n",
      "[[ 6174  1081]\n",
      " [ 6539 31096]]\n",
      "Test confusion matrix\n",
      "[[ 4191   917]\n",
      " [ 4831 23061]]\n"
     ]
    },
    {
     "data": {
      "image/png": "[encoded data removed]",
      "text/plain": [
       "<Figure size 360x216 with 2 Axes>"
      ]
     },
     "metadata": {
      "needs_background": "light"
     },
     "output_type": "display_data"
    }
   ],
   "source": [
    "# Please write all the code with proper documentation\n",
    "lr_all(tfidf_train_vectors,y_train,X_cv,'l1')"
   ]
  },
  {
   "cell_type": "markdown",
   "metadata": {
    "colab_type": "text",
    "id": "ynUK2tYDLPps"
   },
   "source": [
    "### [5.4.2] Applying Logistic Regression with L2 regularization on TFIDF W2V,<font color='red'> SET 4</font>"
   ]
  },
  {
   "cell_type": "code",
   "execution_count": 256,
   "metadata": {
    "colab": {},
    "colab_type": "code",
    "id": "hVYuiXl2LPpt"
   },
   "outputs": [
    {
     "name": "stderr",
     "output_type": "stream",
     "text": [
      "100%|██████████| 7/7 [00:04<00:00,  1.54it/s]\n"
     ]
    },
    {
     "data": {
      "image/png": "[encoded data removed]",
      "text/plain": [
       "<Figure size 432x288 with 1 Axes>"
      ]
     },
     "metadata": {
      "needs_background": "light"
     },
     "output_type": "display_data"
    },
    {
     "name": "stdout",
     "output_type": "stream",
     "text": [
      "--------------------------\n",
      "Cv auc scores with penalty L2\n",
      "[0.8686668268851596, 0.8946634880571093, 0.8969706221466804, 0.8961376090875506, 0.8959898841372461, 0.8959746232952724, 0.895973127732759]\n",
      "Maximun Auc value : 0.8969706221466804\n",
      "Index 2\n",
      "The optimal value of Lambda =  0.1\n"
     ]
    },
    {
     "data": {
      "image/png": "[encoded data removed]",
      "text/plain": [
       "<Figure size 432x288 with 1 Axes>"
      ]
     },
     "metadata": {
      "needs_background": "light"
     },
     "output_type": "display_data"
    },
    {
     "name": "stdout",
     "output_type": "stream",
     "text": [
      "Train confusion matrix\n",
      "[[ 6162  1093]\n",
      " [ 6475 31160]]\n",
      "Test confusion matrix\n",
      "[[ 4192   916]\n",
      " [ 4798 23094]]\n"
     ]
    },
    {
     "data": {
      "image/png": "[encoded data removed]",
      "text/plain": [
       "<Figure size 360x216 with 2 Axes>"
      ]
     },
     "metadata": {
      "needs_background": "light"
     },
     "output_type": "display_data"
    }
   ],
   "source": [
    "# Please write all the code with proper documentation\n",
    "\n",
    "all_lr(tfidf_train_vectors,y_train,X_cv,'l2')"
   ]
  },
  {
   "cell_type": "markdown",
   "metadata": {
    "colab_type": "text",
    "id": "nOvsBNf2LPpv"
   },
   "source": [
    "# [6] Conclusions"
   ]
  },
  {
   "cell_type": "code",
   "execution_count": 257,
   "metadata": {
    "colab": {},
    "colab_type": "code",
    "id": "T7VxD0q2LPpw"
   },
   "outputs": [
    {
     "name": "stdout",
     "output_type": "stream",
     "text": [
      "+-------+--------------+-----------------+------+\n",
      "| S.NO. |    MODEL     | Hyper Parameter | AUC  |\n",
      "+-------+--------------+-----------------+------+\n",
      "|   1   | Bag of Words |       0.1       | 0.89 |\n",
      "|   2   | Bag of Words |       0.1       | 0.89 |\n",
      "|   3   |    TFIDF     |       0.1       | 0.89 |\n",
      "|   4   |    TFIDF     |       0.1       | 0.89 |\n",
      "|   5   |   AVG W2V    |       0.1       | 0.89 |\n",
      "|   6   |   AVG W2V    |       0.1       | 0.89 |\n",
      "|   7   |  TFIDF W2V   |       0.1       | 0.89 |\n",
      "|   8   |  TFIDF W2V   |       0.1       | 0.89 |\n",
      "+-------+--------------+-----------------+------+\n"
     ]
    }
   ],
   "source": [
    "# Please compare all your models using Prettytable library\n",
    "from prettytable import PrettyTable\n",
    "\n",
    "# Names of models\n",
    "Vectorizer = ['Bag of Words','Bag of Words','TFIDF ','TFIDF ','AVG W2V','AVG W2V','TFIDF W2V','TFIDF W2V' ]\n",
    "\n",
    "\n",
    "Param=[0.1, 0.1,0.1,0.1,0.1, 0.1,0.1, 0.1]\n",
    "\n",
    "auc =[0.89,0.89,0.89,0.89,0.89,0.89,0.89,0.89]\n",
    " \n",
    "numbering = [1,2,3,4,5,6,7,8]\n",
    "\n",
    "# Initializing prettytable\n",
    "ptable = PrettyTable()\n",
    "\n",
    "# Adding columns\n",
    "ptable.add_column(\"S.NO.\",numbering) \n",
    "ptable.add_column(\"MODEL\",Vectorizer)\n",
    " \n",
    "ptable.add_column(\"Hyper Parameter\",Param)\n",
    "ptable.add_column(\"AUC\",auc)\n",
    " \n",
    "\n",
    "print(ptable)"
   ]
  },
  {
   "cell_type": "markdown",
   "metadata": {},
   "source": [
    "### Conclution \n",
    "\n",
    "This LR classifier is faster than some of the previous models.\n",
    "TFIDF and BOW  both L1 and L2 gave 89% AUC value.\n",
    "The model can be improved  by taking more data points, and by taking some other features that may provide us with better insight about the data."
   ]
  }
 ],
 "metadata": {
  "colab": {
   "name": "05 Amazon Fine Food Reviews Analysis_Logistic Regression.ipynb",
   "provenance": [],
   "version": "0.3.2"
  },
  "kernelspec": {
   "display_name": "Python 3",
   "language": "python",
   "name": "python3"
  },
  "language_info": {
   "codemirror_mode": {
    "name": "ipython",
    "version": 3
   },
   "file_extension": ".py",
   "mimetype": "text/x-python",
   "name": "python",
   "nbconvert_exporter": "python",
   "pygments_lexer": "ipython3",
   "version": "3.7.1"
  }
 },
 "nbformat": 4,
 "nbformat_minor": 1
}
