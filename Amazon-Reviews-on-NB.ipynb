{
 "cells": [
  {
   "cell_type": "markdown",
   "metadata": {
    "_uuid": "1f4f6d07087c42c7f23d3faa47f80ad761ce7118",
    "colab_type": "text",
    "id": "uQCawNx8oD-b"
   },
   "source": [
    "# Amazon Fine Food Reviews Analysis\n",
    "\n",
    "\n",
    "Data Source: https://www.kaggle.com/snap/amazon-fine-food-reviews <br>\n",
    "\n",
    "EDA: https://nycdatascience.com/blog/student-works/amazon-fine-foods-visualization/\n",
    "\n",
    "\n",
    "The Amazon Fine Food Reviews dataset consists of reviews of fine foods from Amazon.<br>\n",
    "\n",
    "Number of reviews: 568,454<br>\n",
    "Number of users: 256,059<br>\n",
    "Number of products: 74,258<br>\n",
    "Timespan: Oct 1999 - Oct 2012<br>\n",
    "Number of Attributes/Columns in data: 10 \n",
    "\n",
    "Attribute Information:\n",
    "\n",
    "1. Id\n",
    "2. ProductId - unique identifier for the product\n",
    "3. UserId - unqiue identifier for the user\n",
    "4. ProfileName\n",
    "5. HelpfulnessNumerator - number of users who found the review helpful\n",
    "6. HelpfulnessDenominator - number of users who indicated whether they found the review helpful or not\n",
    "7. Score - rating between 1 and 5\n",
    "8. Time - timestamp for the review\n",
    "9. Summary - brief summary of the review\n",
    "10. Text - text of the review\n",
    "\n",
    "\n",
    "#### Objective:\n",
    "Given a review, determine whether the review is positive (rating of 4 or 5) or negative (rating of 1 or 2).\n",
    "\n",
    "<br>\n",
    "[Q] How to determine if a review is positive or negative?<br>\n",
    "<br> \n",
    "[Ans] We could use Score/Rating. A rating of 4 or 5 can be cosnidered as a positive review. A rating of 1 or 2 can be considered as negative one. A review of rating 3 is considered nuetral and such reviews are ignored from our analysis. This is an approximate and proxy way of determining the polarity (positivity/negativity) of a review.\n",
    "\n",
    "\n"
   ]
  },
  {
   "cell_type": "markdown",
   "metadata": {
    "_uuid": "08eb8f2929e6672dc52baa29fd275fd9006146fa",
    "colab_type": "text",
    "id": "lrNh1pNNoD-d"
   },
   "source": [
    "# [1]. Reading Data"
   ]
  },
  {
   "cell_type": "markdown",
   "metadata": {
    "_uuid": "4f2aa5a849ac0201027c0ed7a55ddbe54176ae8a",
    "colab_type": "text",
    "id": "V7VZ4onjoD-f"
   },
   "source": [
    "## [1.1] Loading the data\n",
    "\n",
    "The dataset is available in two forms\n",
    "1. .csv file\n",
    "2. SQLite Database\n",
    "\n",
    "In order to load the data, We have used the SQLITE dataset as it is easier to query the data and visualise the data efficiently.\n",
    "<br> \n",
    "\n",
    "Here as we only want to get the global sentiment of the recommendations (positive or negative), we will purposefully ignore all Scores equal to 3. If the score is above 3, then the recommendation wil be set to \"positive\". Otherwise, it will be set to \"negative\"."
   ]
  },
  {
   "cell_type": "code",
   "execution_count": 1,
   "metadata": {
    "_uuid": "64254e89a6784d67fa735909e3bb61769ac43fff",
    "colab": {},
    "colab_type": "code",
    "id": "wjfxYK6GoD-g"
   },
   "outputs": [],
   "source": [
    "%matplotlib inline\n",
    "import warnings\n",
    "warnings.filterwarnings(\"ignore\")\n",
    "\n",
    "import sqlite3\n",
    "import pandas as pd\n",
    "import numpy as np\n",
    "import nltk\n",
    "import string\n",
    "import matplotlib.pyplot as plt\n",
    "import seaborn as sns\n",
    "from sklearn.feature_extraction.text import TfidfTransformer\n",
    "from sklearn.feature_extraction.text import TfidfVectorizer\n",
    "\n",
    "from sklearn.feature_extraction.text import CountVectorizer\n",
    "from sklearn.metrics import confusion_matrix\n",
    "from sklearn import metrics\n",
    "from sklearn.metrics import roc_curve, auc\n",
    "from nltk.stem.porter import PorterStemmer\n",
    "\n",
    "import re\n",
    "# Tutorial about Python regular expressions: https://pymotw.com/2/re/\n",
    "import string\n",
    "from nltk.corpus import stopwords\n",
    "from nltk.stem import PorterStemmer\n",
    "from nltk.stem.wordnet import WordNetLemmatizer\n",
    "\n",
    "from gensim.models import Word2Vec\n",
    "from gensim.models import KeyedVectors\n",
    "import pickle\n",
    "from sklearn.neighbors import KNeighborsClassifier\n",
    "from sklearn.neighbors import NearestNeighbors\n",
    "from sklearn.naive_bayes import BernoulliNB,MultinomialNB\n",
    "from sklearn.feature_extraction.text import CountVectorizer\n",
    "from sklearn.metrics import confusion_matrix\n",
    "from sklearn import metrics\n",
    "from sklearn.metrics import roc_curve, auc\n",
    "\n",
    "\n",
    "from sklearn.metrics import confusion_matrix,precision_score,recall_score,f1_score,roc_auc_score,accuracy_score\n",
    "\n",
    "from tqdm import tqdm\n",
    "import os"
   ]
  },
  {
   "cell_type": "code",
   "execution_count": 2,
   "metadata": {
    "_uuid": "aae82728dabc540013b8fcff37cfff7c06d52281",
    "colab": {
     "base_uri": "https://localhost:8080/",
     "height": 425
    },
    "colab_type": "code",
    "id": "M_GRO7fNoD-k",
    "outputId": "28dcc926-644e-4c0c-96b3-da055bcbf668"
   },
   "outputs": [
    {
     "name": "stdout",
     "output_type": "stream",
     "text": [
      "Number of data points in our data (200000, 10)\n"
     ]
    },
    {
     "data": {
      "text/html": [
       "<div>\n",
       "<style scoped>\n",
       "    .dataframe tbody tr th:only-of-type {\n",
       "        vertical-align: middle;\n",
       "    }\n",
       "\n",
       "    .dataframe tbody tr th {\n",
       "        vertical-align: top;\n",
       "    }\n",
       "\n",
       "    .dataframe thead th {\n",
       "        text-align: right;\n",
       "    }\n",
       "</style>\n",
       "<table border=\"1\" class=\"dataframe\">\n",
       "  <thead>\n",
       "    <tr style=\"text-align: right;\">\n",
       "      <th></th>\n",
       "      <th>Id</th>\n",
       "      <th>ProductId</th>\n",
       "      <th>UserId</th>\n",
       "      <th>ProfileName</th>\n",
       "      <th>HelpfulnessNumerator</th>\n",
       "      <th>HelpfulnessDenominator</th>\n",
       "      <th>Score</th>\n",
       "      <th>Time</th>\n",
       "      <th>Summary</th>\n",
       "      <th>Text</th>\n",
       "    </tr>\n",
       "  </thead>\n",
       "  <tbody>\n",
       "    <tr>\n",
       "      <th>0</th>\n",
       "      <td>1</td>\n",
       "      <td>B001E4KFG0</td>\n",
       "      <td>A3SGXH7AUHU8GW</td>\n",
       "      <td>delmartian</td>\n",
       "      <td>1</td>\n",
       "      <td>1</td>\n",
       "      <td>1</td>\n",
       "      <td>1303862400</td>\n",
       "      <td>Good Quality Dog Food</td>\n",
       "      <td>I have bought several of the Vitality canned d...</td>\n",
       "    </tr>\n",
       "    <tr>\n",
       "      <th>1</th>\n",
       "      <td>2</td>\n",
       "      <td>B00813GRG4</td>\n",
       "      <td>A1D87F6ZCVE5NK</td>\n",
       "      <td>dll pa</td>\n",
       "      <td>0</td>\n",
       "      <td>0</td>\n",
       "      <td>0</td>\n",
       "      <td>1346976000</td>\n",
       "      <td>Not as Advertised</td>\n",
       "      <td>Product arrived labeled as Jumbo Salted Peanut...</td>\n",
       "    </tr>\n",
       "    <tr>\n",
       "      <th>2</th>\n",
       "      <td>3</td>\n",
       "      <td>B000LQOCH0</td>\n",
       "      <td>ABXLMWJIXXAIN</td>\n",
       "      <td>Natalia Corres \"Natalia Corres\"</td>\n",
       "      <td>1</td>\n",
       "      <td>1</td>\n",
       "      <td>1</td>\n",
       "      <td>1219017600</td>\n",
       "      <td>\"Delight\" says it all</td>\n",
       "      <td>This is a confection that has been around a fe...</td>\n",
       "    </tr>\n",
       "  </tbody>\n",
       "</table>\n",
       "</div>"
      ],
      "text/plain": [
       "   Id   ProductId          UserId                      ProfileName  \\\n",
       "0   1  B001E4KFG0  A3SGXH7AUHU8GW                       delmartian   \n",
       "1   2  B00813GRG4  A1D87F6ZCVE5NK                           dll pa   \n",
       "2   3  B000LQOCH0   ABXLMWJIXXAIN  Natalia Corres \"Natalia Corres\"   \n",
       "\n",
       "   HelpfulnessNumerator  HelpfulnessDenominator  Score        Time  \\\n",
       "0                     1                       1      1  1303862400   \n",
       "1                     0                       0      0  1346976000   \n",
       "2                     1                       1      1  1219017600   \n",
       "\n",
       "                 Summary                                               Text  \n",
       "0  Good Quality Dog Food  I have bought several of the Vitality canned d...  \n",
       "1      Not as Advertised  Product arrived labeled as Jumbo Salted Peanut...  \n",
       "2  \"Delight\" says it all  This is a confection that has been around a fe...  "
      ]
     },
     "execution_count": 2,
     "metadata": {},
     "output_type": "execute_result"
    }
   ],
   "source": [
    "# using SQLite Table to read data.\n",
    "con = sqlite3.connect('database.sqlite') \n",
    "\n",
    "# filtering only positive and negative reviews i.e. \n",
    "# not taking into consideration those reviews with Score=3\n",
    "# SELECT * FROM Reviews WHERE Score != 3 LIMIT 500000, will give top 500000 data points\n",
    "# you can change the number to any other number based on your computing power\n",
    "\n",
    "# filtered_data = pd.read_sql_query(\"\"\" SELECT * FROM Reviews WHERE Score != 3 LIMIT 500000\"\"\", con) \n",
    "# for tsne assignment you can take 5k data points\n",
    "\n",
    "filtered_data = pd.read_sql_query(\"\"\" SELECT * FROM Reviews WHERE Score != 3 LIMIT 200000\"\"\", con) \n",
    "\n",
    "# Give reviews with Score>3 a positive rating(1), and reviews with a score<3 a negative rating(0).\n",
    "def partition(x):\n",
    "    if x < 3:\n",
    "        return 0\n",
    "    return 1\n",
    "\n",
    "#changing reviews with score less than 3 to be positive and vice-versa\n",
    "actualScore = filtered_data['Score']\n",
    "positiveNegative = actualScore.map(partition) \n",
    "filtered_data['Score'] = positiveNegative\n",
    "print(\"Number of data points in our data\", filtered_data.shape)\n",
    "filtered_data.head(3)"
   ]
  },
  {
   "cell_type": "code",
   "execution_count": 3,
   "metadata": {
    "_uuid": "ce0a8dee5c1c0294c28ade0c6aee4ddb99152713",
    "colab": {},
    "colab_type": "code",
    "id": "OwARD9GFoD-p"
   },
   "outputs": [],
   "source": [
    "display = pd.read_sql_query(\"\"\"\n",
    "SELECT UserId, ProductId, ProfileName, Time, Score, Text, COUNT(*)\n",
    "FROM Reviews\n",
    "GROUP BY UserId\n",
    "HAVING COUNT(*)>1\n",
    "\"\"\", con)"
   ]
  },
  {
   "cell_type": "code",
   "execution_count": 4,
   "metadata": {
    "_uuid": "99538054660f9625b4f5ecba374739d12ce400e7",
    "colab": {
     "base_uri": "https://localhost:8080/",
     "height": 551
    },
    "colab_type": "code",
    "id": "l-jiKr-7oD-s",
    "outputId": "581c27c5-edc8-4608-e96d-f12726b9c662",
    "scrolled": true
   },
   "outputs": [
    {
     "name": "stdout",
     "output_type": "stream",
     "text": [
      "(80668, 7)\n"
     ]
    },
    {
     "data": {
      "text/html": [
       "<div>\n",
       "<style scoped>\n",
       "    .dataframe tbody tr th:only-of-type {\n",
       "        vertical-align: middle;\n",
       "    }\n",
       "\n",
       "    .dataframe tbody tr th {\n",
       "        vertical-align: top;\n",
       "    }\n",
       "\n",
       "    .dataframe thead th {\n",
       "        text-align: right;\n",
       "    }\n",
       "</style>\n",
       "<table border=\"1\" class=\"dataframe\">\n",
       "  <thead>\n",
       "    <tr style=\"text-align: right;\">\n",
       "      <th></th>\n",
       "      <th>UserId</th>\n",
       "      <th>ProductId</th>\n",
       "      <th>ProfileName</th>\n",
       "      <th>Time</th>\n",
       "      <th>Score</th>\n",
       "      <th>Text</th>\n",
       "      <th>COUNT(*)</th>\n",
       "    </tr>\n",
       "  </thead>\n",
       "  <tbody>\n",
       "    <tr>\n",
       "      <th>0</th>\n",
       "      <td>#oc-R115TNMSPFT9I7</td>\n",
       "      <td>B005ZBZLT4</td>\n",
       "      <td>Breyton</td>\n",
       "      <td>1331510400</td>\n",
       "      <td>2</td>\n",
       "      <td>Overall its just OK when considering the price...</td>\n",
       "      <td>2</td>\n",
       "    </tr>\n",
       "    <tr>\n",
       "      <th>1</th>\n",
       "      <td>#oc-R11D9D7SHXIJB9</td>\n",
       "      <td>B005HG9ESG</td>\n",
       "      <td>Louis E. Emory \"hoppy\"</td>\n",
       "      <td>1342396800</td>\n",
       "      <td>5</td>\n",
       "      <td>My wife has recurring extreme muscle spasms, u...</td>\n",
       "      <td>3</td>\n",
       "    </tr>\n",
       "    <tr>\n",
       "      <th>2</th>\n",
       "      <td>#oc-R11DNU2NBKQ23Z</td>\n",
       "      <td>B005ZBZLT4</td>\n",
       "      <td>Kim Cieszykowski</td>\n",
       "      <td>1348531200</td>\n",
       "      <td>1</td>\n",
       "      <td>This coffee is horrible and unfortunately not ...</td>\n",
       "      <td>2</td>\n",
       "    </tr>\n",
       "    <tr>\n",
       "      <th>3</th>\n",
       "      <td>#oc-R11O5J5ZVQE25C</td>\n",
       "      <td>B005HG9ESG</td>\n",
       "      <td>Penguin Chick</td>\n",
       "      <td>1346889600</td>\n",
       "      <td>5</td>\n",
       "      <td>This will be the bottle that you grab from the...</td>\n",
       "      <td>3</td>\n",
       "    </tr>\n",
       "    <tr>\n",
       "      <th>4</th>\n",
       "      <td>#oc-R12KPBODL2B5ZD</td>\n",
       "      <td>B007OSBEV0</td>\n",
       "      <td>Christopher P. Presta</td>\n",
       "      <td>1348617600</td>\n",
       "      <td>1</td>\n",
       "      <td>I didnt like this coffee. Instead of telling y...</td>\n",
       "      <td>2</td>\n",
       "    </tr>\n",
       "  </tbody>\n",
       "</table>\n",
       "</div>"
      ],
      "text/plain": [
       "               UserId   ProductId             ProfileName        Time  Score  \\\n",
       "0  #oc-R115TNMSPFT9I7  B005ZBZLT4                 Breyton  1331510400      2   \n",
       "1  #oc-R11D9D7SHXIJB9  B005HG9ESG  Louis E. Emory \"hoppy\"  1342396800      5   \n",
       "2  #oc-R11DNU2NBKQ23Z  B005ZBZLT4        Kim Cieszykowski  1348531200      1   \n",
       "3  #oc-R11O5J5ZVQE25C  B005HG9ESG           Penguin Chick  1346889600      5   \n",
       "4  #oc-R12KPBODL2B5ZD  B007OSBEV0   Christopher P. Presta  1348617600      1   \n",
       "\n",
       "                                                Text  COUNT(*)  \n",
       "0  Overall its just OK when considering the price...         2  \n",
       "1  My wife has recurring extreme muscle spasms, u...         3  \n",
       "2  This coffee is horrible and unfortunately not ...         2  \n",
       "3  This will be the bottle that you grab from the...         3  \n",
       "4  I didnt like this coffee. Instead of telling y...         2  "
      ]
     },
     "execution_count": 4,
     "metadata": {},
     "output_type": "execute_result"
    }
   ],
   "source": [
    "print(display.shape)\n",
    "display.head()"
   ]
  },
  {
   "cell_type": "code",
   "execution_count": 5,
   "metadata": {
    "_kg_hide-input": true,
    "_kg_hide-output": true,
    "_uuid": "2339a4dd81097e7f1610ee47347133064cee579c",
    "colab": {
     "base_uri": "https://localhost:8080/",
     "height": 164
    },
    "colab_type": "code",
    "id": "Bpa1OJK8oD-w",
    "outputId": "bc34e76d-6568-4a91-ed1e-2ba29d3dec44"
   },
   "outputs": [
    {
     "data": {
      "text/html": [
       "<div>\n",
       "<style scoped>\n",
       "    .dataframe tbody tr th:only-of-type {\n",
       "        vertical-align: middle;\n",
       "    }\n",
       "\n",
       "    .dataframe tbody tr th {\n",
       "        vertical-align: top;\n",
       "    }\n",
       "\n",
       "    .dataframe thead th {\n",
       "        text-align: right;\n",
       "    }\n",
       "</style>\n",
       "<table border=\"1\" class=\"dataframe\">\n",
       "  <thead>\n",
       "    <tr style=\"text-align: right;\">\n",
       "      <th></th>\n",
       "      <th>UserId</th>\n",
       "      <th>ProductId</th>\n",
       "      <th>ProfileName</th>\n",
       "      <th>Time</th>\n",
       "      <th>Score</th>\n",
       "      <th>Text</th>\n",
       "      <th>COUNT(*)</th>\n",
       "    </tr>\n",
       "  </thead>\n",
       "  <tbody>\n",
       "    <tr>\n",
       "      <th>80638</th>\n",
       "      <td>AZY10LLTJ71NX</td>\n",
       "      <td>B001ATMQK2</td>\n",
       "      <td>undertheshrine \"undertheshrine\"</td>\n",
       "      <td>1296691200</td>\n",
       "      <td>5</td>\n",
       "      <td>I bought this 6 pack because for the price tha...</td>\n",
       "      <td>5</td>\n",
       "    </tr>\n",
       "  </tbody>\n",
       "</table>\n",
       "</div>"
      ],
      "text/plain": [
       "              UserId   ProductId                      ProfileName        Time  \\\n",
       "80638  AZY10LLTJ71NX  B001ATMQK2  undertheshrine \"undertheshrine\"  1296691200   \n",
       "\n",
       "       Score                                               Text  COUNT(*)  \n",
       "80638      5  I bought this 6 pack because for the price tha...         5  "
      ]
     },
     "execution_count": 5,
     "metadata": {},
     "output_type": "execute_result"
    }
   ],
   "source": [
    "display[display['UserId']=='AZY10LLTJ71NX']"
   ]
  },
  {
   "cell_type": "code",
   "execution_count": 6,
   "metadata": {
    "_uuid": "269d96ff9dc2bb175034a0a85c5188fb5b7eeb00",
    "colab": {
     "base_uri": "https://localhost:8080/",
     "height": 34
    },
    "colab_type": "code",
    "id": "43pFh6k2oD-z",
    "outputId": "ab0abd18-4166-4ed1-d64e-c940bc1ffb17"
   },
   "outputs": [
    {
     "data": {
      "text/plain": [
       "393063"
      ]
     },
     "execution_count": 6,
     "metadata": {},
     "output_type": "execute_result"
    }
   ],
   "source": [
    "display['COUNT(*)'].sum()"
   ]
  },
  {
   "cell_type": "markdown",
   "metadata": {
    "_uuid": "719511321738b84dd7790fc23cbec7fa79656461",
    "colab_type": "text",
    "id": "5m9TSalDoD-2"
   },
   "source": [
    "#  [2] Exploratory Data Analysis"
   ]
  },
  {
   "cell_type": "markdown",
   "metadata": {
    "_uuid": "1c15769af8f320e171a67d6dc2aa66f76244ae59",
    "colab_type": "text",
    "id": "NHwObEmOoD-3"
   },
   "source": [
    "## [2.1] Data Cleaning: Deduplication\n",
    "\n",
    "It is observed (as shown in the table below) that the reviews data had many duplicate entries. Hence it was necessary to remove duplicates in order to get unbiased results for the analysis of the data.  Following is an example:"
   ]
  },
  {
   "cell_type": "code",
   "execution_count": 7,
   "metadata": {
    "_uuid": "8f7747f06990a9198e1209ec461bc0d26e1594b0",
    "colab": {
     "base_uri": "https://localhost:8080/",
     "height": 551
    },
    "colab_type": "code",
    "id": "JCenYNtioD-4",
    "outputId": "19a65c5b-0ad6-4e96-c54b-0ea1058af81b",
    "scrolled": false
   },
   "outputs": [
    {
     "data": {
      "text/html": [
       "<div>\n",
       "<style scoped>\n",
       "    .dataframe tbody tr th:only-of-type {\n",
       "        vertical-align: middle;\n",
       "    }\n",
       "\n",
       "    .dataframe tbody tr th {\n",
       "        vertical-align: top;\n",
       "    }\n",
       "\n",
       "    .dataframe thead th {\n",
       "        text-align: right;\n",
       "    }\n",
       "</style>\n",
       "<table border=\"1\" class=\"dataframe\">\n",
       "  <thead>\n",
       "    <tr style=\"text-align: right;\">\n",
       "      <th></th>\n",
       "      <th>Id</th>\n",
       "      <th>ProductId</th>\n",
       "      <th>UserId</th>\n",
       "      <th>ProfileName</th>\n",
       "      <th>HelpfulnessNumerator</th>\n",
       "      <th>HelpfulnessDenominator</th>\n",
       "      <th>Score</th>\n",
       "      <th>Time</th>\n",
       "      <th>Summary</th>\n",
       "      <th>Text</th>\n",
       "    </tr>\n",
       "  </thead>\n",
       "  <tbody>\n",
       "    <tr>\n",
       "      <th>0</th>\n",
       "      <td>78445</td>\n",
       "      <td>B000HDL1RQ</td>\n",
       "      <td>AR5J8UI46CURR</td>\n",
       "      <td>Geetha Krishnan</td>\n",
       "      <td>2</td>\n",
       "      <td>2</td>\n",
       "      <td>5</td>\n",
       "      <td>1199577600</td>\n",
       "      <td>LOACKER QUADRATINI VANILLA WAFERS</td>\n",
       "      <td>DELICIOUS WAFERS. I FIND THAT EUROPEAN WAFERS ...</td>\n",
       "    </tr>\n",
       "    <tr>\n",
       "      <th>1</th>\n",
       "      <td>138317</td>\n",
       "      <td>B000HDOPYC</td>\n",
       "      <td>AR5J8UI46CURR</td>\n",
       "      <td>Geetha Krishnan</td>\n",
       "      <td>2</td>\n",
       "      <td>2</td>\n",
       "      <td>5</td>\n",
       "      <td>1199577600</td>\n",
       "      <td>LOACKER QUADRATINI VANILLA WAFERS</td>\n",
       "      <td>DELICIOUS WAFERS. I FIND THAT EUROPEAN WAFERS ...</td>\n",
       "    </tr>\n",
       "    <tr>\n",
       "      <th>2</th>\n",
       "      <td>138277</td>\n",
       "      <td>B000HDOPYM</td>\n",
       "      <td>AR5J8UI46CURR</td>\n",
       "      <td>Geetha Krishnan</td>\n",
       "      <td>2</td>\n",
       "      <td>2</td>\n",
       "      <td>5</td>\n",
       "      <td>1199577600</td>\n",
       "      <td>LOACKER QUADRATINI VANILLA WAFERS</td>\n",
       "      <td>DELICIOUS WAFERS. I FIND THAT EUROPEAN WAFERS ...</td>\n",
       "    </tr>\n",
       "    <tr>\n",
       "      <th>3</th>\n",
       "      <td>73791</td>\n",
       "      <td>B000HDOPZG</td>\n",
       "      <td>AR5J8UI46CURR</td>\n",
       "      <td>Geetha Krishnan</td>\n",
       "      <td>2</td>\n",
       "      <td>2</td>\n",
       "      <td>5</td>\n",
       "      <td>1199577600</td>\n",
       "      <td>LOACKER QUADRATINI VANILLA WAFERS</td>\n",
       "      <td>DELICIOUS WAFERS. I FIND THAT EUROPEAN WAFERS ...</td>\n",
       "    </tr>\n",
       "    <tr>\n",
       "      <th>4</th>\n",
       "      <td>155049</td>\n",
       "      <td>B000PAQ75C</td>\n",
       "      <td>AR5J8UI46CURR</td>\n",
       "      <td>Geetha Krishnan</td>\n",
       "      <td>2</td>\n",
       "      <td>2</td>\n",
       "      <td>5</td>\n",
       "      <td>1199577600</td>\n",
       "      <td>LOACKER QUADRATINI VANILLA WAFERS</td>\n",
       "      <td>DELICIOUS WAFERS. I FIND THAT EUROPEAN WAFERS ...</td>\n",
       "    </tr>\n",
       "  </tbody>\n",
       "</table>\n",
       "</div>"
      ],
      "text/plain": [
       "       Id   ProductId         UserId      ProfileName  HelpfulnessNumerator  \\\n",
       "0   78445  B000HDL1RQ  AR5J8UI46CURR  Geetha Krishnan                     2   \n",
       "1  138317  B000HDOPYC  AR5J8UI46CURR  Geetha Krishnan                     2   \n",
       "2  138277  B000HDOPYM  AR5J8UI46CURR  Geetha Krishnan                     2   \n",
       "3   73791  B000HDOPZG  AR5J8UI46CURR  Geetha Krishnan                     2   \n",
       "4  155049  B000PAQ75C  AR5J8UI46CURR  Geetha Krishnan                     2   \n",
       "\n",
       "   HelpfulnessDenominator  Score        Time  \\\n",
       "0                       2      5  1199577600   \n",
       "1                       2      5  1199577600   \n",
       "2                       2      5  1199577600   \n",
       "3                       2      5  1199577600   \n",
       "4                       2      5  1199577600   \n",
       "\n",
       "                             Summary  \\\n",
       "0  LOACKER QUADRATINI VANILLA WAFERS   \n",
       "1  LOACKER QUADRATINI VANILLA WAFERS   \n",
       "2  LOACKER QUADRATINI VANILLA WAFERS   \n",
       "3  LOACKER QUADRATINI VANILLA WAFERS   \n",
       "4  LOACKER QUADRATINI VANILLA WAFERS   \n",
       "\n",
       "                                                Text  \n",
       "0  DELICIOUS WAFERS. I FIND THAT EUROPEAN WAFERS ...  \n",
       "1  DELICIOUS WAFERS. I FIND THAT EUROPEAN WAFERS ...  \n",
       "2  DELICIOUS WAFERS. I FIND THAT EUROPEAN WAFERS ...  \n",
       "3  DELICIOUS WAFERS. I FIND THAT EUROPEAN WAFERS ...  \n",
       "4  DELICIOUS WAFERS. I FIND THAT EUROPEAN WAFERS ...  "
      ]
     },
     "execution_count": 7,
     "metadata": {},
     "output_type": "execute_result"
    }
   ],
   "source": [
    "display= pd.read_sql_query(\"\"\"\n",
    "SELECT *\n",
    "FROM Reviews\n",
    "WHERE Score != 3 AND UserId=\"AR5J8UI46CURR\"\n",
    "ORDER BY ProductID\n",
    "\"\"\", con)\n",
    "display.head()"
   ]
  },
  {
   "cell_type": "markdown",
   "metadata": {
    "_uuid": "c669f827e7dac95a64c7351b9d16bc907d61597d",
    "colab_type": "text",
    "id": "wNZtj89_oD-7"
   },
   "source": [
    "As it can be seen above that same user has multiple reviews with same values for HelpfulnessNumerator, HelpfulnessDenominator, Score, Time, Summary and Text and on doing analysis it was found that <br>\n",
    "<br> \n",
    "ProductId=B000HDOPZG was Loacker Quadratini Vanilla Wafer Cookies, 8.82-Ounce Packages (Pack of 8)<br>\n",
    "<br> \n",
    "ProductId=B000HDL1RQ was Loacker Quadratini Lemon Wafer Cookies, 8.82-Ounce Packages (Pack of 8) and so on<br>\n",
    "\n",
    "It was inferred after analysis that reviews with same parameters other than ProductId belonged to the same product just having different flavour or quantity. Hence in order to reduce redundancy it was decided to eliminate the rows having same parameters.<br>\n",
    "\n",
    "The method used for the same was that we first sort the data according to ProductId and then just keep the first similar product review and delelte the others. for eg. in the above just the review for ProductId=B000HDL1RQ remains. This method ensures that there is only one representative for each product and deduplication without sorting would lead to possibility of different representatives still existing for the same product."
   ]
  },
  {
   "cell_type": "code",
   "execution_count": 8,
   "metadata": {
    "_uuid": "13f0dd777000d32ab94b55dbd6ef9bb8965e9e09",
    "colab": {},
    "colab_type": "code",
    "id": "dWEhyq0foD-8"
   },
   "outputs": [],
   "source": [
    "#Sorting data according to ProductId in ascending order\n",
    "sorted_data=filtered_data.sort_values('ProductId', axis=0, ascending=True, inplace=False, kind='quicksort', na_position='last')"
   ]
  },
  {
   "cell_type": "code",
   "execution_count": 9,
   "metadata": {
    "_uuid": "2bea44efd839119a59541df292dc77bde3cbf864",
    "colab": {
     "base_uri": "https://localhost:8080/",
     "height": 34
    },
    "colab_type": "code",
    "id": "BrKUBiAxoD-_",
    "outputId": "6cbf4109-0331-42ef-de64-f59c23ecd3c2"
   },
   "outputs": [
    {
     "data": {
      "text/plain": [
       "(160178, 10)"
      ]
     },
     "execution_count": 9,
     "metadata": {},
     "output_type": "execute_result"
    }
   ],
   "source": [
    "#Deduplication of entries\n",
    "final=sorted_data.drop_duplicates(subset={\"UserId\",\"ProfileName\",\"Time\",\"Text\"}, keep='first', inplace=False)\n",
    "final.shape"
   ]
  },
  {
   "cell_type": "code",
   "execution_count": 10,
   "metadata": {
    "_uuid": "38d47f23c76320f2682cdd359e2df4d898ef25b3",
    "colab": {
     "base_uri": "https://localhost:8080/",
     "height": 34
    },
    "colab_type": "code",
    "id": "7JZ_Gn_7oD_D",
    "outputId": "d10ffd82-74ba-488f-8bdc-25b999609f88"
   },
   "outputs": [
    {
     "data": {
      "text/plain": [
       "80.089"
      ]
     },
     "execution_count": 10,
     "metadata": {},
     "output_type": "execute_result"
    }
   ],
   "source": [
    "#Checking to see how much % of data still remains\n",
    "(final['Id'].size*1.0)/(filtered_data['Id'].size*1.0)*100"
   ]
  },
  {
   "cell_type": "markdown",
   "metadata": {
    "_uuid": "7eaa02ac743a92fe90d182caa8b8c67a2c72ad01",
    "colab_type": "text",
    "id": "AznpyUNPoD_I"
   },
   "source": [
    "<b>Observation:-</b> It was also seen that in two rows given below the value of HelpfulnessNumerator is greater than HelpfulnessDenominator which is not practically possible hence these two rows too are removed from calcualtions"
   ]
  },
  {
   "cell_type": "code",
   "execution_count": 11,
   "metadata": {
    "_uuid": "672fc4b21b52e396e03dff00b9a0527a14a7d88c",
    "colab": {
     "base_uri": "https://localhost:8080/",
     "height": 311
    },
    "colab_type": "code",
    "id": "X_FQv0GSoD_J",
    "outputId": "e6b2b59e-f9c5-475c-bda7-388ee2580337"
   },
   "outputs": [
    {
     "data": {
      "text/html": [
       "<div>\n",
       "<style scoped>\n",
       "    .dataframe tbody tr th:only-of-type {\n",
       "        vertical-align: middle;\n",
       "    }\n",
       "\n",
       "    .dataframe tbody tr th {\n",
       "        vertical-align: top;\n",
       "    }\n",
       "\n",
       "    .dataframe thead th {\n",
       "        text-align: right;\n",
       "    }\n",
       "</style>\n",
       "<table border=\"1\" class=\"dataframe\">\n",
       "  <thead>\n",
       "    <tr style=\"text-align: right;\">\n",
       "      <th></th>\n",
       "      <th>Id</th>\n",
       "      <th>ProductId</th>\n",
       "      <th>UserId</th>\n",
       "      <th>ProfileName</th>\n",
       "      <th>HelpfulnessNumerator</th>\n",
       "      <th>HelpfulnessDenominator</th>\n",
       "      <th>Score</th>\n",
       "      <th>Time</th>\n",
       "      <th>Summary</th>\n",
       "      <th>Text</th>\n",
       "    </tr>\n",
       "  </thead>\n",
       "  <tbody>\n",
       "    <tr>\n",
       "      <th>0</th>\n",
       "      <td>64422</td>\n",
       "      <td>B000MIDROQ</td>\n",
       "      <td>A161DK06JJMCYF</td>\n",
       "      <td>J. E. Stephens \"Jeanne\"</td>\n",
       "      <td>3</td>\n",
       "      <td>1</td>\n",
       "      <td>5</td>\n",
       "      <td>1224892800</td>\n",
       "      <td>Bought This for My Son at College</td>\n",
       "      <td>My son loves spaghetti so I didn't hesitate or...</td>\n",
       "    </tr>\n",
       "    <tr>\n",
       "      <th>1</th>\n",
       "      <td>44737</td>\n",
       "      <td>B001EQ55RW</td>\n",
       "      <td>A2V0I904FH7ABY</td>\n",
       "      <td>Ram</td>\n",
       "      <td>3</td>\n",
       "      <td>2</td>\n",
       "      <td>4</td>\n",
       "      <td>1212883200</td>\n",
       "      <td>Pure cocoa taste with crunchy almonds inside</td>\n",
       "      <td>It was almost a 'love at first bite' - the per...</td>\n",
       "    </tr>\n",
       "  </tbody>\n",
       "</table>\n",
       "</div>"
      ],
      "text/plain": [
       "      Id   ProductId          UserId              ProfileName  \\\n",
       "0  64422  B000MIDROQ  A161DK06JJMCYF  J. E. Stephens \"Jeanne\"   \n",
       "1  44737  B001EQ55RW  A2V0I904FH7ABY                      Ram   \n",
       "\n",
       "   HelpfulnessNumerator  HelpfulnessDenominator  Score        Time  \\\n",
       "0                     3                       1      5  1224892800   \n",
       "1                     3                       2      4  1212883200   \n",
       "\n",
       "                                        Summary  \\\n",
       "0             Bought This for My Son at College   \n",
       "1  Pure cocoa taste with crunchy almonds inside   \n",
       "\n",
       "                                                Text  \n",
       "0  My son loves spaghetti so I didn't hesitate or...  \n",
       "1  It was almost a 'love at first bite' - the per...  "
      ]
     },
     "execution_count": 11,
     "metadata": {},
     "output_type": "execute_result"
    }
   ],
   "source": [
    "display= pd.read_sql_query(\"\"\"\n",
    "SELECT *\n",
    "FROM Reviews\n",
    "WHERE Score != 3 AND Id=44737 OR Id=64422\n",
    "ORDER BY ProductID\n",
    "\"\"\", con)\n",
    "\n",
    "display.head()"
   ]
  },
  {
   "cell_type": "code",
   "execution_count": 12,
   "metadata": {
    "_uuid": "1949f1eab3ac2ab6b5862e073592bda72d2d3c6c",
    "colab": {},
    "colab_type": "code",
    "id": "O4ykyMO5oD_P"
   },
   "outputs": [],
   "source": [
    "final=final[final.HelpfulnessNumerator<=final.HelpfulnessDenominator]"
   ]
  },
  {
   "cell_type": "code",
   "execution_count": 13,
   "metadata": {
    "_uuid": "2938a3670abb14fd96093effafd7f66a3e6f55a8",
    "colab": {
     "base_uri": "https://localhost:8080/",
     "height": 84
    },
    "colab_type": "code",
    "id": "9KDRo1SLoD_T",
    "outputId": "c0d94be1-4c09-4bb1-aab1-99f920422f99"
   },
   "outputs": [
    {
     "name": "stdout",
     "output_type": "stream",
     "text": [
      "(160176, 10)\n"
     ]
    },
    {
     "data": {
      "text/plain": [
       "1    134799\n",
       "0     25377\n",
       "Name: Score, dtype: int64"
      ]
     },
     "execution_count": 13,
     "metadata": {},
     "output_type": "execute_result"
    }
   ],
   "source": [
    "#Before starting the next phase of preprocessing lets see the number of entries left\n",
    "print(final.shape)\n",
    "\n",
    "#How many positive and negative reviews are present in our dataset?\n",
    "final['Score'].value_counts()"
   ]
  },
  {
   "cell_type": "code",
   "execution_count": 14,
   "metadata": {
    "_uuid": "357e4fd0d374c58e87956d5d2bebff8a74ca606c",
    "colab": {
     "base_uri": "https://localhost:8080/",
     "height": 702
    },
    "colab_type": "code",
    "id": "gDh5PW2MoD_X",
    "outputId": "2f7290fd-3431-498b-8123-c1a4fe3e6323"
   },
   "outputs": [
    {
     "name": "stdout",
     "output_type": "stream",
     "text": [
      "(100000, 10)\n"
     ]
    },
    {
     "data": {
      "text/html": [
       "<div>\n",
       "<style scoped>\n",
       "    .dataframe tbody tr th:only-of-type {\n",
       "        vertical-align: middle;\n",
       "    }\n",
       "\n",
       "    .dataframe tbody tr th {\n",
       "        vertical-align: top;\n",
       "    }\n",
       "\n",
       "    .dataframe thead th {\n",
       "        text-align: right;\n",
       "    }\n",
       "</style>\n",
       "<table border=\"1\" class=\"dataframe\">\n",
       "  <thead>\n",
       "    <tr style=\"text-align: right;\">\n",
       "      <th></th>\n",
       "      <th>Id</th>\n",
       "      <th>ProductId</th>\n",
       "      <th>UserId</th>\n",
       "      <th>ProfileName</th>\n",
       "      <th>HelpfulnessNumerator</th>\n",
       "      <th>HelpfulnessDenominator</th>\n",
       "      <th>Score</th>\n",
       "      <th>Time</th>\n",
       "      <th>Summary</th>\n",
       "      <th>Text</th>\n",
       "    </tr>\n",
       "  </thead>\n",
       "  <tbody>\n",
       "    <tr>\n",
       "      <th>60400</th>\n",
       "      <td>65655</td>\n",
       "      <td>B00410JCD6</td>\n",
       "      <td>A1B5ULSP1Z2MIY</td>\n",
       "      <td>Brian Edwards \"B'More Bri\"</td>\n",
       "      <td>2</td>\n",
       "      <td>2</td>\n",
       "      <td>1</td>\n",
       "      <td>1286841600</td>\n",
       "      <td>Excellent</td>\n",
       "      <td>Peanuts and roasted red chilli peppers.  Defin...</td>\n",
       "    </tr>\n",
       "    <tr>\n",
       "      <th>190210</th>\n",
       "      <td>206255</td>\n",
       "      <td>B000GG0BLQ</td>\n",
       "      <td>AUICIB1WWCAQ7</td>\n",
       "      <td>Jukeman \"jukeman\"</td>\n",
       "      <td>0</td>\n",
       "      <td>0</td>\n",
       "      <td>1</td>\n",
       "      <td>1253750400</td>\n",
       "      <td>Astounding</td>\n",
       "      <td>The aroma is just incredible, the flavor is gr...</td>\n",
       "    </tr>\n",
       "    <tr>\n",
       "      <th>197612</th>\n",
       "      <td>214180</td>\n",
       "      <td>B000EXA92M</td>\n",
       "      <td>A2JFNQ0A8AFB4K</td>\n",
       "      <td>jwbems</td>\n",
       "      <td>0</td>\n",
       "      <td>0</td>\n",
       "      <td>0</td>\n",
       "      <td>1331424000</td>\n",
       "      <td>Very low quality chocolate</td>\n",
       "      <td>What a waste of money!!!!!! Based on other cus...</td>\n",
       "    </tr>\n",
       "    <tr>\n",
       "      <th>25315</th>\n",
       "      <td>27644</td>\n",
       "      <td>B000BF54MS</td>\n",
       "      <td>AXQIHSF9KK7CO</td>\n",
       "      <td>Dody</td>\n",
       "      <td>0</td>\n",
       "      <td>0</td>\n",
       "      <td>1</td>\n",
       "      <td>1213142400</td>\n",
       "      <td>Vegetarian Staple</td>\n",
       "      <td>Here is a product that is so handy.  It is ful...</td>\n",
       "    </tr>\n",
       "    <tr>\n",
       "      <th>34874</th>\n",
       "      <td>37936</td>\n",
       "      <td>B000F6SNPS</td>\n",
       "      <td>AYRDJVQ3KCCDD</td>\n",
       "      <td>Rebecca M. Abrams \"ramblinroz\"</td>\n",
       "      <td>2</td>\n",
       "      <td>2</td>\n",
       "      <td>0</td>\n",
       "      <td>1333238400</td>\n",
       "      <td>More on \"not natural\"</td>\n",
       "      <td>I purchased organic Good Earth (at a \"whole fo...</td>\n",
       "    </tr>\n",
       "  </tbody>\n",
       "</table>\n",
       "</div>"
      ],
      "text/plain": [
       "            Id   ProductId          UserId                     ProfileName  \\\n",
       "60400    65655  B00410JCD6  A1B5ULSP1Z2MIY      Brian Edwards \"B'More Bri\"   \n",
       "190210  206255  B000GG0BLQ   AUICIB1WWCAQ7               Jukeman \"jukeman\"   \n",
       "197612  214180  B000EXA92M  A2JFNQ0A8AFB4K                          jwbems   \n",
       "25315    27644  B000BF54MS   AXQIHSF9KK7CO                            Dody   \n",
       "34874    37936  B000F6SNPS   AYRDJVQ3KCCDD  Rebecca M. Abrams \"ramblinroz\"   \n",
       "\n",
       "        HelpfulnessNumerator  HelpfulnessDenominator  Score        Time  \\\n",
       "60400                      2                       2      1  1286841600   \n",
       "190210                     0                       0      1  1253750400   \n",
       "197612                     0                       0      0  1331424000   \n",
       "25315                      0                       0      1  1213142400   \n",
       "34874                      2                       2      0  1333238400   \n",
       "\n",
       "                           Summary  \\\n",
       "60400                    Excellent   \n",
       "190210                  Astounding   \n",
       "197612  Very low quality chocolate   \n",
       "25315            Vegetarian Staple   \n",
       "34874        More on \"not natural\"   \n",
       "\n",
       "                                                     Text  \n",
       "60400   Peanuts and roasted red chilli peppers.  Defin...  \n",
       "190210  The aroma is just incredible, the flavor is gr...  \n",
       "197612  What a waste of money!!!!!! Based on other cus...  \n",
       "25315   Here is a product that is so handy.  It is ful...  \n",
       "34874   I purchased organic Good Earth (at a \"whole fo...  "
      ]
     },
     "execution_count": 14,
     "metadata": {},
     "output_type": "execute_result"
    }
   ],
   "source": [
    "##Sorting data for Time Based Splitting\n",
    "time_sorted_data = final.sort_values('Time', axis=0, ascending=True, inplace=False, kind='quicksort', na_position='last')\n",
    "\n",
    "\n",
    "final = time_sorted_data.take(np.random.permutation(len(final))[:100000])\n",
    "print(final.shape)\n",
    "final.head()"
   ]
  },
  {
   "cell_type": "markdown",
   "metadata": {
    "_uuid": "c13cebd0b20519dff43b6f62a406ef751f839a58",
    "colab_type": "text",
    "id": "pd44pwAyoD_c"
   },
   "source": [
    "#  [3] Preprocessing"
   ]
  },
  {
   "cell_type": "markdown",
   "metadata": {
    "_uuid": "96e999e1bdd14dd867754373e6be8886cf8c09d8",
    "colab_type": "text",
    "id": "I9_34QjcoD_d"
   },
   "source": [
    "## [3.1].  Preprocessing Review Text\n",
    "\n",
    "Now that we have finished deduplication our data requires some preprocessing before we go on further with analysis and making the prediction model.\n",
    "\n",
    "Hence in the Preprocessing phase we do the following in the order below:-\n",
    "\n",
    "1. Begin by removing the html tags\n",
    "2. Remove any punctuations or limited set of special characters like , or . or # etc.\n",
    "3. Check if the word is made up of english letters and is not alpha-numeric\n",
    "4. Check to see if the length of the word is greater than 2 (as it was researched that there is no adjective in 2-letters)\n",
    "5. Convert the word to lowercase\n",
    "6. Remove Stopwords\n",
    "7. Finally Snowball Stemming the word (it was obsereved to be better than Porter Stemming)<br>\n",
    "\n",
    "After which we collect the words used to describe positive and negative reviews"
   ]
  },
  {
   "cell_type": "code",
   "execution_count": 15,
   "metadata": {
    "_uuid": "03b80bcca726e48460b5094c25078caa0914eaae",
    "colab": {
     "base_uri": "https://localhost:8080/",
     "height": 171
    },
    "colab_type": "code",
    "id": "h3YoBTm9oD_e",
    "outputId": "623d85e6-6f7a-42f0-f920-e5d7aa035d3f"
   },
   "outputs": [
    {
     "name": "stdout",
     "output_type": "stream",
     "text": [
      "Peanuts and roasted red chilli peppers.  Definitely spicy, but not unbearable.  Great flavor.  I highly recommend, you won't be disappointed.\n",
      "==================================================\n",
      "The dark chocolate chips are a perfect match to the light and crunchy granola. This leads to \"just right\" flavor out of the bag as a standalone snack. It also makes for a perfect topping for vanilla ice cream. This is big hit in my household. 5g of protein per 1/2 cup serving is a plus.\n",
      "==================================================\n",
      "Fancy Feast is good cat food but it's tricky for me to get the flavor my cat will<br />always eat since she is a gorgeous picky female.  This brand also comes in many different textures and the flaky version, as well as any type with gravy, neither of my cats will touch.<br />This particular Chicken Feast flavor is what they call the \"classic\" which is the usual<br />texture of cat food and the one both my cats like.  I found it difficult to say the least to pick out the correct texture when in the supermarket as there are so many different flavors and textures available and the cans are jumbled together so I had to fish through them trying to find ones marked \"classic\", so I prefer getting this by the case here on Amazon.<br /><br />Sheba does have slight allergies to certain cat foods, as do many cats.  They itch and can develop bumps under their chins or in the case of one poor cat I had, terrible bumps and systemic itching all over, with fur loss, if the exact right food isn't given to them. That cat had to get only Hill's hypoallergy formula food from the vet or he would be tortured by itching, bumps and fur loss.<br /><br />Also using only stainless steel bowls for food and water helps tremendously if your cat gets chin bumps. Even plastic dishes get bacteria that can cause itchy bumps under a cat's chin.<br />My cats love this chicken flavor and texture and it doesn't cause any allergy problems in Sheba so far.  She also has no itchy problem with Nutro dry cat food so I can recommend that one if your cat has a problem with itchy skin bumps.  In fact her fur is just incredibly gorgeous and she is a big fit muscular healthy cat, so I can recommend this highly.\n",
      "==================================================\n",
      "Very Natural flavor. Not loaded with sugars and other things not good for you. Has a fresh taste of orange/tangerine and the carbonation is great. Great taste. I enjoyed this product and would recommend.\n",
      "==================================================\n"
     ]
    }
   ],
   "source": [
    "# printing some random reviews\n",
    "sent_0 = final['Text'].values[0]\n",
    "print(sent_0)\n",
    "print(\"=\"*50)\n",
    "\n",
    "sent_1000 = final['Text'].values[1000]\n",
    "print(sent_1000)\n",
    "print(\"=\"*50)\n",
    "\n",
    "sent_1500 = final['Text'].values[1500]\n",
    "print(sent_1500)\n",
    "print(\"=\"*50)\n",
    "\n",
    "sent_4900 = final['Text'].values[4900]\n",
    "print(sent_4900)\n",
    "print(\"=\"*50)"
   ]
  },
  {
   "cell_type": "code",
   "execution_count": 16,
   "metadata": {
    "_uuid": "045de5974d80d92d41f45b13dfc63d68b54ee2b8",
    "colab": {
     "base_uri": "https://localhost:8080/",
     "height": 54
    },
    "colab_type": "code",
    "id": "Bg-bjG_6oD_k",
    "outputId": "913cfc2f-9d48-406b-dab8-b73d6f0de9a8"
   },
   "outputs": [
    {
     "name": "stdout",
     "output_type": "stream",
     "text": [
      "Peanuts and roasted red chilli peppers.  Definitely spicy, but not unbearable.  Great flavor.  I highly recommend, you won't be disappointed.\n"
     ]
    }
   ],
   "source": [
    "# remove urls from text python: https://stackoverflow.com/a/40823105/4084039\n",
    "sent_0 = re.sub(r\"http\\S+\", \"\", sent_0)\n",
    "sent_1000 = re.sub(r\"http\\S+\", \"\", sent_1000)\n",
    "sent_150 = re.sub(r\"http\\S+\", \"\", sent_1500)\n",
    "sent_4900 = re.sub(r\"http\\S+\", \"\", sent_4900)\n",
    "\n",
    "print(sent_0)"
   ]
  },
  {
   "cell_type": "code",
   "execution_count": 17,
   "metadata": {
    "_uuid": "6ad872aed5bf35bd5e3e8d3f772a75038f66e16f",
    "colab": {
     "base_uri": "https://localhost:8080/",
     "height": 154
    },
    "colab_type": "code",
    "id": "QK4FF3keoD_n",
    "outputId": "d6cf92c0-6865-4d44-d26b-6b8f4b7cfcd2"
   },
   "outputs": [
    {
     "name": "stdout",
     "output_type": "stream",
     "text": [
      "Peanuts and roasted red chilli peppers.  Definitely spicy, but not unbearable.  Great flavor.  I highly recommend, you won't be disappointed.\n",
      "==================================================\n",
      "The dark chocolate chips are a perfect match to the light and crunchy granola. This leads to \"just right\" flavor out of the bag as a standalone snack. It also makes for a perfect topping for vanilla ice cream. This is big hit in my household. 5g of protein per 1/2 cup serving is a plus.\n",
      "==================================================\n",
      "Fancy Feast is good cat food but it's tricky for me to get the flavor my cat willalways eat since she is a gorgeous picky female.  This brand also comes in many different textures and the flaky version, as well as any type with gravy, neither of my cats will touch.This particular Chicken Feast flavor is what they call the \"classic\" which is the usualtexture of cat food and the one both my cats like.  I found it difficult to say the least to pick out the correct texture when in the supermarket as there are so many different flavors and textures available and the cans are jumbled together so I had to fish through them trying to find ones marked \"classic\", so I prefer getting this by the case here on Amazon.Sheba does have slight allergies to certain cat foods, as do many cats.  They itch and can develop bumps under their chins or in the case of one poor cat I had, terrible bumps and systemic itching all over, with fur loss, if the exact right food isn't given to them. That cat had to get only Hill's hypoallergy formula food from the vet or he would be tortured by itching, bumps and fur loss.Also using only stainless steel bowls for food and water helps tremendously if your cat gets chin bumps. Even plastic dishes get bacteria that can cause itchy bumps under a cat's chin.My cats love this chicken flavor and texture and it doesn't cause any allergy problems in Sheba so far.  She also has no itchy problem with Nutro dry cat food so I can recommend that one if your cat has a problem with itchy skin bumps.  In fact her fur is just incredibly gorgeous and she is a big fit muscular healthy cat, so I can recommend this highly.\n",
      "==================================================\n",
      "Very Natural flavor. Not loaded with sugars and other things not good for you. Has a fresh taste of orange/tangerine and the carbonation is great. Great taste. I enjoyed this product and would recommend.\n"
     ]
    }
   ],
   "source": [
    "# https://stackoverflow.com/questions/16206380/python-beautifulsoup-how-to-remove-all-tags-from-an-element\n",
    "from bs4 import BeautifulSoup\n",
    "\n",
    "soup = BeautifulSoup(sent_0, 'lxml')\n",
    "text = soup.get_text()\n",
    "print(text)\n",
    "print(\"=\"*50)\n",
    "\n",
    "soup = BeautifulSoup(sent_1000, 'lxml')\n",
    "text = soup.get_text()\n",
    "print(text)\n",
    "print(\"=\"*50)\n",
    "\n",
    "soup = BeautifulSoup(sent_1500, 'lxml')\n",
    "text = soup.get_text()\n",
    "print(text)\n",
    "print(\"=\"*50)\n",
    "\n",
    "soup = BeautifulSoup(sent_4900, 'lxml')\n",
    "text = soup.get_text()\n",
    "print(text)"
   ]
  },
  {
   "cell_type": "code",
   "execution_count": 18,
   "metadata": {
    "_uuid": "61597ca5baea7b8cd5aa728b53646fe24ec37151",
    "colab": {},
    "colab_type": "code",
    "id": "hEEJKPwcoD_q"
   },
   "outputs": [],
   "source": [
    "# https://stackoverflow.com/a/47091490/4084039\n",
    "import re\n",
    "\n",
    "def decontracted(phrase):\n",
    "    # specific\n",
    "    phrase = re.sub(r\"won't\", \"will not\", phrase)\n",
    "    phrase = re.sub(r\"can\\'t\", \"can not\", phrase)\n",
    "\n",
    "    # general\n",
    "    phrase = re.sub(r\"n\\'t\", \" not\", phrase)\n",
    "    phrase = re.sub(r\"\\'re\", \" are\", phrase)\n",
    "    phrase = re.sub(r\"\\'s\", \" is\", phrase)\n",
    "    phrase = re.sub(r\"\\'d\", \" would\", phrase)\n",
    "    phrase = re.sub(r\"\\'ll\", \" will\", phrase)\n",
    "    phrase = re.sub(r\"\\'t\", \" not\", phrase)\n",
    "    phrase = re.sub(r\"\\'ve\", \" have\", phrase)\n",
    "    phrase = re.sub(r\"\\'m\", \" am\", phrase)\n",
    "    return phrase"
   ]
  },
  {
   "cell_type": "code",
   "execution_count": 19,
   "metadata": {
    "_uuid": "8c875da8143d1a5c6f8b9fb18dd3a65d32081108",
    "colab": {
     "base_uri": "https://localhost:8080/",
     "height": 70
    },
    "colab_type": "code",
    "id": "XjefHAsToD_t",
    "outputId": "49d57ef3-ef51-4e66-e07f-29ac4ce2d52b"
   },
   "outputs": [
    {
     "name": "stdout",
     "output_type": "stream",
     "text": [
      "Fancy Feast is good cat food but it is tricky for me to get the flavor my cat will<br />always eat since she is a gorgeous picky female.  This brand also comes in many different textures and the flaky version, as well as any type with gravy, neither of my cats will touch.<br />This particular Chicken Feast flavor is what they call the \"classic\" which is the usual<br />texture of cat food and the one both my cats like.  I found it difficult to say the least to pick out the correct texture when in the supermarket as there are so many different flavors and textures available and the cans are jumbled together so I had to fish through them trying to find ones marked \"classic\", so I prefer getting this by the case here on Amazon.<br /><br />Sheba does have slight allergies to certain cat foods, as do many cats.  They itch and can develop bumps under their chins or in the case of one poor cat I had, terrible bumps and systemic itching all over, with fur loss, if the exact right food is not given to them. That cat had to get only Hill is hypoallergy formula food from the vet or he would be tortured by itching, bumps and fur loss.<br /><br />Also using only stainless steel bowls for food and water helps tremendously if your cat gets chin bumps. Even plastic dishes get bacteria that can cause itchy bumps under a cat is chin.<br />My cats love this chicken flavor and texture and it does not cause any allergy problems in Sheba so far.  She also has no itchy problem with Nutro dry cat food so I can recommend that one if your cat has a problem with itchy skin bumps.  In fact her fur is just incredibly gorgeous and she is a big fit muscular healthy cat, so I can recommend this highly.\n",
      "==================================================\n"
     ]
    }
   ],
   "source": [
    "sent_1500 = decontracted(sent_1500)\n",
    "print(sent_1500)\n",
    "print(\"=\"*50)"
   ]
  },
  {
   "cell_type": "code",
   "execution_count": 20,
   "metadata": {
    "_uuid": "5db9e2b9f4c0a6f7943d998084209c2fe34ee8ca",
    "colab": {
     "base_uri": "https://localhost:8080/",
     "height": 54
    },
    "colab_type": "code",
    "id": "NxRIfdo8oD_y",
    "outputId": "5e2d7f90-0285-40bb-f1b9-1875fd47bcfc"
   },
   "outputs": [
    {
     "name": "stdout",
     "output_type": "stream",
     "text": [
      "Peanuts and roasted red chilli peppers.  Definitely spicy, but not unbearable.  Great flavor.  I highly recommend, you won't be disappointed.\n"
     ]
    }
   ],
   "source": [
    "#remove words with numbers python: https://stackoverflow.com/a/18082370/4084039\n",
    "sent_0 = re.sub(\"\\S*\\d\\S*\", \"\", sent_0).strip()\n",
    "print(sent_0)"
   ]
  },
  {
   "cell_type": "code",
   "execution_count": 21,
   "metadata": {
    "_uuid": "9580d56d107ddd147b5414b26aaf65dd3818be49",
    "colab": {
     "base_uri": "https://localhost:8080/",
     "height": 54
    },
    "colab_type": "code",
    "id": "9MdZyUgyoD_2",
    "outputId": "954eb027-473a-4c60-b8c4-77b14018bc59"
   },
   "outputs": [
    {
     "name": "stdout",
     "output_type": "stream",
     "text": [
      "Fancy Feast is good cat food but it is tricky for me to get the flavor my cat will br always eat since she is a gorgeous picky female This brand also comes in many different textures and the flaky version as well as any type with gravy neither of my cats will touch br This particular Chicken Feast flavor is what they call the classic which is the usual br texture of cat food and the one both my cats like I found it difficult to say the least to pick out the correct texture when in the supermarket as there are so many different flavors and textures available and the cans are jumbled together so I had to fish through them trying to find ones marked classic so I prefer getting this by the case here on Amazon br br Sheba does have slight allergies to certain cat foods as do many cats They itch and can develop bumps under their chins or in the case of one poor cat I had terrible bumps and systemic itching all over with fur loss if the exact right food is not given to them That cat had to get only Hill is hypoallergy formula food from the vet or he would be tortured by itching bumps and fur loss br br Also using only stainless steel bowls for food and water helps tremendously if your cat gets chin bumps Even plastic dishes get bacteria that can cause itchy bumps under a cat is chin br My cats love this chicken flavor and texture and it does not cause any allergy problems in Sheba so far She also has no itchy problem with Nutro dry cat food so I can recommend that one if your cat has a problem with itchy skin bumps In fact her fur is just incredibly gorgeous and she is a big fit muscular healthy cat so I can recommend this highly \n"
     ]
    }
   ],
   "source": [
    "#remove spacial character: https://stackoverflow.com/a/5843547/4084039\n",
    "sent_1500 = re.sub('[^A-Za-z0-9]+', ' ', sent_1500)\n",
    "print(sent_1500)"
   ]
  },
  {
   "cell_type": "code",
   "execution_count": 22,
   "metadata": {
    "_uuid": "2f951080465591617f59335338577c787500a7aa",
    "colab": {},
    "colab_type": "code",
    "id": "kM-pIgojoD_7"
   },
   "outputs": [],
   "source": [
    "# https://gist.github.com/sebleier/554280\n",
    "# we are removing the words from the stop words list: 'no', 'nor', 'not'\n",
    "# <br /><br /> ==> after the above steps, we are getting \"br br\"\n",
    "# we are including them into stop words list\n",
    "# instead of <br /> if we have <br/> these tags would have revmoved in the 1st step\n",
    "\n",
    "stopwords= set(['br', 'the', 'i', 'me', 'my', 'myself', 'we', 'our', 'ours', 'ourselves', 'you', \"you're\", \"you've\",\\\n",
    "            \"you'll\", \"you'd\", 'your', 'yours', 'yourself', 'yourselves', 'he', 'him', 'his', 'himself', \\\n",
    "            'she', \"she's\", 'her', 'hers', 'herself', 'it', \"it's\", 'its', 'itself', 'they', 'them', 'their',\\\n",
    "            'theirs', 'themselves', 'what', 'which', 'who', 'whom', 'this', 'that', \"that'll\", 'these', 'those', \\\n",
    "            'am', 'is', 'are', 'was', 'were', 'be', 'been', 'being', 'have', 'has', 'had', 'having', 'do', 'does', \\\n",
    "            'did', 'doing', 'a', 'an', 'the', 'and', 'but', 'if', 'or', 'because', 'as', 'until', 'while', 'of', \\\n",
    "            'at', 'by', 'for', 'with', 'about', 'against', 'between', 'into', 'through', 'during', 'before', 'after',\\\n",
    "            'above', 'below', 'to', 'from', 'up', 'down', 'in', 'out', 'on', 'off', 'over', 'under', 'again', 'further',\\\n",
    "            'then', 'once', 'here', 'there', 'when', 'where', 'why', 'how', 'all', 'any', 'both', 'each', 'few', 'more',\\\n",
    "            'most', 'other', 'some', 'such', 'only', 'own', 'same', 'so', 'than', 'too', 'very', \\\n",
    "            's', 't', 'can', 'will', 'just', 'don', \"don't\", 'should', \"should've\", 'now', 'd', 'll', 'm', 'o', 're', \\\n",
    "            've', 'y', 'ain', 'aren', \"aren't\", 'couldn', \"couldn't\", 'didn', \"didn't\", 'doesn', \"doesn't\", 'hadn',\\\n",
    "            \"hadn't\", 'hasn', \"hasn't\", 'haven', \"haven't\", 'isn', \"isn't\", 'ma', 'mightn', \"mightn't\", 'mustn',\\\n",
    "            \"mustn't\", 'needn', \"needn't\", 'shan', \"shan't\", 'shouldn', \"shouldn't\", 'wasn', \"wasn't\", 'weren', \"weren't\", \\\n",
    "            'won', \"won't\", 'wouldn', \"wouldn't\"])"
   ]
  },
  {
   "cell_type": "code",
   "execution_count": 23,
   "metadata": {
    "_uuid": "5cd80374bf3152173979abef17401d0568ec9dbd",
    "colab": {
     "base_uri": "https://localhost:8080/",
     "height": 34
    },
    "colab_type": "code",
    "id": "rN53FUm5oEAA",
    "outputId": "ea3e0567-cacd-4ee4-ad3e-0bb82fd3b816"
   },
   "outputs": [
    {
     "name": "stderr",
     "output_type": "stream",
     "text": [
      "100%|██████████| 100000/100000 [00:46<00:00, 2170.31it/s]\n"
     ]
    }
   ],
   "source": [
    "# Combining all the above stundents \n",
    "from tqdm import tqdm\n",
    "prepr_rev = []\n",
    "# tqdm is for printing the status bar\n",
    "for sentance in tqdm(final['Text'].values):\n",
    "    sentance = re.sub(r\"http\\S+\", \"\", sentance)\n",
    "    sentance = BeautifulSoup(sentance, 'lxml').get_text()\n",
    "    sentance = decontracted(sentance)\n",
    "    sentance = re.sub(\"\\S*\\d\\S*\", \"\", sentance).strip()\n",
    "    sentance = re.sub('[^A-Za-z]+', ' ', sentance)\n",
    "    # https://gist.github.com/sebleier/554280\n",
    "    sentance = ' '.join(e.lower() for e in sentance.split() if e.lower() not in stopwords)\n",
    "    prepr_rev.append(sentance.strip())"
   ]
  },
  {
   "cell_type": "code",
   "execution_count": 24,
   "metadata": {
    "_uuid": "a221f4f3456660054dfad576e082de5a579d638a",
    "colab": {
     "base_uri": "https://localhost:8080/",
     "height": 34
    },
    "colab_type": "code",
    "id": "SVPP0xPHoEAE",
    "outputId": "f8a31485-dc95-477a-ba3f-7337ab7d57a1"
   },
   "outputs": [
    {
     "data": {
      "text/plain": [
       "'fancy feast good cat food tricky get flavor cat willalways eat since gorgeous picky female brand also comes many different textures flaky version well type gravy neither cats touch particular chicken feast flavor call classic usualtexture cat food one cats like found difficult say least pick correct texture supermarket many different flavors textures available cans jumbled together fish trying find ones marked classic prefer getting case amazon sheba slight allergies certain cat foods many cats itch develop bumps chins case one poor cat terrible bumps systemic itching fur loss exact right food not given cat get hill hypoallergy formula food vet would tortured itching bumps fur loss also using stainless steel bowls food water helps tremendously cat gets chin bumps even plastic dishes get bacteria cause itchy bumps cat chin cats love chicken flavor texture not cause allergy problems sheba far also no itchy problem nutro dry cat food recommend one cat problem itchy skin bumps fact fur incredibly gorgeous big fit muscular healthy cat recommend highly'"
      ]
     },
     "execution_count": 24,
     "metadata": {},
     "output_type": "execute_result"
    }
   ],
   "source": [
    "prepr_rev[1500]"
   ]
  },
  {
   "cell_type": "code",
   "execution_count": 25,
   "metadata": {},
   "outputs": [
    {
     "name": "stdout",
     "output_type": "stream",
     "text": [
      "100000\n"
     ]
    },
    {
     "data": {
      "text/plain": [
       "(100000, 10)"
      ]
     },
     "execution_count": 25,
     "metadata": {},
     "output_type": "execute_result"
    }
   ],
   "source": [
    "print(len(prepr_rev))\n",
    "final.shape"
   ]
  },
  {
   "cell_type": "code",
   "execution_count": 26,
   "metadata": {},
   "outputs": [
    {
     "data": {
      "text/html": [
       "<div>\n",
       "<style scoped>\n",
       "    .dataframe tbody tr th:only-of-type {\n",
       "        vertical-align: middle;\n",
       "    }\n",
       "\n",
       "    .dataframe tbody tr th {\n",
       "        vertical-align: top;\n",
       "    }\n",
       "\n",
       "    .dataframe thead th {\n",
       "        text-align: right;\n",
       "    }\n",
       "</style>\n",
       "<table border=\"1\" class=\"dataframe\">\n",
       "  <thead>\n",
       "    <tr style=\"text-align: right;\">\n",
       "      <th></th>\n",
       "      <th>Id</th>\n",
       "      <th>ProductId</th>\n",
       "      <th>UserId</th>\n",
       "      <th>ProfileName</th>\n",
       "      <th>HelpfulnessNumerator</th>\n",
       "      <th>HelpfulnessDenominator</th>\n",
       "      <th>Score</th>\n",
       "      <th>Time</th>\n",
       "      <th>Summary</th>\n",
       "      <th>Text</th>\n",
       "      <th>prepr_rev</th>\n",
       "    </tr>\n",
       "  </thead>\n",
       "  <tbody>\n",
       "    <tr>\n",
       "      <th>60400</th>\n",
       "      <td>65655</td>\n",
       "      <td>B00410JCD6</td>\n",
       "      <td>A1B5ULSP1Z2MIY</td>\n",
       "      <td>Brian Edwards \"B'More Bri\"</td>\n",
       "      <td>2</td>\n",
       "      <td>2</td>\n",
       "      <td>1</td>\n",
       "      <td>1286841600</td>\n",
       "      <td>Excellent</td>\n",
       "      <td>Peanuts and roasted red chilli peppers.  Defin...</td>\n",
       "      <td>peanuts roasted red chilli peppers definitely ...</td>\n",
       "    </tr>\n",
       "    <tr>\n",
       "      <th>190210</th>\n",
       "      <td>206255</td>\n",
       "      <td>B000GG0BLQ</td>\n",
       "      <td>AUICIB1WWCAQ7</td>\n",
       "      <td>Jukeman \"jukeman\"</td>\n",
       "      <td>0</td>\n",
       "      <td>0</td>\n",
       "      <td>1</td>\n",
       "      <td>1253750400</td>\n",
       "      <td>Astounding</td>\n",
       "      <td>The aroma is just incredible, the flavor is gr...</td>\n",
       "      <td>aroma incredible flavor great also using make ...</td>\n",
       "    </tr>\n",
       "    <tr>\n",
       "      <th>197612</th>\n",
       "      <td>214180</td>\n",
       "      <td>B000EXA92M</td>\n",
       "      <td>A2JFNQ0A8AFB4K</td>\n",
       "      <td>jwbems</td>\n",
       "      <td>0</td>\n",
       "      <td>0</td>\n",
       "      <td>0</td>\n",
       "      <td>1331424000</td>\n",
       "      <td>Very low quality chocolate</td>\n",
       "      <td>What a waste of money!!!!!! Based on other cus...</td>\n",
       "      <td>waste money based customer review gave try bou...</td>\n",
       "    </tr>\n",
       "    <tr>\n",
       "      <th>25315</th>\n",
       "      <td>27644</td>\n",
       "      <td>B000BF54MS</td>\n",
       "      <td>AXQIHSF9KK7CO</td>\n",
       "      <td>Dody</td>\n",
       "      <td>0</td>\n",
       "      <td>0</td>\n",
       "      <td>1</td>\n",
       "      <td>1213142400</td>\n",
       "      <td>Vegetarian Staple</td>\n",
       "      <td>Here is a product that is so handy.  It is ful...</td>\n",
       "      <td>product handy full protein fiber taste highly ...</td>\n",
       "    </tr>\n",
       "    <tr>\n",
       "      <th>34874</th>\n",
       "      <td>37936</td>\n",
       "      <td>B000F6SNPS</td>\n",
       "      <td>AYRDJVQ3KCCDD</td>\n",
       "      <td>Rebecca M. Abrams \"ramblinroz\"</td>\n",
       "      <td>2</td>\n",
       "      <td>2</td>\n",
       "      <td>0</td>\n",
       "      <td>1333238400</td>\n",
       "      <td>More on \"not natural\"</td>\n",
       "      <td>I purchased organic Good Earth (at a \"whole fo...</td>\n",
       "      <td>purchased organic good earth whole foods type ...</td>\n",
       "    </tr>\n",
       "  </tbody>\n",
       "</table>\n",
       "</div>"
      ],
      "text/plain": [
       "            Id   ProductId          UserId                     ProfileName  \\\n",
       "60400    65655  B00410JCD6  A1B5ULSP1Z2MIY      Brian Edwards \"B'More Bri\"   \n",
       "190210  206255  B000GG0BLQ   AUICIB1WWCAQ7               Jukeman \"jukeman\"   \n",
       "197612  214180  B000EXA92M  A2JFNQ0A8AFB4K                          jwbems   \n",
       "25315    27644  B000BF54MS   AXQIHSF9KK7CO                            Dody   \n",
       "34874    37936  B000F6SNPS   AYRDJVQ3KCCDD  Rebecca M. Abrams \"ramblinroz\"   \n",
       "\n",
       "        HelpfulnessNumerator  HelpfulnessDenominator  Score        Time  \\\n",
       "60400                      2                       2      1  1286841600   \n",
       "190210                     0                       0      1  1253750400   \n",
       "197612                     0                       0      0  1331424000   \n",
       "25315                      0                       0      1  1213142400   \n",
       "34874                      2                       2      0  1333238400   \n",
       "\n",
       "                           Summary  \\\n",
       "60400                    Excellent   \n",
       "190210                  Astounding   \n",
       "197612  Very low quality chocolate   \n",
       "25315            Vegetarian Staple   \n",
       "34874        More on \"not natural\"   \n",
       "\n",
       "                                                     Text  \\\n",
       "60400   Peanuts and roasted red chilli peppers.  Defin...   \n",
       "190210  The aroma is just incredible, the flavor is gr...   \n",
       "197612  What a waste of money!!!!!! Based on other cus...   \n",
       "25315   Here is a product that is so handy.  It is ful...   \n",
       "34874   I purchased organic Good Earth (at a \"whole fo...   \n",
       "\n",
       "                                                prepr_rev  \n",
       "60400   peanuts roasted red chilli peppers definitely ...  \n",
       "190210  aroma incredible flavor great also using make ...  \n",
       "197612  waste money based customer review gave try bou...  \n",
       "25315   product handy full protein fiber taste highly ...  \n",
       "34874   purchased organic good earth whole foods type ...  "
      ]
     },
     "execution_count": 26,
     "metadata": {},
     "output_type": "execute_result"
    }
   ],
   "source": [
    "final ['prepr_rev']= prepr_rev\n",
    "final.head(5)"
   ]
  },
  {
   "cell_type": "code",
   "execution_count": 27,
   "metadata": {},
   "outputs": [
    {
     "name": "stderr",
     "output_type": "stream",
     "text": [
      " 22%|██▏       | 22490/100000 [00:06<00:22, 3497.48it/s]/Volumes/Saida/Applications/Anaconda/anaconda3/lib/python3.7/site-packages/bs4/__init__.py:273: UserWarning: \"b'.'\" looks like a filename, not markup. You should probably open this file and pass the filehandle into Beautiful Soup.\n",
      "  ' Beautiful Soup.' % markup)\n",
      "100%|██████████| 100000/100000 [00:29<00:00, 3338.23it/s]\n"
     ]
    }
   ],
   "source": [
    "preprocessed_summary = []\n",
    "# tqdm is for printing the status bar\n",
    "for summary in tqdm(final['Summary'].values):\n",
    "    summary = re.sub(r\"http\\S+\", \"\", summary) # remove urls from text python: https://stackoverflow.com/a/40823105/4084039 \n",
    "    summary = BeautifulSoup(summary, 'lxml').get_text() # https://stackoverflow.com/questions/16206380/python-beautifulsoup-how-to-remove-all-tags-from-an-element\n",
    "    summary = decontracted(summary)\n",
    "    summary = re.sub(\"\\S*\\d\\S*\", \"\", summary).strip() #remove words with numbers python: https://stackoverflow.com/a/18082370/4084039\n",
    "    summary = re.sub('[^A-Za-z]+', ' ', summary) #remove spacial character: https://stackoverflow.com/a/5843547/4084039\n",
    "    # https://gist.github.com/sebleier/554280\n",
    "    summary = ' '.join(e.lower() for e in summary.split() if e.lower() not in stopwords)\n",
    "    preprocessed_summary.append(summary.strip())"
   ]
  },
  {
   "cell_type": "code",
   "execution_count": 28,
   "metadata": {},
   "outputs": [
    {
     "name": "stdout",
     "output_type": "stream",
     "text": [
      "fancy feast good cat food tricky get flavor cat willalways eat since gorgeous picky female brand also comes many different textures flaky version well type gravy neither cats touch particular chicken feast flavor call classic usualtexture cat food one cats like found difficult say least pick correct texture supermarket many different flavors textures available cans jumbled together fish trying find ones marked classic prefer getting case amazon sheba slight allergies certain cat foods many cats itch develop bumps chins case one poor cat terrible bumps systemic itching fur loss exact right food not given cat get hill hypoallergy formula food vet would tortured itching bumps fur loss also using stainless steel bowls food water helps tremendously cat gets chin bumps even plastic dishes get bacteria cause itchy bumps cat chin cats love chicken flavor texture not cause allergy problems sheba far also no itchy problem nutro dry cat food recommend one cat problem itchy skin bumps fact fur incredibly gorgeous big fit muscular healthy cat recommend highly beautiful sheba thrives loves\n"
     ]
    }
   ],
   "source": [
    "prepr_rev = [i + ' ' + j for i, j in zip(prepr_rev,preprocessed_summary)] \n",
    "print(prepr_rev[1500])"
   ]
  },
  {
   "cell_type": "code",
   "execution_count": 29,
   "metadata": {},
   "outputs": [],
   "source": [
    "X = np.array(prepr_rev)\n",
    "y = np.array(final['Score'])"
   ]
  },
  {
   "cell_type": "markdown",
   "metadata": {
    "_uuid": "7db7d3bb11007294f989ad75886b5ecef5b8536c",
    "colab_type": "text",
    "id": "vBfC6JJ1oEBP"
   },
   "source": [
    "# [4] Featurization"
   ]
  },
  {
   "cell_type": "markdown",
   "metadata": {
    "_uuid": "1cd522e7ad613642fde628c117cb836dd5a69094",
    "colab_type": "text",
    "id": "OAd86swooEBP"
   },
   "source": [
    "## [4.1] BAG OF WORDS"
   ]
  },
  {
   "cell_type": "code",
   "execution_count": 30,
   "metadata": {
    "_uuid": "9001d19e54380c66df4de3697f5deedbe0fa8453",
    "colab": {},
    "colab_type": "code",
    "id": "CAeZovZeoEBQ"
   },
   "outputs": [
    {
     "name": "stdout",
     "output_type": "stream",
     "text": [
      "Train: (44890,) (44890,)\n",
      "CV: (22110,) (22110,)\n",
      "Test: (33000,) (33000,)\n"
     ]
    }
   ],
   "source": [
    "from sklearn.model_selection import train_test_split\n",
    "#splitting data into Train, C.V and Test\n",
    "X_train, X_test, y_train, y_test = train_test_split(final ['prepr_rev'], final['Score'], test_size=0.33) \n",
    "X_train, X_cv, y_train, y_cv = train_test_split(X_train, y_train, test_size=0.33)\n",
    "print(\"Train:\",X_train.shape,y_train.shape)\n",
    "print(\"CV:\",X_cv.shape,y_cv.shape)\n",
    "print(\"Test:\",X_test.shape,y_test.shape)"
   ]
  },
  {
   "cell_type": "code",
   "execution_count": 31,
   "metadata": {
    "_uuid": "6366e4c325cea9b6833f5421c666bdc050bace1b",
    "colab": {
     "base_uri": "https://localhost:8080/",
     "height": 67
    },
    "colab_type": "code",
    "id": "8xJuq2g3oEBS",
    "outputId": "b33c061f-bd92-4c7c-a6bb-0eaa003799e4"
   },
   "outputs": [
    {
     "name": "stdout",
     "output_type": "stream",
     "text": [
      "After vectorizations\n",
      "(44890, 500) (44890,)\n",
      "(22110, 500) (22110,)\n",
      "(33000, 500) (33000,)\n"
     ]
    }
   ],
   "source": [
    "vectorizer = CountVectorizer(min_df=10, max_features=500) \n",
    "vectorizer.fit(X_train)\n",
    "#vectorizer.fit(X_train) # fit has to happen only on train data\n",
    "# we use the fitted CountVectorizer to convert the text to vector\n",
    "X_train_bow = vectorizer.transform(X_train)\n",
    "X_cv_bow = vectorizer.transform(X_cv)\n",
    "X_test_bow = vectorizer.transform(X_test) \n",
    "print(\"After vectorizations\")\n",
    "print(X_train_bow.shape, y_train.shape) \n",
    "print(X_cv_bow.shape, y_cv.shape)\n",
    "print(X_test_bow.shape, y_test.shape) \n",
    " "
   ]
  },
  {
   "cell_type": "markdown",
   "metadata": {
    "_uuid": "5436d987c572a852f6ce2e5a4734277bca8b6a9f",
    "colab_type": "text",
    "id": "NUnCujTGoEBY"
   },
   "source": [
    "## [4.3] TF-IDF"
   ]
  },
  {
   "cell_type": "code",
   "execution_count": 32,
   "metadata": {
    "_uuid": "d057c5c38baec867bb352aeea4a4f95363b3c366",
    "colab": {
     "base_uri": "https://localhost:8080/",
     "height": 67
    },
    "colab_type": "code",
    "id": "5P7K0g5woEBY",
    "outputId": "e6273284-1f2f-4554-c7ce-ab763c38bc69"
   },
   "outputs": [
    {
     "name": "stdout",
     "output_type": "stream",
     "text": [
      "After vectorizations\n",
      "(44890, 500) (44890,)\n",
      "(22110, 500) (22110,)\n",
      "(33000, 500) (33000,)\n"
     ]
    }
   ],
   "source": [
    "tf_idf_vect = TfidfVectorizer(ngram_range=(1,2), min_df=10, max_features=500)\n",
    "tf_idf_vect.fit(X_train)\n",
    "# we use the fitted CountVectorizer to convert the text to vector\n",
    "X_train_tfidf = tf_idf_vect.transform(X_train)\n",
    "X_cv_tfidf = tf_idf_vect.transform(X_cv)\n",
    "X_test_tfidf = tf_idf_vect.transform(X_test) \n",
    "print(\"After vectorizations\")\n",
    "print(X_train_tfidf.shape, y_train.shape) \n",
    "print(X_cv_tfidf.shape, y_cv.shape)\n",
    "print(X_test_tfidf.shape, y_test.shape) "
   ]
  },
  {
   "cell_type": "markdown",
   "metadata": {
    "_uuid": "b6683843609853f5365f097179a753b0245426ab",
    "colab_type": "text",
    "id": "gWfHIrMtoEBb"
   },
   "source": [
    "## [4.4] Word2Vec"
   ]
  },
  {
   "cell_type": "code",
   "execution_count": 33,
   "metadata": {
    "_uuid": "908ebba07aae84ca552a33c89867a632e5639743",
    "colab": {
     "base_uri": "https://localhost:8080/",
     "height": 104
    },
    "colab_type": "code",
    "id": "FU-mh_3SoEBc",
    "outputId": "6b0a0970-a6fa-4900-f765-1f81ed526554"
   },
   "outputs": [
    {
     "name": "stdout",
     "output_type": "stream",
     "text": [
      "[('awesome', 0.8455944657325745), ('fantastic', 0.8240172266960144), ('good', 0.8079756498336792), ('excellent', 0.7827634811401367), ('perfect', 0.7675260305404663), ('wonderful', 0.758226752281189), ('terrific', 0.7567407488822937), ('amazing', 0.7138701677322388), ('decent', 0.6940367221832275), ('nice', 0.6710140705108643)]\n",
      "==================================================\n",
      "[('greatest', 0.7693896293640137), ('tastiest', 0.7564027309417725), ('best', 0.7485237121582031), ('weakest', 0.7202427983283997), ('nastiest', 0.7102911472320557), ('disgusting', 0.6909604668617249), ('terrible', 0.6611607074737549), ('closest', 0.6174409985542297), ('hardly', 0.609131395816803), ('horrible', 0.6042385697364807)]\n",
      "number of words that occured minimum 5 times  13042\n"
     ]
    }
   ],
   "source": [
    "# List of sentence in X_train text\n",
    "sent_of_train=[]\n",
    "for sent in X_train:\n",
    "    sent_of_train.append(sent.split())\n",
    "\n",
    "# List of sentence in X_test text\n",
    "sent_of_test=[]\n",
    "for sent in X_test:\n",
    "    sent_of_test.append(sent.split())   \n",
    "    \n",
    "# Train your own Word2Vec model using your own train text corpus \n",
    "# min_count = 5 considers only words that occured atleast 5 times\n",
    "w2v_model=Word2Vec(sent_of_train,min_count=5,size=50, workers=4)\n",
    "print(w2v_model.wv.most_similar('great'))\n",
    "print('='*50)\n",
    "print(w2v_model.wv.most_similar('worst'))\n",
    "    \n",
    "w2v_words = list(w2v_model.wv.vocab)\n",
    "print(\"number of words that occured minimum 5 times \",len(w2v_words))"
   ]
  },
  {
   "cell_type": "code",
   "execution_count": 34,
   "metadata": {
    "_uuid": "3681cb3f7ddd4b6e4c7f0c416dfaa3a4dc8e4d81",
    "colab": {
     "base_uri": "https://localhost:8080/",
     "height": 70
    },
    "colab_type": "code",
    "id": "Be1RxTeDoEBe",
    "outputId": "dc43b69d-fb59-4d2a-9567-8722513a162d"
   },
   "outputs": [
    {
     "name": "stdout",
     "output_type": "stream",
     "text": [
      "number of words that occured minimum 5 times  13042\n",
      "sample words  ['baby', 'not', 'like', 'proteins', 'containing', 'meat', 'flavor', 'big', 'hit', 'sweetness', 'apple', 'cranberry', 'covered', 'turkey', 'gobbled', 'jar', 'fruit', 'one', 'product', 'glad', 'listen', 'negative', 'reviews', 'consider', 'protein', 'bars', 'treat', 'current', 'sugar', 'gluten', 'free', 'diet', 'fits', 'bill', 'delicious', 'satisfying', 'consistency', 'great', 'natural', 'taste', 'opinion', 'sweet', 'enough', 'grams', 'fat', 'clearly', 'comes', 'amount', 'peanuts', 'used']\n"
     ]
    }
   ],
   "source": [
    "w2v_words = list(w2v_model.wv.vocab)\n",
    "print(\"number of words that occured minimum 5 times \",len(w2v_words))\n",
    "print(\"sample words \", w2v_words[0:50])"
   ]
  },
  {
   "cell_type": "markdown",
   "metadata": {
    "_uuid": "10b75b320dbfd82c830b2ea9c65ff9148db5e980",
    "colab_type": "text",
    "id": "UoRyA7UgoEBi"
   },
   "source": [
    "## [4.4.1] Converting text into vectors using Avg W2V, TFIDF-W2V"
   ]
  },
  {
   "cell_type": "markdown",
   "metadata": {
    "_uuid": "75055102bc035d5d1e5464de5694f868b23c4696",
    "colab_type": "text",
    "id": "pfWPAjeQoEBj"
   },
   "source": [
    "#### [4.4.1.1] Avg W2v"
   ]
  },
  {
   "cell_type": "code",
   "execution_count": 35,
   "metadata": {},
   "outputs": [],
   "source": [
    "i=0\n",
    "sent_of_test_cv=[]\n",
    "for sentance in X_cv:\n",
    "    sent_of_test_cv.append(sentance.split())"
   ]
  },
  {
   "cell_type": "code",
   "execution_count": 36,
   "metadata": {},
   "outputs": [
    {
     "name": "stderr",
     "output_type": "stream",
     "text": [
      "100%|██████████| 22110/22110 [00:53<00:00, 413.84it/s]"
     ]
    },
    {
     "name": "stdout",
     "output_type": "stream",
     "text": [
      "(22110, 50)\n",
      "[-0.50523017 -0.11479854 -0.03200787  0.13353468  0.13596142  0.50285689\n",
      "  0.40782288 -0.59033072  0.11434755  0.51528694  0.1910308   0.73593499\n",
      " -0.38575987  0.7417411  -0.04513764  0.22732463 -0.73386303  0.31745143\n",
      " -0.64847784 -0.05479136 -0.4631531   0.33003085 -0.66081223 -0.30726053\n",
      "  0.07974474  0.95825225  0.05713817 -0.16710636  0.64184181  0.41067642\n",
      "  0.26957263 -0.59078255  0.83191122 -0.32974229 -0.8801244  -0.64844684\n",
      "  0.02139316 -0.54254419 -0.02060822 -0.25215706 -0.51701852 -0.54127047\n",
      " -0.44874072 -0.17757444  0.11975331 -0.34313597  0.21253911  0.01452104\n",
      " -0.38813811  0.8206042 ]\n"
     ]
    },
    {
     "name": "stderr",
     "output_type": "stream",
     "text": [
      "\n"
     ]
    }
   ],
   "source": [
    "# average Word2Vec\n",
    "# compute average word2vec for each review.\n",
    "sent_vectors_cv = []; # the avg-w2v for each sentence/review is stored in this list\n",
    "for sent in tqdm(sent_of_test_cv): # for each review/sentence\n",
    "    sent_vec = np.zeros(50) # as word vectors are of zero length 50, you might need to change this to 300 if you use google's w2v\n",
    "    cnt_words =0; # num of words with a valid vector in the sentence/review\n",
    "    for word in sent: # for each word in a review/sentence\n",
    "        if word in w2v_words:\n",
    "            vec = w2v_model.wv[word]\n",
    "            sent_vec += vec\n",
    "            cnt_words += 1\n",
    "    if cnt_words != 0:\n",
    "        sent_vec /= cnt_words\n",
    "    sent_vectors_cv.append(sent_vec)\n",
    "sent_vectors_cv = np.array(sent_vectors_cv)\n",
    "print(sent_vectors_cv.shape)\n",
    "print(sent_vectors_cv[0])"
   ]
  },
  {
   "cell_type": "code",
   "execution_count": 37,
   "metadata": {},
   "outputs": [
    {
     "name": "stderr",
     "output_type": "stream",
     "text": [
      "100%|██████████| 33000/33000 [01:23<00:00, 393.54it/s]"
     ]
    },
    {
     "name": "stdout",
     "output_type": "stream",
     "text": [
      "(33000, 50)\n",
      "[ 0.01376235  0.28893085  0.03941018 -0.58727319 -0.83308503 -0.08106945\n",
      " -0.14920961 -0.14446366 -0.57953979 -0.41207326 -0.65595679  0.15573724\n",
      " -0.36329756  0.67266244  0.07016691  0.25953635 -0.406169    0.14319636\n",
      " -0.05551508  0.59413541 -0.18034051  0.23919755 -0.58935891 -0.18026038\n",
      "  0.61633672  0.68402586 -0.15522986  0.23427888  0.52708331 -0.18574332\n",
      "  0.49454857 -0.34103861  0.66434252 -0.65074359 -0.75230302  0.21625035\n",
      " -0.19442735 -0.77172362 -0.1656153  -0.28547813 -0.94779993 -0.13478697\n",
      " -0.29403704  0.02966803  0.12511257 -0.07849445  0.58964748 -0.47299296\n",
      "  0.1422585  -0.39882051]\n"
     ]
    },
    {
     "name": "stderr",
     "output_type": "stream",
     "text": [
      "\n"
     ]
    }
   ],
   "source": [
    "# compute average word2vec for X_test .\n",
    "test_vectors = []; \n",
    "for sent in tqdm(sent_of_test):\n",
    "    sent_vec = np.zeros(50) \n",
    "    cnt_words =0; \n",
    "    for word in sent: # \n",
    "        if word in w2v_words:\n",
    "            vec = w2v_model.wv[word]\n",
    "            sent_vec += vec\n",
    "            cnt_words += 1\n",
    "    if cnt_words != 0:\n",
    "        sent_vec /= cnt_words\n",
    "    test_vectors.append(sent_vec)  \n",
    "    \n",
    "test_vectors = np.array(test_vectors)\n",
    "\n",
    "print(test_vectors.shape)\n",
    "print(test_vectors[0])    \n"
   ]
  },
  {
   "cell_type": "code",
   "execution_count": 38,
   "metadata": {
    "_uuid": "ae695c0d316b4d9b80c81ca5bcc2502d96756c8e",
    "colab": {
     "base_uri": "https://localhost:8080/",
     "height": 84
    },
    "colab_type": "code",
    "id": "tPJFhGGzoEBn",
    "outputId": "c04a12d4-7de9-4922-b6c7-e7121c5e1212"
   },
   "outputs": [
    {
     "name": "stderr",
     "output_type": "stream",
     "text": [
      "100%|██████████| 44890/44890 [01:50<00:00, 405.59it/s]"
     ]
    },
    {
     "name": "stdout",
     "output_type": "stream",
     "text": [
      "(44890, 50)\n",
      "[-0.13721478  0.08010389 -0.15564712  0.73888799  0.27517669  0.62704756\n",
      "  0.22560687 -0.5688567  -0.02041555  0.28398134 -0.2877662  -0.0728872\n",
      "  0.31543689 -0.30603457  0.81506797  0.24122786 -0.26859527 -0.13208472\n",
      " -0.47742535  0.35914314  0.24498541 -0.30386619 -0.29857029  0.35966692\n",
      "  0.36598904  0.53495216  0.0058044   0.28305701  0.37508121  0.44433947\n",
      "  0.95063118  0.00493663  1.21274136 -0.92643568  0.72681641 -0.44839512\n",
      " -0.55025943 -0.47290625 -0.80632758 -0.06141111  0.04634775 -0.56206447\n",
      " -0.72001188 -0.44774448  0.31360364 -0.05130844  0.78579321  0.24604547\n",
      " -0.67943466 -0.5778594 ]\n"
     ]
    },
    {
     "name": "stderr",
     "output_type": "stream",
     "text": [
      "\n"
     ]
    }
   ],
   "source": [
    "# compute average word2vec for X_train .\n",
    "train_vectors = []; \n",
    "for sent in tqdm(sent_of_train):\n",
    "    sent_vec = np.zeros(50) \n",
    "    cnt_words =0; \n",
    "    for word in sent: # \n",
    "        if word in w2v_words:\n",
    "            vec = w2v_model.wv[word]\n",
    "            sent_vec += vec\n",
    "            cnt_words += 1\n",
    "    if cnt_words != 0:\n",
    "        sent_vec /= cnt_words\n",
    "    train_vectors.append(sent_vec)\n",
    "    \n",
    "train_vectors = np.array(train_vectors)\n",
    "\n",
    "print(train_vectors.shape)\n",
    "print(train_vectors[0])"
   ]
  },
  {
   "cell_type": "markdown",
   "metadata": {
    "_uuid": "f81b17e59cc4a32f8cd8045a32f8e10bf4050064",
    "colab_type": "text",
    "id": "xnjL74wcoEBt"
   },
   "source": [
    "# [5] Assignment 4: Apply Naive Bayes"
   ]
  },
  {
   "cell_type": "markdown",
   "metadata": {
    "_uuid": "84cc70f7199b15464434386a67d72b7a7b2d2495",
    "colab_type": "text",
    "id": "bQga5EGFoEBt"
   },
   "source": [
    "<ol>\n",
    "    <li><strong>Apply Multinomial NaiveBayes on these feature sets</strong>\n",
    "        <ul>\n",
    "            <li><font color='red'>SET 1:</font>Review text, preprocessed one converted into vectors using (BOW)</li>\n",
    "            <li><font color='red'>SET 2:</font>Review text, preprocessed one converted into vectors using (TFIDF)</li>\n",
    "        </ul>\n",
    "    </li>\n",
    "    <br>\n",
    "    <li><strong>The hyper paramter tuning(find best Alpha)</strong>\n",
    "        <ul>\n",
    "    <li>Find the best hyper parameter which will give the maximum <a href='https://www.appliedaicourse.com/course/applied-ai-course-online/lessons/receiver-operating-characteristic-curve-roc-curve-and-auc-1/'>AUC</a> value</li>\n",
    "    <li>Consider a wide range of alpha values for hyperparameter tuning, start as low as 0.00001</li>\n",
    "    <li>Find the best hyper paramter using k-fold cross validation or simple cross validation data</li>\n",
    "    <li>Use gridsearch cv or randomsearch cv or you can also write your own for loops to do this task of hyperparameter tuning</li>\n",
    "        </ul>\n",
    "    </li>\n",
    "    <br>\n",
    "    <li><strong>Feature importance</strong>\n",
    "        <ul>\n",
    "    <li>Find the top 10 features of positive class and top 10 features of negative class for both feature sets <font color='red'>Set 1</font> and <font color='red'>Set 2</font> using values of `feature_log_prob_` parameter of  <a href='https://scikit-learn.org/stable/modules/generated/sklearn.naive_bayes.MultinomialNB.html'>MultinomialNB</a> and print their corresponding feature names</li>\n",
    "        </ul>\n",
    "    </li>\n",
    "    <br>\n",
    "    <li><strong>Feature engineering</strong>\n",
    "        <ul>\n",
    "    <li>To increase the performance of your model, you can also experiment with with feature engineering like :</li>\n",
    "            <ul>\n",
    "            <li>Taking length of reviews as another feature.</li>\n",
    "            <li>Considering some features from review summary as well.</li>\n",
    "        </ul>\n",
    "        </ul>\n",
    "    </li>\n",
    "    <br>\n",
    "    <li><strong>Representation of results</strong>\n",
    "        <ul>\n",
    "    <li>You need to plot the performance of model both on train data and cross validation data for each hyper parameter, like shown in the figure. Here on X-axis you will have alpha values, since they have a wide range, just to represent those alpha values on the graph, apply log function on those alpha values.\n",
    "    <img src='train_cv_auc.JPG' width=300px></li>\n",
    "    <li>Once after you found the best hyper parameter, you need to train your model with it, and find the AUC on test data and plot the ROC curve on both train and test.\n",
    "    <img src='train_test_auc.JPG' width=300px></li>\n",
    "    <li>Along with plotting ROC curve, you need to print the <a href='https://www.appliedaicourse.com/course/applied-ai-course-online/lessons/confusion-matrix-tpr-fpr-fnr-tnr-1/'>confusion matrix</a> with predicted and original labels of test data points. Please visualize your confusion matrices using <a href='https://seaborn.pydata.org/generated/seaborn.heatmap.html'>seaborn heatmaps.\n",
    "    <img src='confusion_matrix.png' width=300px></li>\n",
    "        </ul>\n",
    "    </li>\n",
    "    <br>\n",
    "    <li><strong>Conclusion</strong>\n",
    "        <ul>\n",
    "    <li>You need to summarize the results at the end of the notebook, summarize it in the table format. To print out a table please refer to this prettytable library<a href='http://zetcode.com/python/prettytable/'>  link</a> \n",
    "        <img src='summary.JPG' width=400px>\n",
    "    </li>\n",
    "        </ul>\n",
    "</ol>"
   ]
  },
  {
   "cell_type": "markdown",
   "metadata": {
    "_uuid": "23407c3a20c7da84dc9259c6c7ea2fcc155e2eaa",
    "colab_type": "text",
    "id": "Nez0Wnh2oEBv"
   },
   "source": [
    "<h4><font color='red'>Note: Data Leakage</font></h4>\n",
    "\n",
    "1. There will be an issue of data-leakage if you vectorize the entire data and then split it into train/cv/test.\n",
    "2. To avoid the issue of data-leakag, make sure to split your data first and then vectorize it. \n",
    "3. While vectorizing your data, apply the method fit_transform() on you train data, and apply the method transform() on cv/test data.\n",
    "4. For more details please go through this <a href='https://soundcloud.com/applied-ai-course/leakage-bow-and-tfidf'>link.</a>"
   ]
  },
  {
   "cell_type": "markdown",
   "metadata": {},
   "source": [
    "# Applying Multinomial Naive Bayes"
   ]
  },
  {
   "cell_type": "markdown",
   "metadata": {
    "_uuid": "c9d4194ce3d479ed2da183a0679762117271a691",
    "colab_type": "text",
    "id": "asFL_nPyoEBw"
   },
   "source": [
    "### [5.1.1] Applying Naive Bayes on BOW,<font color='red'> SET 1</font>"
   ]
  },
  {
   "cell_type": "code",
   "execution_count": 39,
   "metadata": {},
   "outputs": [
    {
     "name": "stderr",
     "output_type": "stream",
     "text": [
      "100%|██████████| 99/99 [00:05<00:00, 17.69it/s]\n"
     ]
    },
    {
     "data": {
      "image/png": "[encoded data removed]",
      "text/plain": [
       "<Figure size 432x288 with 1 Axes>"
      ]
     },
     "metadata": {
      "needs_background": "light"
     },
     "output_type": "display_data"
    }
   ],
   "source": [
    "from sklearn.naive_bayes import MultinomialNB\n",
    "from sklearn.metrics import roc_auc_score\n",
    "from math import log\n",
    "\n",
    "\n",
    "train_auc = []\n",
    "cv_auc = []\n",
    "alpha = np.arange(0.01, 1.0, 0.01)\n",
    "logalpha = [log(y) for y in alpha]\n",
    "for i in tqdm(alpha):\n",
    "    nb = MultinomialNB(alpha=i, class_prior=None, fit_prior=True)\n",
    "    nb.fit(X_train_bow,y_train)\n",
    "\n",
    "    y_train_pred =  nb.predict_log_proba(X_train_bow)[:,1]\n",
    "    y_cv_pred = nb.predict_log_proba(X_cv_bow)[:,1]\n",
    "    \n",
    "    train_auc.append(roc_auc_score(y_train,y_train_pred))\n",
    "    cv_auc.append(roc_auc_score(y_cv, y_cv_pred))\n",
    "\n",
    "plt.plot(logalpha, train_auc, label='Train AUC')\n",
    "plt.plot(logalpha, cv_auc, label='CV AUC')\n",
    "plt.legend()\n",
    "plt.xlabel(\"log(alpha)-value\")\n",
    "plt.ylabel(\"AUC\")\n",
    "plt.title(\"ERROR PLOTS\")\n",
    "plt.show()   "
   ]
  },
  {
   "cell_type": "code",
   "execution_count": 40,
   "metadata": {},
   "outputs": [
    {
     "name": "stdout",
     "output_type": "stream",
     "text": [
      "0.99\n"
     ]
    }
   ],
   "source": [
    "opt_auc = alpha[cv_auc.index(max(cv_auc))]\n",
    "print(opt_auc)"
   ]
  },
  {
   "cell_type": "code",
   "execution_count": 41,
   "metadata": {},
   "outputs": [
    {
     "data": {
      "image/png": "[encoded data removed]",
      "text/plain": [
       "<Figure size 432x288 with 1 Axes>"
      ]
     },
     "metadata": {
      "needs_background": "light"
     },
     "output_type": "display_data"
    },
    {
     "data": {
      "image/png": "[encoded data removed]",
      "text/plain": [
       "<Figure size 360x216 with 2 Axes>"
      ]
     },
     "metadata": {
      "needs_background": "light"
     },
     "output_type": "display_data"
    }
   ],
   "source": [
    "nb = MultinomialNB(alpha=opt_auc, class_prior=None, fit_prior=True)\n",
    "nb.fit(X_train_bow,y_train)\n",
    "   \n",
    "    \n",
    "train_fpr, train_tpr, thresholds = roc_curve(y_train, nb.predict_proba(X_train_bow)[:,1])\n",
    "test_fpr, test_tpr, thresholds = roc_curve(y_test, nb.predict_proba(X_test_bow)[:,1])\n",
    "\n",
    "plt.plot(train_fpr, train_tpr, label=\"train AUC =\"+str(auc(train_fpr, train_tpr)))\n",
    "plt.plot(test_fpr, test_tpr, label=\"test AUC =\"+str(auc(test_fpr, test_tpr)))\n",
    "plt.legend()\n",
    "plt.xlabel(\"A: hyperparameter\")\n",
    "plt.ylabel(\"AUC\")\n",
    "plt.title(\"ERROR PLOTS\")\n",
    "plt.show()\n",
    "     \n",
    "\n",
    "#Confusion Matrix\n",
    " \n",
    "cm = confusion_matrix(y_train, nb.predict(X_train_bow))\n",
    "cm = confusion_matrix(y_test, nb.predict(X_test_bow))\n",
    "tn, fp, fn, tp = cm.ravel()\n",
    "# https://stackoverflow.com/questions/35572000/how-can-i-plot-a-confusion-matrix\n",
    "# Code for drawing seaborn heatmaps\n",
    "class_names = ['0','1']\n",
    "df_heatmap = pd.DataFrame(cm, index=class_names, columns=class_names )\n",
    "fig = plt.figure(figsize=(5,3))\n",
    "heatmap = sns.heatmap(df_heatmap, annot=True, fmt=\"d\")\n",
    "\n",
    "# Setting tick labels for heatmap\n",
    "heatmap.yaxis.set_ticklabels(heatmap.yaxis.get_ticklabels(), rotation=0, ha='right', fontsize=14)\n",
    "heatmap.xaxis.set_ticklabels(heatmap.xaxis.get_ticklabels(), rotation=0, ha='right', fontsize=14)\n",
    "plt.ylabel('True label',size=18)\n",
    "plt.xlabel('Predict label',size=18)\n",
    "plt.title(\"Confusion Matrix\\n\",size=24)\n",
    "plt.show()   "
   ]
  },
  {
   "cell_type": "markdown",
   "metadata": {},
   "source": [
    "### [5.1.1] Top 10 important features of positive class from<font color='red'> SET 1</font>\n"
   ]
  },
  {
   "cell_type": "code",
   "execution_count": 42,
   "metadata": {},
   "outputs": [
    {
     "name": "stdout",
     "output_type": "stream",
     "text": [
      "['love' 'flavor' 'would' 'coffee' 'taste' 'one' 'great' 'good' 'like'\n",
      " 'not']\n"
     ]
    }
   ],
   "source": [
    "pos_sorted = nb.feature_log_prob_[1, :].argsort()\n",
    "print(np.take(vectorizer.get_feature_names(), pos_sorted[-10:]))"
   ]
  },
  {
   "cell_type": "markdown",
   "metadata": {},
   "source": [
    "### [5.1.2] Top 10 important features of negative class from<font color='red'> SET 1</font>"
   ]
  },
  {
   "cell_type": "code",
   "execution_count": 43,
   "metadata": {},
   "outputs": [
    {
     "name": "stdout",
     "output_type": "stream",
     "text": [
      "['no' 'flavor' 'good' 'coffee' 'one' 'product' 'would' 'taste' 'like'\n",
      " 'not']\n"
     ]
    }
   ],
   "source": [
    "# Please write all the code with proper documentation\n",
    "neg_sorted = nb.feature_log_prob_[0, :].argsort()\n",
    "print(np.take(vectorizer.get_feature_names(), neg_sorted[-10:]))"
   ]
  },
  {
   "cell_type": "markdown",
   "metadata": {},
   "source": [
    "## [5.2] Applying Naive Bayes on TFIDF,<font color='red'> SET 2</font>"
   ]
  },
  {
   "cell_type": "code",
   "execution_count": 44,
   "metadata": {},
   "outputs": [
    {
     "name": "stderr",
     "output_type": "stream",
     "text": [
      "100%|██████████| 9/9 [00:00<00:00, 21.03it/s]\n"
     ]
    },
    {
     "data": {
      "image/png": "[encoded data removed]",
      "text/plain": [
       "<Figure size 432x288 with 1 Axes>"
      ]
     },
     "metadata": {
      "needs_background": "light"
     },
     "output_type": "display_data"
    }
   ],
   "source": [
    "# Please write all the code with proper documentation\n",
    "from math import log\n",
    "\n",
    "train_auc = []\n",
    "cv_auc = []\n",
    "alpha = [10**-4, 10**-3, 10**-2, 10**-1, 1, 10**1, 10**2, 10**3, 10**4]\n",
    "logalpha = [log(y) for y in alpha]\n",
    "for i in tqdm(alpha):\n",
    "    nb = MultinomialNB(alpha=i, class_prior=None, fit_prior=True)\n",
    "    nb.fit(X_train_tfidf, y_train)\n",
    "\n",
    "    y_train_pred =  nb.predict_log_proba(X_train_tfidf)[:,1]\n",
    "    y_cv_pred =  nb.predict_log_proba(X_cv_tfidf)[:,1]\n",
    "    \n",
    "    train_auc.append(roc_auc_score(y_train,y_train_pred))\n",
    "    cv_auc.append(roc_auc_score(y_cv, y_cv_pred))\n",
    "\n",
    "plt.plot(logalpha, train_auc, label='Train AUC')\n",
    "plt.plot(logalpha, cv_auc, label='CV AUC')\n",
    "plt.legend()\n",
    "plt.xlabel(\"log(alpha)-value\")\n",
    "plt.ylabel(\"AUC\")\n",
    "plt.title(\"ERROR PLOTS\")\n",
    "plt.show()"
   ]
  },
  {
   "cell_type": "code",
   "execution_count": 48,
   "metadata": {},
   "outputs": [
    {
     "name": "stdout",
     "output_type": "stream",
     "text": [
      "1\n"
     ]
    }
   ],
   "source": [
    "best_auc = alpha[cv_auc.index(max(cv_auc))]\n",
    "print(best_auc)"
   ]
  },
  {
   "cell_type": "code",
   "execution_count": 49,
   "metadata": {},
   "outputs": [
    {
     "data": {
      "image/png": "[encoded data removed]",
      "text/plain": [
       "<Figure size 432x288 with 1 Axes>"
      ]
     },
     "metadata": {
      "needs_background": "light"
     },
     "output_type": "display_data"
    },
    {
     "data": {
      "image/png": "[encoded data removed]",
      "text/plain": [
       "<Figure size 360x216 with 2 Axes>"
      ]
     },
     "metadata": {
      "needs_background": "light"
     },
     "output_type": "display_data"
    }
   ],
   "source": [
    "nb = MultinomialNB(alpha=best_auc, class_prior=None, fit_prior=True)\n",
    "nb.fit(X_train_tfidf,y_train)\n",
    "   \n",
    "    \n",
    "train_fpr, train_tpr, thresholds = roc_curve(y_train, nb.predict_proba(X_train_tfidf)[:,1])\n",
    "test_fpr, test_tpr, thresholds = roc_curve(y_test, nb.predict_proba(X_test_tfidf)[:,1])\n",
    "\n",
    "plt.plot(train_fpr, train_tpr, label=\"train AUC =\"+str(auc(train_fpr, train_tpr)))\n",
    "plt.plot(test_fpr, test_tpr, label=\"test AUC =\"+str(auc(test_fpr, test_tpr)))\n",
    "plt.legend()\n",
    "plt.xlabel(\"A: hyperparameter\")\n",
    "plt.ylabel(\"AUC\")\n",
    "plt.title(\"ERROR PLOTS\")\n",
    "plt.show()\n",
    "     \n",
    "\n",
    "#Confusion Matrix\n",
    " \n",
    "cm = confusion_matrix(y_train, nb.predict(X_train_bow))\n",
    "cm = confusion_matrix(y_test, nb.predict(X_test_bow))\n",
    "tn, fp, fn, tp = cm.ravel()\n",
    "# https://stackoverflow.com/questions/35572000/how-can-i-plot-a-confusion-matrix\n",
    "# Code for drawing seaborn heatmaps\n",
    "class_names = ['0','1']\n",
    "df_heatmap = pd.DataFrame(cm, index=class_names, columns=class_names )\n",
    "fig = plt.figure(figsize=(5,3))\n",
    "heatmap = sns.heatmap(df_heatmap, annot=True, fmt=\"d\")\n",
    "\n",
    "# Setting tick labels for heatmap\n",
    "heatmap.yaxis.set_ticklabels(heatmap.yaxis.get_ticklabels(), rotation=0, ha='right', fontsize=14)\n",
    "heatmap.xaxis.set_ticklabels(heatmap.xaxis.get_ticklabels(), rotation=0, ha='right', fontsize=14)\n",
    "plt.ylabel('True label',size=18)\n",
    "plt.xlabel('Predict label',size=18)\n",
    "plt.title(\"Confusion Matrix\\n\",size=24)\n",
    "plt.show()"
   ]
  },
  {
   "cell_type": "markdown",
   "metadata": {},
   "source": [
    "### [5.2.1] Top 10 important features of positive class from<font color='red'> SET 2</font>"
   ]
  },
  {
   "cell_type": "code",
   "execution_count": 50,
   "metadata": {},
   "outputs": [
    {
     "name": "stdout",
     "output_type": "stream",
     "text": [
      "['taste' 'one' 'product' 'tea' 'love' 'coffee' 'like' 'good' 'great' 'not']\n"
     ]
    }
   ],
   "source": [
    "pos_sorted = nb.feature_log_prob_[1, :].argsort()\n",
    "print(np.take(tf_idf_vect.get_feature_names(), pos_sorted[-10:]))"
   ]
  },
  {
   "cell_type": "markdown",
   "metadata": {},
   "source": [
    "### [5.2.2] Top 10 important features of negative class from<font color='red'> SET 2</font>"
   ]
  },
  {
   "cell_type": "code",
   "execution_count": 51,
   "metadata": {},
   "outputs": [
    {
     "name": "stdout",
     "output_type": "stream",
     "text": [
      "['good' 'flavor' 'no' 'one' 'coffee' 'would' 'taste' 'product' 'like'\n",
      " 'not']\n"
     ]
    }
   ],
   "source": [
    "# Please write all the code with proper documentation\n",
    "\n",
    "neg_sorted = nb.feature_log_prob_[0, :].argsort()\n",
    "print(np.take(tf_idf_vect.get_feature_names(), neg_sorted[-10:]))"
   ]
  },
  {
   "cell_type": "markdown",
   "metadata": {},
   "source": [
    "# [6] Conclusions"
   ]
  },
  {
   "cell_type": "code",
   "execution_count": 53,
   "metadata": {},
   "outputs": [
    {
     "name": "stdout",
     "output_type": "stream",
     "text": [
      "+-------+--------------+-------+\n",
      "| S.NO. |    MODEL     | alpha |\n",
      "+-------+--------------+-------+\n",
      "|   1   | Bag of Words |  0.99 |\n",
      "|   2   |    TFIDF     |   1   |\n",
      "|   3   | Bag of Words |  0.99 |\n",
      "|   4   |    TFIDF     |   1   |\n",
      "+-------+--------------+-------+\n"
     ]
    }
   ],
   "source": [
    "from prettytable import PrettyTable\n",
    "\n",
    "# Names of models\n",
    "featurization = ['Bag of Words','TFIDF ','Bag of Words','TFIDF ']\n",
    " \n",
    "\n",
    "alpha=[0.99,1,0.99,1]\n",
    " \n",
    "numbering = [1,2,3,4]\n",
    "# Initializing prettytable\n",
    "ptable = PrettyTable()\n",
    "\n",
    "# Adding columns\n",
    "ptable.add_column(\"S.NO.\",numbering) \n",
    "ptable.add_column(\"MODEL\",featurization)\n",
    "ptable.add_column(\"alpha\",alpha)\n",
    " \n",
    "\n",
    "print(ptable)\n"
   ]
  },
  {
   "cell_type": "markdown",
   "metadata": {},
   "source": [
    "#  Summary\n",
    "\n",
    "### 1:What I observed firstly is that naive Bayes is faster than the KNN and gives faster and better result.\n",
    "\n",
    "### 2: TFIDF and BOW gave more than 85% AUC value.\n",
    "\n",
    "### 3: **Naive Bayes with Bow model has optimal value of alpha 0.99 where as Naive Bayes with TfIdf model has optimal value of alpha is 1. Vectorization of text optimal value may differ.** "
   ]
  }
 ],
 "metadata": {
  "accelerator": "GPU",
  "colab": {
   "collapsed_sections": [],
   "name": "KNN_Amazon_Fine_Foodfinal.ipynb",
   "provenance": [],
   "toc_visible": true,
   "version": "0.3.2"
  },
  "kernelspec": {
   "display_name": "Python 3",
   "language": "python",
   "name": "python3"
  },
  "language_info": {
   "codemirror_mode": {
    "name": "ipython",
    "version": 3
   },
   "file_extension": ".py",
   "mimetype": "text/x-python",
   "name": "python",
   "nbconvert_exporter": "python",
   "pygments_lexer": "ipython3",
   "version": "3.7.1"
  }
 },
 "nbformat": 4,
 "nbformat_minor": 1
}
