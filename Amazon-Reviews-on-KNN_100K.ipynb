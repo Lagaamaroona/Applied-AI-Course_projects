{
 "cells": [
  {
   "cell_type": "markdown",
   "metadata": {
    "_uuid": "1f4f6d07087c42c7f23d3faa47f80ad761ce7118",
    "colab_type": "text",
    "id": "uQCawNx8oD-b"
   },
   "source": [
    "# Amazon Fine Food Reviews Analysis\n",
    "\n",
    "\n",
    "Data Source: https://www.kaggle.com/snap/amazon-fine-food-reviews <br>\n",
    "\n",
    "EDA: https://nycdatascience.com/blog/student-works/amazon-fine-foods-visualization/\n",
    "\n",
    "\n",
    "The Amazon Fine Food Reviews dataset consists of reviews of fine foods from Amazon.<br>\n",
    "\n",
    "Number of reviews: 568,454<br>\n",
    "Number of users: 256,059<br>\n",
    "Number of products: 74,258<br>\n",
    "Timespan: Oct 1999 - Oct 2012<br>\n",
    "Number of Attributes/Columns in data: 10 \n",
    "\n",
    "Attribute Information:\n",
    "\n",
    "1. Id\n",
    "2. ProductId - unique identifier for the product\n",
    "3. UserId - unqiue identifier for the user\n",
    "4. ProfileName\n",
    "5. HelpfulnessNumerator - number of users who found the review helpful\n",
    "6. HelpfulnessDenominator - number of users who indicated whether they found the review helpful or not\n",
    "7. Score - rating between 1 and 5\n",
    "8. Time - timestamp for the review\n",
    "9. Summary - brief summary of the review\n",
    "10. Text - text of the review\n",
    "\n",
    "\n",
    "#### Objective:\n",
    "Given a review, determine whether the review is positive (rating of 4 or 5) or negative (rating of 1 or 2).\n",
    "\n",
    "<br>\n",
    "[Q] How to determine if a review is positive or negative?<br>\n",
    "<br> \n",
    "[Ans] We could use Score/Rating. A rating of 4 or 5 can be cosnidered as a positive review. A rating of 1 or 2 can be considered as negative one. A review of rating 3 is considered nuetral and such reviews are ignored from our analysis. This is an approximate and proxy way of determining the polarity (positivity/negativity) of a review.\n",
    "\n",
    "\n"
   ]
  },
  {
   "cell_type": "markdown",
   "metadata": {
    "_uuid": "08eb8f2929e6672dc52baa29fd275fd9006146fa",
    "colab_type": "text",
    "id": "lrNh1pNNoD-d"
   },
   "source": [
    "# [1]. Reading Data"
   ]
  },
  {
   "cell_type": "markdown",
   "metadata": {
    "_uuid": "4f2aa5a849ac0201027c0ed7a55ddbe54176ae8a",
    "colab_type": "text",
    "id": "V7VZ4onjoD-f"
   },
   "source": [
    "## [1.1] Loading the data\n",
    "\n",
    "The dataset is available in two forms\n",
    "1. .csv file\n",
    "2. SQLite Database\n",
    "\n",
    "In order to load the data, We have used the SQLITE dataset as it is easier to query the data and visualise the data efficiently.\n",
    "<br> \n",
    "\n",
    "Here as we only want to get the global sentiment of the recommendations (positive or negative), we will purposefully ignore all Scores equal to 3. If the score is above 3, then the recommendation wil be set to \"positive\". Otherwise, it will be set to \"negative\"."
   ]
  },
  {
   "cell_type": "code",
   "execution_count": 236,
   "metadata": {
    "_uuid": "64254e89a6784d67fa735909e3bb61769ac43fff",
    "colab": {},
    "colab_type": "code",
    "id": "wjfxYK6GoD-g"
   },
   "outputs": [],
   "source": [
    "%matplotlib inline\n",
    "import warnings\n",
    "warnings.filterwarnings(\"ignore\")\n",
    "\n",
    "import sqlite3\n",
    "import pandas as pd\n",
    "import numpy as np\n",
    "import nltk\n",
    "import string\n",
    "import matplotlib.pyplot as plt\n",
    "import seaborn as sns\n",
    "from sklearn.feature_extraction.text import TfidfTransformer\n",
    "from sklearn.feature_extraction.text import TfidfVectorizer\n",
    "\n",
    "from sklearn.feature_extraction.text import CountVectorizer\n",
    "from sklearn.metrics import confusion_matrix\n",
    "from sklearn import metrics\n",
    "from sklearn.metrics import roc_curve, auc\n",
    "from nltk.stem.porter import PorterStemmer\n",
    "\n",
    "import re\n",
    "# Tutorial about Python regular expressions: https://pymotw.com/2/re/\n",
    "import string\n",
    "from nltk.corpus import stopwords\n",
    "from nltk.stem import PorterStemmer\n",
    "from nltk.stem.wordnet import WordNetLemmatizer\n",
    "\n",
    "from gensim.models import Word2Vec\n",
    "from gensim.models import KeyedVectors\n",
    "import pickle\n",
    "from sklearn.neighbors import KNeighborsClassifier\n",
    "from sklearn.neighbors import NearestNeighbors\n",
    "\n",
    "from sklearn.metrics import confusion_matrix,precision_score,recall_score,f1_score,roc_auc_score,accuracy_score\n",
    "\n",
    "from tqdm import tqdm\n",
    "import os"
   ]
  },
  {
   "cell_type": "code",
   "execution_count": 237,
   "metadata": {
    "_uuid": "aae82728dabc540013b8fcff37cfff7c06d52281",
    "colab": {
     "base_uri": "https://localhost:8080/",
     "height": 425
    },
    "colab_type": "code",
    "id": "M_GRO7fNoD-k",
    "outputId": "28dcc926-644e-4c0c-96b3-da055bcbf668"
   },
   "outputs": [
    {
     "name": "stdout",
     "output_type": "stream",
     "text": [
      "Number of data points in our data (200000, 10)\n"
     ]
    },
    {
     "data": {
      "text/html": [
       "<div>\n",
       "<style scoped>\n",
       "    .dataframe tbody tr th:only-of-type {\n",
       "        vertical-align: middle;\n",
       "    }\n",
       "\n",
       "    .dataframe tbody tr th {\n",
       "        vertical-align: top;\n",
       "    }\n",
       "\n",
       "    .dataframe thead th {\n",
       "        text-align: right;\n",
       "    }\n",
       "</style>\n",
       "<table border=\"1\" class=\"dataframe\">\n",
       "  <thead>\n",
       "    <tr style=\"text-align: right;\">\n",
       "      <th></th>\n",
       "      <th>Id</th>\n",
       "      <th>ProductId</th>\n",
       "      <th>UserId</th>\n",
       "      <th>ProfileName</th>\n",
       "      <th>HelpfulnessNumerator</th>\n",
       "      <th>HelpfulnessDenominator</th>\n",
       "      <th>Score</th>\n",
       "      <th>Time</th>\n",
       "      <th>Summary</th>\n",
       "      <th>Text</th>\n",
       "    </tr>\n",
       "  </thead>\n",
       "  <tbody>\n",
       "    <tr>\n",
       "      <th>0</th>\n",
       "      <td>1</td>\n",
       "      <td>B001E4KFG0</td>\n",
       "      <td>A3SGXH7AUHU8GW</td>\n",
       "      <td>delmartian</td>\n",
       "      <td>1</td>\n",
       "      <td>1</td>\n",
       "      <td>1</td>\n",
       "      <td>1303862400</td>\n",
       "      <td>Good Quality Dog Food</td>\n",
       "      <td>I have bought several of the Vitality canned d...</td>\n",
       "    </tr>\n",
       "    <tr>\n",
       "      <th>1</th>\n",
       "      <td>2</td>\n",
       "      <td>B00813GRG4</td>\n",
       "      <td>A1D87F6ZCVE5NK</td>\n",
       "      <td>dll pa</td>\n",
       "      <td>0</td>\n",
       "      <td>0</td>\n",
       "      <td>0</td>\n",
       "      <td>1346976000</td>\n",
       "      <td>Not as Advertised</td>\n",
       "      <td>Product arrived labeled as Jumbo Salted Peanut...</td>\n",
       "    </tr>\n",
       "    <tr>\n",
       "      <th>2</th>\n",
       "      <td>3</td>\n",
       "      <td>B000LQOCH0</td>\n",
       "      <td>ABXLMWJIXXAIN</td>\n",
       "      <td>Natalia Corres \"Natalia Corres\"</td>\n",
       "      <td>1</td>\n",
       "      <td>1</td>\n",
       "      <td>1</td>\n",
       "      <td>1219017600</td>\n",
       "      <td>\"Delight\" says it all</td>\n",
       "      <td>This is a confection that has been around a fe...</td>\n",
       "    </tr>\n",
       "  </tbody>\n",
       "</table>\n",
       "</div>"
      ],
      "text/plain": [
       "   Id   ProductId          UserId                      ProfileName  \\\n",
       "0   1  B001E4KFG0  A3SGXH7AUHU8GW                       delmartian   \n",
       "1   2  B00813GRG4  A1D87F6ZCVE5NK                           dll pa   \n",
       "2   3  B000LQOCH0   ABXLMWJIXXAIN  Natalia Corres \"Natalia Corres\"   \n",
       "\n",
       "   HelpfulnessNumerator  HelpfulnessDenominator  Score        Time  \\\n",
       "0                     1                       1      1  1303862400   \n",
       "1                     0                       0      0  1346976000   \n",
       "2                     1                       1      1  1219017600   \n",
       "\n",
       "                 Summary                                               Text  \n",
       "0  Good Quality Dog Food  I have bought several of the Vitality canned d...  \n",
       "1      Not as Advertised  Product arrived labeled as Jumbo Salted Peanut...  \n",
       "2  \"Delight\" says it all  This is a confection that has been around a fe...  "
      ]
     },
     "execution_count": 237,
     "metadata": {},
     "output_type": "execute_result"
    }
   ],
   "source": [
    "# using SQLite Table to read data.\n",
    "con = sqlite3.connect('database.sqlite') \n",
    "\n",
    "# filtering only positive and negative reviews i.e. \n",
    "# not taking into consideration those reviews with Score=3\n",
    "# SELECT * FROM Reviews WHERE Score != 3 LIMIT 500000, will give top 500000 data points\n",
    "# you can change the number to any other number based on your computing power\n",
    "\n",
    "# filtered_data = pd.read_sql_query(\"\"\" SELECT * FROM Reviews WHERE Score != 3 LIMIT 500000\"\"\", con) \n",
    "# for tsne assignment you can take 5k data points\n",
    "\n",
    "filtered_data = pd.read_sql_query(\"\"\" SELECT * FROM Reviews WHERE Score != 3 LIMIT 200000\"\"\", con) \n",
    "\n",
    "# Give reviews with Score>3 a positive rating(1), and reviews with a score<3 a negative rating(0).\n",
    "def partition(x):\n",
    "    if x < 3:\n",
    "        return 0\n",
    "    return 1\n",
    "\n",
    "#changing reviews with score less than 3 to be positive and vice-versa\n",
    "actualScore = filtered_data['Score']\n",
    "positiveNegative = actualScore.map(partition) \n",
    "filtered_data['Score'] = positiveNegative\n",
    "print(\"Number of data points in our data\", filtered_data.shape)\n",
    "filtered_data.head(3)"
   ]
  },
  {
   "cell_type": "code",
   "execution_count": 238,
   "metadata": {
    "_uuid": "ce0a8dee5c1c0294c28ade0c6aee4ddb99152713",
    "colab": {},
    "colab_type": "code",
    "id": "OwARD9GFoD-p"
   },
   "outputs": [],
   "source": [
    "display = pd.read_sql_query(\"\"\"\n",
    "SELECT UserId, ProductId, ProfileName, Time, Score, Text, COUNT(*)\n",
    "FROM Reviews\n",
    "GROUP BY UserId\n",
    "HAVING COUNT(*)>1\n",
    "\"\"\", con)"
   ]
  },
  {
   "cell_type": "code",
   "execution_count": 239,
   "metadata": {
    "_uuid": "99538054660f9625b4f5ecba374739d12ce400e7",
    "colab": {
     "base_uri": "https://localhost:8080/",
     "height": 551
    },
    "colab_type": "code",
    "id": "l-jiKr-7oD-s",
    "outputId": "581c27c5-edc8-4608-e96d-f12726b9c662",
    "scrolled": true
   },
   "outputs": [
    {
     "name": "stdout",
     "output_type": "stream",
     "text": [
      "(80668, 7)\n"
     ]
    },
    {
     "data": {
      "text/html": [
       "<div>\n",
       "<style scoped>\n",
       "    .dataframe tbody tr th:only-of-type {\n",
       "        vertical-align: middle;\n",
       "    }\n",
       "\n",
       "    .dataframe tbody tr th {\n",
       "        vertical-align: top;\n",
       "    }\n",
       "\n",
       "    .dataframe thead th {\n",
       "        text-align: right;\n",
       "    }\n",
       "</style>\n",
       "<table border=\"1\" class=\"dataframe\">\n",
       "  <thead>\n",
       "    <tr style=\"text-align: right;\">\n",
       "      <th></th>\n",
       "      <th>UserId</th>\n",
       "      <th>ProductId</th>\n",
       "      <th>ProfileName</th>\n",
       "      <th>Time</th>\n",
       "      <th>Score</th>\n",
       "      <th>Text</th>\n",
       "      <th>COUNT(*)</th>\n",
       "    </tr>\n",
       "  </thead>\n",
       "  <tbody>\n",
       "    <tr>\n",
       "      <th>0</th>\n",
       "      <td>#oc-R115TNMSPFT9I7</td>\n",
       "      <td>B005ZBZLT4</td>\n",
       "      <td>Breyton</td>\n",
       "      <td>1331510400</td>\n",
       "      <td>2</td>\n",
       "      <td>Overall its just OK when considering the price...</td>\n",
       "      <td>2</td>\n",
       "    </tr>\n",
       "    <tr>\n",
       "      <th>1</th>\n",
       "      <td>#oc-R11D9D7SHXIJB9</td>\n",
       "      <td>B005HG9ESG</td>\n",
       "      <td>Louis E. Emory \"hoppy\"</td>\n",
       "      <td>1342396800</td>\n",
       "      <td>5</td>\n",
       "      <td>My wife has recurring extreme muscle spasms, u...</td>\n",
       "      <td>3</td>\n",
       "    </tr>\n",
       "    <tr>\n",
       "      <th>2</th>\n",
       "      <td>#oc-R11DNU2NBKQ23Z</td>\n",
       "      <td>B005ZBZLT4</td>\n",
       "      <td>Kim Cieszykowski</td>\n",
       "      <td>1348531200</td>\n",
       "      <td>1</td>\n",
       "      <td>This coffee is horrible and unfortunately not ...</td>\n",
       "      <td>2</td>\n",
       "    </tr>\n",
       "    <tr>\n",
       "      <th>3</th>\n",
       "      <td>#oc-R11O5J5ZVQE25C</td>\n",
       "      <td>B005HG9ESG</td>\n",
       "      <td>Penguin Chick</td>\n",
       "      <td>1346889600</td>\n",
       "      <td>5</td>\n",
       "      <td>This will be the bottle that you grab from the...</td>\n",
       "      <td>3</td>\n",
       "    </tr>\n",
       "    <tr>\n",
       "      <th>4</th>\n",
       "      <td>#oc-R12KPBODL2B5ZD</td>\n",
       "      <td>B007OSBEV0</td>\n",
       "      <td>Christopher P. Presta</td>\n",
       "      <td>1348617600</td>\n",
       "      <td>1</td>\n",
       "      <td>I didnt like this coffee. Instead of telling y...</td>\n",
       "      <td>2</td>\n",
       "    </tr>\n",
       "  </tbody>\n",
       "</table>\n",
       "</div>"
      ],
      "text/plain": [
       "               UserId   ProductId             ProfileName        Time  Score  \\\n",
       "0  #oc-R115TNMSPFT9I7  B005ZBZLT4                 Breyton  1331510400      2   \n",
       "1  #oc-R11D9D7SHXIJB9  B005HG9ESG  Louis E. Emory \"hoppy\"  1342396800      5   \n",
       "2  #oc-R11DNU2NBKQ23Z  B005ZBZLT4        Kim Cieszykowski  1348531200      1   \n",
       "3  #oc-R11O5J5ZVQE25C  B005HG9ESG           Penguin Chick  1346889600      5   \n",
       "4  #oc-R12KPBODL2B5ZD  B007OSBEV0   Christopher P. Presta  1348617600      1   \n",
       "\n",
       "                                                Text  COUNT(*)  \n",
       "0  Overall its just OK when considering the price...         2  \n",
       "1  My wife has recurring extreme muscle spasms, u...         3  \n",
       "2  This coffee is horrible and unfortunately not ...         2  \n",
       "3  This will be the bottle that you grab from the...         3  \n",
       "4  I didnt like this coffee. Instead of telling y...         2  "
      ]
     },
     "execution_count": 239,
     "metadata": {},
     "output_type": "execute_result"
    }
   ],
   "source": [
    "print(display.shape)\n",
    "display.head()"
   ]
  },
  {
   "cell_type": "code",
   "execution_count": 240,
   "metadata": {
    "_kg_hide-input": true,
    "_kg_hide-output": true,
    "_uuid": "2339a4dd81097e7f1610ee47347133064cee579c",
    "colab": {
     "base_uri": "https://localhost:8080/",
     "height": 164
    },
    "colab_type": "code",
    "id": "Bpa1OJK8oD-w",
    "outputId": "bc34e76d-6568-4a91-ed1e-2ba29d3dec44"
   },
   "outputs": [
    {
     "data": {
      "text/html": [
       "<div>\n",
       "<style scoped>\n",
       "    .dataframe tbody tr th:only-of-type {\n",
       "        vertical-align: middle;\n",
       "    }\n",
       "\n",
       "    .dataframe tbody tr th {\n",
       "        vertical-align: top;\n",
       "    }\n",
       "\n",
       "    .dataframe thead th {\n",
       "        text-align: right;\n",
       "    }\n",
       "</style>\n",
       "<table border=\"1\" class=\"dataframe\">\n",
       "  <thead>\n",
       "    <tr style=\"text-align: right;\">\n",
       "      <th></th>\n",
       "      <th>UserId</th>\n",
       "      <th>ProductId</th>\n",
       "      <th>ProfileName</th>\n",
       "      <th>Time</th>\n",
       "      <th>Score</th>\n",
       "      <th>Text</th>\n",
       "      <th>COUNT(*)</th>\n",
       "    </tr>\n",
       "  </thead>\n",
       "  <tbody>\n",
       "    <tr>\n",
       "      <th>80638</th>\n",
       "      <td>AZY10LLTJ71NX</td>\n",
       "      <td>B001ATMQK2</td>\n",
       "      <td>undertheshrine \"undertheshrine\"</td>\n",
       "      <td>1296691200</td>\n",
       "      <td>5</td>\n",
       "      <td>I bought this 6 pack because for the price tha...</td>\n",
       "      <td>5</td>\n",
       "    </tr>\n",
       "  </tbody>\n",
       "</table>\n",
       "</div>"
      ],
      "text/plain": [
       "              UserId   ProductId                      ProfileName        Time  \\\n",
       "80638  AZY10LLTJ71NX  B001ATMQK2  undertheshrine \"undertheshrine\"  1296691200   \n",
       "\n",
       "       Score                                               Text  COUNT(*)  \n",
       "80638      5  I bought this 6 pack because for the price tha...         5  "
      ]
     },
     "execution_count": 240,
     "metadata": {},
     "output_type": "execute_result"
    }
   ],
   "source": [
    "display[display['UserId']=='AZY10LLTJ71NX']"
   ]
  },
  {
   "cell_type": "code",
   "execution_count": 241,
   "metadata": {
    "_uuid": "269d96ff9dc2bb175034a0a85c5188fb5b7eeb00",
    "colab": {
     "base_uri": "https://localhost:8080/",
     "height": 34
    },
    "colab_type": "code",
    "id": "43pFh6k2oD-z",
    "outputId": "ab0abd18-4166-4ed1-d64e-c940bc1ffb17"
   },
   "outputs": [
    {
     "data": {
      "text/plain": [
       "393063"
      ]
     },
     "execution_count": 241,
     "metadata": {},
     "output_type": "execute_result"
    }
   ],
   "source": [
    "display['COUNT(*)'].sum()"
   ]
  },
  {
   "cell_type": "markdown",
   "metadata": {
    "_uuid": "719511321738b84dd7790fc23cbec7fa79656461",
    "colab_type": "text",
    "id": "5m9TSalDoD-2"
   },
   "source": [
    "#  [2] Exploratory Data Analysis"
   ]
  },
  {
   "cell_type": "markdown",
   "metadata": {
    "_uuid": "1c15769af8f320e171a67d6dc2aa66f76244ae59",
    "colab_type": "text",
    "id": "NHwObEmOoD-3"
   },
   "source": [
    "## [2.1] Data Cleaning: Deduplication\n",
    "\n",
    "It is observed (as shown in the table below) that the reviews data had many duplicate entries. Hence it was necessary to remove duplicates in order to get unbiased results for the analysis of the data.  Following is an example:"
   ]
  },
  {
   "cell_type": "code",
   "execution_count": 242,
   "metadata": {
    "_uuid": "8f7747f06990a9198e1209ec461bc0d26e1594b0",
    "colab": {
     "base_uri": "https://localhost:8080/",
     "height": 551
    },
    "colab_type": "code",
    "id": "JCenYNtioD-4",
    "outputId": "19a65c5b-0ad6-4e96-c54b-0ea1058af81b",
    "scrolled": false
   },
   "outputs": [
    {
     "data": {
      "text/html": [
       "<div>\n",
       "<style scoped>\n",
       "    .dataframe tbody tr th:only-of-type {\n",
       "        vertical-align: middle;\n",
       "    }\n",
       "\n",
       "    .dataframe tbody tr th {\n",
       "        vertical-align: top;\n",
       "    }\n",
       "\n",
       "    .dataframe thead th {\n",
       "        text-align: right;\n",
       "    }\n",
       "</style>\n",
       "<table border=\"1\" class=\"dataframe\">\n",
       "  <thead>\n",
       "    <tr style=\"text-align: right;\">\n",
       "      <th></th>\n",
       "      <th>Id</th>\n",
       "      <th>ProductId</th>\n",
       "      <th>UserId</th>\n",
       "      <th>ProfileName</th>\n",
       "      <th>HelpfulnessNumerator</th>\n",
       "      <th>HelpfulnessDenominator</th>\n",
       "      <th>Score</th>\n",
       "      <th>Time</th>\n",
       "      <th>Summary</th>\n",
       "      <th>Text</th>\n",
       "    </tr>\n",
       "  </thead>\n",
       "  <tbody>\n",
       "    <tr>\n",
       "      <th>0</th>\n",
       "      <td>78445</td>\n",
       "      <td>B000HDL1RQ</td>\n",
       "      <td>AR5J8UI46CURR</td>\n",
       "      <td>Geetha Krishnan</td>\n",
       "      <td>2</td>\n",
       "      <td>2</td>\n",
       "      <td>5</td>\n",
       "      <td>1199577600</td>\n",
       "      <td>LOACKER QUADRATINI VANILLA WAFERS</td>\n",
       "      <td>DELICIOUS WAFERS. I FIND THAT EUROPEAN WAFERS ...</td>\n",
       "    </tr>\n",
       "    <tr>\n",
       "      <th>1</th>\n",
       "      <td>138317</td>\n",
       "      <td>B000HDOPYC</td>\n",
       "      <td>AR5J8UI46CURR</td>\n",
       "      <td>Geetha Krishnan</td>\n",
       "      <td>2</td>\n",
       "      <td>2</td>\n",
       "      <td>5</td>\n",
       "      <td>1199577600</td>\n",
       "      <td>LOACKER QUADRATINI VANILLA WAFERS</td>\n",
       "      <td>DELICIOUS WAFERS. I FIND THAT EUROPEAN WAFERS ...</td>\n",
       "    </tr>\n",
       "    <tr>\n",
       "      <th>2</th>\n",
       "      <td>138277</td>\n",
       "      <td>B000HDOPYM</td>\n",
       "      <td>AR5J8UI46CURR</td>\n",
       "      <td>Geetha Krishnan</td>\n",
       "      <td>2</td>\n",
       "      <td>2</td>\n",
       "      <td>5</td>\n",
       "      <td>1199577600</td>\n",
       "      <td>LOACKER QUADRATINI VANILLA WAFERS</td>\n",
       "      <td>DELICIOUS WAFERS. I FIND THAT EUROPEAN WAFERS ...</td>\n",
       "    </tr>\n",
       "    <tr>\n",
       "      <th>3</th>\n",
       "      <td>73791</td>\n",
       "      <td>B000HDOPZG</td>\n",
       "      <td>AR5J8UI46CURR</td>\n",
       "      <td>Geetha Krishnan</td>\n",
       "      <td>2</td>\n",
       "      <td>2</td>\n",
       "      <td>5</td>\n",
       "      <td>1199577600</td>\n",
       "      <td>LOACKER QUADRATINI VANILLA WAFERS</td>\n",
       "      <td>DELICIOUS WAFERS. I FIND THAT EUROPEAN WAFERS ...</td>\n",
       "    </tr>\n",
       "    <tr>\n",
       "      <th>4</th>\n",
       "      <td>155049</td>\n",
       "      <td>B000PAQ75C</td>\n",
       "      <td>AR5J8UI46CURR</td>\n",
       "      <td>Geetha Krishnan</td>\n",
       "      <td>2</td>\n",
       "      <td>2</td>\n",
       "      <td>5</td>\n",
       "      <td>1199577600</td>\n",
       "      <td>LOACKER QUADRATINI VANILLA WAFERS</td>\n",
       "      <td>DELICIOUS WAFERS. I FIND THAT EUROPEAN WAFERS ...</td>\n",
       "    </tr>\n",
       "  </tbody>\n",
       "</table>\n",
       "</div>"
      ],
      "text/plain": [
       "       Id   ProductId         UserId      ProfileName  HelpfulnessNumerator  \\\n",
       "0   78445  B000HDL1RQ  AR5J8UI46CURR  Geetha Krishnan                     2   \n",
       "1  138317  B000HDOPYC  AR5J8UI46CURR  Geetha Krishnan                     2   \n",
       "2  138277  B000HDOPYM  AR5J8UI46CURR  Geetha Krishnan                     2   \n",
       "3   73791  B000HDOPZG  AR5J8UI46CURR  Geetha Krishnan                     2   \n",
       "4  155049  B000PAQ75C  AR5J8UI46CURR  Geetha Krishnan                     2   \n",
       "\n",
       "   HelpfulnessDenominator  Score        Time  \\\n",
       "0                       2      5  1199577600   \n",
       "1                       2      5  1199577600   \n",
       "2                       2      5  1199577600   \n",
       "3                       2      5  1199577600   \n",
       "4                       2      5  1199577600   \n",
       "\n",
       "                             Summary  \\\n",
       "0  LOACKER QUADRATINI VANILLA WAFERS   \n",
       "1  LOACKER QUADRATINI VANILLA WAFERS   \n",
       "2  LOACKER QUADRATINI VANILLA WAFERS   \n",
       "3  LOACKER QUADRATINI VANILLA WAFERS   \n",
       "4  LOACKER QUADRATINI VANILLA WAFERS   \n",
       "\n",
       "                                                Text  \n",
       "0  DELICIOUS WAFERS. I FIND THAT EUROPEAN WAFERS ...  \n",
       "1  DELICIOUS WAFERS. I FIND THAT EUROPEAN WAFERS ...  \n",
       "2  DELICIOUS WAFERS. I FIND THAT EUROPEAN WAFERS ...  \n",
       "3  DELICIOUS WAFERS. I FIND THAT EUROPEAN WAFERS ...  \n",
       "4  DELICIOUS WAFERS. I FIND THAT EUROPEAN WAFERS ...  "
      ]
     },
     "execution_count": 242,
     "metadata": {},
     "output_type": "execute_result"
    }
   ],
   "source": [
    "display= pd.read_sql_query(\"\"\"\n",
    "SELECT *\n",
    "FROM Reviews\n",
    "WHERE Score != 3 AND UserId=\"AR5J8UI46CURR\"\n",
    "ORDER BY ProductID\n",
    "\"\"\", con)\n",
    "display.head()"
   ]
  },
  {
   "cell_type": "markdown",
   "metadata": {
    "_uuid": "c669f827e7dac95a64c7351b9d16bc907d61597d",
    "colab_type": "text",
    "id": "wNZtj89_oD-7"
   },
   "source": [
    "As it can be seen above that same user has multiple reviews with same values for HelpfulnessNumerator, HelpfulnessDenominator, Score, Time, Summary and Text and on doing analysis it was found that <br>\n",
    "<br> \n",
    "ProductId=B000HDOPZG was Loacker Quadratini Vanilla Wafer Cookies, 8.82-Ounce Packages (Pack of 8)<br>\n",
    "<br> \n",
    "ProductId=B000HDL1RQ was Loacker Quadratini Lemon Wafer Cookies, 8.82-Ounce Packages (Pack of 8) and so on<br>\n",
    "\n",
    "It was inferred after analysis that reviews with same parameters other than ProductId belonged to the same product just having different flavour or quantity. Hence in order to reduce redundancy it was decided to eliminate the rows having same parameters.<br>\n",
    "\n",
    "The method used for the same was that we first sort the data according to ProductId and then just keep the first similar product review and delelte the others. for eg. in the above just the review for ProductId=B000HDL1RQ remains. This method ensures that there is only one representative for each product and deduplication without sorting would lead to possibility of different representatives still existing for the same product."
   ]
  },
  {
   "cell_type": "code",
   "execution_count": 243,
   "metadata": {
    "_uuid": "13f0dd777000d32ab94b55dbd6ef9bb8965e9e09",
    "colab": {},
    "colab_type": "code",
    "id": "dWEhyq0foD-8"
   },
   "outputs": [],
   "source": [
    "#Sorting data according to ProductId in ascending order\n",
    "sorted_data=filtered_data.sort_values('ProductId', axis=0, ascending=True, inplace=False, kind='quicksort', na_position='last')"
   ]
  },
  {
   "cell_type": "code",
   "execution_count": 244,
   "metadata": {
    "_uuid": "2bea44efd839119a59541df292dc77bde3cbf864",
    "colab": {
     "base_uri": "https://localhost:8080/",
     "height": 34
    },
    "colab_type": "code",
    "id": "BrKUBiAxoD-_",
    "outputId": "6cbf4109-0331-42ef-de64-f59c23ecd3c2"
   },
   "outputs": [
    {
     "data": {
      "text/plain": [
       "(160178, 10)"
      ]
     },
     "execution_count": 244,
     "metadata": {},
     "output_type": "execute_result"
    }
   ],
   "source": [
    "#Deduplication of entries\n",
    "final=sorted_data.drop_duplicates(subset={\"UserId\",\"ProfileName\",\"Time\",\"Text\"}, keep='first', inplace=False)\n",
    "final.shape"
   ]
  },
  {
   "cell_type": "code",
   "execution_count": 245,
   "metadata": {
    "_uuid": "38d47f23c76320f2682cdd359e2df4d898ef25b3",
    "colab": {
     "base_uri": "https://localhost:8080/",
     "height": 34
    },
    "colab_type": "code",
    "id": "7JZ_Gn_7oD_D",
    "outputId": "d10ffd82-74ba-488f-8bdc-25b999609f88"
   },
   "outputs": [
    {
     "data": {
      "text/plain": [
       "80.089"
      ]
     },
     "execution_count": 245,
     "metadata": {},
     "output_type": "execute_result"
    }
   ],
   "source": [
    "#Checking to see how much % of data still remains\n",
    "(final['Id'].size*1.0)/(filtered_data['Id'].size*1.0)*100"
   ]
  },
  {
   "cell_type": "markdown",
   "metadata": {
    "_uuid": "7eaa02ac743a92fe90d182caa8b8c67a2c72ad01",
    "colab_type": "text",
    "id": "AznpyUNPoD_I"
   },
   "source": [
    "<b>Observation:-</b> It was also seen that in two rows given below the value of HelpfulnessNumerator is greater than HelpfulnessDenominator which is not practically possible hence these two rows too are removed from calcualtions"
   ]
  },
  {
   "cell_type": "code",
   "execution_count": 246,
   "metadata": {
    "_uuid": "672fc4b21b52e396e03dff00b9a0527a14a7d88c",
    "colab": {
     "base_uri": "https://localhost:8080/",
     "height": 311
    },
    "colab_type": "code",
    "id": "X_FQv0GSoD_J",
    "outputId": "e6b2b59e-f9c5-475c-bda7-388ee2580337"
   },
   "outputs": [
    {
     "data": {
      "text/html": [
       "<div>\n",
       "<style scoped>\n",
       "    .dataframe tbody tr th:only-of-type {\n",
       "        vertical-align: middle;\n",
       "    }\n",
       "\n",
       "    .dataframe tbody tr th {\n",
       "        vertical-align: top;\n",
       "    }\n",
       "\n",
       "    .dataframe thead th {\n",
       "        text-align: right;\n",
       "    }\n",
       "</style>\n",
       "<table border=\"1\" class=\"dataframe\">\n",
       "  <thead>\n",
       "    <tr style=\"text-align: right;\">\n",
       "      <th></th>\n",
       "      <th>Id</th>\n",
       "      <th>ProductId</th>\n",
       "      <th>UserId</th>\n",
       "      <th>ProfileName</th>\n",
       "      <th>HelpfulnessNumerator</th>\n",
       "      <th>HelpfulnessDenominator</th>\n",
       "      <th>Score</th>\n",
       "      <th>Time</th>\n",
       "      <th>Summary</th>\n",
       "      <th>Text</th>\n",
       "    </tr>\n",
       "  </thead>\n",
       "  <tbody>\n",
       "    <tr>\n",
       "      <th>0</th>\n",
       "      <td>64422</td>\n",
       "      <td>B000MIDROQ</td>\n",
       "      <td>A161DK06JJMCYF</td>\n",
       "      <td>J. E. Stephens \"Jeanne\"</td>\n",
       "      <td>3</td>\n",
       "      <td>1</td>\n",
       "      <td>5</td>\n",
       "      <td>1224892800</td>\n",
       "      <td>Bought This for My Son at College</td>\n",
       "      <td>My son loves spaghetti so I didn't hesitate or...</td>\n",
       "    </tr>\n",
       "    <tr>\n",
       "      <th>1</th>\n",
       "      <td>44737</td>\n",
       "      <td>B001EQ55RW</td>\n",
       "      <td>A2V0I904FH7ABY</td>\n",
       "      <td>Ram</td>\n",
       "      <td>3</td>\n",
       "      <td>2</td>\n",
       "      <td>4</td>\n",
       "      <td>1212883200</td>\n",
       "      <td>Pure cocoa taste with crunchy almonds inside</td>\n",
       "      <td>It was almost a 'love at first bite' - the per...</td>\n",
       "    </tr>\n",
       "  </tbody>\n",
       "</table>\n",
       "</div>"
      ],
      "text/plain": [
       "      Id   ProductId          UserId              ProfileName  \\\n",
       "0  64422  B000MIDROQ  A161DK06JJMCYF  J. E. Stephens \"Jeanne\"   \n",
       "1  44737  B001EQ55RW  A2V0I904FH7ABY                      Ram   \n",
       "\n",
       "   HelpfulnessNumerator  HelpfulnessDenominator  Score        Time  \\\n",
       "0                     3                       1      5  1224892800   \n",
       "1                     3                       2      4  1212883200   \n",
       "\n",
       "                                        Summary  \\\n",
       "0             Bought This for My Son at College   \n",
       "1  Pure cocoa taste with crunchy almonds inside   \n",
       "\n",
       "                                                Text  \n",
       "0  My son loves spaghetti so I didn't hesitate or...  \n",
       "1  It was almost a 'love at first bite' - the per...  "
      ]
     },
     "execution_count": 246,
     "metadata": {},
     "output_type": "execute_result"
    }
   ],
   "source": [
    "display= pd.read_sql_query(\"\"\"\n",
    "SELECT *\n",
    "FROM Reviews\n",
    "WHERE Score != 3 AND Id=44737 OR Id=64422\n",
    "ORDER BY ProductID\n",
    "\"\"\", con)\n",
    "\n",
    "display.head()"
   ]
  },
  {
   "cell_type": "code",
   "execution_count": 247,
   "metadata": {
    "_uuid": "1949f1eab3ac2ab6b5862e073592bda72d2d3c6c",
    "colab": {},
    "colab_type": "code",
    "id": "O4ykyMO5oD_P"
   },
   "outputs": [],
   "source": [
    "final=final[final.HelpfulnessNumerator<=final.HelpfulnessDenominator]"
   ]
  },
  {
   "cell_type": "code",
   "execution_count": 248,
   "metadata": {
    "_uuid": "2938a3670abb14fd96093effafd7f66a3e6f55a8",
    "colab": {
     "base_uri": "https://localhost:8080/",
     "height": 84
    },
    "colab_type": "code",
    "id": "9KDRo1SLoD_T",
    "outputId": "c0d94be1-4c09-4bb1-aab1-99f920422f99"
   },
   "outputs": [
    {
     "name": "stdout",
     "output_type": "stream",
     "text": [
      "(160176, 10)\n"
     ]
    },
    {
     "data": {
      "text/plain": [
       "1    134799\n",
       "0     25377\n",
       "Name: Score, dtype: int64"
      ]
     },
     "execution_count": 248,
     "metadata": {},
     "output_type": "execute_result"
    }
   ],
   "source": [
    "#Before starting the next phase of preprocessing lets see the number of entries left\n",
    "print(final.shape)\n",
    "\n",
    "#How many positive and negative reviews are present in our dataset?\n",
    "final['Score'].value_counts()"
   ]
  },
  {
   "cell_type": "code",
   "execution_count": 249,
   "metadata": {
    "_uuid": "357e4fd0d374c58e87956d5d2bebff8a74ca606c",
    "colab": {
     "base_uri": "https://localhost:8080/",
     "height": 702
    },
    "colab_type": "code",
    "id": "gDh5PW2MoD_X",
    "outputId": "2f7290fd-3431-498b-8123-c1a4fe3e6323"
   },
   "outputs": [
    {
     "name": "stdout",
     "output_type": "stream",
     "text": [
      "(100000, 10)\n"
     ]
    },
    {
     "data": {
      "text/html": [
       "<div>\n",
       "<style scoped>\n",
       "    .dataframe tbody tr th:only-of-type {\n",
       "        vertical-align: middle;\n",
       "    }\n",
       "\n",
       "    .dataframe tbody tr th {\n",
       "        vertical-align: top;\n",
       "    }\n",
       "\n",
       "    .dataframe thead th {\n",
       "        text-align: right;\n",
       "    }\n",
       "</style>\n",
       "<table border=\"1\" class=\"dataframe\">\n",
       "  <thead>\n",
       "    <tr style=\"text-align: right;\">\n",
       "      <th></th>\n",
       "      <th>Id</th>\n",
       "      <th>ProductId</th>\n",
       "      <th>UserId</th>\n",
       "      <th>ProfileName</th>\n",
       "      <th>HelpfulnessNumerator</th>\n",
       "      <th>HelpfulnessDenominator</th>\n",
       "      <th>Score</th>\n",
       "      <th>Time</th>\n",
       "      <th>Summary</th>\n",
       "      <th>Text</th>\n",
       "    </tr>\n",
       "  </thead>\n",
       "  <tbody>\n",
       "    <tr>\n",
       "      <th>59213</th>\n",
       "      <td>64324</td>\n",
       "      <td>B001EO5YAC</td>\n",
       "      <td>ACJFVBXMC3RZ9</td>\n",
       "      <td>Timothy J. Giordano</td>\n",
       "      <td>0</td>\n",
       "      <td>0</td>\n",
       "      <td>1</td>\n",
       "      <td>1315958400</td>\n",
       "      <td>Excellent coffee</td>\n",
       "      <td>This coffee is NOT for espresso.  It is made f...</td>\n",
       "    </tr>\n",
       "    <tr>\n",
       "      <th>41118</th>\n",
       "      <td>44688</td>\n",
       "      <td>B001EQ55RW</td>\n",
       "      <td>AU4H7OG5UFDWO</td>\n",
       "      <td>S. Gould \"gouldpjaks\"</td>\n",
       "      <td>0</td>\n",
       "      <td>0</td>\n",
       "      <td>1</td>\n",
       "      <td>1211328000</td>\n",
       "      <td>sinfully great taste</td>\n",
       "      <td>WOW! I can't believe that these chocolaty almo...</td>\n",
       "    </tr>\n",
       "    <tr>\n",
       "      <th>62930</th>\n",
       "      <td>68370</td>\n",
       "      <td>B003EM7J9Q</td>\n",
       "      <td>A19Y40NOPK7N5V</td>\n",
       "      <td>Mac</td>\n",
       "      <td>7</td>\n",
       "      <td>9</td>\n",
       "      <td>0</td>\n",
       "      <td>1300752000</td>\n",
       "      <td>WARNING! CONTAINS MSG and MALTODEXTRIN</td>\n",
       "      <td>Being a gluten sensitive individual, I was lur...</td>\n",
       "    </tr>\n",
       "    <tr>\n",
       "      <th>99621</th>\n",
       "      <td>108212</td>\n",
       "      <td>B007TJGY46</td>\n",
       "      <td>A1GAR9XCQ195B2</td>\n",
       "      <td>Yuan-tai Lee \"Anthony Lee\"</td>\n",
       "      <td>0</td>\n",
       "      <td>0</td>\n",
       "      <td>1</td>\n",
       "      <td>1289088000</td>\n",
       "      <td>very bold</td>\n",
       "      <td>I never knew that the Jet Fuel flavor is so bo...</td>\n",
       "    </tr>\n",
       "    <tr>\n",
       "      <th>137422</th>\n",
       "      <td>149146</td>\n",
       "      <td>B002SQIRDG</td>\n",
       "      <td>A137GUM4X3D8J6</td>\n",
       "      <td>Laverne R. Funderburg \"Classy Sassy Lady\"</td>\n",
       "      <td>0</td>\n",
       "      <td>0</td>\n",
       "      <td>1</td>\n",
       "      <td>1328659200</td>\n",
       "      <td>Trident Layer GreenApple+GoldenPineapple Sugar...</td>\n",
       "      <td>We haven't been able to find this product loca...</td>\n",
       "    </tr>\n",
       "  </tbody>\n",
       "</table>\n",
       "</div>"
      ],
      "text/plain": [
       "            Id   ProductId          UserId  \\\n",
       "59213    64324  B001EO5YAC   ACJFVBXMC3RZ9   \n",
       "41118    44688  B001EQ55RW   AU4H7OG5UFDWO   \n",
       "62930    68370  B003EM7J9Q  A19Y40NOPK7N5V   \n",
       "99621   108212  B007TJGY46  A1GAR9XCQ195B2   \n",
       "137422  149146  B002SQIRDG  A137GUM4X3D8J6   \n",
       "\n",
       "                                      ProfileName  HelpfulnessNumerator  \\\n",
       "59213                         Timothy J. Giordano                     0   \n",
       "41118                       S. Gould \"gouldpjaks\"                     0   \n",
       "62930                                         Mac                     7   \n",
       "99621                  Yuan-tai Lee \"Anthony Lee\"                     0   \n",
       "137422  Laverne R. Funderburg \"Classy Sassy Lady\"                     0   \n",
       "\n",
       "        HelpfulnessDenominator  Score        Time  \\\n",
       "59213                        0      1  1315958400   \n",
       "41118                        0      1  1211328000   \n",
       "62930                        9      0  1300752000   \n",
       "99621                        0      1  1289088000   \n",
       "137422                       0      1  1328659200   \n",
       "\n",
       "                                                  Summary  \\\n",
       "59213                                    Excellent coffee   \n",
       "41118                                sinfully great taste   \n",
       "62930              WARNING! CONTAINS MSG and MALTODEXTRIN   \n",
       "99621                                           very bold   \n",
       "137422  Trident Layer GreenApple+GoldenPineapple Sugar...   \n",
       "\n",
       "                                                     Text  \n",
       "59213   This coffee is NOT for espresso.  It is made f...  \n",
       "41118   WOW! I can't believe that these chocolaty almo...  \n",
       "62930   Being a gluten sensitive individual, I was lur...  \n",
       "99621   I never knew that the Jet Fuel flavor is so bo...  \n",
       "137422  We haven't been able to find this product loca...  "
      ]
     },
     "execution_count": 249,
     "metadata": {},
     "output_type": "execute_result"
    }
   ],
   "source": [
    "##Sorting data for Time Based Splitting\n",
    "time_sorted_data = final.sort_values('Time', axis=0, ascending=True, inplace=False, kind='quicksort', na_position='last')\n",
    "\n",
    "\n",
    "final = time_sorted_data.take(np.random.permutation(len(final))[:100000])\n",
    "print(final.shape)\n",
    "final.head()"
   ]
  },
  {
   "cell_type": "markdown",
   "metadata": {
    "_uuid": "c13cebd0b20519dff43b6f62a406ef751f839a58",
    "colab_type": "text",
    "id": "pd44pwAyoD_c"
   },
   "source": [
    "#  [3] Preprocessing"
   ]
  },
  {
   "cell_type": "markdown",
   "metadata": {
    "_uuid": "96e999e1bdd14dd867754373e6be8886cf8c09d8",
    "colab_type": "text",
    "id": "I9_34QjcoD_d"
   },
   "source": [
    "## [3.1].  Preprocessing Review Text\n",
    "\n",
    "Now that we have finished deduplication our data requires some preprocessing before we go on further with analysis and making the prediction model.\n",
    "\n",
    "Hence in the Preprocessing phase we do the following in the order below:-\n",
    "\n",
    "1. Begin by removing the html tags\n",
    "2. Remove any punctuations or limited set of special characters like , or . or # etc.\n",
    "3. Check if the word is made up of english letters and is not alpha-numeric\n",
    "4. Check to see if the length of the word is greater than 2 (as it was researched that there is no adjective in 2-letters)\n",
    "5. Convert the word to lowercase\n",
    "6. Remove Stopwords\n",
    "7. Finally Snowball Stemming the word (it was obsereved to be better than Porter Stemming)<br>\n",
    "\n",
    "After which we collect the words used to describe positive and negative reviews"
   ]
  },
  {
   "cell_type": "code",
   "execution_count": 250,
   "metadata": {
    "_uuid": "03b80bcca726e48460b5094c25078caa0914eaae",
    "colab": {
     "base_uri": "https://localhost:8080/",
     "height": 171
    },
    "colab_type": "code",
    "id": "h3YoBTm9oD_e",
    "outputId": "623d85e6-6f7a-42f0-f920-e5d7aa035d3f"
   },
   "outputs": [
    {
     "name": "stdout",
     "output_type": "stream",
     "text": [
      "This coffee is NOT for espresso.  It is made for either a drip machine, stove top, or percolator.  I usually buy my espresso beans from a local roaster and would not use this for espresso.  For coffee, it is excellent.  It has a full body, no bitterness, and great notes of chocolate.\n",
      "==================================================\n",
      "I am British and personally I cannot stand Lipton tea for hot tea. Ice tea sure hot no way. I am always on the hunt for a nice British blend of tea. I have found many but often they are expensive and the boxes are so small that for an avid tea drinker like my self I feel as though I have to buy at least 3 boxes a time and I am always on the hunt for tea as not every store sells what I want. So when I came across PG tips subscribe and save I have never been so happy (well about tea any way) This is a little piece of home away from home and the fact I now don't have to worry about hunting the stores to get it means that I can be at ease. There is always a cuppa waiting for me at home. And the pyramid tea bag does make a difference when brewing the tea.\n",
      "==================================================\n",
      "This stuff is terrible! It tastes like a homemade fortified wine. We served it at a dinner party of ten and nobody liked it whatsoever...at all....not even a little bit. Thank God we had plenty of real wine and real alcohol to serve, as if we had solely relied upon this beverage, the dinner party would have been a bust!<br /><br />In fact, I am a trained chef and the other chef we served it to also thought it tasted like sparking drain cleaner...<br /><br />Great bottle...nice marketing...very poor product. I cannot believe they actually did any market surveys on product taste whatsoever...!<br /><br />Very...very disappointing!\n",
      "==================================================\n",
      "I love these bars they taste great and keep you feeling full! Try them warmed in the microwave for about 15 secounds. They are great for a quick breakfast or snack. I received a sample of the banana nut flavor from influenster.\n",
      "==================================================\n"
     ]
    }
   ],
   "source": [
    "# printing some random reviews\n",
    "sent_0 = final['Text'].values[0]\n",
    "print(sent_0)\n",
    "print(\"=\"*50)\n",
    "\n",
    "sent_1000 = final['Text'].values[1000]\n",
    "print(sent_1000)\n",
    "print(\"=\"*50)\n",
    "\n",
    "sent_1500 = final['Text'].values[1500]\n",
    "print(sent_1500)\n",
    "print(\"=\"*50)\n",
    "\n",
    "sent_4900 = final['Text'].values[4900]\n",
    "print(sent_4900)\n",
    "print(\"=\"*50)"
   ]
  },
  {
   "cell_type": "code",
   "execution_count": 251,
   "metadata": {
    "_uuid": "045de5974d80d92d41f45b13dfc63d68b54ee2b8",
    "colab": {
     "base_uri": "https://localhost:8080/",
     "height": 54
    },
    "colab_type": "code",
    "id": "Bg-bjG_6oD_k",
    "outputId": "913cfc2f-9d48-406b-dab8-b73d6f0de9a8"
   },
   "outputs": [
    {
     "name": "stdout",
     "output_type": "stream",
     "text": [
      "This coffee is NOT for espresso.  It is made for either a drip machine, stove top, or percolator.  I usually buy my espresso beans from a local roaster and would not use this for espresso.  For coffee, it is excellent.  It has a full body, no bitterness, and great notes of chocolate.\n"
     ]
    }
   ],
   "source": [
    "# remove urls from text python: https://stackoverflow.com/a/40823105/4084039\n",
    "sent_0 = re.sub(r\"http\\S+\", \"\", sent_0)\n",
    "sent_1000 = re.sub(r\"http\\S+\", \"\", sent_1000)\n",
    "sent_150 = re.sub(r\"http\\S+\", \"\", sent_1500)\n",
    "sent_4900 = re.sub(r\"http\\S+\", \"\", sent_4900)\n",
    "\n",
    "print(sent_0)"
   ]
  },
  {
   "cell_type": "code",
   "execution_count": 252,
   "metadata": {
    "_uuid": "6ad872aed5bf35bd5e3e8d3f772a75038f66e16f",
    "colab": {
     "base_uri": "https://localhost:8080/",
     "height": 154
    },
    "colab_type": "code",
    "id": "QK4FF3keoD_n",
    "outputId": "d6cf92c0-6865-4d44-d26b-6b8f4b7cfcd2"
   },
   "outputs": [
    {
     "name": "stdout",
     "output_type": "stream",
     "text": [
      "This coffee is NOT for espresso.  It is made for either a drip machine, stove top, or percolator.  I usually buy my espresso beans from a local roaster and would not use this for espresso.  For coffee, it is excellent.  It has a full body, no bitterness, and great notes of chocolate.\n",
      "==================================================\n",
      "I am British and personally I cannot stand Lipton tea for hot tea. Ice tea sure hot no way. I am always on the hunt for a nice British blend of tea. I have found many but often they are expensive and the boxes are so small that for an avid tea drinker like my self I feel as though I have to buy at least 3 boxes a time and I am always on the hunt for tea as not every store sells what I want. So when I came across PG tips subscribe and save I have never been so happy (well about tea any way) This is a little piece of home away from home and the fact I now don't have to worry about hunting the stores to get it means that I can be at ease. There is always a cuppa waiting for me at home. And the pyramid tea bag does make a difference when brewing the tea.\n",
      "==================================================\n",
      "This stuff is terrible! It tastes like a homemade fortified wine. We served it at a dinner party of ten and nobody liked it whatsoever...at all....not even a little bit. Thank God we had plenty of real wine and real alcohol to serve, as if we had solely relied upon this beverage, the dinner party would have been a bust!In fact, I am a trained chef and the other chef we served it to also thought it tasted like sparking drain cleaner...Great bottle...nice marketing...very poor product. I cannot believe they actually did any market surveys on product taste whatsoever...!Very...very disappointing!\n",
      "==================================================\n",
      "I love these bars they taste great and keep you feeling full! Try them warmed in the microwave for about 15 secounds. They are great for a quick breakfast or snack. I received a sample of the banana nut flavor from influenster.\n"
     ]
    }
   ],
   "source": [
    "# https://stackoverflow.com/questions/16206380/python-beautifulsoup-how-to-remove-all-tags-from-an-element\n",
    "from bs4 import BeautifulSoup\n",
    "\n",
    "soup = BeautifulSoup(sent_0, 'lxml')\n",
    "text = soup.get_text()\n",
    "print(text)\n",
    "print(\"=\"*50)\n",
    "\n",
    "soup = BeautifulSoup(sent_1000, 'lxml')\n",
    "text = soup.get_text()\n",
    "print(text)\n",
    "print(\"=\"*50)\n",
    "\n",
    "soup = BeautifulSoup(sent_1500, 'lxml')\n",
    "text = soup.get_text()\n",
    "print(text)\n",
    "print(\"=\"*50)\n",
    "\n",
    "soup = BeautifulSoup(sent_4900, 'lxml')\n",
    "text = soup.get_text()\n",
    "print(text)"
   ]
  },
  {
   "cell_type": "code",
   "execution_count": 253,
   "metadata": {
    "_uuid": "61597ca5baea7b8cd5aa728b53646fe24ec37151",
    "colab": {},
    "colab_type": "code",
    "id": "hEEJKPwcoD_q"
   },
   "outputs": [],
   "source": [
    "# https://stackoverflow.com/a/47091490/4084039\n",
    "import re\n",
    "\n",
    "def decontracted(phrase):\n",
    "    # specific\n",
    "    phrase = re.sub(r\"won't\", \"will not\", phrase)\n",
    "    phrase = re.sub(r\"can\\'t\", \"can not\", phrase)\n",
    "\n",
    "    # general\n",
    "    phrase = re.sub(r\"n\\'t\", \" not\", phrase)\n",
    "    phrase = re.sub(r\"\\'re\", \" are\", phrase)\n",
    "    phrase = re.sub(r\"\\'s\", \" is\", phrase)\n",
    "    phrase = re.sub(r\"\\'d\", \" would\", phrase)\n",
    "    phrase = re.sub(r\"\\'ll\", \" will\", phrase)\n",
    "    phrase = re.sub(r\"\\'t\", \" not\", phrase)\n",
    "    phrase = re.sub(r\"\\'ve\", \" have\", phrase)\n",
    "    phrase = re.sub(r\"\\'m\", \" am\", phrase)\n",
    "    return phrase"
   ]
  },
  {
   "cell_type": "code",
   "execution_count": 254,
   "metadata": {
    "_uuid": "8c875da8143d1a5c6f8b9fb18dd3a65d32081108",
    "colab": {
     "base_uri": "https://localhost:8080/",
     "height": 70
    },
    "colab_type": "code",
    "id": "XjefHAsToD_t",
    "outputId": "49d57ef3-ef51-4e66-e07f-29ac4ce2d52b"
   },
   "outputs": [
    {
     "name": "stdout",
     "output_type": "stream",
     "text": [
      "This stuff is terrible! It tastes like a homemade fortified wine. We served it at a dinner party of ten and nobody liked it whatsoever...at all....not even a little bit. Thank God we had plenty of real wine and real alcohol to serve, as if we had solely relied upon this beverage, the dinner party would have been a bust!<br /><br />In fact, I am a trained chef and the other chef we served it to also thought it tasted like sparking drain cleaner...<br /><br />Great bottle...nice marketing...very poor product. I cannot believe they actually did any market surveys on product taste whatsoever...!<br /><br />Very...very disappointing!\n",
      "==================================================\n"
     ]
    }
   ],
   "source": [
    "sent_1500 = decontracted(sent_1500)\n",
    "print(sent_1500)\n",
    "print(\"=\"*50)"
   ]
  },
  {
   "cell_type": "code",
   "execution_count": 255,
   "metadata": {
    "_uuid": "5db9e2b9f4c0a6f7943d998084209c2fe34ee8ca",
    "colab": {
     "base_uri": "https://localhost:8080/",
     "height": 54
    },
    "colab_type": "code",
    "id": "NxRIfdo8oD_y",
    "outputId": "5e2d7f90-0285-40bb-f1b9-1875fd47bcfc"
   },
   "outputs": [
    {
     "name": "stdout",
     "output_type": "stream",
     "text": [
      "This coffee is NOT for espresso.  It is made for either a drip machine, stove top, or percolator.  I usually buy my espresso beans from a local roaster and would not use this for espresso.  For coffee, it is excellent.  It has a full body, no bitterness, and great notes of chocolate.\n"
     ]
    }
   ],
   "source": [
    "#remove words with numbers python: https://stackoverflow.com/a/18082370/4084039\n",
    "sent_0 = re.sub(\"\\S*\\d\\S*\", \"\", sent_0).strip()\n",
    "print(sent_0)"
   ]
  },
  {
   "cell_type": "code",
   "execution_count": 256,
   "metadata": {
    "_uuid": "9580d56d107ddd147b5414b26aaf65dd3818be49",
    "colab": {
     "base_uri": "https://localhost:8080/",
     "height": 54
    },
    "colab_type": "code",
    "id": "9MdZyUgyoD_2",
    "outputId": "954eb027-473a-4c60-b8c4-77b14018bc59"
   },
   "outputs": [
    {
     "name": "stdout",
     "output_type": "stream",
     "text": [
      "This stuff is terrible It tastes like a homemade fortified wine We served it at a dinner party of ten and nobody liked it whatsoever at all not even a little bit Thank God we had plenty of real wine and real alcohol to serve as if we had solely relied upon this beverage the dinner party would have been a bust br br In fact I am a trained chef and the other chef we served it to also thought it tasted like sparking drain cleaner br br Great bottle nice marketing very poor product I cannot believe they actually did any market surveys on product taste whatsoever br br Very very disappointing \n"
     ]
    }
   ],
   "source": [
    "#remove spacial character: https://stackoverflow.com/a/5843547/4084039\n",
    "sent_1500 = re.sub('[^A-Za-z0-9]+', ' ', sent_1500)\n",
    "print(sent_1500)"
   ]
  },
  {
   "cell_type": "code",
   "execution_count": 257,
   "metadata": {
    "_uuid": "2f951080465591617f59335338577c787500a7aa",
    "colab": {},
    "colab_type": "code",
    "id": "kM-pIgojoD_7"
   },
   "outputs": [],
   "source": [
    "# https://gist.github.com/sebleier/554280\n",
    "# we are removing the words from the stop words list: 'no', 'nor', 'not'\n",
    "# <br /><br /> ==> after the above steps, we are getting \"br br\"\n",
    "# we are including them into stop words list\n",
    "# instead of <br /> if we have <br/> these tags would have revmoved in the 1st step\n",
    "\n",
    "stopwords= set(['br', 'the', 'i', 'me', 'my', 'myself', 'we', 'our', 'ours', 'ourselves', 'you', \"you're\", \"you've\",\\\n",
    "            \"you'll\", \"you'd\", 'your', 'yours', 'yourself', 'yourselves', 'he', 'him', 'his', 'himself', \\\n",
    "            'she', \"she's\", 'her', 'hers', 'herself', 'it', \"it's\", 'its', 'itself', 'they', 'them', 'their',\\\n",
    "            'theirs', 'themselves', 'what', 'which', 'who', 'whom', 'this', 'that', \"that'll\", 'these', 'those', \\\n",
    "            'am', 'is', 'are', 'was', 'were', 'be', 'been', 'being', 'have', 'has', 'had', 'having', 'do', 'does', \\\n",
    "            'did', 'doing', 'a', 'an', 'the', 'and', 'but', 'if', 'or', 'because', 'as', 'until', 'while', 'of', \\\n",
    "            'at', 'by', 'for', 'with', 'about', 'against', 'between', 'into', 'through', 'during', 'before', 'after',\\\n",
    "            'above', 'below', 'to', 'from', 'up', 'down', 'in', 'out', 'on', 'off', 'over', 'under', 'again', 'further',\\\n",
    "            'then', 'once', 'here', 'there', 'when', 'where', 'why', 'how', 'all', 'any', 'both', 'each', 'few', 'more',\\\n",
    "            'most', 'other', 'some', 'such', 'only', 'own', 'same', 'so', 'than', 'too', 'very', \\\n",
    "            's', 't', 'can', 'will', 'just', 'don', \"don't\", 'should', \"should've\", 'now', 'd', 'll', 'm', 'o', 're', \\\n",
    "            've', 'y', 'ain', 'aren', \"aren't\", 'couldn', \"couldn't\", 'didn', \"didn't\", 'doesn', \"doesn't\", 'hadn',\\\n",
    "            \"hadn't\", 'hasn', \"hasn't\", 'haven', \"haven't\", 'isn', \"isn't\", 'ma', 'mightn', \"mightn't\", 'mustn',\\\n",
    "            \"mustn't\", 'needn', \"needn't\", 'shan', \"shan't\", 'shouldn', \"shouldn't\", 'wasn', \"wasn't\", 'weren', \"weren't\", \\\n",
    "            'won', \"won't\", 'wouldn', \"wouldn't\"])"
   ]
  },
  {
   "cell_type": "code",
   "execution_count": 258,
   "metadata": {
    "_uuid": "5cd80374bf3152173979abef17401d0568ec9dbd",
    "colab": {
     "base_uri": "https://localhost:8080/",
     "height": 34
    },
    "colab_type": "code",
    "id": "rN53FUm5oEAA",
    "outputId": "ea3e0567-cacd-4ee4-ad3e-0bb82fd3b816"
   },
   "outputs": [
    {
     "name": "stderr",
     "output_type": "stream",
     "text": [
      "100%|██████████| 100000/100000 [00:54<00:00, 1833.72it/s]\n"
     ]
    }
   ],
   "source": [
    "# Combining all the above stundents \n",
    "from tqdm import tqdm\n",
    "prepr_rev = []\n",
    "# tqdm is for printing the status bar\n",
    "for sentance in tqdm(final['Text'].values):\n",
    "    sentance = re.sub(r\"http\\S+\", \"\", sentance)\n",
    "    sentance = BeautifulSoup(sentance, 'lxml').get_text()\n",
    "    sentance = decontracted(sentance)\n",
    "    sentance = re.sub(\"\\S*\\d\\S*\", \"\", sentance).strip()\n",
    "    sentance = re.sub('[^A-Za-z]+', ' ', sentance)\n",
    "    # https://gist.github.com/sebleier/554280\n",
    "    sentance = ' '.join(e.lower() for e in sentance.split() if e.lower() not in stopwords)\n",
    "    prepr_rev.append(sentance.strip())"
   ]
  },
  {
   "cell_type": "code",
   "execution_count": 259,
   "metadata": {
    "_uuid": "a221f4f3456660054dfad576e082de5a579d638a",
    "colab": {
     "base_uri": "https://localhost:8080/",
     "height": 34
    },
    "colab_type": "code",
    "id": "SVPP0xPHoEAE",
    "outputId": "f8a31485-dc95-477a-ba3f-7337ab7d57a1"
   },
   "outputs": [
    {
     "data": {
      "text/plain": [
       "'stuff terrible tastes like homemade fortified wine served dinner party ten nobody liked whatsoever not even little bit thank god plenty real wine real alcohol serve solely relied upon beverage dinner party would bust fact trained chef chef served also thought tasted like sparking drain cleaner great bottle nice marketing poor product cannot believe actually market surveys product taste whatsoever disappointing'"
      ]
     },
     "execution_count": 259,
     "metadata": {},
     "output_type": "execute_result"
    }
   ],
   "source": [
    "prepr_rev[1500]"
   ]
  },
  {
   "cell_type": "code",
   "execution_count": 260,
   "metadata": {},
   "outputs": [
    {
     "name": "stdout",
     "output_type": "stream",
     "text": [
      "100000\n"
     ]
    },
    {
     "data": {
      "text/plain": [
       "(100000, 10)"
      ]
     },
     "execution_count": 260,
     "metadata": {},
     "output_type": "execute_result"
    }
   ],
   "source": [
    "print(len(prepr_rev))\n",
    "final.shape"
   ]
  },
  {
   "cell_type": "code",
   "execution_count": 261,
   "metadata": {},
   "outputs": [
    {
     "data": {
      "text/html": [
       "<div>\n",
       "<style scoped>\n",
       "    .dataframe tbody tr th:only-of-type {\n",
       "        vertical-align: middle;\n",
       "    }\n",
       "\n",
       "    .dataframe tbody tr th {\n",
       "        vertical-align: top;\n",
       "    }\n",
       "\n",
       "    .dataframe thead th {\n",
       "        text-align: right;\n",
       "    }\n",
       "</style>\n",
       "<table border=\"1\" class=\"dataframe\">\n",
       "  <thead>\n",
       "    <tr style=\"text-align: right;\">\n",
       "      <th></th>\n",
       "      <th>Id</th>\n",
       "      <th>ProductId</th>\n",
       "      <th>UserId</th>\n",
       "      <th>ProfileName</th>\n",
       "      <th>HelpfulnessNumerator</th>\n",
       "      <th>HelpfulnessDenominator</th>\n",
       "      <th>Score</th>\n",
       "      <th>Time</th>\n",
       "      <th>Summary</th>\n",
       "      <th>Text</th>\n",
       "      <th>prepr_rev</th>\n",
       "    </tr>\n",
       "  </thead>\n",
       "  <tbody>\n",
       "    <tr>\n",
       "      <th>59213</th>\n",
       "      <td>64324</td>\n",
       "      <td>B001EO5YAC</td>\n",
       "      <td>ACJFVBXMC3RZ9</td>\n",
       "      <td>Timothy J. Giordano</td>\n",
       "      <td>0</td>\n",
       "      <td>0</td>\n",
       "      <td>1</td>\n",
       "      <td>1315958400</td>\n",
       "      <td>Excellent coffee</td>\n",
       "      <td>This coffee is NOT for espresso.  It is made f...</td>\n",
       "      <td>coffee not espresso made either drip machine s...</td>\n",
       "    </tr>\n",
       "    <tr>\n",
       "      <th>41118</th>\n",
       "      <td>44688</td>\n",
       "      <td>B001EQ55RW</td>\n",
       "      <td>AU4H7OG5UFDWO</td>\n",
       "      <td>S. Gould \"gouldpjaks\"</td>\n",
       "      <td>0</td>\n",
       "      <td>0</td>\n",
       "      <td>1</td>\n",
       "      <td>1211328000</td>\n",
       "      <td>sinfully great taste</td>\n",
       "      <td>WOW! I can't believe that these chocolaty almo...</td>\n",
       "      <td>wow not believe chocolaty almonds contain no c...</td>\n",
       "    </tr>\n",
       "    <tr>\n",
       "      <th>62930</th>\n",
       "      <td>68370</td>\n",
       "      <td>B003EM7J9Q</td>\n",
       "      <td>A19Y40NOPK7N5V</td>\n",
       "      <td>Mac</td>\n",
       "      <td>7</td>\n",
       "      <td>9</td>\n",
       "      <td>0</td>\n",
       "      <td>1300752000</td>\n",
       "      <td>WARNING! CONTAINS MSG and MALTODEXTRIN</td>\n",
       "      <td>Being a gluten sensitive individual, I was lur...</td>\n",
       "      <td>gluten sensitive individual lured false sense ...</td>\n",
       "    </tr>\n",
       "    <tr>\n",
       "      <th>99621</th>\n",
       "      <td>108212</td>\n",
       "      <td>B007TJGY46</td>\n",
       "      <td>A1GAR9XCQ195B2</td>\n",
       "      <td>Yuan-tai Lee \"Anthony Lee\"</td>\n",
       "      <td>0</td>\n",
       "      <td>0</td>\n",
       "      <td>1</td>\n",
       "      <td>1289088000</td>\n",
       "      <td>very bold</td>\n",
       "      <td>I never knew that the Jet Fuel flavor is so bo...</td>\n",
       "      <td>never knew jet fuel flavor bold good morning</td>\n",
       "    </tr>\n",
       "    <tr>\n",
       "      <th>137422</th>\n",
       "      <td>149146</td>\n",
       "      <td>B002SQIRDG</td>\n",
       "      <td>A137GUM4X3D8J6</td>\n",
       "      <td>Laverne R. Funderburg \"Classy Sassy Lady\"</td>\n",
       "      <td>0</td>\n",
       "      <td>0</td>\n",
       "      <td>1</td>\n",
       "      <td>1328659200</td>\n",
       "      <td>Trident Layer GreenApple+GoldenPineapple Sugar...</td>\n",
       "      <td>We haven't been able to find this product loca...</td>\n",
       "      <td>not able find product locally several months f...</td>\n",
       "    </tr>\n",
       "  </tbody>\n",
       "</table>\n",
       "</div>"
      ],
      "text/plain": [
       "            Id   ProductId          UserId  \\\n",
       "59213    64324  B001EO5YAC   ACJFVBXMC3RZ9   \n",
       "41118    44688  B001EQ55RW   AU4H7OG5UFDWO   \n",
       "62930    68370  B003EM7J9Q  A19Y40NOPK7N5V   \n",
       "99621   108212  B007TJGY46  A1GAR9XCQ195B2   \n",
       "137422  149146  B002SQIRDG  A137GUM4X3D8J6   \n",
       "\n",
       "                                      ProfileName  HelpfulnessNumerator  \\\n",
       "59213                         Timothy J. Giordano                     0   \n",
       "41118                       S. Gould \"gouldpjaks\"                     0   \n",
       "62930                                         Mac                     7   \n",
       "99621                  Yuan-tai Lee \"Anthony Lee\"                     0   \n",
       "137422  Laverne R. Funderburg \"Classy Sassy Lady\"                     0   \n",
       "\n",
       "        HelpfulnessDenominator  Score        Time  \\\n",
       "59213                        0      1  1315958400   \n",
       "41118                        0      1  1211328000   \n",
       "62930                        9      0  1300752000   \n",
       "99621                        0      1  1289088000   \n",
       "137422                       0      1  1328659200   \n",
       "\n",
       "                                                  Summary  \\\n",
       "59213                                    Excellent coffee   \n",
       "41118                                sinfully great taste   \n",
       "62930              WARNING! CONTAINS MSG and MALTODEXTRIN   \n",
       "99621                                           very bold   \n",
       "137422  Trident Layer GreenApple+GoldenPineapple Sugar...   \n",
       "\n",
       "                                                     Text  \\\n",
       "59213   This coffee is NOT for espresso.  It is made f...   \n",
       "41118   WOW! I can't believe that these chocolaty almo...   \n",
       "62930   Being a gluten sensitive individual, I was lur...   \n",
       "99621   I never knew that the Jet Fuel flavor is so bo...   \n",
       "137422  We haven't been able to find this product loca...   \n",
       "\n",
       "                                                prepr_rev  \n",
       "59213   coffee not espresso made either drip machine s...  \n",
       "41118   wow not believe chocolaty almonds contain no c...  \n",
       "62930   gluten sensitive individual lured false sense ...  \n",
       "99621        never knew jet fuel flavor bold good morning  \n",
       "137422  not able find product locally several months f...  "
      ]
     },
     "execution_count": 261,
     "metadata": {},
     "output_type": "execute_result"
    }
   ],
   "source": [
    "final ['prepr_rev']= prepr_rev\n",
    "final.head(5)"
   ]
  },
  {
   "cell_type": "code",
   "execution_count": 262,
   "metadata": {},
   "outputs": [],
   "source": [
    "# store final table into an SQlLite table for future.\n",
    "conn = sqlite3.connect('final.sqlite')\n",
    "c=conn.cursor()\n",
    "conn.text_factory = str\n",
    "final.to_sql('Reviews', conn,  schema=None, if_exists='replace',index=True, index_label=None, chunksize=None, dtype=None)\n",
    "conn.close()\n",
    "#Loading data\n",
    "conn = sqlite3.connect('final.sqlite')\n",
    "data=pd.read_sql_query(\"\"\"select * from Reviews\"\"\",conn)"
   ]
  },
  {
   "cell_type": "markdown",
   "metadata": {
    "_uuid": "7db7d3bb11007294f989ad75886b5ecef5b8536c",
    "colab_type": "text",
    "id": "vBfC6JJ1oEBP"
   },
   "source": [
    "# [4] Featurization"
   ]
  },
  {
   "cell_type": "markdown",
   "metadata": {
    "_uuid": "1cd522e7ad613642fde628c117cb836dd5a69094",
    "colab_type": "text",
    "id": "OAd86swooEBP"
   },
   "source": [
    "## [4.1] BAG OF WORDS"
   ]
  },
  {
   "cell_type": "code",
   "execution_count": 263,
   "metadata": {
    "_uuid": "9001d19e54380c66df4de3697f5deedbe0fa8453",
    "colab": {},
    "colab_type": "code",
    "id": "CAeZovZeoEBQ"
   },
   "outputs": [
    {
     "name": "stdout",
     "output_type": "stream",
     "text": [
      "Train: (44890,) (44890,)\n",
      "CV: (22110,) (22110,)\n",
      "Test: (33000,) (33000,)\n"
     ]
    }
   ],
   "source": [
    "from sklearn.model_selection import train_test_split\n",
    "#splitting data into Train, C.V and Test\n",
    "X_train, X_test, y_train, y_test = train_test_split(final ['prepr_rev'], final['Score'], test_size=0.33) \n",
    "X_train, X_cv, y_train, y_cv = train_test_split(X_train, y_train, test_size=0.33)\n",
    "print(\"Train:\",X_train.shape,y_train.shape)\n",
    "print(\"CV:\",X_cv.shape,y_cv.shape)\n",
    "print(\"Test:\",X_test.shape,y_test.shape)"
   ]
  },
  {
   "cell_type": "code",
   "execution_count": 264,
   "metadata": {
    "_uuid": "6366e4c325cea9b6833f5421c666bdc050bace1b",
    "colab": {
     "base_uri": "https://localhost:8080/",
     "height": 67
    },
    "colab_type": "code",
    "id": "8xJuq2g3oEBS",
    "outputId": "b33c061f-bd92-4c7c-a6bb-0eaa003799e4"
   },
   "outputs": [
    {
     "name": "stdout",
     "output_type": "stream",
     "text": [
      "After vectorizations\n",
      "(44890, 500) (44890,)\n",
      "(22110, 500) (22110,)\n",
      "(33000, 500) (33000,)\n"
     ]
    }
   ],
   "source": [
    "vectorizer = CountVectorizer(min_df=10, max_features=500) \n",
    "vectorizer.fit(X_train)\n",
    "#vectorizer.fit(X_train) # fit has to happen only on train data\n",
    "# we use the fitted CountVectorizer to convert the text to vector\n",
    "X_train_bow = vectorizer.transform(X_train)\n",
    "X_cv_bow = vectorizer.transform(X_cv)\n",
    "X_test_bow = vectorizer.transform(X_test) \n",
    "print(\"After vectorizations\")\n",
    "print(X_train_bow.shape, y_train.shape) \n",
    "print(X_cv_bow.shape, y_cv.shape)\n",
    "print(X_test_bow.shape, y_test.shape) \n",
    " "
   ]
  },
  {
   "cell_type": "markdown",
   "metadata": {
    "_uuid": "5436d987c572a852f6ce2e5a4734277bca8b6a9f",
    "colab_type": "text",
    "id": "NUnCujTGoEBY"
   },
   "source": [
    "## [4.3] TF-IDF"
   ]
  },
  {
   "cell_type": "code",
   "execution_count": 265,
   "metadata": {
    "_uuid": "d057c5c38baec867bb352aeea4a4f95363b3c366",
    "colab": {
     "base_uri": "https://localhost:8080/",
     "height": 67
    },
    "colab_type": "code",
    "id": "5P7K0g5woEBY",
    "outputId": "e6273284-1f2f-4554-c7ce-ab763c38bc69"
   },
   "outputs": [
    {
     "name": "stdout",
     "output_type": "stream",
     "text": [
      "After vectorizations\n",
      "(44890, 500) (44890,)\n",
      "(22110, 500) (22110,)\n",
      "(33000, 500) (33000,)\n"
     ]
    }
   ],
   "source": [
    "vect = TfidfVectorizer(ngram_range=(1,2), min_df=10, max_features=500)\n",
    "tf_idf_vect = vect.fit(X_train)\n",
    "# we use the fitted CountVectorizer to convert the text to vector\n",
    "X_train_tfidf = tf_idf_vect.transform(X_train)\n",
    "X_cv_tfidf = tf_idf_vect.transform(X_cv)\n",
    "X_test_tfidf = tf_idf_vect.transform(X_test) \n",
    "print(\"After vectorizations\")\n",
    "print(X_train_tfidf.shape, y_train.shape) \n",
    "print(X_cv_tfidf.shape, y_cv.shape)\n",
    "print(X_test_tfidf.shape, y_test.shape) "
   ]
  },
  {
   "cell_type": "markdown",
   "metadata": {
    "_uuid": "b6683843609853f5365f097179a753b0245426ab",
    "colab_type": "text",
    "id": "gWfHIrMtoEBb"
   },
   "source": [
    "## [4.4] Word2Vec"
   ]
  },
  {
   "cell_type": "code",
   "execution_count": 266,
   "metadata": {
    "_uuid": "908ebba07aae84ca552a33c89867a632e5639743",
    "colab": {
     "base_uri": "https://localhost:8080/",
     "height": 104
    },
    "colab_type": "code",
    "id": "FU-mh_3SoEBc",
    "outputId": "6b0a0970-a6fa-4900-f765-1f81ed526554"
   },
   "outputs": [
    {
     "name": "stdout",
     "output_type": "stream",
     "text": [
      "[('good', 0.8355696201324463), ('fantastic', 0.81317538022995), ('awesome', 0.8107229471206665), ('terrific', 0.7938696146011353), ('excellent', 0.782837986946106), ('wonderful', 0.7322025895118713), ('amazing', 0.7196238040924072), ('perfect', 0.6880003809928894), ('decent', 0.6739456653594971), ('nice', 0.6526017785072327)]\n",
      "==================================================\n",
      "[('best', 0.7373487949371338), ('tastiest', 0.7226552963256836), ('greatest', 0.7215567827224731), ('sweetest', 0.6287505626678467), ('disgusting', 0.6229608654975891), ('freakin', 0.6146875619888306), ('experienced', 0.6146112680435181), ('superior', 0.6126601099967957), ('terrible', 0.6011530756950378), ('worse', 0.5949697494506836)]\n",
      "number of words that occured minimum 5 times  13052\n"
     ]
    }
   ],
   "source": [
    "# List of sentence in X_train text\n",
    "sent_of_train=[]\n",
    "for sent in X_train:\n",
    "    sent_of_train.append(sent.split())\n",
    "\n",
    "# List of sentence in X_test text\n",
    "sent_of_test=[]\n",
    "for sent in X_test:\n",
    "    sent_of_test.append(sent.split())   \n",
    "    \n",
    "# Train your own Word2Vec model using your own train text corpus \n",
    "# min_count = 5 considers only words that occured atleast 5 times\n",
    "w2v_model=Word2Vec(sent_of_train,min_count=5,size=50, workers=4)\n",
    "print(w2v_model.wv.most_similar('great'))\n",
    "print('='*50)\n",
    "print(w2v_model.wv.most_similar('worst'))\n",
    "    \n",
    "w2v_words = list(w2v_model.wv.vocab)\n",
    "print(\"number of words that occured minimum 5 times \",len(w2v_words))"
   ]
  },
  {
   "cell_type": "code",
   "execution_count": 267,
   "metadata": {
    "_uuid": "3681cb3f7ddd4b6e4c7f0c416dfaa3a4dc8e4d81",
    "colab": {
     "base_uri": "https://localhost:8080/",
     "height": 70
    },
    "colab_type": "code",
    "id": "Be1RxTeDoEBe",
    "outputId": "dc43b69d-fb59-4d2a-9567-8722513a162d"
   },
   "outputs": [
    {
     "name": "stdout",
     "output_type": "stream",
     "text": [
      "number of words that occured minimum 5 times  13052\n",
      "sample words  ['chef', 'michael', 'grilled', 'sirloin', 'flavor', 'went', 'well', 'dogs', 'older', 'hard', 'time', 'dry', 'foods', 'able', 'chew', 'like', 'change', 'dog', 'often', 'avoid', 'build', 'one', 'ingredient', 'vitamin', 'give', 'loose', 'stool', 'no', 'problems', 'first', 'beef', 'soy', 'animal', 'fat', 'brewers', 'rice', 'corn', 'coming', 'far', 'list', 'something', 'prefer', 'buy', 'food', 'told', 'cat', 'may', 'allergic', 'reaction', 'feeding']\n"
     ]
    }
   ],
   "source": [
    "w2v_words = list(w2v_model.wv.vocab)\n",
    "print(\"number of words that occured minimum 5 times \",len(w2v_words))\n",
    "print(\"sample words \", w2v_words[0:50])"
   ]
  },
  {
   "cell_type": "markdown",
   "metadata": {
    "_uuid": "10b75b320dbfd82c830b2ea9c65ff9148db5e980",
    "colab_type": "text",
    "id": "UoRyA7UgoEBi"
   },
   "source": [
    "## [4.4.1] Converting text into vectors using Avg W2V, TFIDF-W2V"
   ]
  },
  {
   "cell_type": "markdown",
   "metadata": {
    "_uuid": "75055102bc035d5d1e5464de5694f868b23c4696",
    "colab_type": "text",
    "id": "pfWPAjeQoEBj"
   },
   "source": [
    "#### [4.4.1.1] Avg W2v"
   ]
  },
  {
   "cell_type": "code",
   "execution_count": 268,
   "metadata": {},
   "outputs": [],
   "source": [
    "i=0\n",
    "list_of_sentance_cv=[]\n",
    "for sentance in X_cv:\n",
    "    list_of_sentance_cv.append(sentance.split())"
   ]
  },
  {
   "cell_type": "code",
   "execution_count": 269,
   "metadata": {},
   "outputs": [
    {
     "name": "stderr",
     "output_type": "stream",
     "text": [
      "100%|██████████| 22110/22110 [01:20<00:00, 275.45it/s]\n"
     ]
    },
    {
     "name": "stdout",
     "output_type": "stream",
     "text": [
      "(22110, 50)\n",
      "[ 6.40141896e-01  1.65565873e-01  5.45156041e-04 -4.83197974e-02\n",
      "  8.14865203e-01  1.66074187e-01  3.83481219e-01  1.08467172e+00\n",
      "  2.99989388e-01  9.37161609e-02 -7.11664122e-01 -2.46524717e-01\n",
      "  1.46751736e-01 -8.21764619e-01 -1.01640202e+00 -6.57342891e-01\n",
      "  4.76908823e-02  4.98940908e-01 -4.61014963e-01 -8.12570147e-01\n",
      " -1.01199670e+00 -1.64849413e-02  4.77687016e-01 -3.65739985e-01\n",
      " -3.77690720e-01 -2.45962588e-01 -2.17871111e-01 -1.83557018e-01\n",
      "  2.41751056e-01  1.16346208e-01 -1.40221407e-01  1.73522961e-01\n",
      " -2.01370255e-01 -4.04055710e-01  5.72291207e-02 -2.40862023e-01\n",
      "  8.32034365e-02 -2.37122482e-01 -1.91606928e-01 -1.09323112e+00\n",
      "  6.58239331e-01  4.10074698e-01 -6.40845558e-01 -1.05233904e+00\n",
      "  6.39282192e-01  1.55575553e+00 -7.68250938e-01  7.76720946e-02\n",
      " -4.39380927e-01 -1.16122336e-01]\n"
     ]
    }
   ],
   "source": [
    "# average Word2Vec\n",
    "# compute average word2vec for each review.\n",
    "sent_vectors_cv = []; # the avg-w2v for each sentence/review is stored in this list\n",
    "for sent in tqdm(list_of_sentance_cv): # for each review/sentence\n",
    "    sent_vec = np.zeros(50) # as word vectors are of zero length 50, you might need to change this to 300 if you use google's w2v\n",
    "    cnt_words =0; # num of words with a valid vector in the sentence/review\n",
    "    for word in sent: # for each word in a review/sentence\n",
    "        if word in w2v_words:\n",
    "            vec = w2v_model.wv[word]\n",
    "            sent_vec += vec\n",
    "            cnt_words += 1\n",
    "    if cnt_words != 0:\n",
    "        sent_vec /= cnt_words\n",
    "    sent_vectors_cv.append(sent_vec)\n",
    "sent_vectors_cv = np.array(sent_vectors_cv)\n",
    "print(sent_vectors_cv.shape)\n",
    "print(sent_vectors_cv[0])"
   ]
  },
  {
   "cell_type": "code",
   "execution_count": 270,
   "metadata": {},
   "outputs": [
    {
     "name": "stderr",
     "output_type": "stream",
     "text": [
      "100%|██████████| 33000/33000 [01:48<00:00, 304.52it/s]"
     ]
    },
    {
     "name": "stdout",
     "output_type": "stream",
     "text": [
      "(33000, 50)\n",
      "[ 0.13149368  0.53507636  0.03349382  0.24257337  0.06364785 -0.09737388\n",
      "  0.29055828  0.53663889 -0.42472929  0.06558944 -0.06801226 -0.05606223\n",
      " -0.07747965 -0.15261251 -0.12327582 -0.01578109 -0.00089555  0.28218343\n",
      " -0.17076624 -0.3808611  -0.16170004  0.10303379  0.2130523  -0.40600754\n",
      " -0.49868093 -0.42266457  0.09850173  0.07533056 -0.1556289   0.19961759\n",
      "  0.69414762 -0.08483144 -0.50951038 -0.52698408  0.06863119  0.07362089\n",
      "  0.03136746  0.02432328 -0.59137582 -0.76118302  0.69535185  0.14526926\n",
      " -0.01985027 -0.19174361  0.0057541   0.44852804 -0.44190205 -0.01999674\n",
      " -0.15912292  0.21023861]\n"
     ]
    },
    {
     "name": "stderr",
     "output_type": "stream",
     "text": [
      "\n"
     ]
    }
   ],
   "source": [
    "# compute average word2vec for X_test .\n",
    "test_vectors = []; \n",
    "for sent in tqdm(sent_of_test):\n",
    "    sent_vec = np.zeros(50) \n",
    "    cnt_words =0; \n",
    "    for word in sent: # \n",
    "        if word in w2v_words:\n",
    "            vec = w2v_model.wv[word]\n",
    "            sent_vec += vec\n",
    "            cnt_words += 1\n",
    "    if cnt_words != 0:\n",
    "        sent_vec /= cnt_words\n",
    "    test_vectors.append(sent_vec)  \n",
    "    \n",
    "test_vectors = np.array(test_vectors)\n",
    "\n",
    "print(test_vectors.shape)\n",
    "print(test_vectors[0])    \n"
   ]
  },
  {
   "cell_type": "code",
   "execution_count": 271,
   "metadata": {
    "_uuid": "ae695c0d316b4d9b80c81ca5bcc2502d96756c8e",
    "colab": {
     "base_uri": "https://localhost:8080/",
     "height": 84
    },
    "colab_type": "code",
    "id": "tPJFhGGzoEBn",
    "outputId": "c04a12d4-7de9-4922-b6c7-e7121c5e1212"
   },
   "outputs": [
    {
     "name": "stderr",
     "output_type": "stream",
     "text": [
      "100%|██████████| 44890/44890 [02:06<00:00, 353.72it/s]"
     ]
    },
    {
     "name": "stdout",
     "output_type": "stream",
     "text": [
      "(44890, 50)\n",
      "[ 0.55150505  0.79742902 -0.94709299  0.07702221 -0.44349033  0.22306524\n",
      "  0.34625905  0.30404395  0.56758892  0.40178951  0.15039816 -0.05742265\n",
      "  0.1685874  -0.38224099 -0.45617988  0.01628661 -0.20033693  0.07101953\n",
      "  0.53640892  0.1770468  -0.18105118  0.11027315  0.92701126 -0.27100497\n",
      "  0.09039791 -0.78234372 -0.09383892  0.58044558  0.40189414  0.08147066\n",
      " -0.13695744 -0.32579878 -0.04375842 -0.08581809 -1.004104    0.07182197\n",
      "  0.25475633 -0.10741304 -0.3534188  -0.59304814  1.38036202  0.81544861\n",
      "  0.35184077 -0.39782124 -0.73262468  1.20879144  0.26702491 -0.30910442\n",
      " -0.51106485  0.48434056]\n"
     ]
    },
    {
     "name": "stderr",
     "output_type": "stream",
     "text": [
      "\n"
     ]
    }
   ],
   "source": [
    "# compute average word2vec for X_train .\n",
    "train_vectors = []; \n",
    "for sent in tqdm(sent_of_train):\n",
    "    sent_vec = np.zeros(50) \n",
    "    cnt_words =0; \n",
    "    for word in sent: # \n",
    "        if word in w2v_words:\n",
    "            vec = w2v_model.wv[word]\n",
    "            sent_vec += vec\n",
    "            cnt_words += 1\n",
    "    if cnt_words != 0:\n",
    "        sent_vec /= cnt_words\n",
    "    train_vectors.append(sent_vec)\n",
    "    \n",
    "train_vectors = np.array(train_vectors)\n",
    "\n",
    "print(train_vectors.shape)\n",
    "print(train_vectors[0])"
   ]
  },
  {
   "cell_type": "markdown",
   "metadata": {
    "_uuid": "5cc80708922b48f29bc69be39919cc192494c2a7",
    "colab_type": "text",
    "id": "pEuRCrhcoEBp"
   },
   "source": [
    "#### [4.4.1.2] TFIDF weighted W2v"
   ]
  },
  {
   "cell_type": "code",
   "execution_count": 272,
   "metadata": {},
   "outputs": [
    {
     "name": "stderr",
     "output_type": "stream",
     "text": [
      "100%|██████████| 33000/33000 [19:17<00:00, 28.51it/s]\n"
     ]
    },
    {
     "name": "stdout",
     "output_type": "stream",
     "text": [
      "(33000, 50)\n",
      "[ 0.05674556  0.45534664  0.00478524  0.10021247  0.14966017 -0.15160245\n",
      "  0.14770405  0.354371   -0.22304123  0.01087953 -0.07946353 -0.04112905\n",
      "  0.0169637  -0.08088503 -0.04408359  0.03733224 -0.16256878  0.21873269\n",
      " -0.0885564  -0.11193214 -0.11707955  0.06813254  0.18394441 -0.25571486\n",
      " -0.34545013 -0.2815951   0.11274173  0.11160742 -0.10503162  0.09896749\n",
      "  0.4604654  -0.0864644  -0.29628719 -0.41639876 -0.08949415  0.03268891\n",
      "  0.05832278  0.02870465 -0.4545801  -0.49367995  0.52847396  0.1305022\n",
      " -0.02626145 -0.26193574  0.10635008  0.37774505 -0.32122394  0.07186619\n",
      " -0.17350636  0.25186179]\n"
     ]
    }
   ],
   "source": [
    "tf_idf_vect = TfidfVectorizer()\n",
    "\n",
    "# final_tf_idf1 is the sparse matrix with row= sentence, col=word and cell_val = tfidf\n",
    "final_tf_idf1 = tf_idf_vect.fit_transform(X_train)\n",
    "dictionary = dict(zip(tf_idf_vect.get_feature_names(), list(tf_idf_vect.idf_)))\n",
    "\n",
    "# tfidf words/col-names\n",
    "tfidf_feat = tf_idf_vect.get_feature_names()\n",
    "\n",
    "# compute TFIDF Weighted Word2Vec for X_test .\n",
    "tfidf_test_vectors = []; \n",
    "row=0;\n",
    "for sent in tqdm(sent_of_test): \n",
    "    sent_vec = np.zeros(50) \n",
    "    weight_sum =0; \n",
    "    for word in sent: \n",
    "        if word in w2v_words and word in tfidf_feat:\n",
    "            vec = w2v_model.wv[word]\n",
    "            tf_idf = dictionary[word]*(sent.count(word)/len(sent))\n",
    "            sent_vec += (vec * tf_idf)\n",
    "            weight_sum += tf_idf\n",
    "    if weight_sum != 0:\n",
    "        sent_vec /= weight_sum\n",
    "    tfidf_test_vectors.append(sent_vec)\n",
    "    \n",
    "tfidf_test_vectors = np.array(tfidf_test_vectors)\n",
    "print(tfidf_test_vectors.shape)\n",
    "print(tfidf_test_vectors[0])   \n"
   ]
  },
  {
   "cell_type": "code",
   "execution_count": 273,
   "metadata": {
    "_uuid": "a453ef22a5a62f87eae2b6ae697613f6cc98cdaf",
    "colab": {
     "base_uri": "https://localhost:8080/",
     "height": 50
    },
    "colab_type": "code",
    "id": "9Z7xHpkioEBp",
    "outputId": "2633a049-f14c-41c6-ef3b-ec185caafb6d"
   },
   "outputs": [
    {
     "name": "stderr",
     "output_type": "stream",
     "text": [
      "100%|██████████| 44890/44890 [24:48<00:00, 30.15it/s] \n"
     ]
    },
    {
     "name": "stdout",
     "output_type": "stream",
     "text": [
      "(44890, 50)\n",
      "[ 0.6604019   1.05134164 -1.23869904  0.07978345 -0.6585853   0.15262296\n",
      "  0.46197408  0.28721333  0.71947858  0.34444516  0.52122447 -0.27308447\n",
      "  0.1730235  -0.48959467 -0.57064343 -0.10663995 -0.12631126  0.03022428\n",
      "  0.7270707   0.56086075 -0.09364828  0.17929872  1.13248566 -0.20724076\n",
      "  0.28880089 -0.80982647 -0.19054757  0.76324156  0.61436021 -0.04084342\n",
      " -0.33269857 -0.45597689  0.23606132  0.07524744 -1.2631875   0.08809292\n",
      "  0.12740885 -0.09895227 -0.2356558  -0.47455338  1.77025447  0.91280937\n",
      "  0.31991652 -0.49194256 -1.00246888  1.41514742  0.53722848 -0.54572239\n",
      " -0.86944496  0.5310506 ]\n"
     ]
    }
   ],
   "source": [
    "# compute TFIDF Weighted Word2Vec for X_train .\n",
    "tfidf_train_vectors = []; \n",
    "row=0;\n",
    "for sent in tqdm(sent_of_train): \n",
    "    sent_vec = np.zeros(50) \n",
    "    weight_sum =0; \n",
    "    for word in sent: \n",
    "        if word in w2v_words and word in tfidf_feat:\n",
    "            vec = w2v_model.wv[word]\n",
    "            tf_idf = dictionary[word]*(sent.count(word)/len(sent))\n",
    "            sent_vec += (vec * tf_idf)\n",
    "            weight_sum += tf_idf\n",
    "    if weight_sum != 0:\n",
    "        sent_vec /= weight_sum\n",
    "    tfidf_train_vectors.append(sent_vec)\n",
    "\n",
    "tfidf_train_vectors = np.array(tfidf_train_vectors)\n",
    "print(tfidf_train_vectors.shape)\n",
    "print(tfidf_train_vectors[0])  "
   ]
  },
  {
   "cell_type": "markdown",
   "metadata": {
    "_uuid": "f81b17e59cc4a32f8cd8045a32f8e10bf4050064",
    "colab_type": "text",
    "id": "xnjL74wcoEBt"
   },
   "source": [
    "# [5] Assignment 3: KNN"
   ]
  },
  {
   "cell_type": "markdown",
   "metadata": {
    "_uuid": "84cc70f7199b15464434386a67d72b7a7b2d2495",
    "colab_type": "text",
    "id": "bQga5EGFoEBt"
   },
   "source": [
    "<ol>\n",
    "    <li><strong>Apply Knn(brute force version) on these feature sets</strong>\n",
    "        <ul>\n",
    "            <li><font color='red'>SET 1:</font>Review text, preprocessed one converted into vectors using (BOW)</li>\n",
    "            <li><font color='red'>SET 2:</font>Review text, preprocessed one converted into vectors using (TFIDF)</li>\n",
    "            <li><font color='red'>SET 3:</font>Review text, preprocessed one converted into vectors using (AVG W2v)</li>\n",
    "            <li><font color='red'>SET 4:</font>Review text, preprocessed one converted into vectors using (TFIDF W2v)</li>\n",
    "        </ul>\n",
    "    </li>\n",
    "    <br>\n",
    "    <li><strong>Apply Knn(kd tree version) on these feature sets</strong>\n",
    "        <br><font color='red'>NOTE: </font>sklearn implementation of kd-tree accepts only dense matrices, you need to convert the sparse matrices of CountVectorizer/TfidfVectorizer into dense matices. You can convert sparse matrices to dense using .toarray() attribute. For more information please visit this <a href='https://docs.scipy.org/doc/scipy-0.18.1/reference/generated/scipy.sparse.csr_matrix.toarray.html'>link</a>\n",
    "        <ul>\n",
    "            <li><font color='red'>SET 5:</font>Review text, preprocessed one converted into vectors using (BOW) but with restriction on maximum features generated.\n",
    "            <pre>\n",
    "            count_vect = CountVectorizer(min_df=10, max_features=500) \n",
    "            count_vect.fit(preprocessed_reviews)\n",
    "            </pre>\n",
    "            </li>\n",
    "            <li><font color='red'>SET 6:</font>Review text, preprocessed one converted into vectors using (TFIDF) but with restriction on maximum features generated.\n",
    "            <pre>\n",
    "                tf_idf_vect = TfidfVectorizer(min_df=10, max_features=500)\n",
    "                tf_idf_vect.fit(preprocessed_reviews)\n",
    "            </pre>\n",
    "            </li>\n",
    "            <li><font color='red'>SET 3:</font>Review text, preprocessed one converted into vectors using (AVG W2v)</li>\n",
    "            <li><font color='red'>SET 4:</font>Review text, preprocessed one converted into vectors using (TFIDF W2v)</li>\n",
    "        </ul>\n",
    "    </li>\n",
    "    <br>\n",
    "    <li><strong>The hyper paramter tuning(find best K)</strong>\n",
    "        <ul>\n",
    "    <li>Find the best hyper parameter which will give the maximum <a href='https://www.appliedaicourse.com/course/applied-ai-course-online/lessons/receiver-operating-characteristic-curve-roc-curve-and-auc-1/'>AUC</a> value</li>\n",
    "    <li>Find the best hyper paramter using k-fold cross validation or simple cross validation data</li>\n",
    "    <li>Use gridsearch cv or randomsearch cv or you can also write your own for loops to do this task of hyperparameter tuning</li>\n",
    "        </ul>\n",
    "    </li>\n",
    "    <br>\n",
    "    <li>\n",
    "    <strong>Representation of results</strong>\n",
    "        <ul>\n",
    "    <li>You need to plot the performance of model both on train data and cross validation data for each hyper parameter, like shown in the figure\n",
    "    <img src='train_cv_auc.JPG' width=300px></li>\n",
    "    <li>Once after you found the best hyper parameter, you need to train your model with it, and find the AUC on test data and plot the ROC curve on both train and test.\n",
    "    <img src='train_test_auc.JPG' width=300px></li>\n",
    "    <li>Along with plotting ROC curve, you need to print the <a href='https://www.appliedaicourse.com/course/applied-ai-course-online/lessons/confusion-matrix-tpr-fpr-fnr-tnr-1/'>confusion matrix</a> with predicted and original labels of test data points\n",
    "    <img src='confusion_matrix.png' width=300px></li>\n",
    "        </ul>\n",
    "    </li>\n",
    "    <br>\n",
    "    <li><strong>Conclusion</strong>\n",
    "        <ul>\n",
    "    <li>You need to summarize the results at the end of the notebook, summarize it in the table format. To print out a table please refer to this prettytable library<a href='http://zetcode.com/python/prettytable/'> link</a> \n",
    "        <img src='summary.JPG' width=400px>\n",
    "    </li>\n",
    "        </ul>\n",
    "</ol>"
   ]
  },
  {
   "cell_type": "markdown",
   "metadata": {
    "_uuid": "23407c3a20c7da84dc9259c6c7ea2fcc155e2eaa",
    "colab_type": "text",
    "id": "Nez0Wnh2oEBv"
   },
   "source": [
    "<h4><font color='red'>Note: Data Leakage</font></h4>\n",
    "\n",
    "1. There will be an issue of data-leakage if you vectorize the entire data and then split it into train/cv/test.\n",
    "2. To avoid the issue of data-leakag, make sure to split your data first and then vectorize it. \n",
    "3. While vectorizing your data, apply the method fit_transform() on you train data, and apply the method transform() on cv/test data.\n",
    "4. For more details please go through this <a href='https://soundcloud.com/applied-ai-course/leakage-bow-and-tfidf'>link.</a>"
   ]
  },
  {
   "cell_type": "markdown",
   "metadata": {
    "_uuid": "4aec224898ff6f2b937b3896c0e1a23979cbee67",
    "colab_type": "text",
    "id": "ZkOu5RyooEBv"
   },
   "source": [
    "## [5.1] Applying KNN brute force"
   ]
  },
  {
   "cell_type": "markdown",
   "metadata": {
    "_uuid": "c9d4194ce3d479ed2da183a0679762117271a691",
    "colab_type": "text",
    "id": "asFL_nPyoEBw"
   },
   "source": [
    "### [5.1.1] Applying KNN brute force on BOW,<font color='red'> SET 1</font>"
   ]
  },
  {
   "cell_type": "code",
   "execution_count": 274,
   "metadata": {},
   "outputs": [
    {
     "data": {
      "image/png": "[encoded data removed]",
      "text/plain": [
       "<Figure size 432x288 with 1 Axes>"
      ]
     },
     "metadata": {
      "needs_background": "light"
     },
     "output_type": "display_data"
    }
   ],
   "source": [
    "# https://scikit-learn.org/stable/modules/generated/sklearn.model_selection.GridSearchCV.html\n",
    "from sklearn.model_selection import GridSearchCV\n",
    "\n",
    "neigh = KNeighborsClassifier(algorithm='brute')\n",
    "parameters = {'n_neighbors':[1, 5, 10, 15, 21, 31, 41, 51]}\n",
    "clf = GridSearchCV(neigh, parameters, cv=3, scoring='roc_auc')\n",
    "clf.fit(X_train_bow, y_train)\n",
    "\n",
    "train_auc= clf.cv_results_['mean_train_score']\n",
    "train_auc_std= clf.cv_results_['std_train_score']\n",
    "cv_auc = clf.cv_results_['mean_test_score'] \n",
    "cv_auc_std= clf.cv_results_['std_test_score']\n",
    "\n",
    "plt.plot(K, train_auc, label='Train AUC')\n",
    "# this code is copied from here: https://stackoverflow.com/a/48803361/4084039\n",
    "plt.gca().fill_between(K,train_auc - train_auc_std,train_auc + train_auc_std,alpha=0.2,color='darkblue')\n",
    "\n",
    "plt.plot(K, cv_auc, label='CV AUC')\n",
    "# this code is copied from here: https://stackoverflow.com/a/48803361/4084039\n",
    "plt.gca().fill_between(K,cv_auc - cv_auc_std,cv_auc + cv_auc_std,alpha=0.2,color='darkorange')\n",
    "plt.legend()\n",
    "plt.xlabel(\"K: hyperparameter\")\n",
    "plt.ylabel(\"AUC\")\n",
    "plt.title(\"ERROR PLOTS\")\n",
    "plt.show()"
   ]
  },
  {
   "cell_type": "code",
   "execution_count": 277,
   "metadata": {},
   "outputs": [],
   "source": [
    "best_k=10"
   ]
  },
  {
   "cell_type": "code",
   "execution_count": 278,
   "metadata": {},
   "outputs": [
    {
     "data": {
      "image/png": "[encoded data removed]",
      "text/plain": [
       "<Figure size 432x288 with 1 Axes>"
      ]
     },
     "metadata": {
      "needs_background": "light"
     },
     "output_type": "display_data"
    },
    {
     "name": "stdout",
     "output_type": "stream",
     "text": [
      "====================================================================================================\n",
      "Train confusion matrix\n",
      "[[ 3507  3684]\n",
      " [ 2808 34891]]\n",
      "Test confusion matrix\n",
      "[[ 1976  3126]\n",
      " [ 2720 25178]]\n"
     ]
    }
   ],
   "source": [
    "neigh = KNeighborsClassifier(n_neighbors=best_k)\n",
    "neigh.fit(X_train_bow, y_train)\n",
    "\n",
    "    \n",
    "    \n",
    "# roc_auc_score(y_true, y_score) the 2nd parameter should be probability estimates of the positive class\n",
    "# not the predicted outputs\n",
    "\n",
    "train_fpr, train_tpr, thresholds = roc_curve(y_train, neigh.predict_proba(X_train_bow)[:,1])\n",
    "test_fpr, test_tpr, thresholds = roc_curve(y_test, neigh.predict_proba(X_test_bow)[:,1])\n",
    "\n",
    "plt.plot(train_fpr, train_tpr, label=\"train AUC =\"+str(auc(train_fpr, train_tpr)))\n",
    "plt.plot(test_fpr, test_tpr, label=\"test AUC =\"+str(auc(test_fpr, test_tpr)))\n",
    "plt.legend()\n",
    "plt.xlabel(\"K: hyperparameter\")\n",
    "plt.ylabel(\"AUC\")\n",
    "plt.title(\"ERROR PLOTS\")\n",
    "plt.show()\n",
    "\n",
    "print(\"=\"*100)\n",
    "\n",
    "from sklearn.metrics import confusion_matrix\n",
    "print(\"Train confusion matrix\")\n",
    "print(confusion_matrix(y_train, neigh.predict(X_train_bow)))\n",
    "print(\"Test confusion matrix\")\n",
    "print(confusion_matrix(y_test, neigh.predict(X_test_bow)))\n",
    "\n",
    "\n",
    "# Variables for table  \n",
    "bow_brute_K = best_k\n",
    "bow_brute_train= train_auc\n",
    "bow_brute_test = cv_auc"
   ]
  },
  {
   "cell_type": "markdown",
   "metadata": {
    "_uuid": "12a6f732a29d1cce0cf2de2a17a85406d45e08b0",
    "colab_type": "text",
    "id": "5E7ILhOcoEB0"
   },
   "source": [
    "### [5.1.2] Applying KNN brute force on TFIDF,<font color='red'> SET 2</font>"
   ]
  },
  {
   "cell_type": "code",
   "execution_count": 279,
   "metadata": {
    "_uuid": "fc1e70ac294b02bf70b9eb4ebfd6934cb184a00b",
    "colab": {},
    "colab_type": "code",
    "id": "VUZpUuByoEB1"
   },
   "outputs": [
    {
     "data": {
      "image/png": "[encoded data removed]",
      "text/plain": [
       "<Figure size 432x288 with 1 Axes>"
      ]
     },
     "metadata": {
      "needs_background": "light"
     },
     "output_type": "display_data"
    }
   ],
   "source": [
    "# https://scikit-learn.org/stable/modules/generated/sklearn.model_selection.GridSearchCV.html\n",
    "from sklearn.model_selection import GridSearchCV\n",
    "\n",
    "\n",
    "\n",
    "neigh = KNeighborsClassifier(algorithm='brute')\n",
    "parameters = {'n_neighbors':[1, 5, 10, 15, 21, 31, 41, 51]}\n",
    "clf = GridSearchCV(neigh, parameters, cv=3, scoring='roc_auc')\n",
    "clf.fit(X_train_tfidf, y_train)\n",
    "\n",
    "train_auc= clf.cv_results_['mean_train_score']\n",
    "train_auc_std= clf.cv_results_['std_train_score']\n",
    "cv_auc = clf.cv_results_['mean_test_score'] \n",
    "cv_auc_std= clf.cv_results_['std_test_score']\n",
    "\n",
    "plt.plot(K, train_auc, label='Train AUC')\n",
    "# this code is copied from here: https://stackoverflow.com/a/48803361/4084039\n",
    "plt.gca().fill_between(K,train_auc - train_auc_std,train_auc + train_auc_std,alpha=0.2,color='darkblue')\n",
    "\n",
    "plt.plot(K, cv_auc, label='CV AUC')\n",
    "# this code is copied from here: https://stackoverflow.com/a/48803361/4084039\n",
    "plt.gca().fill_between(K,cv_auc - cv_auc_std,cv_auc + cv_auc_std,alpha=0.2,color='darkorange')\n",
    "plt.legend()\n",
    "plt.xlabel(\"K: hyperparameter\")\n",
    "plt.ylabel(\"AUC\")\n",
    "plt.title(\"ERROR PLOTS\")\n",
    "plt.show()"
   ]
  },
  {
   "cell_type": "code",
   "execution_count": 282,
   "metadata": {},
   "outputs": [],
   "source": [
    "best_k = 51"
   ]
  },
  {
   "cell_type": "code",
   "execution_count": 283,
   "metadata": {
    "colab": {
     "base_uri": "https://localhost:8080/",
     "height": 841
    },
    "colab_type": "code",
    "id": "G0QBtSwlxH6l",
    "outputId": "61579e50-5fcf-4dfb-8a95-aa4f45db13c1"
   },
   "outputs": [
    {
     "data": {
      "image/png": "[encoded data removed]",
      "text/plain": [
       "<Figure size 432x288 with 1 Axes>"
      ]
     },
     "metadata": {
      "needs_background": "light"
     },
     "output_type": "display_data"
    },
    {
     "name": "stdout",
     "output_type": "stream",
     "text": [
      "====================================================================================================\n",
      "Train confusion matrix\n",
      "[[   10  7181]\n",
      " [    2 37697]]\n",
      "Test confusion matrix\n",
      "[[    9  5093]\n",
      " [    1 27897]]\n"
     ]
    }
   ],
   "source": [
    "neigh = KNeighborsClassifier(n_neighbors=best_k)\n",
    "neigh.fit(X_train_tfidf, y_train)\n",
    "   \n",
    "    \n",
    "# roc_auc_score(y_true, y_score) the 2nd parameter should be probability estimates of the positive class\n",
    "# not the predicted outputs\n",
    "\n",
    "train_fpr, train_tpr, thresholds = roc_curve(y_train, neigh.predict_proba(X_train_tfidf)[:,1])\n",
    "test_fpr, test_tpr, thresholds = roc_curve(y_test, neigh.predict_proba(X_test_tfidf)[:,1])\n",
    "\n",
    "plt.plot(train_fpr, train_tpr, label=\"train AUC =\"+str(auc(train_fpr, train_tpr)))\n",
    "plt.plot(test_fpr, test_tpr, label=\"test AUC =\"+str(auc(test_fpr, test_tpr)))\n",
    "plt.legend()\n",
    "plt.xlabel(\"K: hyperparameter\")\n",
    "plt.ylabel(\"AUC\")\n",
    "plt.title(\"ERROR PLOTS\")\n",
    "plt.show()\n",
    "\n",
    "print(\"=\"*100)\n",
    "\n",
    "from sklearn.metrics import confusion_matrix\n",
    "print(\"Train confusion matrix\")\n",
    "print(confusion_matrix(y_train, neigh.predict(X_train_tfidf)))\n",
    "print(\"Test confusion matrix\")\n",
    "print(confusion_matrix(y_test, neigh.predict(X_test_tfidf)))\n",
    "\n",
    "\n",
    "\n",
    "\n",
    "# Variables for table \n",
    "\n",
    "\n",
    "tfidf_brute_K = best_k\n",
    "tfidf_brute_train = train_auc\n",
    "tfidf_brute_test = cv_auc\n",
    " "
   ]
  },
  {
   "cell_type": "markdown",
   "metadata": {
    "_uuid": "77ddd7a33f4f6f5c6615be0f7fbc95006d78ba50",
    "colab_type": "text",
    "id": "XcMbvpknoEB4"
   },
   "source": [
    "### [5.1.3] Applying KNN brute force on AVG W2V,<font color='red'> SET 3</font>"
   ]
  },
  {
   "cell_type": "code",
   "execution_count": 284,
   "metadata": {
    "_uuid": "7225914c35c756c21f80233dffb4361d5d106294",
    "colab": {},
    "colab_type": "code",
    "id": "Yy5SvlQQoEB5"
   },
   "outputs": [
    {
     "data": {
      "image/png": "[encoded data removed]",
      "text/plain": [
       "<Figure size 432x288 with 1 Axes>"
      ]
     },
     "metadata": {
      "needs_background": "light"
     },
     "output_type": "display_data"
    }
   ],
   "source": [
    "# https://scikit-learn.org/stable/modules/generated/sklearn.model_selection.GridSearchCV.html\n",
    "from sklearn.model_selection import GridSearchCV\n",
    "\n",
    "neigh = KNeighborsClassifier(algorithm='brute')\n",
    "parameters = {'n_neighbors':[1, 5, 10, 15, 21, 31, 41, 51]}\n",
    "clf = GridSearchCV(neigh, parameters, cv=3, scoring='roc_auc')\n",
    "clf.fit(train_vectors, y_train)\n",
    "\n",
    "train_auc= clf.cv_results_['mean_train_score']\n",
    "train_auc_std= clf.cv_results_['std_train_score']\n",
    "cv_auc = clf.cv_results_['mean_test_score'] \n",
    "cv_auc_std= clf.cv_results_['std_test_score']\n",
    "\n",
    "plt.plot(K, train_auc, label='Train AUC')\n",
    "# this code is copied from here: https://stackoverflow.com/a/48803361/4084039\n",
    "plt.gca().fill_between(K,train_auc - train_auc_std,train_auc + train_auc_std,alpha=0.2,color='darkblue')\n",
    "\n",
    "plt.plot(K, cv_auc, label='CV AUC')\n",
    "# this code is copied from here: https://stackoverflow.com/a/48803361/4084039\n",
    "plt.gca().fill_between(K,cv_auc - cv_auc_std,cv_auc + cv_auc_std,alpha=0.2,color='darkorange')\n",
    "plt.legend()\n",
    "plt.xlabel(\"K: hyperparameter\")\n",
    "plt.ylabel(\"AUC\")\n",
    "plt.title(\"ERROR PLOTS\")\n",
    "plt.show()\n"
   ]
  },
  {
   "cell_type": "code",
   "execution_count": 285,
   "metadata": {},
   "outputs": [],
   "source": [
    "best_k = 15"
   ]
  },
  {
   "cell_type": "code",
   "execution_count": 286,
   "metadata": {
    "_uuid": "71864e5dc7d2544dbb0774f2073030637290778e",
    "colab": {
     "base_uri": "https://localhost:8080/",
     "height": 841
    },
    "colab_type": "code",
    "id": "bzVk2D86oEB7",
    "outputId": "82208af9-f31b-48c5-a0da-4a37b279c80a"
   },
   "outputs": [
    {
     "data": {
      "image/png": "[encoded data removed]",
      "text/plain": [
       "<Figure size 432x288 with 1 Axes>"
      ]
     },
     "metadata": {
      "needs_background": "light"
     },
     "output_type": "display_data"
    },
    {
     "name": "stdout",
     "output_type": "stream",
     "text": [
      "====================================================================================================\n",
      "Train confusion matrix\n",
      "[[ 2683  4508]\n",
      " [  660 37039]]\n",
      "Test confusion matrix\n",
      "[[ 1666  3436]\n",
      " [  635 27263]]\n"
     ]
    }
   ],
   "source": [
    "neigh = KNeighborsClassifier(n_neighbors=best_k)\n",
    "neigh.fit(train_vectors, y_train)\n",
    "\n",
    "# roc_auc_score(y_true, y_score) the 2nd parameter should be probability estimates of the positive class\n",
    "# not the predicted outputs\n",
    "\n",
    "\n",
    "train_fpr, train_tpr, thresholds = roc_curve(y_train, neigh.predict_proba(train_vectors)[:,1])\n",
    "test_fpr, test_tpr, thresholds = roc_curve(y_test, neigh.predict_proba(test_vectors)[:,1])\n",
    "\n",
    "plt.plot(train_fpr, train_tpr, label=\"train AUC =\"+str(auc(train_fpr, train_tpr)))\n",
    "plt.plot(test_fpr, test_tpr, label=\"train AUC =\"+str(auc(test_fpr, test_tpr)))\n",
    "plt.legend()\n",
    "plt.xlabel(\"K: hyperparameter\")\n",
    "plt.ylabel(\"AUC\")\n",
    "plt.title(\"ERROR PLOTS\")\n",
    "plt.show()\n",
    "\n",
    "print(\"=\"*100)\n",
    "\n",
    "from sklearn.metrics import confusion_matrix\n",
    "print(\"Train confusion matrix\")\n",
    "print(confusion_matrix(y_train, neigh.predict(train_vectors)))\n",
    "print(\"Test confusion matrix\")\n",
    "print(confusion_matrix(y_test, neigh.predict(test_vectors)))\n",
    "\n",
    "\n",
    "# Variables for table \n",
    "Avg_Word2Vec_brute_K = best_k\n",
    "Avg_Word2Vec_brute_train = train_auc\n",
    "Avg_word2Vec_brute_test = cv_auc\n"
   ]
  },
  {
   "cell_type": "markdown",
   "metadata": {
    "_uuid": "8876271296661630a9a4362233eb742cf614de57",
    "colab_type": "text",
    "id": "G8U1KvmHoEB9"
   },
   "source": [
    "### [5.1.4] Applying KNN brute force on TFIDF W2V,<font color='red'> SET 4</font>"
   ]
  },
  {
   "cell_type": "code",
   "execution_count": 287,
   "metadata": {
    "_uuid": "0df65221bef2232d8bcaa5e6553eb6a4d0d07bdc",
    "colab": {},
    "colab_type": "code",
    "id": "kvu1AR4loEB-"
   },
   "outputs": [
    {
     "data": {
      "image/png": "[encoded data removed]",
      "text/plain": [
       "<Figure size 432x288 with 1 Axes>"
      ]
     },
     "metadata": {
      "needs_background": "light"
     },
     "output_type": "display_data"
    }
   ],
   "source": [
    "# https://scikit-learn.org/stable/modules/generated/sklearn.model_selection.GridSearchCV.html\n",
    "from sklearn.model_selection import GridSearchCV\n",
    "\n",
    "\n",
    "neigh = KNeighborsClassifier(algorithm='brute')\n",
    "parameters = {'n_neighbors':[1, 5, 10, 15, 21, 31, 41, 51]}\n",
    "clf = GridSearchCV(neigh, parameters, cv=3, scoring='roc_auc')\n",
    "clf.fit(tfidf_train_vectors, y_train)\n",
    "\n",
    "train_auc= clf.cv_results_['mean_train_score']\n",
    "train_auc_std= clf.cv_results_['std_train_score']\n",
    "cv_auc = clf.cv_results_['mean_test_score'] \n",
    "cv_auc_std= clf.cv_results_['std_test_score']\n",
    "\n",
    "plt.plot(K, train_auc, label='Train AUC')\n",
    "# this code is copied from here: https://stackoverflow.com/a/48803361/4084039\n",
    "plt.gca().fill_between(K,train_auc - train_auc_std,train_auc + train_auc_std,alpha=0.2,color='darkblue')\n",
    "\n",
    "plt.plot(K, cv_auc, label='CV AUC')\n",
    "# this code is copied from here: https://stackoverflow.com/a/48803361/4084039\n",
    "plt.gca().fill_between(K,cv_auc - cv_auc_std,cv_auc + cv_auc_std,alpha=0.2,color='darkorange')\n",
    "plt.legend()\n",
    "plt.xlabel(\"K: hyperparameter\")\n",
    "plt.ylabel(\"AUC\")\n",
    "plt.title(\"ERROR PLOTS\")\n",
    "plt.show() \n"
   ]
  },
  {
   "cell_type": "code",
   "execution_count": 288,
   "metadata": {},
   "outputs": [],
   "source": [
    "best_k=14"
   ]
  },
  {
   "cell_type": "code",
   "execution_count": 289,
   "metadata": {
    "_uuid": "348750f5be822a8214746b072753fe9977fb505a",
    "colab": {
     "base_uri": "https://localhost:8080/",
     "height": 841
    },
    "colab_type": "code",
    "id": "w_zCNoleoECA",
    "outputId": "b8c2f0da-00e6-472f-9601-6d6d2af99f26"
   },
   "outputs": [
    {
     "data": {
      "image/png": "[encoded data removed]",
      "text/plain": [
       "<Figure size 432x288 with 1 Axes>"
      ]
     },
     "metadata": {
      "needs_background": "light"
     },
     "output_type": "display_data"
    },
    {
     "name": "stdout",
     "output_type": "stream",
     "text": [
      "====================================================================================================\n",
      "Train confusion matrix\n",
      "[[ 2650  4541]\n",
      " [  869 36830]]\n",
      "Test confusion matrix\n",
      "[[ 1591  3511]\n",
      " [  820 27078]]\n"
     ]
    }
   ],
   "source": [
    "neigh = KNeighborsClassifier(n_neighbors=best_k)\n",
    "neigh.fit(tfidf_train_vectors, y_train)\n",
    "    \n",
    "# roc_auc_score(y_true, y_score) the 2nd parameter should be probability estimates of the positive class\n",
    "# not the predicted outputs\n",
    "\n",
    "train_fpr, train_tpr, thresholds = roc_curve(y_train, neigh.predict_proba(tfidf_train_vectors)[:,1])\n",
    "test_fpr, test_tpr, thresholds = roc_curve(y_test, neigh.predict_proba(tfidf_test_vectors)[:,1])\n",
    "\n",
    "plt.plot(train_fpr, train_tpr, label=\"train AUC =\"+str(auc(train_fpr, train_tpr)))\n",
    "plt.plot(test_fpr, test_tpr, label=\"test AUC =\"+str(auc(test_fpr, test_tpr)))\n",
    "plt.legend()\n",
    "plt.xlabel(\"K: hyperparameter\")\n",
    "plt.ylabel(\"AUC\")\n",
    "plt.title(\"ERROR PLOTS\")\n",
    "plt.show()\n",
    "\n",
    "print(\"=\"*100)\n",
    "\n",
    "from sklearn.metrics import confusion_matrix\n",
    "print(\"Train confusion matrix\")\n",
    "print(confusion_matrix(y_train, neigh.predict(tfidf_train_vectors)))\n",
    "print(\"Test confusion matrix\")\n",
    "print(confusion_matrix(y_test, neigh.predict(tfidf_test_vectors)))\n",
    "\n",
    "# Variables for table \n",
    "\n",
    "\n",
    "TFIDF_Word2Vec_brute_K = best_k\n",
    "TFIDF_Word2Vec_brute_train = train_auc\n",
    "TFIDF_word2Vec_brute_test = cv_auc\n",
    " "
   ]
  },
  {
   "cell_type": "markdown",
   "metadata": {
    "_uuid": "766f6400b7c9e3ea4e8306b9bcb8f233d4702b7d",
    "colab_type": "text",
    "id": "K9eUnO-ioECC"
   },
   "source": [
    "## [5.2] Applying KNN kd-tree"
   ]
  },
  {
   "cell_type": "markdown",
   "metadata": {
    "_uuid": "55c7afac13327f3e53b792166ac538b3555dc9f8",
    "colab_type": "text",
    "id": "Y2c0gb3UoECD"
   },
   "source": [
    "### [5.2.1] Applying KNN kd-tree on BOW,<font color='red'> SET 5</font>"
   ]
  },
  {
   "cell_type": "code",
   "execution_count": 290,
   "metadata": {
    "_uuid": "efffe19b6300d8233e0c0a6a268014046b588547",
    "colab": {},
    "colab_type": "code",
    "id": "i-Iy9ibvoECE"
   },
   "outputs": [
    {
     "data": {
      "image/png": "[encoded data removed]",
      "text/plain": [
       "<Figure size 432x288 with 1 Axes>"
      ]
     },
     "metadata": {
      "needs_background": "light"
     },
     "output_type": "display_data"
    }
   ],
   "source": [
    "# Please write all the code with proper documentation\n",
    "from sklearn.decomposition import TruncatedSVD\n",
    "svd = TruncatedSVD(n_components=100)\n",
    "Xtrain_bow = svd.fit_transform(X_train_bow)\n",
    "Xtest_bow = svd.transform(X_test_bow)\n",
    "\n",
    "\n",
    "# Please write all the code with proper documentation\n",
    "# Importing libraries\n",
    "from sklearn.model_selection import GridSearchCV\n",
    "\n",
    "neigh = KNeighborsClassifier(algorithm='kd_tree')\n",
    "parameters = {'n_neighbors':[1, 5, 10, 15, 21, 31, 41, 51]}\n",
    "clf = GridSearchCV(neigh, parameters, cv=3, scoring='roc_auc')\n",
    "clf.fit(Xtrain_bow, y_train)\n",
    "\n",
    "train_auc= clf.cv_results_['mean_train_score']\n",
    "train_auc_std= clf.cv_results_['std_train_score']\n",
    "cv_auc = clf.cv_results_['mean_test_score'] \n",
    "cv_auc_std= clf.cv_results_['std_test_score']\n",
    "\n",
    "plt.plot(K, train_auc, label='Train AUC')\n",
    "# this code is copied from here: https://stackoverflow.com/a/48803361/4084039\n",
    "plt.gca().fill_between(K,train_auc - train_auc_std,train_auc + train_auc_std,alpha=0.2,color='darkblue')\n",
    "\n",
    "plt.plot(K, cv_auc, label='CV AUC')\n",
    "# this code is copied from here: https://stackoverflow.com/a/48803361/4084039\n",
    "plt.gca().fill_between(K,cv_auc - cv_auc_std,cv_auc + cv_auc_std,alpha=0.2,color='darkorange')\n",
    "plt.legend()\n",
    "plt.xlabel(\"K: hyperparameter\")\n",
    "plt.ylabel(\"AUC\")\n",
    "plt.title(\"ERROR PLOTS\")\n",
    "plt.show()\n"
   ]
  },
  {
   "cell_type": "code",
   "execution_count": 292,
   "metadata": {},
   "outputs": [],
   "source": [
    "best_k=41"
   ]
  },
  {
   "cell_type": "code",
   "execution_count": 293,
   "metadata": {
    "colab": {
     "base_uri": "https://localhost:8080/",
     "height": 841
    },
    "colab_type": "code",
    "id": "oiHaVJ1AxH67",
    "outputId": "3e2bcb34-7324-4398-a9ba-f324291fa25c"
   },
   "outputs": [
    {
     "data": {
      "image/png": "[encoded data removed]",
      "text/plain": [
       "<Figure size 432x288 with 1 Axes>"
      ]
     },
     "metadata": {
      "needs_background": "light"
     },
     "output_type": "display_data"
    },
    {
     "name": "stdout",
     "output_type": "stream",
     "text": [
      "====================================================================================================\n",
      "Train confusion matrix\n",
      "[[ 1471  5720]\n",
      " [  939 36760]]\n",
      "Test confusion matrix\n",
      "[[  927  4175]\n",
      " [  778 27120]]\n"
     ]
    }
   ],
   "source": [
    "neigh = KNeighborsClassifier(n_neighbors=best_k)\n",
    "neigh.fit(Xtrain_bow, y_train)\n",
    "    \n",
    "# roc_auc_score(y_true, y_score) the 2nd parameter should be probability estimates of the positive class\n",
    "# not the predicted outputs\n",
    "\n",
    "train_fpr, train_tpr, thresholds = roc_curve(y_train, neigh.predict_proba(Xtrain_bow)[:,1])\n",
    "test_fpr, test_tpr, thresholds = roc_curve(y_test, neigh.predict_proba(Xtest_bow)[:,1])\n",
    "\n",
    "plt.plot(train_fpr, train_tpr, label=\"train AUC =\"+str(auc(train_fpr, train_tpr)))\n",
    "plt.plot(test_fpr, test_tpr, label=\"test AUC =\"+str(auc(test_fpr, test_tpr)))\n",
    "plt.legend()\n",
    "plt.xlabel(\"K: hyperparameter\")\n",
    "plt.ylabel(\"AUC\")\n",
    "plt.title(\"ERROR PLOTS\")\n",
    "plt.show()\n",
    "\n",
    "print(\"=\"*100)\n",
    "\n",
    "from sklearn.metrics import confusion_matrix\n",
    "print(\"Train confusion matrix\")\n",
    "print(confusion_matrix(y_train, neigh.predict(Xtrain_bow)))\n",
    "print(\"Test confusion matrix\")\n",
    "print(confusion_matrix(y_test, neigh.predict(Xtest_bow)))\n",
    "\n",
    "\n",
    "\n",
    "# Variables for table \n",
    "bow_kdTree_K = best_k\n",
    "bow_kdTree_train = train_auc\n",
    "bow_kdTree_test = cv_auc"
   ]
  },
  {
   "cell_type": "markdown",
   "metadata": {
    "_uuid": "136a874357739ba2bb0f3381d46102a121f4ae3f",
    "colab_type": "text",
    "id": "EUtjnwBPoECN"
   },
   "source": [
    "### [5.2.2] Applying KNN kd-tree on TFIDF,<font color='red'> SET 6</font>"
   ]
  },
  {
   "cell_type": "code",
   "execution_count": 294,
   "metadata": {
    "_uuid": "c8a9e96172325b69fe40bdacaafe0bffd11ec744",
    "colab": {},
    "colab_type": "code",
    "id": "cCxDcatroECO"
   },
   "outputs": [
    {
     "data": {
      "image/png": "[encoded data removed]",
      "text/plain": [
       "<Figure size 432x288 with 1 Axes>"
      ]
     },
     "metadata": {
      "needs_background": "light"
     },
     "output_type": "display_data"
    }
   ],
   "source": [
    "# Please write all the code with proper documentation\n",
    "svd = TruncatedSVD(n_components=100)\n",
    "Xtrain_tfidf = svd.fit_transform(X_train_bow)\n",
    "Xtest_tfidf = svd.transform(X_test_bow)\n",
    "\n",
    "# Please write all the code with proper documentation\n",
    "# Importing libraries\n",
    "from sklearn.model_selection import GridSearchCV\n",
    "\n",
    "\n",
    "neigh = KNeighborsClassifier(algorithm='kd_tree')\n",
    "parameters = {'n_neighbors':[1, 5, 10, 15, 21, 31, 41, 51]}\n",
    "clf = GridSearchCV(neigh, parameters, cv=3, scoring='roc_auc')\n",
    "clf.fit(Xtrain_tfidf, y_train)\n",
    "\n",
    "train_auc= clf.cv_results_['mean_train_score']\n",
    "train_auc_std= clf.cv_results_['std_train_score']\n",
    "cv_auc = clf.cv_results_['mean_test_score'] \n",
    "cv_auc_std= clf.cv_results_['std_test_score']\n",
    "\n",
    "plt.plot(K, train_auc, label='Train AUC')\n",
    "# this code is copied from here: https://stackoverflow.com/a/48803361/4084039\n",
    "plt.gca().fill_between(K,train_auc - train_auc_std,train_auc + train_auc_std,alpha=0.2,color='darkblue')\n",
    "\n",
    "plt.plot(K, cv_auc, label='CV AUC')\n",
    "# this code is copied from here: https://stackoverflow.com/a/48803361/4084039\n",
    "plt.gca().fill_between(K,cv_auc - cv_auc_std,cv_auc + cv_auc_std,alpha=0.2,color='darkorange')\n",
    "plt.legend()\n",
    "plt.xlabel(\"K: hyperparameter\")\n",
    "plt.ylabel(\"AUC\")\n",
    "plt.title(\"ERROR PLOTS\")\n",
    "plt.show()"
   ]
  },
  {
   "cell_type": "code",
   "execution_count": 295,
   "metadata": {},
   "outputs": [],
   "source": [
    "best_k=31"
   ]
  },
  {
   "cell_type": "code",
   "execution_count": 296,
   "metadata": {
    "_uuid": "87379af16d1bfa1cb6abfab6110f770cacb99a59",
    "colab": {
     "base_uri": "https://localhost:8080/",
     "height": 841
    },
    "colab_type": "code",
    "id": "Be0CWjWSoECJ",
    "outputId": "201b2484-03b9-4343-8aa6-5ea64e7c02d7"
   },
   "outputs": [
    {
     "data": {
      "image/png": "[encoded data removed]",
      "text/plain": [
       "<Figure size 432x288 with 1 Axes>"
      ]
     },
     "metadata": {
      "needs_background": "light"
     },
     "output_type": "display_data"
    },
    {
     "name": "stdout",
     "output_type": "stream",
     "text": [
      "====================================================================================================\n",
      "Train confusion matrix\n",
      "[[ 1662  5529]\n",
      " [ 1082 36617]]\n",
      "Test confusion matrix\n",
      "[[ 1047  4055]\n",
      " [  898 27000]]\n"
     ]
    }
   ],
   "source": [
    "neigh = KNeighborsClassifier(n_neighbors=best_k)\n",
    "neigh.fit(Xtrain_tfidf, y_train)\n",
    "\n",
    "    \n",
    "    \n",
    "# roc_auc_score(y_true, y_score) the 2nd parameter should be probability estimates of the positive class\n",
    "# not the predicted outputs\n",
    "\n",
    "train_fpr, train_tpr, thresholds = roc_curve(y_train, neigh.predict_proba(Xtrain_tfidf)[:,1])\n",
    "test_fpr, test_tpr, thresholds = roc_curve(y_test, neigh.predict_proba(Xtest_tfidf)[:,1])\n",
    "\n",
    "plt.plot(train_fpr, train_tpr, label=\"train AUC =\"+str(auc(train_fpr, train_tpr)))\n",
    "plt.plot(test_fpr, test_tpr, label=\"test AUC =\"+str(auc(test_fpr, test_tpr)))\n",
    "plt.legend()\n",
    "plt.xlabel(\"K: hyperparameter\")\n",
    "plt.ylabel(\"AUC\")\n",
    "plt.title(\"ERROR PLOTS\")\n",
    "plt.show()\n",
    "\n",
    "print(\"=\"*100)\n",
    "\n",
    "from sklearn.metrics import confusion_matrix\n",
    "print(\"Train confusion matrix\")\n",
    "print(confusion_matrix(y_train, neigh.predict(Xtrain_tfidf)))\n",
    "print(\"Test confusion matrix\")\n",
    "print(confusion_matrix(y_test, neigh.predict(Xtest_tfidf)))\n",
    "\n",
    "\n",
    "# Variables for table \n",
    "tfidf_kdTree_K = best_k\n",
    "tfidf_kdTree_train = train_auc\n",
    "tfidf_kdTree_test = cv_auc\n"
   ]
  },
  {
   "cell_type": "markdown",
   "metadata": {
    "_uuid": "6b5890f405f461dc11a6e90e6c88b10e356f0a02",
    "colab_type": "text",
    "id": "CPyV4uKhoECT"
   },
   "source": [
    "### [5.2.3] Applying KNN kd-tree on AVG W2V,<font color='red'> SET 7</font>"
   ]
  },
  {
   "cell_type": "code",
   "execution_count": 297,
   "metadata": {
    "_uuid": "8a49667a085de19af82d2cd1b4001c70ba9d3805",
    "colab": {},
    "colab_type": "code",
    "id": "TO0A5TH_oECU"
   },
   "outputs": [
    {
     "data": {
      "image/png": "[encoded data removed]",
      "text/plain": [
       "<Figure size 432x288 with 1 Axes>"
      ]
     },
     "metadata": {
      "needs_background": "light"
     },
     "output_type": "display_data"
    }
   ],
   "source": [
    "from sklearn.model_selection import GridSearchCV\n",
    "\n",
    "neigh = KNeighborsClassifier(algorithm='kd_tree')\n",
    "parameters = {'n_neighbors':[1, 5, 10, 15, 21, 31, 41, 51]}\n",
    "clf = GridSearchCV(neigh, parameters, cv=3, scoring='roc_auc')\n",
    "clf.fit(train_vectors, y_train)\n",
    "\n",
    "train_auc= clf.cv_results_['mean_train_score']\n",
    "train_auc_std= clf.cv_results_['std_train_score']\n",
    "cv_auc = clf.cv_results_['mean_test_score'] \n",
    "cv_auc_std= clf.cv_results_['std_test_score']\n",
    "\n",
    "plt.plot(K, train_auc, label='Train AUC')\n",
    "# this code is copied from here: https://stackoverflow.com/a/48803361/4084039\n",
    "plt.gca().fill_between(K,train_auc - train_auc_std,train_auc + train_auc_std,alpha=0.2,color='darkblue')\n",
    "\n",
    "plt.plot(K, cv_auc, label='CV AUC')\n",
    "# this code is copied from here: https://stackoverflow.com/a/48803361/4084039\n",
    "plt.gca().fill_between(K,cv_auc - cv_auc_std,cv_auc + cv_auc_std,alpha=0.2,color='darkorange')\n",
    "plt.legend()\n",
    "plt.xlabel(\"K: hyperparameter\")\n",
    "plt.ylabel(\"AUC\")\n",
    "plt.title(\"ERROR PLOTS\")\n",
    "plt.show()"
   ]
  },
  {
   "cell_type": "code",
   "execution_count": 298,
   "metadata": {},
   "outputs": [],
   "source": [
    "best_k=15"
   ]
  },
  {
   "cell_type": "code",
   "execution_count": 299,
   "metadata": {
    "_uuid": "2533e00bcbed8e93462839f0a3a6421f69a8abf2",
    "colab": {
     "base_uri": "https://localhost:8080/",
     "height": 841
    },
    "colab_type": "code",
    "id": "1gAVUf47oECW",
    "outputId": "43b3f44a-b1a6-4f5a-8bc9-2fa5be1df90a"
   },
   "outputs": [
    {
     "data": {
      "image/png": "[encoded data removed]",
      "text/plain": [
       "<Figure size 432x288 with 1 Axes>"
      ]
     },
     "metadata": {
      "needs_background": "light"
     },
     "output_type": "display_data"
    },
    {
     "name": "stdout",
     "output_type": "stream",
     "text": [
      "====================================================================================================\n",
      "Train confusion matrix\n",
      "[[ 2683  4508]\n",
      " [  660 37039]]\n",
      "Test confusion matrix\n",
      "[[ 1666  3436]\n",
      " [  635 27263]]\n"
     ]
    }
   ],
   "source": [
    "neigh = KNeighborsClassifier(n_neighbors=best_k)\n",
    "neigh.fit(train_vectors, y_train)\n",
    "\n",
    "# roc_auc_score(y_true, y_score) the 2nd parameter should be probability estimates of the positive class\n",
    "# not the predicted outputs\n",
    "\n",
    "train_fpr, train_tpr, thresholds = roc_curve(y_train, neigh.predict_proba(train_vectors)[:,1])\n",
    "test_fpr, test_tpr, thresholds = roc_curve(y_test, neigh.predict_proba(test_vectors)[:,1])\n",
    "\n",
    "plt.plot(train_fpr, train_tpr, label=\"train AUC =\"+str(auc(train_fpr, train_tpr)))\n",
    "plt.plot(test_fpr, test_tpr, label=\"train AUC =\"+str(auc(test_fpr, test_tpr)))\n",
    "plt.legend()\n",
    "plt.xlabel(\"K: hyperparameter\")\n",
    "plt.ylabel(\"AUC\")\n",
    "plt.title(\"ERROR PLOTS\")\n",
    "plt.show()\n",
    "\n",
    "print(\"=\"*100)\n",
    "\n",
    "from sklearn.metrics import confusion_matrix\n",
    "print(\"Train confusion matrix\")\n",
    "print(confusion_matrix(y_train, neigh.predict(train_vectors)))\n",
    "print(\"Test confusion matrix\")\n",
    "print(confusion_matrix(y_test, neigh.predict(test_vectors)))\n",
    "\n",
    "\n",
    "\n",
    "# Variables for table \n",
    "Avg_Word2Vec_kdTree_K = best_k\n",
    "Avg_Word2Vec_kdTree_train = train_auc\n",
    "Avg_Word2Vec_kdTree_test = cv_auc \n"
   ]
  },
  {
   "cell_type": "markdown",
   "metadata": {
    "_uuid": "6a79ed2609d70f3aca14d94d429685fa7ee71998",
    "colab_type": "text",
    "id": "L4OkpZ50oECY"
   },
   "source": [
    "### [5.2.4] Applying KNN kd-tree on TFIDF W2V,<font color='red'> SET 8</font>\n",
    "\n",
    "---\n",
    "\n"
   ]
  },
  {
   "cell_type": "code",
   "execution_count": 300,
   "metadata": {
    "_uuid": "47070707b830149dd5fdd940d527ec3e693629a2",
    "colab": {},
    "colab_type": "code",
    "id": "Ls1nT48LoECZ"
   },
   "outputs": [
    {
     "data": {
      "image/png": "[encoded data removed]",
      "text/plain": [
       "<Figure size 432x288 with 1 Axes>"
      ]
     },
     "metadata": {
      "needs_background": "light"
     },
     "output_type": "display_data"
    }
   ],
   "source": [
    "neigh = KNeighborsClassifier(algorithm='kd_tree')\n",
    "parameters = {'n_neighbors':[1, 5, 10, 15, 21, 31, 41, 51]}\n",
    "clf = GridSearchCV(neigh, parameters, cv=3, scoring='roc_auc')\n",
    "clf.fit(tfidf_train_vectors, y_train)\n",
    "\n",
    "train_auc= clf.cv_results_['mean_train_score']\n",
    "train_auc_std= clf.cv_results_['std_train_score']\n",
    "cv_auc = clf.cv_results_['mean_test_score'] \n",
    "cv_auc_std= clf.cv_results_['std_test_score']\n",
    "\n",
    "plt.plot(K, train_auc, label='Train AUC')\n",
    "# this code is copied from here: https://stackoverflow.com/a/48803361/4084039\n",
    "plt.gca().fill_between(K,train_auc - train_auc_std,train_auc + train_auc_std,alpha=0.2,color='darkblue')\n",
    "\n",
    "plt.plot(K, cv_auc, label='CV AUC')\n",
    "# this code is copied from here: https://stackoverflow.com/a/48803361/4084039\n",
    "plt.gca().fill_between(K,cv_auc - cv_auc_std,cv_auc + cv_auc_std,alpha=0.2,color='darkorange')\n",
    "plt.legend()\n",
    "plt.xlabel(\"K: hyperparameter\")\n",
    "plt.ylabel(\"AUC\")\n",
    "plt.title(\"ERROR PLOTS\")\n",
    "plt.show()  \n"
   ]
  },
  {
   "cell_type": "code",
   "execution_count": 301,
   "metadata": {},
   "outputs": [],
   "source": [
    "best_k=15"
   ]
  },
  {
   "cell_type": "code",
   "execution_count": 302,
   "metadata": {
    "_uuid": "ed5edb9b3d9131319aa5d66d5714117db825bdf1",
    "colab": {
     "base_uri": "https://localhost:8080/",
     "height": 841
    },
    "colab_type": "code",
    "id": "rfD0irUcoECk",
    "outputId": "9fe79fd2-2103-4e71-818d-af385df06be8"
   },
   "outputs": [
    {
     "data": {
      "image/png": "[encoded data removed]",
      "text/plain": [
       "<Figure size 432x288 with 1 Axes>"
      ]
     },
     "metadata": {
      "needs_background": "light"
     },
     "output_type": "display_data"
    },
    {
     "name": "stdout",
     "output_type": "stream",
     "text": [
      "====================================================================================================\n",
      "Train confusion matrix\n",
      "[[ 2271  4920]\n",
      " [  623 37076]]\n",
      "Test confusion matrix\n",
      "[[ 1363  3739]\n",
      " [  595 27303]]\n"
     ]
    }
   ],
   "source": [
    "neigh = KNeighborsClassifier(n_neighbors=best_k)\n",
    "neigh.fit(tfidf_train_vectors, y_train)\n",
    "\n",
    "# roc_auc_score(y_true, y_score) the 2nd parameter should be probability estimates of the positive class\n",
    "# not the predicted outputs\n",
    "\n",
    "\n",
    "train_fpr, train_tpr, thresholds = roc_curve(y_train, neigh.predict_proba(tfidf_train_vectors)[:,1])\n",
    "test_fpr, test_tpr, thresholds = roc_curve(y_test, neigh.predict_proba(tfidf_test_vectors)[:,1])\n",
    "\n",
    "plt.plot(train_fpr, train_tpr, label=\"train AUC =\"+str(auc(train_fpr, train_tpr)))\n",
    "plt.plot(test_fpr, test_tpr, label=\"train AUC =\"+str(auc(test_fpr, test_tpr)))\n",
    "plt.legend()\n",
    "plt.xlabel(\"K: hyperparameter\")\n",
    "plt.ylabel(\"AUC\")\n",
    "plt.title(\"ERROR PLOTS\")\n",
    "plt.show()\n",
    "\n",
    "print(\"=\"*100)\n",
    "\n",
    "from sklearn.metrics import confusion_matrix\n",
    "print(\"Train confusion matrix\")\n",
    "print(confusion_matrix(y_train, neigh.predict(tfidf_train_vectors)))\n",
    "print(\"Test confusion matrix\")\n",
    "print(confusion_matrix(y_test, neigh.predict(tfidf_test_vectors)))\n",
    "\n",
    "# Variables for table \n",
    "TFIDF_Word2Vec_kdTree_K = best_k\n",
    "TFIDF_Word2Vec_kdTree_train = train_auc\n",
    "TFIDF_Word2Vec_kdTree_test = cv_auc \n",
    " "
   ]
  },
  {
   "cell_type": "markdown",
   "metadata": {
    "_uuid": "ad4115e67b00b50aa30d00a608ae19382e3ce7eb",
    "colab_type": "text",
    "id": "mOqobdpFoECs"
   },
   "source": [
    "# [6] Conclusions"
   ]
  },
  {
   "cell_type": "code",
   "execution_count": 303,
   "metadata": {},
   "outputs": [
    {
     "name": "stdout",
     "output_type": "stream",
     "text": [
      "+----------------------------+-------------------+--------------------------------------------------------------------+--------------------------------------------------------------------+\n",
      "|           MODEL            | K: hyperparameter |                               Train                                |                                Test                                |\n",
      "+----------------------------+-------------------+--------------------------------------------------------------------+--------------------------------------------------------------------+\n",
      "|       brute for BoW        |         10        | [0.99852681 0.88257485 0.84404492 0.8254343  0.81253859 0.79981016 | [0.62041888 0.71679169 0.73711635 0.74358738 0.74667365 0.75041046 |\n",
      "|                            |                   |                       0.7926365  0.7871711 ]                       |                       0.75089475 0.75205666]                       |\n",
      "|       kdTree for BoW       |         41        | [0.99852681 0.8895456  0.85743506 0.84390956 0.83423598 0.82434325 | [0.61124908 0.71877039 0.75116932 0.76444695 0.77542843 0.78102284 |\n",
      "|                            |                   |                       0.81748903 0.81296166]                       |                       0.78458465 0.7856529 ]                       |\n",
      "|      brute for TFIDF       |         51        | [0.99852681 0.86200396 0.79318869 0.75861356 0.73418541 0.71332625 | [0.56258076 0.58802713 0.58574234 0.57793806 0.57526202 0.57125454 |\n",
      "|                            |                   |                       0.70465625 0.7031218 ]                       |                       0.56819061 0.56493379]                       |\n",
      "|     kdTree' for TFIDF      |         31        | [0.99852681 0.8892246  0.85784474 0.84526062 0.83510581 0.82444217 | [0.61125912 0.71808552 0.75213425 0.7672106  0.77488351 0.7807361  |\n",
      "|                            |                   |                       0.81935741 0.81532039]                       |                       0.78481375 0.78671046]                       |\n",
      "|   brute for Avg-Word2Vec   |         15        | [0.99874384 0.93933685 0.9215899  0.91480801 0.90960651 0.9040693  | [0.66261836 0.80561453 0.84253634 0.85689541 0.86731859 0.8741022  |\n",
      "|                            |                   |                       0.90049257 0.8981785 ]                       |                       0.87771684 0.87965903]                       |\n",
      "|  kdTree for Avg-Word2Vec   |         15        | [0.99874844 0.93911958 0.9216491  0.91462857 0.9094357  0.90384237 | [0.66286473 0.80530601 0.8422564  0.85644894 0.86713344 0.87402939 |\n",
      "|                            |                   |                       0.9004995  0.8981898 ]                       |                       0.87773308 0.87968711]                       |\n",
      "|  brute for TFIDF-Word2Vec  |         14        | [0.99873058 0.92486981 0.90084038 0.89184331 0.88472344 0.87882876 | [0.644771   0.77124944 0.80630926 0.82195964 0.83259159 0.84206662 |\n",
      "|                            |                   |                       0.87514275 0.87222066]                       |                       0.84600405 0.84738786]                       |\n",
      "| kdTree' for TFIDF-Word2Vec |         15        | [0.99874844 0.92462785 0.90075614 0.89165025 0.88442704 0.87873678 | [0.64501738 0.77101604 0.80612694 0.82166404 0.83220789 0.84195462 |\n",
      "|                            |                   |                       0.87534625 0.87233934]                       |                       0.84604815 0.84736994]                       |\n",
      "+----------------------------+-------------------+--------------------------------------------------------------------+--------------------------------------------------------------------+\n"
     ]
    }
   ],
   "source": [
    "from prettytable import PrettyTable\n",
    "\n",
    "# Initializing prettytable\n",
    "\n",
    "ptable = PrettyTable()\n",
    "\n",
    "names = [\"brute for BoW\", \"kdTree for BoW\", \"brute for TFIDF\", \"kdTree' for TFIDF\", \"brute for Avg-Word2Vec\", \"kdTree for Avg-Word2Vec\", \\\n",
    "        \"brute for TFIDF-Word2Vec\", \"kdTree' for TFIDF-Word2Vec\"]\n",
    "\n",
    "k = ([bow_brute_K , bow_kdTree_K , tfidf_brute_K , tfidf_kdTree_K , Avg_Word2Vec_brute_K, Avg_Word2Vec_kdTree_K , \\\n",
    "            TFIDF_Word2Vec_brute_K , TFIDF_Word2Vec_kdTree_K ])\n",
    "\n",
    "train = ([bow_brute_train, bow_kdTree_train, tfidf_brute_train, tfidf_kdTree_train, \\\n",
    "             Avg_Word2Vec_brute_train, Avg_Word2Vec_kdTree_train, TFIDF_Word2Vec_brute_train , \\\n",
    "             TFIDF_Word2Vec_kdTree_train])\n",
    "\n",
    "test = ([bow_brute_test, bow_kdTree_test , tfidf_brute_test , tfidf_kdTree_test , \\\n",
    "            Avg_word2Vec_brute_test, Avg_Word2Vec_kdTree_test , TFIDF_word2Vec_brute_test, \\\n",
    "            TFIDF_Word2Vec_kdTree_test ])\n",
    " \n",
    "ptable.add_column(\"MODEL\",names)\n",
    "ptable.add_column(\"K: hyperparameter\",k)\n",
    "ptable.add_column(\"Train\",train)\n",
    "ptable.add_column(\"Test\",test)\n",
    "\n",
    "# Printing the Table\n",
    "print(ptable)"
   ]
  }
 ],
 "metadata": {
  "accelerator": "GPU",
  "colab": {
   "collapsed_sections": [],
   "name": "KNN_Amazon_Fine_Foodfinal.ipynb",
   "provenance": [],
   "toc_visible": true,
   "version": "0.3.2"
  },
  "kernelspec": {
   "display_name": "Python 3",
   "language": "python",
   "name": "python3"
  },
  "language_info": {
   "codemirror_mode": {
    "name": "ipython",
    "version": 3
   },
   "file_extension": ".py",
   "mimetype": "text/x-python",
   "name": "python",
   "nbconvert_exporter": "python",
   "pygments_lexer": "ipython3",
   "version": "3.7.1"
  }
 },
 "nbformat": 4,
 "nbformat_minor": 1
}
